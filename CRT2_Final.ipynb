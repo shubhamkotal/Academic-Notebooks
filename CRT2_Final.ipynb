{
 "cells": [
  {
   "cell_type": "markdown",
   "metadata": {},
   "source": [
    "#### Import libraries"
   ]
  },
  {
   "cell_type": "code",
   "execution_count": 1,
   "metadata": {},
   "outputs": [],
   "source": [
    "from pandas_datareader import data as pdr\n",
    "from datetime import date\n",
    "import yfinance as yf\n",
    "yf.pdr_override()\n",
    "import pandas as pd\n",
    "import numpy as np"
   ]
  },
  {
   "cell_type": "markdown",
   "metadata": {},
   "source": [
    "#### 1.\tReturns\t"
   ]
  },
  {
   "cell_type": "markdown",
   "metadata": {},
   "source": [
    "#### a.\tDownload 1-2 years of price history of a stock."
   ]
  },
  {
   "cell_type": "code",
   "execution_count": 2,
   "metadata": {},
   "outputs": [
    {
     "name": "stdout",
     "output_type": "stream",
     "text": [
      "[*********************100%***********************]  1 of 1 completed\n",
      "[*********************100%***********************]  1 of 1 completed\n"
     ]
    },
    {
     "data": {
      "text/html": [
       "<div>\n",
       "<style scoped>\n",
       "    .dataframe tbody tr th:only-of-type {\n",
       "        vertical-align: middle;\n",
       "    }\n",
       "\n",
       "    .dataframe tbody tr th {\n",
       "        vertical-align: top;\n",
       "    }\n",
       "\n",
       "    .dataframe thead th {\n",
       "        text-align: right;\n",
       "    }\n",
       "</style>\n",
       "<table border=\"1\" class=\"dataframe\">\n",
       "  <thead>\n",
       "    <tr style=\"text-align: right;\">\n",
       "      <th></th>\n",
       "      <th>Bitcoin</th>\n",
       "      <th>Ethereum</th>\n",
       "    </tr>\n",
       "    <tr>\n",
       "      <th>Date</th>\n",
       "      <th></th>\n",
       "      <th></th>\n",
       "    </tr>\n",
       "  </thead>\n",
       "  <tbody>\n",
       "    <tr>\n",
       "      <th>2020-01-01</th>\n",
       "      <td>7200.174316</td>\n",
       "      <td>130.802002</td>\n",
       "    </tr>\n",
       "    <tr>\n",
       "      <th>2020-01-02</th>\n",
       "      <td>6985.470215</td>\n",
       "      <td>127.410179</td>\n",
       "    </tr>\n",
       "    <tr>\n",
       "      <th>2020-01-03</th>\n",
       "      <td>7344.884277</td>\n",
       "      <td>134.171707</td>\n",
       "    </tr>\n",
       "    <tr>\n",
       "      <th>2020-01-04</th>\n",
       "      <td>7410.656738</td>\n",
       "      <td>135.069366</td>\n",
       "    </tr>\n",
       "    <tr>\n",
       "      <th>2020-01-05</th>\n",
       "      <td>7411.317383</td>\n",
       "      <td>136.276779</td>\n",
       "    </tr>\n",
       "    <tr>\n",
       "      <th>...</th>\n",
       "      <td>...</td>\n",
       "      <td>...</td>\n",
       "    </tr>\n",
       "    <tr>\n",
       "      <th>2021-10-26</th>\n",
       "      <td>60363.792969</td>\n",
       "      <td>4131.102051</td>\n",
       "    </tr>\n",
       "    <tr>\n",
       "      <th>2021-10-27</th>\n",
       "      <td>58482.386719</td>\n",
       "      <td>3930.257324</td>\n",
       "    </tr>\n",
       "    <tr>\n",
       "      <th>2021-10-28</th>\n",
       "      <td>60622.136719</td>\n",
       "      <td>4287.318848</td>\n",
       "    </tr>\n",
       "    <tr>\n",
       "      <th>2021-10-29</th>\n",
       "      <td>62227.964844</td>\n",
       "      <td>4414.746582</td>\n",
       "    </tr>\n",
       "    <tr>\n",
       "      <th>2021-10-30</th>\n",
       "      <td>61888.832031</td>\n",
       "      <td>4325.650391</td>\n",
       "    </tr>\n",
       "  </tbody>\n",
       "</table>\n",
       "<p>665 rows × 2 columns</p>\n",
       "</div>"
      ],
      "text/plain": [
       "                 Bitcoin     Ethereum\n",
       "Date                                 \n",
       "2020-01-01   7200.174316   130.802002\n",
       "2020-01-02   6985.470215   127.410179\n",
       "2020-01-03   7344.884277   134.171707\n",
       "2020-01-04   7410.656738   135.069366\n",
       "2020-01-05   7411.317383   136.276779\n",
       "...                  ...          ...\n",
       "2021-10-26  60363.792969  4131.102051\n",
       "2021-10-27  58482.386719  3930.257324\n",
       "2021-10-28  60622.136719  4287.318848\n",
       "2021-10-29  62227.964844  4414.746582\n",
       "2021-10-30  61888.832031  4325.650391\n",
       "\n",
       "[665 rows x 2 columns]"
      ]
     },
     "execution_count": 2,
     "metadata": {},
     "output_type": "execute_result"
    }
   ],
   "source": [
    "start_date= '2020-01-01'\n",
    "end_date='2021-10-30'\n",
    "\n",
    "btc = pdr.get_data_yahoo('BTC-USD', start=start_date, end=end_date)\n",
    "btc = pd.DataFrame(btc['Close'])\n",
    "btc = btc.rename(columns={'Close':'Bitcoin'})\n",
    "\n",
    "eth = pdr.get_data_yahoo('ETH-USD', start=start_date, end=end_date)\n",
    "eth = pd.DataFrame(eth['Close'])\n",
    "eth = eth.rename(columns={'Close':'Ethereum'})\n",
    "\n",
    "data = pd.concat([btc,eth], axis = 1) \n",
    "data"
   ]
  },
  {
   "cell_type": "markdown",
   "metadata": {},
   "source": [
    "#### b. Compute its log return. "
   ]
  },
  {
   "cell_type": "code",
   "execution_count": 3,
   "metadata": {},
   "outputs": [
    {
     "data": {
      "text/html": [
       "<div>\n",
       "<style scoped>\n",
       "    .dataframe tbody tr th:only-of-type {\n",
       "        vertical-align: middle;\n",
       "    }\n",
       "\n",
       "    .dataframe tbody tr th {\n",
       "        vertical-align: top;\n",
       "    }\n",
       "\n",
       "    .dataframe thead th {\n",
       "        text-align: right;\n",
       "    }\n",
       "</style>\n",
       "<table border=\"1\" class=\"dataframe\">\n",
       "  <thead>\n",
       "    <tr style=\"text-align: right;\">\n",
       "      <th></th>\n",
       "      <th>Bitcoin</th>\n",
       "      <th>Ethereum</th>\n",
       "    </tr>\n",
       "    <tr>\n",
       "      <th>Date</th>\n",
       "      <th></th>\n",
       "      <th></th>\n",
       "    </tr>\n",
       "  </thead>\n",
       "  <tbody>\n",
       "    <tr>\n",
       "      <th>2020-01-02</th>\n",
       "      <td>-0.030273</td>\n",
       "      <td>-0.026273</td>\n",
       "    </tr>\n",
       "    <tr>\n",
       "      <th>2020-01-03</th>\n",
       "      <td>0.050172</td>\n",
       "      <td>0.051709</td>\n",
       "    </tr>\n",
       "    <tr>\n",
       "      <th>2020-01-04</th>\n",
       "      <td>0.008915</td>\n",
       "      <td>0.006668</td>\n",
       "    </tr>\n",
       "    <tr>\n",
       "      <th>2020-01-05</th>\n",
       "      <td>0.000089</td>\n",
       "      <td>0.008899</td>\n",
       "    </tr>\n",
       "    <tr>\n",
       "      <th>2020-01-06</th>\n",
       "      <td>0.047161</td>\n",
       "      <td>0.057235</td>\n",
       "    </tr>\n",
       "    <tr>\n",
       "      <th>...</th>\n",
       "      <td>...</td>\n",
       "      <td>...</td>\n",
       "    </tr>\n",
       "    <tr>\n",
       "      <th>2021-10-26</th>\n",
       "      <td>-0.043377</td>\n",
       "      <td>-0.020788</td>\n",
       "    </tr>\n",
       "    <tr>\n",
       "      <th>2021-10-27</th>\n",
       "      <td>-0.031664</td>\n",
       "      <td>-0.049839</td>\n",
       "    </tr>\n",
       "    <tr>\n",
       "      <th>2021-10-28</th>\n",
       "      <td>0.035934</td>\n",
       "      <td>0.086957</td>\n",
       "    </tr>\n",
       "    <tr>\n",
       "      <th>2021-10-29</th>\n",
       "      <td>0.026144</td>\n",
       "      <td>0.029289</td>\n",
       "    </tr>\n",
       "    <tr>\n",
       "      <th>2021-10-30</th>\n",
       "      <td>-0.005465</td>\n",
       "      <td>-0.020388</td>\n",
       "    </tr>\n",
       "  </tbody>\n",
       "</table>\n",
       "<p>664 rows × 2 columns</p>\n",
       "</div>"
      ],
      "text/plain": [
       "             Bitcoin  Ethereum\n",
       "Date                          \n",
       "2020-01-02 -0.030273 -0.026273\n",
       "2020-01-03  0.050172  0.051709\n",
       "2020-01-04  0.008915  0.006668\n",
       "2020-01-05  0.000089  0.008899\n",
       "2020-01-06  0.047161  0.057235\n",
       "...              ...       ...\n",
       "2021-10-26 -0.043377 -0.020788\n",
       "2021-10-27 -0.031664 -0.049839\n",
       "2021-10-28  0.035934  0.086957\n",
       "2021-10-29  0.026144  0.029289\n",
       "2021-10-30 -0.005465 -0.020388\n",
       "\n",
       "[664 rows x 2 columns]"
      ]
     },
     "execution_count": 3,
     "metadata": {},
     "output_type": "execute_result"
    }
   ],
   "source": [
    "df_ret = data.copy(deep=True)\n",
    "\n",
    "for i in data.columns:\n",
    "  if i != 'Date':\n",
    "    df_ret[i] = np.log(data[i]) - np.log(data[i].shift(1))\n",
    "df_ret = df_ret.dropna()\n",
    "df_ret"
   ]
  },
  {
   "cell_type": "markdown",
   "metadata": {},
   "source": [
    "#### c. Compute the mean, standard deviation, skewness, and excess kurtosis of its log return. "
   ]
  },
  {
   "cell_type": "code",
   "execution_count": 4,
   "metadata": {
    "scrolled": true
   },
   "outputs": [
    {
     "name": "stdout",
     "output_type": "stream",
     "text": [
      "Mean:\n",
      "\n",
      " Bitcoin     0.003240\n",
      "Ethereum    0.005269\n",
      "dtype: float64\n"
     ]
    }
   ],
   "source": [
    "print('Mean:\\n\\n',df_ret.mean())"
   ]
  },
  {
   "cell_type": "code",
   "execution_count": 5,
   "metadata": {},
   "outputs": [
    {
     "name": "stdout",
     "output_type": "stream",
     "text": [
      "Standard Deviation:\n",
      "\n",
      " Bitcoin     0.041921\n",
      "Ethereum    0.055786\n",
      "dtype: float64\n"
     ]
    }
   ],
   "source": [
    "print('Standard Deviation:\\n\\n', df_ret.std())"
   ]
  },
  {
   "cell_type": "code",
   "execution_count": 6,
   "metadata": {
    "scrolled": true
   },
   "outputs": [
    {
     "name": "stdout",
     "output_type": "stream",
     "text": [
      "Skewness:\n",
      "\n",
      " Bitcoin    -2.038285\n",
      "Ethereum   -1.727125\n",
      "dtype: float64\n"
     ]
    }
   ],
   "source": [
    "print('Skewness:\\n\\n', df_ret.skew())"
   ]
  },
  {
   "cell_type": "code",
   "execution_count": 7,
   "metadata": {
    "scrolled": true
   },
   "outputs": [
    {
     "name": "stdout",
     "output_type": "stream",
     "text": [
      "Kurtosis:\n",
      "\n",
      " Bitcoin     24.196784\n",
      "Ethereum    17.128672\n",
      "dtype: float64\n"
     ]
    }
   ],
   "source": [
    "print('Kurtosis:\\n\\n', df_ret.kurt())"
   ]
  },
  {
   "cell_type": "markdown",
   "metadata": {},
   "source": [
    "#### d. Repeat for a second stock.  \n",
    "Done above"
   ]
  },
  {
   "cell_type": "markdown",
   "metadata": {},
   "source": [
    "#### e.\tCompute the covariance and the correlation. Explain their difference. How do you convert one to the other?"
   ]
  },
  {
   "cell_type": "code",
   "execution_count": 8,
   "metadata": {
    "scrolled": true
   },
   "outputs": [
    {
     "name": "stdout",
     "output_type": "stream",
     "text": [
      "Correlation:\n",
      "\n",
      "            Bitcoin  Ethereum\n",
      "Bitcoin   1.000000  0.816289\n",
      "Ethereum  0.816289  1.000000\n"
     ]
    }
   ],
   "source": [
    "print('Correlation:\\n\\n', df_ret.corr())"
   ]
  },
  {
   "cell_type": "code",
   "execution_count": 9,
   "metadata": {
    "scrolled": true
   },
   "outputs": [
    {
     "name": "stdout",
     "output_type": "stream",
     "text": [
      "Covariance:\n",
      "\n",
      "            Bitcoin  Ethereum\n",
      "Bitcoin   0.001757  0.001909\n",
      "Ethereum  0.001909  0.003112\n"
     ]
    }
   ],
   "source": [
    "print('Covariance:\\n\\n', df_ret.cov())"
   ]
  },
  {
   "cell_type": "markdown",
   "metadata": {},
   "source": [
    "Covariance and correlation both assess the relationship and dependability of two variables. Covariance indicates the direction of a linear relationship between two variables, whereas correlation assesses both the strength and direction of a linear relationship between two variables. Correlation is determined by covariance. The difference between these two concepts is that correlation values are standardised whereas covariance values are not.\n",
    "\n",
    "The correlation coefficient of two variables can be calculated by dividing their covariance by the product of their standard deviations. We can also go in the opposite direction, as shown below.\n",
    "\n",
    "The variances (or standard deviations) of the p variables are required to convert a p x p correlation matrix to a covariance matrix. Remember that the ijth element of the correlation matrix is related to the corresponding element of the covariance matrix using the formula Rij = Sij / mij, where mij is the product of the ith and jth variables' standard deviations. The correlation matrix can be rescaled by pre- and post-multiplying it by a diagonal matrix containing the standard deviations:"
   ]
  },
  {
   "cell_type": "code",
   "execution_count": 10,
   "metadata": {},
   "outputs": [],
   "source": [
    "df_std = df_ret.std()\n",
    "df_corr = df_ret.corr()"
   ]
  },
  {
   "cell_type": "code",
   "execution_count": 11,
   "metadata": {
    "scrolled": true
   },
   "outputs": [],
   "source": [
    "df_cov = df_corr.multiply(df_std.multiply(df_std.T.values))"
   ]
  },
  {
   "cell_type": "code",
   "execution_count": 12,
   "metadata": {},
   "outputs": [
    {
     "data": {
      "text/html": [
       "<div>\n",
       "<style scoped>\n",
       "    .dataframe tbody tr th:only-of-type {\n",
       "        vertical-align: middle;\n",
       "    }\n",
       "\n",
       "    .dataframe tbody tr th {\n",
       "        vertical-align: top;\n",
       "    }\n",
       "\n",
       "    .dataframe thead th {\n",
       "        text-align: right;\n",
       "    }\n",
       "</style>\n",
       "<table border=\"1\" class=\"dataframe\">\n",
       "  <thead>\n",
       "    <tr style=\"text-align: right;\">\n",
       "      <th></th>\n",
       "      <th>Bitcoin</th>\n",
       "      <th>Ethereum</th>\n",
       "    </tr>\n",
       "  </thead>\n",
       "  <tbody>\n",
       "    <tr>\n",
       "      <th>Bitcoin</th>\n",
       "      <td>0.001757</td>\n",
       "      <td>0.002540</td>\n",
       "    </tr>\n",
       "    <tr>\n",
       "      <th>Ethereum</th>\n",
       "      <td>0.001435</td>\n",
       "      <td>0.003112</td>\n",
       "    </tr>\n",
       "  </tbody>\n",
       "</table>\n",
       "</div>"
      ],
      "text/plain": [
       "           Bitcoin  Ethereum\n",
       "Bitcoin   0.001757  0.002540\n",
       "Ethereum  0.001435  0.003112"
      ]
     },
     "execution_count": 12,
     "metadata": {},
     "output_type": "execute_result"
    }
   ],
   "source": [
    "df_cov"
   ]
  },
  {
   "cell_type": "markdown",
   "metadata": {},
   "source": [
    "We converted correlation into covariance as can be checked above."
   ]
  },
  {
   "cell_type": "markdown",
   "metadata": {},
   "source": [
    "#### 2.\tBuild your own transition"
   ]
  },
  {
   "cell_type": "markdown",
   "metadata": {},
   "source": [
    "#### a. Divide the data into 2 uneven parts: the first part is 80% of your data, and the second part is 20%. \n"
   ]
  },
  {
   "cell_type": "code",
   "execution_count": 13,
   "metadata": {},
   "outputs": [],
   "source": [
    "df_train = df_ret.head(542)\n",
    "df_test = df_ret.tail(122)"
   ]
  },
  {
   "cell_type": "markdown",
   "metadata": {},
   "source": [
    "#### b. Categorize each day in the 1-2 year price history as belonging to one of four categories:\n",
    "    i. Both stocks up\n",
    "    ii. Stock #1 up, stock #2 down\n",
    "    iii. Stock #1 down, stock #2 up\n",
    "    iv. Both stocks down"
   ]
  },
  {
   "cell_type": "code",
   "execution_count": 21,
   "metadata": {},
   "outputs": [
    {
     "name": "stderr",
     "output_type": "stream",
     "text": [
      "<ipython-input-21-f523f97797ba>:7: SettingWithCopyWarning: \n",
      "A value is trying to be set on a copy of a slice from a DataFrame.\n",
      "Try using .loc[row_indexer,col_indexer] = value instead\n",
      "\n",
      "See the caveats in the documentation: https://pandas.pydata.org/pandas-docs/stable/user_guide/indexing.html#returning-a-view-versus-a-copy\n",
      "  df_train['Classification'] = np.select(conditions, choices, default='error')\n"
     ]
    },
    {
     "data": {
      "text/html": [
       "<div>\n",
       "<style scoped>\n",
       "    .dataframe tbody tr th:only-of-type {\n",
       "        vertical-align: middle;\n",
       "    }\n",
       "\n",
       "    .dataframe tbody tr th {\n",
       "        vertical-align: top;\n",
       "    }\n",
       "\n",
       "    .dataframe thead th {\n",
       "        text-align: right;\n",
       "    }\n",
       "</style>\n",
       "<table border=\"1\" class=\"dataframe\">\n",
       "  <thead>\n",
       "    <tr style=\"text-align: right;\">\n",
       "      <th></th>\n",
       "      <th>Bitcoin</th>\n",
       "      <th>Ethereum</th>\n",
       "      <th>Classification</th>\n",
       "    </tr>\n",
       "    <tr>\n",
       "      <th>Date</th>\n",
       "      <th></th>\n",
       "      <th></th>\n",
       "      <th></th>\n",
       "    </tr>\n",
       "  </thead>\n",
       "  <tbody>\n",
       "    <tr>\n",
       "      <th>2020-01-02</th>\n",
       "      <td>-0.030273</td>\n",
       "      <td>-0.026273</td>\n",
       "      <td>dd</td>\n",
       "    </tr>\n",
       "    <tr>\n",
       "      <th>2020-01-03</th>\n",
       "      <td>0.050172</td>\n",
       "      <td>0.051709</td>\n",
       "      <td>uu</td>\n",
       "    </tr>\n",
       "    <tr>\n",
       "      <th>2020-01-04</th>\n",
       "      <td>0.008915</td>\n",
       "      <td>0.006668</td>\n",
       "      <td>uu</td>\n",
       "    </tr>\n",
       "    <tr>\n",
       "      <th>2020-01-05</th>\n",
       "      <td>0.000089</td>\n",
       "      <td>0.008899</td>\n",
       "      <td>uu</td>\n",
       "    </tr>\n",
       "    <tr>\n",
       "      <th>2020-01-06</th>\n",
       "      <td>0.047161</td>\n",
       "      <td>0.057235</td>\n",
       "      <td>uu</td>\n",
       "    </tr>\n",
       "    <tr>\n",
       "      <th>...</th>\n",
       "      <td>...</td>\n",
       "      <td>...</td>\n",
       "      <td>...</td>\n",
       "    </tr>\n",
       "    <tr>\n",
       "      <th>2021-06-26</th>\n",
       "      <td>0.017188</td>\n",
       "      <td>0.008797</td>\n",
       "      <td>uu</td>\n",
       "    </tr>\n",
       "    <tr>\n",
       "      <th>2021-06-27</th>\n",
       "      <td>0.073747</td>\n",
       "      <td>0.078638</td>\n",
       "      <td>uu</td>\n",
       "    </tr>\n",
       "    <tr>\n",
       "      <th>2021-06-28</th>\n",
       "      <td>-0.006233</td>\n",
       "      <td>0.049665</td>\n",
       "      <td>du</td>\n",
       "    </tr>\n",
       "    <tr>\n",
       "      <th>2021-06-29</th>\n",
       "      <td>0.040785</td>\n",
       "      <td>0.038261</td>\n",
       "      <td>uu</td>\n",
       "    </tr>\n",
       "    <tr>\n",
       "      <th>2021-06-30</th>\n",
       "      <td>-0.023325</td>\n",
       "      <td>0.051317</td>\n",
       "      <td>du</td>\n",
       "    </tr>\n",
       "  </tbody>\n",
       "</table>\n",
       "<p>542 rows × 3 columns</p>\n",
       "</div>"
      ],
      "text/plain": [
       "             Bitcoin  Ethereum Classification\n",
       "Date                                         \n",
       "2020-01-02 -0.030273 -0.026273             dd\n",
       "2020-01-03  0.050172  0.051709             uu\n",
       "2020-01-04  0.008915  0.006668             uu\n",
       "2020-01-05  0.000089  0.008899             uu\n",
       "2020-01-06  0.047161  0.057235             uu\n",
       "...              ...       ...            ...\n",
       "2021-06-26  0.017188  0.008797             uu\n",
       "2021-06-27  0.073747  0.078638             uu\n",
       "2021-06-28 -0.006233  0.049665             du\n",
       "2021-06-29  0.040785  0.038261             uu\n",
       "2021-06-30 -0.023325  0.051317             du\n",
       "\n",
       "[542 rows x 3 columns]"
      ]
     },
     "execution_count": 21,
     "metadata": {},
     "output_type": "execute_result"
    }
   ],
   "source": [
    "conditions = [\n",
    "    (df_train['Bitcoin'] > 0) & (df_train['Ethereum'] > 0),\n",
    "    (df_train['Bitcoin'] > 0) & (df_train['Ethereum'] < 0),\n",
    "    (df_train['Bitcoin'] < 0) & (df_train['Ethereum'] > 0),\n",
    "    (df_train['Bitcoin'] < 0) & (df_train['Ethereum'] < 0)]\n",
    "choices = ['uu', 'ud', 'du', 'dd']\n",
    "df_train['Classification'] = np.select(conditions, choices, default='error')\n",
    "df_train"
   ]
  },
  {
   "cell_type": "code",
   "execution_count": 16,
   "metadata": {},
   "outputs": [
    {
     "name": "stdout",
     "output_type": "stream",
     "text": [
      "uu : 0.461\n",
      "dd : 0.345\n",
      "du : 0.113\n",
      "ud : 0.081\n"
     ]
    }
   ],
   "source": [
    "print( 'uu :',round(df_train[(df_train['Classification'] == 'uu')]['Classification'].count()/542,3))\n",
    "print( 'dd :',round(df_train[(df_train['Classification'] == 'dd')]['Classification'].count()/542,3))\n",
    "print( 'du :',round(df_train[(df_train['Classification'] == 'du')]['Classification'].count()/542,3))\n",
    "print( 'ud :',round(df_train[(df_train['Classification'] == 'ud')]['Classification'].count()/542,3))"
   ]
  },
  {
   "cell_type": "markdown",
   "metadata": {},
   "source": [
    "#### c. Build a transition matrix of portfolio direction that shows your portfolio in four scenarios:\n",
    "    i.  From moving together to moving together That means starting from uu or dd & going to uu or dd\n",
    "    ii. From moving together to moving apart That means starting from uu or dd & going to ud or du\n",
    "    iii. From moving apart to moving together That means starting from ud or du & going to uu or dd\n",
    "    iv. From moving apart to moving apart That means starting from ud or du & going to ud or du  "
   ]
  },
  {
   "cell_type": "code",
   "execution_count": 19,
   "metadata": {
    "scrolled": true
   },
   "outputs": [
    {
     "data": {
      "text/html": [
       "<div>\n",
       "<style scoped>\n",
       "    .dataframe tbody tr th:only-of-type {\n",
       "        vertical-align: middle;\n",
       "    }\n",
       "\n",
       "    .dataframe tbody tr th {\n",
       "        vertical-align: top;\n",
       "    }\n",
       "\n",
       "    .dataframe thead th {\n",
       "        text-align: right;\n",
       "    }\n",
       "</style>\n",
       "<table border=\"1\" class=\"dataframe\">\n",
       "  <thead>\n",
       "    <tr style=\"text-align: right;\">\n",
       "      <th>Today</th>\n",
       "      <th>dd</th>\n",
       "      <th>du</th>\n",
       "      <th>ud</th>\n",
       "      <th>uu</th>\n",
       "    </tr>\n",
       "    <tr>\n",
       "      <th>Tomorrow</th>\n",
       "      <th></th>\n",
       "      <th></th>\n",
       "      <th></th>\n",
       "      <th></th>\n",
       "    </tr>\n",
       "  </thead>\n",
       "  <tbody>\n",
       "    <tr>\n",
       "      <th>dd</th>\n",
       "      <td>0.273</td>\n",
       "      <td>0.383</td>\n",
       "      <td>0.318</td>\n",
       "      <td>0.392</td>\n",
       "    </tr>\n",
       "    <tr>\n",
       "      <th>du</th>\n",
       "      <td>0.086</td>\n",
       "      <td>0.117</td>\n",
       "      <td>0.114</td>\n",
       "      <td>0.132</td>\n",
       "    </tr>\n",
       "    <tr>\n",
       "      <th>ud</th>\n",
       "      <td>0.086</td>\n",
       "      <td>0.033</td>\n",
       "      <td>0.114</td>\n",
       "      <td>0.084</td>\n",
       "    </tr>\n",
       "    <tr>\n",
       "      <th>uu</th>\n",
       "      <td>0.556</td>\n",
       "      <td>0.467</td>\n",
       "      <td>0.455</td>\n",
       "      <td>0.392</td>\n",
       "    </tr>\n",
       "  </tbody>\n",
       "</table>\n",
       "</div>"
      ],
      "text/plain": [
       "Today        dd     du     ud     uu\n",
       "Tomorrow                            \n",
       "dd        0.273  0.383  0.318  0.392\n",
       "du        0.086  0.117  0.114  0.132\n",
       "ud        0.086  0.033  0.114  0.084\n",
       "uu        0.556  0.467  0.455  0.392"
      ]
     },
     "execution_count": 19,
     "metadata": {},
     "output_type": "execute_result"
    }
   ],
   "source": [
    "transitions =  list(df_train['Classification'])\n",
    "round(pd.crosstab(pd.Series(transitions[1:],name='Tomorrow'), pd.Series(transitions[:-1],name='Today'),normalize=1),3)"
   ]
  },
  {
   "cell_type": "markdown",
   "metadata": {},
   "source": [
    "#### d. Discuss the similarities or differences of the two transition matrices.  "
   ]
  },
  {
   "cell_type": "markdown",
   "metadata": {},
   "source": [
    "Because the stocks are highly correlated, they tend to move in lockstep most of the time. As shown in the first matrix, in 46 percent of the training days, both moved up, while in another 34 percent, both moved down, for a total of 80 percent of the period moving together. Using this sample, it is also possible to see that when the movement is 'dd,' there is a significant probability (55 percent) of a pullback 'uu' the following day. The two matrices are similar, but the second is more precise and detailed, providing the conditional probability of a move tomorrow as well as the move today."
   ]
  },
  {
   "cell_type": "markdown",
   "metadata": {},
   "source": [
    "#### e. Is the process Markovian? Be sure to comment how this relates to mean-reversion and momentum.\n"
   ]
  },
  {
   "cell_type": "markdown",
   "metadata": {},
   "source": [
    "Markovian is a process for which predictions about future outcomes can be made solely based on its current state, and such predictions are just as good as those that could be made knowing the process's entire history. In other words, the system's future and past states are independent of its current state. We cannot say that Bitcoin and Ethereum returns (even if only classified as up or down) are Markovian because they are influenced by a number of other variables. Respectable models, on the other hand, treat stock returns as if they were random walks. As previously demonstrated, there is logic and value in presenting these processes in such a way that they are commonly used to analyse Markovian ones.However, any predictions or investments based on this assumption must be approached with extreme caution. It is also critical to incorporate (at least) momentum and mean-reversion into this analysis, as they can provide the investor with a more comprehensive view of the asset's short and long run dynamics. In other words, if such strategies have been extensively researched and proven to work in specific cases, we cannot claim that they are memoryless, as this would be a required property in a Markovian process."
   ]
  },
  {
   "cell_type": "markdown",
   "metadata": {},
   "source": [
    "#### f. Suppose you built a table with changes that are 3 days apart.  For example, this table would show changes from Day 1 to Day 4, Day 2 to Day 5, etc.  The four categories remain the same: uu, ud, du, an dd.  Here is the question: would you expect to be able to use the overnight table (e.g. Day 1 to Day 2, Day 2 to Day 3, etc.)  and derive the 3-days-apart table?  Why or why not?\n"
   ]
  },
  {
   "cell_type": "code",
   "execution_count": 23,
   "metadata": {},
   "outputs": [
    {
     "data": {
      "text/html": [
       "<div>\n",
       "<style scoped>\n",
       "    .dataframe tbody tr th:only-of-type {\n",
       "        vertical-align: middle;\n",
       "    }\n",
       "\n",
       "    .dataframe tbody tr th {\n",
       "        vertical-align: top;\n",
       "    }\n",
       "\n",
       "    .dataframe thead th {\n",
       "        text-align: right;\n",
       "    }\n",
       "</style>\n",
       "<table border=\"1\" class=\"dataframe\">\n",
       "  <thead>\n",
       "    <tr style=\"text-align: right;\">\n",
       "      <th>Today</th>\n",
       "      <th>dd</th>\n",
       "      <th>du</th>\n",
       "      <th>ud</th>\n",
       "      <th>uu</th>\n",
       "    </tr>\n",
       "    <tr>\n",
       "      <th>3 days apart</th>\n",
       "      <th></th>\n",
       "      <th></th>\n",
       "      <th></th>\n",
       "      <th></th>\n",
       "    </tr>\n",
       "  </thead>\n",
       "  <tbody>\n",
       "    <tr>\n",
       "      <th>dd</th>\n",
       "      <td>0.273</td>\n",
       "      <td>0.390</td>\n",
       "      <td>0.318</td>\n",
       "      <td>0.395</td>\n",
       "    </tr>\n",
       "    <tr>\n",
       "      <th>du</th>\n",
       "      <td>0.086</td>\n",
       "      <td>0.119</td>\n",
       "      <td>0.114</td>\n",
       "      <td>0.125</td>\n",
       "    </tr>\n",
       "    <tr>\n",
       "      <th>ud</th>\n",
       "      <td>0.086</td>\n",
       "      <td>0.034</td>\n",
       "      <td>0.114</td>\n",
       "      <td>0.085</td>\n",
       "    </tr>\n",
       "    <tr>\n",
       "      <th>uu</th>\n",
       "      <td>0.556</td>\n",
       "      <td>0.458</td>\n",
       "      <td>0.455</td>\n",
       "      <td>0.395</td>\n",
       "    </tr>\n",
       "  </tbody>\n",
       "</table>\n",
       "</div>"
      ],
      "text/plain": [
       "Today            dd     du     ud     uu\n",
       "3 days apart                            \n",
       "dd            0.273  0.390  0.318  0.395\n",
       "du            0.086  0.119  0.114  0.125\n",
       "ud            0.086  0.034  0.114  0.085\n",
       "uu            0.556  0.458  0.455  0.395"
      ]
     },
     "execution_count": 23,
     "metadata": {},
     "output_type": "execute_result"
    }
   ],
   "source": [
    "transitions =  list(df_train['Classification'])\n",
    "round(pd.crosstab(pd.Series(transitions[1:],name='3 days apart'), pd.Series(transitions[:-4],name='Today'),normalize=1),3)"
   ]
  },
  {
   "cell_type": "code",
   "execution_count": null,
   "metadata": {},
   "outputs": [],
   "source": []
  }
 ],
 "metadata": {
  "kernelspec": {
   "display_name": "Python 3",
   "language": "python",
   "name": "python3"
  },
  "language_info": {
   "codemirror_mode": {
    "name": "ipython",
    "version": 3
   },
   "file_extension": ".py",
   "mimetype": "text/x-python",
   "name": "python",
   "nbconvert_exporter": "python",
   "pygments_lexer": "ipython3",
   "version": "3.6.5"
  }
 },
 "nbformat": 4,
 "nbformat_minor": 4
}
