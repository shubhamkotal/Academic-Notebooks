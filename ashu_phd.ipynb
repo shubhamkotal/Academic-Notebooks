{
 "cells": [
  {
   "cell_type": "code",
   "execution_count": 1,
   "metadata": {},
   "outputs": [],
   "source": [
    "## Set Python - Spark environment.\n",
    "import os\n",
    "import sys\n",
    "os.environ[\"SPARK_HOME\"] = \"/usr/hdp/current/spark2-client\"\n",
    "os.environ[\"PYLIB\"] = os.environ[\"SPARK_HOME\"] + \"/python/lib\"\n",
    "sys.path.insert(0, os.environ[\"PYLIB\"] + \"/py4j-0.10.6-src.zip\")\n",
    "sys.path.insert(0, os.environ[\"PYLIB\"] + \"/pyspark.zip\")"
   ]
  },
  {
   "cell_type": "code",
   "execution_count": 2,
   "metadata": {},
   "outputs": [],
   "source": [
    "## Create SparkContext, SparkSession\n",
    "from os.path import expanduser, join, abspath\n",
    "\n",
    "import pyspark\n",
    "from pyspark.sql import SparkSession\n",
    "from pyspark.sql import Row\n",
    "\n",
    "# warehouse_location points to the default location for managed databases and tables\n",
    "warehouse_location = 'hdfs:///apps/hive/warehouse/'\n",
    "\n",
    "spark = SparkSession \\\n",
    "    .builder \\\n",
    "    .appName(\"Python_Spark_PHD_Complete\") \\\n",
    "    .config(\"spark.sql.warehouse.dir\", warehouse_location) \\\n",
    "    .enableHiveSupport() \\\n",
    "    .getOrCreate()\n",
    "\n",
    "sc = spark.sparkContext"
   ]
  },
  {
   "cell_type": "code",
   "execution_count": 3,
   "metadata": {},
   "outputs": [
    {
     "data": {
      "text/html": [
       "\n",
       "            <div>\n",
       "                <p><b>SparkSession - hive</b></p>\n",
       "                \n",
       "        <div>\n",
       "            <p><b>SparkContext</b></p>\n",
       "\n",
       "            <p><a href=\"http://k.insofe.edu.in:4040\">Spark UI</a></p>\n",
       "\n",
       "            <dl>\n",
       "              <dt>Version</dt>\n",
       "                <dd><code>v2.3.0.2.6.5.0-292</code></dd>\n",
       "              <dt>Master</dt>\n",
       "                <dd><code>local[*]</code></dd>\n",
       "              <dt>AppName</dt>\n",
       "                <dd><code>Python_Spark_PHD_Complete</code></dd>\n",
       "            </dl>\n",
       "        </div>\n",
       "        \n",
       "            </div>\n",
       "        "
      ],
      "text/plain": [
       "<pyspark.sql.session.SparkSession at 0x39a7210>"
      ]
     },
     "execution_count": 3,
     "metadata": {},
     "output_type": "execute_result"
    }
   ],
   "source": [
    "spark"
   ]
  },
  {
   "cell_type": "markdown",
   "metadata": {},
   "source": [
    "## There are two problem statements in the PHD paper.\n",
    "#### <font color='brown'> Submission file: </font>\n",
    "Submission file should be a ipynb file with name: 20190202_CSE7322c_Batch48_PHD_EnrolliD.ipynb "
   ]
  },
  {
   "cell_type": "markdown",
   "metadata": {},
   "source": [
    "#### Dataset Information \n",
    "\n",
    "The data set is at 10 min for about 4.5 months. The house temperature and humidity\n",
    "conditions were monitored with a wireless sensor network. Each wireless node\n",
    "transmitted the temperature and humidity conditions around 3.3 min. Then, the\n",
    "wireless data was averaged for 10 minutes periods. The energy data was logged\n",
    "every 10 minutes with m-bus energy meters.\n",
    "The data is available in the RDBMS and need to be ingested into HDFS."
   ]
  },
  {
   "cell_type": "markdown",
   "metadata": {},
   "source": [
    "**Problem Statement**: Using the data described below, we need to build predictive models for energy use of appliances. Data used include measurements of temperature and humidity sensors from a wireless network, weather from a nearby weather station and recorded energy use of lighting fixtures"
   ]
  },
  {
   "cell_type": "markdown",
   "metadata": {},
   "source": [
    "#### Dataset variables information : \n",
    "\n",
    "**date**,  year-month-day hour:minute:second <br/>\n",
    "**Appliances**, energy use in Wh <br/>\n",
    "**lights**, energy use of light fixtures in the house in Wh <br/>\n",
    "**T1**, Temperature in kitchen area, in Celsius <br/>\n",
    "**RH_1**, Humidity in kitchen area, in % <br/>\n",
    "**T2**, Temperature in living room area, in Celsius <br/> \n",
    "**RH_2**, Humidity in living room area, in % <br/>\n",
    "**T3**, Temperature in laundry room area <br/>\n",
    "**RH_3**, Humidity in laundry room area, in % <br/>\n",
    "**T4**, Temperature in office room, in Celsius <br/>\n",
    "**RH_4**, Humidity in office room, in % <br/>\n",
    "**T5**, Temperature in bathroom, in Celsius <br/>\n",
    "**RH_5**, Humidity in bathroom, in % <br/>\n",
    "**T6**, Temperature outside the building (north side), in Celsius <br/>\n",
    "**RH_6**, Humidity outside the building (north side), in % <br/>\n",
    "**T7**, Temperature in ironing room , in Celsius <br/>\n",
    "**RH_7**, Humidity in ironing room, in % <br/>\n",
    "**T8**, Temperature in teenager room 2, in Celsius <br/>\n",
    "**RH_8**, Humidity in teenager room 2, in % <br/>\n",
    "**T9**, Temperature in parents room, in Celsius <br/>\n",
    "**RH_9**, Humidity in parents room, in % <br/>\n",
    "**To**, Temperature outside (otained from weather station), in Celsius <br/>\n",
    "**Press_mm_hg** (Obtained from weather station), in mm Hg <br/>\n",
    "**RH_out**, Humidity outside (Obtained from weather station), in % <br/>\n",
    "**Wind speed** (obtained from weather station), in m/s <br/>\n",
    "**Visibility** (obtained from weather station), in km <br/>\n",
    "**Tdewpoint** (obtianed from weather station), °C <br/>\n",
    "**rv1**, Random variable 1, nondimensional <br/>\n",
    "**rv2**, Random variable 2, nondimensional <br/>\n",
    "**nsm**, Number of seconds from MidNight <br/>\n",
    "**weekstatus**, weekend or workday<br/>\n",
    "**Day_of_week**, Day of the week<br/>"
   ]
  },
  {
   "cell_type": "markdown",
   "metadata": {},
   "source": [
    "### **Data Ingestion** - Ingest the data into HDFS from mysql database using Sqoop \n",
    "**Database Name**  - insofe_b48_energyDB <br/>\n",
    "**Table Name (Train)** - energy_traindb_data (Training Dataset)<br/>\n",
    "**Table Name (Test)** - energy_testdb_data (Testing Dataset)<br/>"
   ]
  },
  {
   "cell_type": "code",
   "execution_count": null,
   "metadata": {},
   "outputs": [],
   "source": [
    "### Insert the sqoop command in the below cells"
   ]
  },
  {
   "cell_type": "code",
   "execution_count": null,
   "metadata": {},
   "outputs": [],
   "source": [
    "sqoop job --create initial -- import-all-tables --connect jdbc:mysql://172.16.0.226:3306/insofe_b48_energyDB --username insofeadmin --\n",
    "password insofe_password --warehouse-dir '/user/2306B48/phd/data' -m 1"
   ]
  },
  {
   "cell_type": "code",
   "execution_count": null,
   "metadata": {},
   "outputs": [],
   "source": [
    "sqoop job --exec initial"
   ]
  },
  {
   "cell_type": "markdown",
   "metadata": {},
   "source": [
    "### Data Preprocessing \n",
    "Note - Only Pyspark dataframe API/SQL API need to be used to process the data. \n",
    "**Using pyspark only** , Construct the schema for the dataset. Read the csv file from hdfs as a spark dataframe.Read the dataset as a dataframe with the specified data types  Check for null values using pyspark Dataframe and perform basic preprocessing."
   ]
  },
  {
   "cell_type": "code",
   "execution_count": 4,
   "metadata": {},
   "outputs": [],
   "source": [
    "data = sc.textFile(\"hdfs:///user/2306B48/phd/data/energy_traindb_data*\")"
   ]
  },
  {
   "cell_type": "code",
   "execution_count": 5,
   "metadata": {},
   "outputs": [],
   "source": [
    "test = sc.textFile(\"hdfs:///user/2306B48/phd/data/energy_testdb_data*\")"
   ]
  },
  {
   "cell_type": "code",
   "execution_count": 6,
   "metadata": {},
   "outputs": [
    {
     "name": "stdout",
     "output_type": "stream",
     "text": [
      "('Total Records with header: ', 14803)\n"
     ]
    }
   ],
   "source": [
    "print(\"Total Records with header: \", data.count()) # Checking total count"
   ]
  },
  {
   "cell_type": "code",
   "execution_count": 7,
   "metadata": {},
   "outputs": [
    {
     "data": {
      "text/plain": [
       "[u'2016-01-11 17:00:00.0,60,30,19.8900000000000010000000000,47.5966666666667000000000000,19.1999999999999990000000000,44.7899999999999990000000000,19.7899999999999990000000000,44.7299999999999970000000000,19.0000000000000000000000000,45.5666666666666980000000000,17.1666666666667000000000000,55.2000000000000030000000000,7.0266666666666699470000000,84.2566666666667032000000000,17.1999999999999990000000000,41.6266666666667010000000000,18.1999999999999990000000000,48.8999999999999990000000000,17.0333333333332990000000000,45.5300000000000010000000000,6.5999999999999996000000000,733.5000000000000000000000000,92.0000000000000000000000000,7.0000000000000000000000000,63.0000000000000000000000000,5.2999999999999998000000000,13.2754331571049988270000000,13.2754331571049988270000000,61200,Weekday,Monday']"
      ]
     },
     "execution_count": 7,
     "metadata": {},
     "output_type": "execute_result"
    }
   ],
   "source": [
    "data.take(1)"
   ]
  },
  {
   "cell_type": "code",
   "execution_count": 8,
   "metadata": {},
   "outputs": [],
   "source": [
    "from pyspark.sql.types import *"
   ]
  },
  {
   "cell_type": "code",
   "execution_count": 9,
   "metadata": {},
   "outputs": [],
   "source": [
    "schema = StructType([\n",
    "    StructField(\"date\", StringType(), True),\n",
    "    StructField(\"Appliances\", IntegerType() , True),\n",
    "    StructField(\"lights\", IntegerType(), True),\n",
    "    StructField(\"T1\", DoubleType(), True),\n",
    "    StructField(\"RH_1\", DoubleType(), True),\n",
    "    StructField(\"T2\", DoubleType(), True),\n",
    "    StructField(\"RH_2\", DoubleType(), True),\n",
    "    StructField(\"T3\", DoubleType(), True),\n",
    "    StructField(\"RH_3\", DoubleType(), True),\n",
    "    StructField(\"T4\", DoubleType(), True),\n",
    "    StructField(\"RH_4\", DoubleType(), True),\n",
    "    StructField(\"T5\", DoubleType(), True),\n",
    "    StructField(\"RH_5\", DoubleType(), True),\n",
    "    StructField(\"T6\", DoubleType(), True),\n",
    "    StructField(\"RH_6\", DoubleType(), True),\n",
    "    StructField(\"T7\", DoubleType(), True),\n",
    "    StructField(\"RH_7\", DoubleType(), True),\n",
    "    StructField(\"T8\", DoubleType(), True),\n",
    "    StructField(\"RH_8\", DoubleType(), True),\n",
    "    StructField(\"T9\", DoubleType(), True),\n",
    "    StructField(\"RH_9\", DoubleType(), True),\n",
    "    StructField(\"To\", DoubleType(), True),\n",
    "    StructField(\"Press_mm_hg\", DoubleType(), True),\n",
    "    StructField(\"RH_out\", DoubleType(), True),\n",
    "    StructField(\"Wind speed\", DoubleType(), True),\n",
    "    StructField(\"Visibility\", DoubleType(), True),\n",
    "    StructField(\"Tdewpoint\", DoubleType(), True),\n",
    "    StructField(\"rv1\", DoubleType(), True),\n",
    "    StructField(\"rv2\", DoubleType(), True),\n",
    "    StructField(\"nsm\", IntegerType(), True),\n",
    "    StructField(\"weekstatus\", StringType(), True),\n",
    "    StructField(\"Day_of_week\", StringType(), True),\n",
    "])"
   ]
  },
  {
   "cell_type": "code",
   "execution_count": 10,
   "metadata": {},
   "outputs": [],
   "source": [
    "testschema = StructType([\n",
    "    StructField(\"date\", StringType(), True),\n",
    "    StructField(\"lights\", IntegerType(), True),\n",
    "    StructField(\"T1\", DoubleType(), True),\n",
    "    StructField(\"RH_1\", DoubleType(), True),\n",
    "    StructField(\"T2\", DoubleType(), True),\n",
    "    StructField(\"RH_2\", DoubleType(), True),\n",
    "    StructField(\"T3\", DoubleType(), True),\n",
    "    StructField(\"RH_3\", DoubleType(), True),\n",
    "    StructField(\"T4\", DoubleType(), True),\n",
    "    StructField(\"RH_4\", DoubleType(), True),\n",
    "    StructField(\"T5\", DoubleType(), True),\n",
    "    StructField(\"RH_5\", DoubleType(), True),\n",
    "    StructField(\"T6\", DoubleType(), True),\n",
    "    StructField(\"RH_6\", DoubleType(), True),\n",
    "    StructField(\"T7\", DoubleType(), True),\n",
    "    StructField(\"RH_7\", DoubleType(), True),\n",
    "    StructField(\"T8\", DoubleType(), True),\n",
    "    StructField(\"RH_8\", DoubleType(), True),\n",
    "    StructField(\"T9\", DoubleType(), True),\n",
    "    StructField(\"RH_9\", DoubleType(), True),\n",
    "    StructField(\"To\", DoubleType(), True),\n",
    "    StructField(\"Press_mm_hg\", DoubleType(), True),\n",
    "    StructField(\"RH_out\", DoubleType(), True),\n",
    "    StructField(\"Wind speed\", DoubleType(), True),\n",
    "    StructField(\"Visibility\", DoubleType(), True),\n",
    "    StructField(\"Tdewpoint\", DoubleType(), True),\n",
    "    StructField(\"rv1\", DoubleType(), True),\n",
    "    StructField(\"rv2\", DoubleType(), True),\n",
    "    StructField(\"nsm\", IntegerType(), True),\n",
    "    StructField(\"weekstatus\", StringType(), True),\n",
    "    StructField(\"Day_of_week\", StringType(), True),\n",
    "])"
   ]
  },
  {
   "cell_type": "code",
   "execution_count": 11,
   "metadata": {},
   "outputs": [],
   "source": [
    "energyDF = spark.read.format(\"csv\")\\\n",
    "        .option(\"header\", \"false\")\\\n",
    "        .option(\"inferSchema\", \"true\")\\\n",
    "        .load(\"hdfs:///user/2306B48/phd/data/energy_traindb_data*\",schema = schema)"
   ]
  },
  {
   "cell_type": "code",
   "execution_count": 12,
   "metadata": {},
   "outputs": [],
   "source": [
    "testDF = spark.read.format(\"csv\")\\\n",
    "        .option(\"header\", \"false\")\\\n",
    "        .option(\"inferSchema\", \"true\")\\\n",
    "        .load(\"hdfs:///user/2306B48/phd/data/energy_testdb_data*\",schema = testschema)"
   ]
  },
  {
   "cell_type": "code",
   "execution_count": 13,
   "metadata": {},
   "outputs": [
    {
     "name": "stdout",
     "output_type": "stream",
     "text": [
      "+--------------------+----------+------+-----+----------------+----+----------------+-----+----------------+----------------+----------------+----------------+-----+----------------+----------------+----------------+----------------+----+----------------+----------------+-----+----------------+-----------+------+----------------+----------------+---------+------------------+------------------+-----+----------+-----------+\n",
      "|                date|Appliances|lights|   T1|            RH_1|  T2|            RH_2|   T3|            RH_3|              T4|            RH_4|              T5| RH_5|              T6|            RH_6|              T7|            RH_7|  T8|            RH_8|              T9| RH_9|              To|Press_mm_hg|RH_out|      Wind speed|      Visibility|Tdewpoint|               rv1|               rv2|  nsm|weekstatus|Day_of_week|\n",
      "+--------------------+----------+------+-----+----------------+----+----------------+-----+----------------+----------------+----------------+----------------+-----+----------------+----------------+----------------+----------------+----+----------------+----------------+-----+----------------+-----------+------+----------------+----------------+---------+------------------+------------------+-----+----------+-----------+\n",
      "|2016-01-11 17:00:...|        60|    30|19.89|47.5966666666667|19.2|           44.79|19.79|           44.73|            19.0|45.5666666666667|17.1666666666667| 55.2|7.02666666666667|84.2566666666667|            17.2|41.6266666666667|18.2|            48.9|17.0333333333333|45.53|             6.6|      733.5|  92.0|             7.0|            63.0|      5.3|13.275433157104999|13.275433157104999|61200|   Weekday|     Monday|\n",
      "|2016-01-11 17:10:...|        60|    30|19.89|46.6933333333333|19.2|         44.7225|19.79|           44.79|            19.0|         45.9925|17.1666666666667| 55.2|6.83333333333333|84.0633333333333|            17.2|           41.56|18.2|48.8633333333333|17.0666666666667|45.56|6.48333333333333|      733.6|  92.0|6.66666666666667|59.1666666666667|      5.2|18.606194981839508|18.606194981839508|61800|   Weekday|     Monday|\n",
      "|2016-01-11 17:20:...|        50|    30|19.89|            46.3|19.2|44.6266666666667|19.79|44.9333333333333|18.9266666666667|           45.89|17.1666666666667|55.09|            6.56|83.1566666666667|            17.2|41.4333333333333|18.2|           48.73|            17.0| 45.5|6.36666666666667|      733.7|  92.0|6.33333333333333|55.3333333333333|      5.1| 28.64266816759482| 28.64266816759482|62400|   Weekday|     Monday|\n",
      "|2016-01-11 17:40:...|        60|    40|19.89|46.3333333333333|19.2|           44.53|19.79|            45.0|           18.89|           45.53|            17.2|55.09|6.36666666666667|84.8933333333333|            17.2|           41.23|18.1|           48.59|            17.0| 45.4|6.13333333333333|      733.9|  92.0|5.66666666666667|47.6666666666667|      4.9| 10.08409655187279| 10.08409655187279|63600|   Weekday|     Monday|\n",
      "|2016-01-11 17:50:...|        50|    40|19.89|46.0266666666667|19.2|            44.5|19.79|44.9333333333333|           18.89|           45.73|17.1333333333333|55.03|             6.3|85.7666666666667|17.1333333333333|           41.26|18.1|           48.59|            17.0|45.29|6.01666666666667|      734.0|  92.0|5.33333333333333|43.8333333333333|      4.8| 44.91948424838483| 44.91948424838483|64200|   Weekday|     Monday|\n",
      "+--------------------+----------+------+-----+----------------+----+----------------+-----+----------------+----------------+----------------+----------------+-----+----------------+----------------+----------------+----------------+----+----------------+----------------+-----+----------------+-----------+------+----------------+----------------+---------+------------------+------------------+-----+----------+-----------+\n",
      "only showing top 5 rows\n",
      "\n"
     ]
    }
   ],
   "source": [
    "energyDF.show(5)"
   ]
  },
  {
   "cell_type": "code",
   "execution_count": 14,
   "metadata": {},
   "outputs": [
    {
     "name": "stdout",
     "output_type": "stream",
     "text": [
      "('Total Records with header: ', 14803)\n"
     ]
    }
   ],
   "source": [
    "print(\"Total Records with header: \", energyDF.count())"
   ]
  },
  {
   "cell_type": "code",
   "execution_count": 15,
   "metadata": {},
   "outputs": [
    {
     "data": {
      "text/plain": [
       "[('date', 'string'),\n",
       " ('Appliances', 'int'),\n",
       " ('lights', 'int'),\n",
       " ('T1', 'double'),\n",
       " ('RH_1', 'double'),\n",
       " ('T2', 'double'),\n",
       " ('RH_2', 'double'),\n",
       " ('T3', 'double'),\n",
       " ('RH_3', 'double'),\n",
       " ('T4', 'double'),\n",
       " ('RH_4', 'double'),\n",
       " ('T5', 'double'),\n",
       " ('RH_5', 'double'),\n",
       " ('T6', 'double'),\n",
       " ('RH_6', 'double'),\n",
       " ('T7', 'double'),\n",
       " ('RH_7', 'double'),\n",
       " ('T8', 'double'),\n",
       " ('RH_8', 'double'),\n",
       " ('T9', 'double'),\n",
       " ('RH_9', 'double'),\n",
       " ('To', 'double'),\n",
       " ('Press_mm_hg', 'double'),\n",
       " ('RH_out', 'double'),\n",
       " ('Wind speed', 'double'),\n",
       " ('Visibility', 'double'),\n",
       " ('Tdewpoint', 'double'),\n",
       " ('rv1', 'double'),\n",
       " ('rv2', 'double'),\n",
       " ('nsm', 'int'),\n",
       " ('weekstatus', 'string'),\n",
       " ('Day_of_week', 'string')]"
      ]
     },
     "execution_count": 15,
     "metadata": {},
     "output_type": "execute_result"
    }
   ],
   "source": [
    "energyDF.dtypes"
   ]
  },
  {
   "cell_type": "code",
   "execution_count": 16,
   "metadata": {},
   "outputs": [
    {
     "name": "stdout",
     "output_type": "stream",
     "text": [
      "Total Columns count in  sales dataset is 32\n"
     ]
    }
   ],
   "source": [
    "from pyspark.sql.types import *\n",
    "from pyspark.sql.functions import *\n",
    "print(\"Total Columns count in  sales dataset is {}\".format(len(energyDF.columns)))"
   ]
  },
  {
   "cell_type": "code",
   "execution_count": 17,
   "metadata": {},
   "outputs": [
    {
     "name": "stdout",
     "output_type": "stream",
     "text": [
      "+-------+--------------------+-----------------+-----------------+------------------+------------------+-----------------+-----------------+------------------+------------------+------------------+-----------------+-----------------+-----------------+-----------------+------------------+------------------+------------------+------------------+-----------------+------------------+------------------+------------------+-----------------+------------------+------------------+------------------+-----------------+--------------------+--------------------+------------------+----------+-----------+\n",
      "|summary|                date|       Appliances|           lights|                T1|              RH_1|               T2|             RH_2|                T3|              RH_3|                T4|             RH_4|               T5|             RH_5|               T6|              RH_6|                T7|              RH_7|                T8|             RH_8|                T9|              RH_9|                To|      Press_mm_hg|            RH_out|        Wind speed|        Visibility|        Tdewpoint|                 rv1|                 rv2|               nsm|weekstatus|Day_of_week|\n",
      "+-------+--------------------+-----------------+-----------------+------------------+------------------+-----------------+-----------------+------------------+------------------+------------------+-----------------+-----------------+-----------------+-----------------+------------------+------------------+------------------+------------------+-----------------+------------------+------------------+------------------+-----------------+------------------+------------------+------------------+-----------------+--------------------+--------------------+------------------+----------+-----------+\n",
      "|  count|               14803|            14803|            14803|             14803|             14803|            14803|            14803|             14803|             14803|             14803|            14803|            14803|            14803|            14803|             14803|             14803|             14803|             14803|            14803|             14803|             14803|             14803|            14803|             14803|             14803|             14803|            14803|               14803|               14803|             14803|     14803|      14803|\n",
      "|   mean|                null|98.01121394311964|3.802607579544687|21.684166990934713| 40.27143902434215|20.34250639178188|40.41805606286377|22.262628269926775| 39.24914855695324|20.855433200946074|39.03035924996047|19.58504261204007|50.96176900755093|7.921002957116116|54.623669146947755|20.263910548137083|35.387455940111536|22.029159826017526|42.92455358192584| 19.48075866526922|41.542065415823366| 4.216028427313632| 755.502983361373| 79.73412215885023| 4.034469900459901|  38.3301414127767|3.027441212045177|  25.078087092022187|  25.078087091977217| 42985.98932648788|      null|       null|\n",
      "| stddev|                null|102.8280192831129|7.940339708498312|1.6077804786651004|3.9817410611868618|2.191841569986663|4.066222654756787|2.0137846100157124|3.2527553455084033| 2.044786128937223|4.339782625438979|1.847725288079765|9.046094789465052| 6.10378488726518|  31.2039197918927|2.1153203315480154| 5.118178862054794|1.9588973026486132|5.242375949096742|2.0177330668411795|4.1508391961455215|3.4446370821144536|7.427684184826545|14.955609373547475|2.4368703852167686|11.812779928891873|3.664556630544948|  14.481536776954838|  14.481536776954158|24968.649027895495|      null|       null|\n",
      "|    min|2016-01-11 17:00:...|               10|                0|             16.79|  27.0233333333333|             16.1| 20.8933333333333|              17.2|  28.7666666666667|              15.1|            27.66|            15.33| 29.8566666666667|           -6.065|               1.0|             15.39|              23.2|  16.3066666666667|             29.6|             14.89|  29.1666666666667| -9.33333333333333|            729.3|              24.0|               0.0|               1.0|-9.83333333333333|0.005321681965142...|0.005321681965142...|                 0|   Weekday|     Friday|\n",
      "|    max|2016-05-27 18:00:...|             1080|               50|             26.26|             63.36| 29.8566666666667| 56.0266666666667|            29.236|  50.1633333333333|              26.2| 51.0633333333333|           25.745| 95.9538888888889|            28.29|              99.9|              26.0|              51.4|             27.23|            58.78|              24.5|  53.3266666666667|              13.1|            772.3|             100.0|              13.5|              66.0|             10.7|    49.9965296825394|    49.9965296825394|             85800|   Weekend|  Wednesday|\n",
      "+-------+--------------------+-----------------+-----------------+------------------+------------------+-----------------+-----------------+------------------+------------------+------------------+-----------------+-----------------+-----------------+-----------------+------------------+------------------+------------------+------------------+-----------------+------------------+------------------+------------------+-----------------+------------------+------------------+------------------+-----------------+--------------------+--------------------+------------------+----------+-----------+\n",
      "\n"
     ]
    }
   ],
   "source": [
    "energyDF.describe().show() # Descriptive Stats"
   ]
  },
  {
   "cell_type": "code",
   "execution_count": 18,
   "metadata": {},
   "outputs": [
    {
     "name": "stdout",
     "output_type": "stream",
     "text": [
      "+----+----------+------+---+----+---+----+---+----+---+----+---+----+---+----+---+----+---+----+---+----+---+-----------+------+----------+----------+---------+---+---+---+----------+-----------+\n",
      "|date|Appliances|lights| T1|RH_1| T2|RH_2| T3|RH_3| T4|RH_4| T5|RH_5| T6|RH_6| T7|RH_7| T8|RH_8| T9|RH_9| To|Press_mm_hg|RH_out|Wind speed|Visibility|Tdewpoint|rv1|rv2|nsm|weekstatus|Day_of_week|\n",
      "+----+----------+------+---+----+---+----+---+----+---+----+---+----+---+----+---+----+---+----+---+----+---+-----------+------+----------+----------+---------+---+---+---+----------+-----------+\n",
      "|   0|         0|     0|  0|   0|  0|   0|  0|   0|  0|   0|  0|   0|  0|   0|  0|   0|  0|   0|  0|   0|  0|          0|     0|         0|         0|        0|  0|  0|  0|         0|          0|\n",
      "+----+----------+------+---+----+---+----+---+----+---+----+---+----+---+----+---+----+---+----+---+----+---+-----------+------+----------+----------+---------+---+---+---+----------+-----------+\n",
      "\n"
     ]
    }
   ],
   "source": [
    "energyDF.select([count(when(isnan(c) | col(c).isNull(), c)).alias(c) for c in energyDF.columns]).show() # check Null"
   ]
  },
  {
   "cell_type": "code",
   "execution_count": 19,
   "metadata": {},
   "outputs": [
    {
     "name": "stdout",
     "output_type": "stream",
     "text": [
      "+-----+----------+------+---+----+----+----+----+----+----+----+----+----+----+----+----+----+----+----+---+----+----+-----------+------+----------+----------+---------+-----+-----+---+----------+-----------+\n",
      "| date|Appliances|lights| T1|RH_1|  T2|RH_2|  T3|RH_3|  T4|RH_4|  T5|RH_5|  T6|RH_6|  T7|RH_7|  T8|RH_8| T9|RH_9|  To|Press_mm_hg|RH_out|Wind speed|Visibility|Tdewpoint|  rv1|  rv2|nsm|weekstatus|Day_of_week|\n",
      "+-----+----------+------+---+----+----+----+----+----+----+----+----+----+----+----+----+----+----+----+---+----+----+-----------+------+----------+----------+---------+-----+-----+---+----------+-----------+\n",
      "|14803|        88|     6|630|2235|1379|2883|1227|2218|1184|2559|1926|6129|3738|8062|1693|4865|1941|5488|824|2857|1689|       2050|   515|       162|       387|     1347|14803|14803|144|         2|          7|\n",
      "+-----+----------+------+---+----+----+----+----+----+----+----+----+----+----+----+----+----+----+----+---+----+----+-----------+------+----------+----------+---------+-----+-----+---+----------+-----------+\n",
      "\n"
     ]
    }
   ],
   "source": [
    "energyDF.agg(*(countDistinct(col(c)).alias(c) for c in energyDF.columns)).show() # distinct"
   ]
  },
  {
   "cell_type": "code",
   "execution_count": 20,
   "metadata": {},
   "outputs": [
    {
     "name": "stdout",
     "output_type": "stream",
     "text": [
      "+--------------------+----------+------+-----+----------------+----+----------------+----+----------------+----+-----+-----+----------------+------+----+-----+----+----------------+----+-----+----------------+-----------------+-----------+------+----------+----------+-----------------+--------------------+--------------------+---+----------+-----------+\n",
      "|                date|Appliances|lights|   T1|            RH_1|  T2|            RH_2|  T3|            RH_3|  T4| RH_4|   T5|            RH_5|    T6|RH_6|   T7|RH_7|              T8|RH_8|   T9|            RH_9|               To|Press_mm_hg|RH_out|Wind speed|Visibility|        Tdewpoint|                 rv1|                 rv2|nsm|weekstatus|Day_of_week|\n",
      "+--------------------+----------+------+-----+----------------+----+----------------+----+----------------+----+-----+-----+----------------+------+----+-----+----+----------------+----+-----+----------------+-----------------+-----------+------+----------+----------+-----------------+--------------------+--------------------+---+----------+-----------+\n",
      "|2016-01-11 17:00:...|        10|     0|16.79|27.0233333333333|16.1|20.8933333333333|17.2|28.7666666666667|15.1|27.66|15.33|29.8566666666667|-6.065| 1.0|15.39|23.2|16.3066666666667|29.6|14.89|29.1666666666667|-9.33333333333333|      729.3|  24.0|       0.0|       1.0|-9.83333333333333|0.005321681965142...|0.005321681965142...|  0|   Weekday|     Friday|\n",
      "+--------------------+----------+------+-----+----------------+----+----------------+----+----------------+----+-----+-----+----------------+------+----+-----+----+----------------+----+-----+----------------+-----------------+-----------+------+----------+----------+-----------------+--------------------+--------------------+---+----------+-----------+\n",
      "\n"
     ]
    }
   ],
   "source": [
    "energyDF.agg(*(min(col(c)).alias(c) for c in energyDF.columns)).show() # min values"
   ]
  },
  {
   "cell_type": "code",
   "execution_count": 21,
   "metadata": {},
   "outputs": [
    {
     "name": "stdout",
     "output_type": "stream",
     "text": [
      "+--------------------+----------+------+-----+-----+----------------+----------------+------+----------------+----+----------------+------+----------------+-----+----+----+----+-----+-----+----+----------------+----+-----------+------+----------+----------+---------+----------------+----------------+-----+----------+-----------+\n",
      "|                date|Appliances|lights|   T1| RH_1|              T2|            RH_2|    T3|            RH_3|  T4|            RH_4|    T5|            RH_5|   T6|RH_6|  T7|RH_7|   T8| RH_8|  T9|            RH_9|  To|Press_mm_hg|RH_out|Wind speed|Visibility|Tdewpoint|             rv1|             rv2|  nsm|weekstatus|Day_of_week|\n",
      "+--------------------+----------+------+-----+-----+----------------+----------------+------+----------------+----+----------------+------+----------------+-----+----+----+----+-----+-----+----+----------------+----+-----------+------+----------+----------+---------+----------------+----------------+-----+----------+-----------+\n",
      "|2016-05-27 18:00:...|      1080|    50|26.26|63.36|29.8566666666667|56.0266666666667|29.236|50.1633333333333|26.2|51.0633333333333|25.745|95.9538888888889|28.29|99.9|26.0|51.4|27.23|58.78|24.5|53.3266666666667|13.1|      772.3| 100.0|      13.5|      66.0|     10.7|49.9965296825394|49.9965296825394|85800|   Weekend|  Wednesday|\n",
      "+--------------------+----------+------+-----+-----+----------------+----------------+------+----------------+----+----------------+------+----------------+-----+----+----+----+-----+-----+----+----------------+----+-----------+------+----------+----------+---------+----------------+----------------+-----+----------+-----------+\n",
      "\n"
     ]
    }
   ],
   "source": [
    "energyDF.agg(*(max(col(c)).alias(c) for c in energyDF.columns)).show() # max values"
   ]
  },
  {
   "cell_type": "code",
   "execution_count": 22,
   "metadata": {},
   "outputs": [],
   "source": [
    "energyDF = energyDF.drop('rv1','rv2')"
   ]
  },
  {
   "cell_type": "code",
   "execution_count": 23,
   "metadata": {},
   "outputs": [],
   "source": [
    "testDF =testDF.drop('rv1','rv2')"
   ]
  },
  {
   "cell_type": "markdown",
   "metadata": {},
   "source": [
    "### Exploratory analysis\n",
    "Build some basic plots (bar graph, heat map) using python (pandas , matplotlib/seaborn/ploytly) by converting the spark dataframe to pandas df."
   ]
  },
  {
   "cell_type": "code",
   "execution_count": 24,
   "metadata": {},
   "outputs": [],
   "source": [
    "import numpy as np\n",
    "import StringIO\n",
    "import pandas as pd\n",
    "import warnings"
   ]
  },
  {
   "cell_type": "code",
   "execution_count": 25,
   "metadata": {},
   "outputs": [
    {
     "data": {
      "text/html": [
       "<script>requirejs.config({paths: { 'plotly': ['https://cdn.plot.ly/plotly-latest.min']},});if(!window.Plotly) {{require(['plotly'],function(plotly) {window.Plotly=plotly;});}}</script>"
      ],
      "text/vnd.plotly.v1+html": [
       "<script>requirejs.config({paths: { 'plotly': ['https://cdn.plot.ly/plotly-latest.min']},});if(!window.Plotly) {{require(['plotly'],function(plotly) {window.Plotly=plotly;});}}</script>"
      ]
     },
     "metadata": {},
     "output_type": "display_data"
    }
   ],
   "source": [
    "import matplotlib.pyplot as plt\n",
    "import seaborn as sns\n",
    "\n",
    "import plotly\n",
    "plotly.tools.set_credentials_file(username='aashutosh.bhattad', api_key='dfQ17QdEz3ZZifx2MpbX')\n",
    "\n",
    "import plotly.figure_factory as ff\n",
    "import plotly.plotly as py\n",
    "import plotly.offline as pyoff\n",
    "import plotly.graph_objs as go\n",
    "\n",
    "# Initializing some settings\n",
    "sns.set_style('whitegrid')\n",
    "sns.set(color_codes=True)\n",
    "warnings.filterwarnings('ignore')\n",
    "pyoff.init_notebook_mode(connected=True)\n",
    "get_ipython().magic('matplotlib inline')"
   ]
  },
  {
   "cell_type": "code",
   "execution_count": 26,
   "metadata": {},
   "outputs": [
    {
     "name": "stdout",
     "output_type": "stream",
     "text": [
      "High five! You successfully sent some data to your account on plotly. View your plot in your browser at https://plot.ly/~aashutosh.bhattad/0 or inside your plot.ly account where it is named 'plot1'\n"
     ]
    },
    {
     "data": {
      "text/html": [
       "<iframe id=\"igraph\" scrolling=\"no\" style=\"border:none;\" seamless=\"seamless\" src=\"https://plot.ly/~aashutosh.bhattad/0.embed\" height=\"525px\" width=\"100%\"></iframe>"
      ],
      "text/plain": [
       "<plotly.tools.PlotlyDisplay object>"
      ]
     },
     "execution_count": 26,
     "metadata": {},
     "output_type": "execute_result"
    }
   ],
   "source": [
    "pandasDF = energyDF.toPandas()\n",
    "pandasDF.columns = ['date', 'Appliances', 'lights', 'T1', 'RH_1', 'T2', 'RH_2','T3', 'RH_3', 'T4', 'RH_4', 'T5',\n",
    "                    'RH_5', 'T6', 'RH_6',\"T7\",\"RH_7\",\"T8\",\"RH_8\",\"T9\",\"RH_9\",\"To\",\"Press_mm_hg\",\"RH_out\",\n",
    "                    \"Wind speed\",\"Visibility\",\"Tdewpoint\",\"nsm\",\"weekstatus\",\"Day_of_week\"]\n",
    "trace1 = go.Histogram(\n",
    "    x=pandasDF['date'],\n",
    "    y=pandasDF['Appliances'],\n",
    "    name='date and Appliances ',\n",
    "      marker = dict(\n",
    "        color = 'rgb(0, 128, 128)',\n",
    "    )\n",
    ")\n",
    "#using plotly\n",
    "data = [trace1]\n",
    "layout = go.Layout(\n",
    "    title='date vs Appliances',\n",
    "    \n",
    "    \n",
    ")\n",
    "\n",
    "fig = go.Figure(data=data, layout=layout)\n",
    "py.iplot(fig, filename='plot1')"
   ]
  },
  {
   "cell_type": "code",
   "execution_count": 27,
   "metadata": {},
   "outputs": [
    {
     "data": {
      "text/html": [
       "<iframe id=\"igraph\" scrolling=\"no\" style=\"border:none;\" seamless=\"seamless\" src=\"https://plot.ly/~aashutosh.bhattad/4.embed\" height=\"525px\" width=\"100%\"></iframe>"
      ],
      "text/plain": [
       "<plotly.tools.PlotlyDisplay object>"
      ]
     },
     "execution_count": 27,
     "metadata": {},
     "output_type": "execute_result"
    }
   ],
   "source": [
    "trace3 = go.Histogram(\n",
    "    x=pandasDF['Day_of_week'],\n",
    "    y=pandasDF['Appliances'],\n",
    "    name='day and Appliances ',\n",
    "      marker = dict(\n",
    "        color = 'rgb(200, 128, 128)',\n",
    "    )\n",
    ")\n",
    "#using plotly\n",
    "data = [trace3]\n",
    "layout = go.Layout(\n",
    "    title='day vs Appliances',\n",
    "    \n",
    "    \n",
    ")\n",
    "\n",
    "fig = go.Figure(data=data, layout=layout)\n",
    "py.iplot(fig, filename='dapp')"
   ]
  },
  {
   "cell_type": "code",
   "execution_count": 28,
   "metadata": {},
   "outputs": [
    {
     "data": {
      "text/html": [
       "<iframe id=\"igraph\" scrolling=\"no\" style=\"border:none;\" seamless=\"seamless\" src=\"https://plot.ly/~aashutosh.bhattad/2.embed\" height=\"525px\" width=\"100%\"></iframe>"
      ],
      "text/plain": [
       "<plotly.tools.PlotlyDisplay object>"
      ]
     },
     "execution_count": 28,
     "metadata": {},
     "output_type": "execute_result"
    }
   ],
   "source": [
    "trace2 = go.Box(\n",
    "    x=pandasDF['lights'],\n",
    "    y=pandasDF['Appliances'],\n",
    "    name='Appliances and lights',\n",
    "      marker = dict(\n",
    "        color = 'rgb(128, 0, 0)',\n",
    "    )\n",
    ")\n",
    "#using plotly\n",
    "data = [trace2]\n",
    "layout = go.Layout(\n",
    "    title='Appliances and lights',\n",
    "    \n",
    "    \n",
    ")\n",
    "\n",
    "fig = go.Figure(data=data, layout=layout)\n",
    "py.iplot(fig, filename='app vs lights')"
   ]
  },
  {
   "cell_type": "code",
   "execution_count": 29,
   "metadata": {},
   "outputs": [
    {
     "data": {
      "text/html": [
       "<iframe id=\"igraph\" scrolling=\"no\" style=\"border:none;\" seamless=\"seamless\" src=\"https://plot.ly/~aashutosh.bhattad/6.embed\" height=\"525px\" width=\"100%\"></iframe>"
      ],
      "text/plain": [
       "<plotly.tools.PlotlyDisplay object>"
      ]
     },
     "execution_count": 29,
     "metadata": {},
     "output_type": "execute_result"
    }
   ],
   "source": [
    "trace4 = go.Histogram(\n",
    "    x=pandasDF['weekstatus'],\n",
    "    y=pandasDF['lights'],\n",
    "    name='weekstatus and lights ',\n",
    "      marker = dict(\n",
    "        color = 'rgb(0, 128, 0)',\n",
    "    )\n",
    ")\n",
    "#using plotly\n",
    "data = [trace4]\n",
    "layout = go.Layout(\n",
    "    title='date vs Appliances',\n",
    "    \n",
    "    \n",
    ")\n",
    "\n",
    "fig = go.Figure(data=data, layout=layout)\n",
    "py.iplot(fig, filename='plot4')"
   ]
  },
  {
   "cell_type": "code",
   "execution_count": 30,
   "metadata": {},
   "outputs": [
    {
     "data": {
      "text/html": [
       "<div>\n",
       "<style>\n",
       "    .dataframe thead tr:only-child th {\n",
       "        text-align: right;\n",
       "    }\n",
       "\n",
       "    .dataframe thead th {\n",
       "        text-align: left;\n",
       "    }\n",
       "\n",
       "    .dataframe tbody tr th {\n",
       "        vertical-align: top;\n",
       "    }\n",
       "</style>\n",
       "<table border=\"1\" class=\"dataframe\">\n",
       "  <thead>\n",
       "    <tr style=\"text-align: right;\">\n",
       "      <th></th>\n",
       "      <th>Appliances</th>\n",
       "      <th>lights</th>\n",
       "      <th>T1</th>\n",
       "      <th>RH_1</th>\n",
       "      <th>T2</th>\n",
       "      <th>RH_2</th>\n",
       "      <th>T3</th>\n",
       "      <th>RH_3</th>\n",
       "      <th>T4</th>\n",
       "      <th>RH_4</th>\n",
       "      <th>...</th>\n",
       "      <th>RH_8</th>\n",
       "      <th>T9</th>\n",
       "      <th>RH_9</th>\n",
       "      <th>To</th>\n",
       "      <th>Press_mm_hg</th>\n",
       "      <th>RH_out</th>\n",
       "      <th>Wind speed</th>\n",
       "      <th>Visibility</th>\n",
       "      <th>Tdewpoint</th>\n",
       "      <th>nsm</th>\n",
       "    </tr>\n",
       "  </thead>\n",
       "  <tbody>\n",
       "    <tr>\n",
       "      <th>Appliances</th>\n",
       "      <td>1.000000</td>\n",
       "      <td>0.194689</td>\n",
       "      <td>0.060137</td>\n",
       "      <td>0.087276</td>\n",
       "      <td>0.124719</td>\n",
       "      <td>-0.061108</td>\n",
       "      <td>0.093336</td>\n",
       "      <td>0.036765</td>\n",
       "      <td>0.046992</td>\n",
       "      <td>0.016296</td>\n",
       "      <td>...</td>\n",
       "      <td>-0.093609</td>\n",
       "      <td>0.016484</td>\n",
       "      <td>-0.050214</td>\n",
       "      <td>0.013234</td>\n",
       "      <td>-0.032222</td>\n",
       "      <td>-0.154931</td>\n",
       "      <td>0.085245</td>\n",
       "      <td>-0.004788</td>\n",
       "      <td>0.005195</td>\n",
       "      <td>0.216167</td>\n",
       "    </tr>\n",
       "    <tr>\n",
       "      <th>lights</th>\n",
       "      <td>0.194689</td>\n",
       "      <td>1.000000</td>\n",
       "      <td>-0.028300</td>\n",
       "      <td>0.112602</td>\n",
       "      <td>-0.011521</td>\n",
       "      <td>0.059335</td>\n",
       "      <td>-0.099009</td>\n",
       "      <td>0.135162</td>\n",
       "      <td>-0.009676</td>\n",
       "      <td>0.116257</td>\n",
       "      <td>...</td>\n",
       "      <td>0.016095</td>\n",
       "      <td>-0.159602</td>\n",
       "      <td>-0.006144</td>\n",
       "      <td>0.079815</td>\n",
       "      <td>-0.006817</td>\n",
       "      <td>0.070385</td>\n",
       "      <td>0.063341</td>\n",
       "      <td>0.015786</td>\n",
       "      <td>0.022020</td>\n",
       "      <td>0.250096</td>\n",
       "    </tr>\n",
       "    <tr>\n",
       "      <th>T1</th>\n",
       "      <td>0.060137</td>\n",
       "      <td>-0.028300</td>\n",
       "      <td>1.000000</td>\n",
       "      <td>0.166716</td>\n",
       "      <td>0.837948</td>\n",
       "      <td>0.000574</td>\n",
       "      <td>0.892645</td>\n",
       "      <td>-0.026293</td>\n",
       "      <td>0.876253</td>\n",
       "      <td>0.098859</td>\n",
       "      <td>...</td>\n",
       "      <td>-0.006862</td>\n",
       "      <td>0.845272</td>\n",
       "      <td>0.072651</td>\n",
       "      <td>-0.065579</td>\n",
       "      <td>-0.150184</td>\n",
       "      <td>-0.345950</td>\n",
       "      <td>-0.089516</td>\n",
       "      <td>-0.076881</td>\n",
       "      <td>0.283746</td>\n",
       "      <td>0.179685</td>\n",
       "    </tr>\n",
       "    <tr>\n",
       "      <th>RH_1</th>\n",
       "      <td>0.087276</td>\n",
       "      <td>0.112602</td>\n",
       "      <td>0.166716</td>\n",
       "      <td>1.000000</td>\n",
       "      <td>0.273212</td>\n",
       "      <td>0.798149</td>\n",
       "      <td>0.257264</td>\n",
       "      <td>0.845261</td>\n",
       "      <td>0.110630</td>\n",
       "      <td>0.881178</td>\n",
       "      <td>...</td>\n",
       "      <td>0.736268</td>\n",
       "      <td>0.117897</td>\n",
       "      <td>0.765023</td>\n",
       "      <td>0.173191</td>\n",
       "      <td>-0.294802</td>\n",
       "      <td>0.274696</td>\n",
       "      <td>0.203709</td>\n",
       "      <td>-0.014101</td>\n",
       "      <td>0.334176</td>\n",
       "      <td>0.021377</td>\n",
       "    </tr>\n",
       "    <tr>\n",
       "      <th>T2</th>\n",
       "      <td>0.124719</td>\n",
       "      <td>-0.011521</td>\n",
       "      <td>0.837948</td>\n",
       "      <td>0.273212</td>\n",
       "      <td>1.000000</td>\n",
       "      <td>-0.160643</td>\n",
       "      <td>0.736325</td>\n",
       "      <td>0.123498</td>\n",
       "      <td>0.763696</td>\n",
       "      <td>0.233459</td>\n",
       "      <td>...</td>\n",
       "      <td>0.070649</td>\n",
       "      <td>0.677350</td>\n",
       "      <td>0.160341</td>\n",
       "      <td>-0.069001</td>\n",
       "      <td>-0.132267</td>\n",
       "      <td>-0.503849</td>\n",
       "      <td>0.050900</td>\n",
       "      <td>-0.070102</td>\n",
       "      <td>0.300484</td>\n",
       "      <td>0.254604</td>\n",
       "    </tr>\n",
       "    <tr>\n",
       "      <th>RH_2</th>\n",
       "      <td>-0.061108</td>\n",
       "      <td>0.059335</td>\n",
       "      <td>0.000574</td>\n",
       "      <td>0.798149</td>\n",
       "      <td>-0.160643</td>\n",
       "      <td>1.000000</td>\n",
       "      <td>0.141735</td>\n",
       "      <td>0.680792</td>\n",
       "      <td>-0.043806</td>\n",
       "      <td>0.722716</td>\n",
       "      <td>...</td>\n",
       "      <td>0.679092</td>\n",
       "      <td>0.056586</td>\n",
       "      <td>0.677231</td>\n",
       "      <td>0.209957</td>\n",
       "      <td>-0.258329</td>\n",
       "      <td>0.583899</td>\n",
       "      <td>0.070289</td>\n",
       "      <td>0.001993</td>\n",
       "      <td>0.273924</td>\n",
       "      <td>-0.179071</td>\n",
       "    </tr>\n",
       "    <tr>\n",
       "      <th>T3</th>\n",
       "      <td>0.093336</td>\n",
       "      <td>-0.099009</td>\n",
       "      <td>0.892645</td>\n",
       "      <td>0.257264</td>\n",
       "      <td>0.736325</td>\n",
       "      <td>0.141735</td>\n",
       "      <td>1.000000</td>\n",
       "      <td>-0.007733</td>\n",
       "      <td>0.851302</td>\n",
       "      <td>0.125974</td>\n",
       "      <td>...</td>\n",
       "      <td>0.044758</td>\n",
       "      <td>0.901283</td>\n",
       "      <td>0.138325</td>\n",
       "      <td>-0.051594</td>\n",
       "      <td>-0.189075</td>\n",
       "      <td>-0.282137</td>\n",
       "      <td>-0.101649</td>\n",
       "      <td>-0.100374</td>\n",
       "      <td>0.322693</td>\n",
       "      <td>0.039770</td>\n",
       "    </tr>\n",
       "    <tr>\n",
       "      <th>RH_3</th>\n",
       "      <td>0.036765</td>\n",
       "      <td>0.135162</td>\n",
       "      <td>-0.026293</td>\n",
       "      <td>0.845261</td>\n",
       "      <td>0.123498</td>\n",
       "      <td>0.680792</td>\n",
       "      <td>-0.007733</td>\n",
       "      <td>1.000000</td>\n",
       "      <td>-0.135896</td>\n",
       "      <td>0.899931</td>\n",
       "      <td>...</td>\n",
       "      <td>0.829718</td>\n",
       "      <td>-0.191788</td>\n",
       "      <td>0.835120</td>\n",
       "      <td>0.180875</td>\n",
       "      <td>-0.236754</td>\n",
       "      <td>0.357210</td>\n",
       "      <td>0.263485</td>\n",
       "      <td>0.021949</td>\n",
       "      <td>0.222559</td>\n",
       "      <td>-0.051239</td>\n",
       "    </tr>\n",
       "    <tr>\n",
       "      <th>T4</th>\n",
       "      <td>0.046992</td>\n",
       "      <td>-0.009676</td>\n",
       "      <td>0.876253</td>\n",
       "      <td>0.110630</td>\n",
       "      <td>0.763696</td>\n",
       "      <td>-0.043806</td>\n",
       "      <td>0.851302</td>\n",
       "      <td>-0.135896</td>\n",
       "      <td>1.000000</td>\n",
       "      <td>-0.045076</td>\n",
       "      <td>...</td>\n",
       "      <td>-0.092909</td>\n",
       "      <td>0.888183</td>\n",
       "      <td>-0.022374</td>\n",
       "      <td>-0.118740</td>\n",
       "      <td>-0.072807</td>\n",
       "      <td>-0.390391</td>\n",
       "      <td>-0.183969</td>\n",
       "      <td>-0.103900</td>\n",
       "      <td>0.227097</td>\n",
       "      <td>0.090273</td>\n",
       "    </tr>\n",
       "    <tr>\n",
       "      <th>RH_4</th>\n",
       "      <td>0.016296</td>\n",
       "      <td>0.116257</td>\n",
       "      <td>0.098859</td>\n",
       "      <td>0.881178</td>\n",
       "      <td>0.233459</td>\n",
       "      <td>0.722716</td>\n",
       "      <td>0.125974</td>\n",
       "      <td>0.899931</td>\n",
       "      <td>-0.045076</td>\n",
       "      <td>1.000000</td>\n",
       "      <td>...</td>\n",
       "      <td>0.848164</td>\n",
       "      <td>-0.042908</td>\n",
       "      <td>0.857180</td>\n",
       "      <td>0.248425</td>\n",
       "      <td>-0.252045</td>\n",
       "      <td>0.338655</td>\n",
       "      <td>0.298016</td>\n",
       "      <td>0.009358</td>\n",
       "      <td>0.396843</td>\n",
       "      <td>-0.017396</td>\n",
       "    </tr>\n",
       "    <tr>\n",
       "      <th>T5</th>\n",
       "      <td>0.022792</td>\n",
       "      <td>-0.084587</td>\n",
       "      <td>0.884008</td>\n",
       "      <td>0.208542</td>\n",
       "      <td>0.720593</td>\n",
       "      <td>0.113349</td>\n",
       "      <td>0.887746</td>\n",
       "      <td>-0.047829</td>\n",
       "      <td>0.871373</td>\n",
       "      <td>0.092602</td>\n",
       "      <td>...</td>\n",
       "      <td>0.015939</td>\n",
       "      <td>0.911860</td>\n",
       "      <td>0.073065</td>\n",
       "      <td>-0.114777</td>\n",
       "      <td>-0.171597</td>\n",
       "      <td>-0.274503</td>\n",
       "      <td>-0.147516</td>\n",
       "      <td>-0.082205</td>\n",
       "      <td>0.270074</td>\n",
       "      <td>0.072767</td>\n",
       "    </tr>\n",
       "    <tr>\n",
       "      <th>RH_5</th>\n",
       "      <td>0.005831</td>\n",
       "      <td>0.136440</td>\n",
       "      <td>-0.014673</td>\n",
       "      <td>0.303724</td>\n",
       "      <td>0.028537</td>\n",
       "      <td>0.251104</td>\n",
       "      <td>-0.066896</td>\n",
       "      <td>0.375680</td>\n",
       "      <td>-0.076922</td>\n",
       "      <td>0.352833</td>\n",
       "      <td>...</td>\n",
       "      <td>0.361126</td>\n",
       "      <td>-0.140426</td>\n",
       "      <td>0.270844</td>\n",
       "      <td>0.018853</td>\n",
       "      <td>-0.112311</td>\n",
       "      <td>0.192718</td>\n",
       "      <td>0.070805</td>\n",
       "      <td>-0.011207</td>\n",
       "      <td>0.033274</td>\n",
       "      <td>0.098603</td>\n",
       "    </tr>\n",
       "    <tr>\n",
       "      <th>T6</th>\n",
       "      <td>0.122450</td>\n",
       "      <td>-0.077445</td>\n",
       "      <td>0.656102</td>\n",
       "      <td>0.318306</td>\n",
       "      <td>0.802254</td>\n",
       "      <td>-0.006778</td>\n",
       "      <td>0.688854</td>\n",
       "      <td>0.079380</td>\n",
       "      <td>0.655526</td>\n",
       "      <td>0.260395</td>\n",
       "      <td>...</td>\n",
       "      <td>0.074162</td>\n",
       "      <td>0.668668</td>\n",
       "      <td>0.187352</td>\n",
       "      <td>0.125803</td>\n",
       "      <td>-0.134897</td>\n",
       "      <td>-0.568294</td>\n",
       "      <td>0.168666</td>\n",
       "      <td>-0.082367</td>\n",
       "      <td>0.506041</td>\n",
       "      <td>0.205039</td>\n",
       "    </tr>\n",
       "    <tr>\n",
       "      <th>RH_6</th>\n",
       "      <td>-0.086951</td>\n",
       "      <td>0.157163</td>\n",
       "      <td>-0.613927</td>\n",
       "      <td>0.242961</td>\n",
       "      <td>-0.580160</td>\n",
       "      <td>0.388400</td>\n",
       "      <td>-0.645769</td>\n",
       "      <td>0.512644</td>\n",
       "      <td>-0.701521</td>\n",
       "      <td>0.391246</td>\n",
       "      <td>...</td>\n",
       "      <td>0.489564</td>\n",
       "      <td>-0.737782</td>\n",
       "      <td>0.389474</td>\n",
       "      <td>0.120567</td>\n",
       "      <td>-0.072150</td>\n",
       "      <td>0.721437</td>\n",
       "      <td>0.098336</td>\n",
       "      <td>0.111345</td>\n",
       "      <td>-0.144542</td>\n",
       "      <td>-0.189751</td>\n",
       "    </tr>\n",
       "    <tr>\n",
       "      <th>T7</th>\n",
       "      <td>0.032366</td>\n",
       "      <td>-0.139436</td>\n",
       "      <td>0.838553</td>\n",
       "      <td>0.022543</td>\n",
       "      <td>0.664015</td>\n",
       "      <td>-0.050246</td>\n",
       "      <td>0.847192</td>\n",
       "      <td>-0.247610</td>\n",
       "      <td>0.874822</td>\n",
       "      <td>-0.130788</td>\n",
       "      <td>...</td>\n",
       "      <td>-0.211023</td>\n",
       "      <td>0.944363</td>\n",
       "      <td>-0.076143</td>\n",
       "      <td>-0.167142</td>\n",
       "      <td>-0.095589</td>\n",
       "      <td>-0.412820</td>\n",
       "      <td>-0.185099</td>\n",
       "      <td>-0.107225</td>\n",
       "      <td>0.161217</td>\n",
       "      <td>0.059103</td>\n",
       "    </tr>\n",
       "    <tr>\n",
       "      <th>RH_7</th>\n",
       "      <td>-0.056337</td>\n",
       "      <td>0.035930</td>\n",
       "      <td>0.136053</td>\n",
       "      <td>0.801207</td>\n",
       "      <td>0.232094</td>\n",
       "      <td>0.690390</td>\n",
       "      <td>0.175419</td>\n",
       "      <td>0.833837</td>\n",
       "      <td>0.047420</td>\n",
       "      <td>0.894700</td>\n",
       "      <td>...</td>\n",
       "      <td>0.885082</td>\n",
       "      <td>0.029148</td>\n",
       "      <td>0.858585</td>\n",
       "      <td>0.196355</td>\n",
       "      <td>-0.270046</td>\n",
       "      <td>0.378050</td>\n",
       "      <td>0.215082</td>\n",
       "      <td>-0.000908</td>\n",
       "      <td>0.397652</td>\n",
       "      <td>-0.159682</td>\n",
       "    </tr>\n",
       "    <tr>\n",
       "      <th>T8</th>\n",
       "      <td>0.045568</td>\n",
       "      <td>-0.074299</td>\n",
       "      <td>0.824111</td>\n",
       "      <td>-0.027482</td>\n",
       "      <td>0.578064</td>\n",
       "      <td>-0.037528</td>\n",
       "      <td>0.793792</td>\n",
       "      <td>-0.278931</td>\n",
       "      <td>0.793081</td>\n",
       "      <td>-0.164411</td>\n",
       "      <td>...</td>\n",
       "      <td>-0.208796</td>\n",
       "      <td>0.868642</td>\n",
       "      <td>-0.153882</td>\n",
       "      <td>-0.140282</td>\n",
       "      <td>-0.159694</td>\n",
       "      <td>-0.298878</td>\n",
       "      <td>-0.221063</td>\n",
       "      <td>-0.058636</td>\n",
       "      <td>0.149019</td>\n",
       "      <td>0.113599</td>\n",
       "    </tr>\n",
       "    <tr>\n",
       "      <th>RH_8</th>\n",
       "      <td>-0.093609</td>\n",
       "      <td>0.016095</td>\n",
       "      <td>-0.006862</td>\n",
       "      <td>0.736268</td>\n",
       "      <td>0.070649</td>\n",
       "      <td>0.679092</td>\n",
       "      <td>0.044758</td>\n",
       "      <td>0.829718</td>\n",
       "      <td>-0.092909</td>\n",
       "      <td>0.848164</td>\n",
       "      <td>...</td>\n",
       "      <td>1.000000</td>\n",
       "      <td>-0.114088</td>\n",
       "      <td>0.856012</td>\n",
       "      <td>0.149724</td>\n",
       "      <td>-0.226692</td>\n",
       "      <td>0.487452</td>\n",
       "      <td>0.200410</td>\n",
       "      <td>0.052989</td>\n",
       "      <td>0.282787</td>\n",
       "      <td>-0.291619</td>\n",
       "    </tr>\n",
       "    <tr>\n",
       "      <th>T9</th>\n",
       "      <td>0.016484</td>\n",
       "      <td>-0.159602</td>\n",
       "      <td>0.845272</td>\n",
       "      <td>0.117897</td>\n",
       "      <td>0.677350</td>\n",
       "      <td>0.056586</td>\n",
       "      <td>0.901283</td>\n",
       "      <td>-0.191788</td>\n",
       "      <td>0.888183</td>\n",
       "      <td>-0.042908</td>\n",
       "      <td>...</td>\n",
       "      <td>-0.114088</td>\n",
       "      <td>1.000000</td>\n",
       "      <td>-0.007294</td>\n",
       "      <td>-0.115742</td>\n",
       "      <td>-0.154416</td>\n",
       "      <td>-0.320553</td>\n",
       "      <td>-0.178319</td>\n",
       "      <td>-0.100567</td>\n",
       "      <td>0.259641</td>\n",
       "      <td>0.001382</td>\n",
       "    </tr>\n",
       "    <tr>\n",
       "      <th>RH_9</th>\n",
       "      <td>-0.050214</td>\n",
       "      <td>-0.006144</td>\n",
       "      <td>0.072651</td>\n",
       "      <td>0.765023</td>\n",
       "      <td>0.160341</td>\n",
       "      <td>0.677231</td>\n",
       "      <td>0.138325</td>\n",
       "      <td>0.835120</td>\n",
       "      <td>-0.022374</td>\n",
       "      <td>0.857180</td>\n",
       "      <td>...</td>\n",
       "      <td>0.856012</td>\n",
       "      <td>-0.007294</td>\n",
       "      <td>1.000000</td>\n",
       "      <td>0.210662</td>\n",
       "      <td>-0.185666</td>\n",
       "      <td>0.357144</td>\n",
       "      <td>0.236619</td>\n",
       "      <td>0.017626</td>\n",
       "      <td>0.311624</td>\n",
       "      <td>-0.266094</td>\n",
       "    </tr>\n",
       "    <tr>\n",
       "      <th>To</th>\n",
       "      <td>0.013234</td>\n",
       "      <td>0.079815</td>\n",
       "      <td>-0.065579</td>\n",
       "      <td>0.173191</td>\n",
       "      <td>-0.069001</td>\n",
       "      <td>0.209957</td>\n",
       "      <td>-0.051594</td>\n",
       "      <td>0.180875</td>\n",
       "      <td>-0.118740</td>\n",
       "      <td>0.248425</td>\n",
       "      <td>...</td>\n",
       "      <td>0.149724</td>\n",
       "      <td>-0.115742</td>\n",
       "      <td>0.210662</td>\n",
       "      <td>1.000000</td>\n",
       "      <td>-0.013842</td>\n",
       "      <td>0.042408</td>\n",
       "      <td>0.370247</td>\n",
       "      <td>-0.040842</td>\n",
       "      <td>0.456679</td>\n",
       "      <td>0.051968</td>\n",
       "    </tr>\n",
       "    <tr>\n",
       "      <th>Press_mm_hg</th>\n",
       "      <td>-0.032222</td>\n",
       "      <td>-0.006817</td>\n",
       "      <td>-0.150184</td>\n",
       "      <td>-0.294802</td>\n",
       "      <td>-0.132267</td>\n",
       "      <td>-0.258329</td>\n",
       "      <td>-0.189075</td>\n",
       "      <td>-0.236754</td>\n",
       "      <td>-0.072807</td>\n",
       "      <td>-0.252045</td>\n",
       "      <td>...</td>\n",
       "      <td>-0.226692</td>\n",
       "      <td>-0.154416</td>\n",
       "      <td>-0.185666</td>\n",
       "      <td>-0.013842</td>\n",
       "      <td>1.000000</td>\n",
       "      <td>-0.099391</td>\n",
       "      <td>-0.230534</td>\n",
       "      <td>0.041036</td>\n",
       "      <td>-0.123498</td>\n",
       "      <td>-0.004368</td>\n",
       "    </tr>\n",
       "    <tr>\n",
       "      <th>RH_out</th>\n",
       "      <td>-0.154931</td>\n",
       "      <td>0.070385</td>\n",
       "      <td>-0.345950</td>\n",
       "      <td>0.274696</td>\n",
       "      <td>-0.503849</td>\n",
       "      <td>0.583899</td>\n",
       "      <td>-0.282137</td>\n",
       "      <td>0.357210</td>\n",
       "      <td>-0.390391</td>\n",
       "      <td>0.338655</td>\n",
       "      <td>...</td>\n",
       "      <td>0.487452</td>\n",
       "      <td>-0.320553</td>\n",
       "      <td>0.357144</td>\n",
       "      <td>0.042408</td>\n",
       "      <td>-0.099391</td>\n",
       "      <td>1.000000</td>\n",
       "      <td>-0.174318</td>\n",
       "      <td>0.087339</td>\n",
       "      <td>0.031399</td>\n",
       "      <td>-0.344305</td>\n",
       "    </tr>\n",
       "    <tr>\n",
       "      <th>Wind speed</th>\n",
       "      <td>0.085245</td>\n",
       "      <td>0.063341</td>\n",
       "      <td>-0.089516</td>\n",
       "      <td>0.203709</td>\n",
       "      <td>0.050900</td>\n",
       "      <td>0.070289</td>\n",
       "      <td>-0.101649</td>\n",
       "      <td>0.263485</td>\n",
       "      <td>-0.183969</td>\n",
       "      <td>0.298016</td>\n",
       "      <td>...</td>\n",
       "      <td>0.200410</td>\n",
       "      <td>-0.178319</td>\n",
       "      <td>0.236619</td>\n",
       "      <td>0.370247</td>\n",
       "      <td>-0.230534</td>\n",
       "      <td>-0.174318</td>\n",
       "      <td>1.000000</td>\n",
       "      <td>-0.003981</td>\n",
       "      <td>0.222743</td>\n",
       "      <td>0.099591</td>\n",
       "    </tr>\n",
       "    <tr>\n",
       "      <th>Visibility</th>\n",
       "      <td>-0.004788</td>\n",
       "      <td>0.015786</td>\n",
       "      <td>-0.076881</td>\n",
       "      <td>-0.014101</td>\n",
       "      <td>-0.070102</td>\n",
       "      <td>0.001993</td>\n",
       "      <td>-0.100374</td>\n",
       "      <td>0.021949</td>\n",
       "      <td>-0.103900</td>\n",
       "      <td>0.009358</td>\n",
       "      <td>...</td>\n",
       "      <td>0.052989</td>\n",
       "      <td>-0.100567</td>\n",
       "      <td>0.017626</td>\n",
       "      <td>-0.040842</td>\n",
       "      <td>0.041036</td>\n",
       "      <td>0.087339</td>\n",
       "      <td>-0.003981</td>\n",
       "      <td>1.000000</td>\n",
       "      <td>-0.025208</td>\n",
       "      <td>-0.027348</td>\n",
       "    </tr>\n",
       "    <tr>\n",
       "      <th>Tdewpoint</th>\n",
       "      <td>0.005195</td>\n",
       "      <td>0.022020</td>\n",
       "      <td>0.283746</td>\n",
       "      <td>0.334176</td>\n",
       "      <td>0.300484</td>\n",
       "      <td>0.273924</td>\n",
       "      <td>0.322693</td>\n",
       "      <td>0.222559</td>\n",
       "      <td>0.227097</td>\n",
       "      <td>0.396843</td>\n",
       "      <td>...</td>\n",
       "      <td>0.282787</td>\n",
       "      <td>0.259641</td>\n",
       "      <td>0.311624</td>\n",
       "      <td>0.456679</td>\n",
       "      <td>-0.123498</td>\n",
       "      <td>0.031399</td>\n",
       "      <td>0.222743</td>\n",
       "      <td>-0.025208</td>\n",
       "      <td>1.000000</td>\n",
       "      <td>0.055925</td>\n",
       "    </tr>\n",
       "    <tr>\n",
       "      <th>nsm</th>\n",
       "      <td>0.216167</td>\n",
       "      <td>0.250096</td>\n",
       "      <td>0.179685</td>\n",
       "      <td>0.021377</td>\n",
       "      <td>0.254604</td>\n",
       "      <td>-0.179071</td>\n",
       "      <td>0.039770</td>\n",
       "      <td>-0.051239</td>\n",
       "      <td>0.090273</td>\n",
       "      <td>-0.017396</td>\n",
       "      <td>...</td>\n",
       "      <td>-0.291619</td>\n",
       "      <td>0.001382</td>\n",
       "      <td>-0.266094</td>\n",
       "      <td>0.051968</td>\n",
       "      <td>-0.004368</td>\n",
       "      <td>-0.344305</td>\n",
       "      <td>0.099591</td>\n",
       "      <td>-0.027348</td>\n",
       "      <td>0.055925</td>\n",
       "      <td>1.000000</td>\n",
       "    </tr>\n",
       "  </tbody>\n",
       "</table>\n",
       "<p>27 rows × 27 columns</p>\n",
       "</div>"
      ],
      "text/plain": [
       "             Appliances    lights        T1      RH_1        T2      RH_2  \\\n",
       "Appliances     1.000000  0.194689  0.060137  0.087276  0.124719 -0.061108   \n",
       "lights         0.194689  1.000000 -0.028300  0.112602 -0.011521  0.059335   \n",
       "T1             0.060137 -0.028300  1.000000  0.166716  0.837948  0.000574   \n",
       "RH_1           0.087276  0.112602  0.166716  1.000000  0.273212  0.798149   \n",
       "T2             0.124719 -0.011521  0.837948  0.273212  1.000000 -0.160643   \n",
       "RH_2          -0.061108  0.059335  0.000574  0.798149 -0.160643  1.000000   \n",
       "T3             0.093336 -0.099009  0.892645  0.257264  0.736325  0.141735   \n",
       "RH_3           0.036765  0.135162 -0.026293  0.845261  0.123498  0.680792   \n",
       "T4             0.046992 -0.009676  0.876253  0.110630  0.763696 -0.043806   \n",
       "RH_4           0.016296  0.116257  0.098859  0.881178  0.233459  0.722716   \n",
       "T5             0.022792 -0.084587  0.884008  0.208542  0.720593  0.113349   \n",
       "RH_5           0.005831  0.136440 -0.014673  0.303724  0.028537  0.251104   \n",
       "T6             0.122450 -0.077445  0.656102  0.318306  0.802254 -0.006778   \n",
       "RH_6          -0.086951  0.157163 -0.613927  0.242961 -0.580160  0.388400   \n",
       "T7             0.032366 -0.139436  0.838553  0.022543  0.664015 -0.050246   \n",
       "RH_7          -0.056337  0.035930  0.136053  0.801207  0.232094  0.690390   \n",
       "T8             0.045568 -0.074299  0.824111 -0.027482  0.578064 -0.037528   \n",
       "RH_8          -0.093609  0.016095 -0.006862  0.736268  0.070649  0.679092   \n",
       "T9             0.016484 -0.159602  0.845272  0.117897  0.677350  0.056586   \n",
       "RH_9          -0.050214 -0.006144  0.072651  0.765023  0.160341  0.677231   \n",
       "To             0.013234  0.079815 -0.065579  0.173191 -0.069001  0.209957   \n",
       "Press_mm_hg   -0.032222 -0.006817 -0.150184 -0.294802 -0.132267 -0.258329   \n",
       "RH_out        -0.154931  0.070385 -0.345950  0.274696 -0.503849  0.583899   \n",
       "Wind speed     0.085245  0.063341 -0.089516  0.203709  0.050900  0.070289   \n",
       "Visibility    -0.004788  0.015786 -0.076881 -0.014101 -0.070102  0.001993   \n",
       "Tdewpoint      0.005195  0.022020  0.283746  0.334176  0.300484  0.273924   \n",
       "nsm            0.216167  0.250096  0.179685  0.021377  0.254604 -0.179071   \n",
       "\n",
       "                   T3      RH_3        T4      RH_4    ...         RH_8  \\\n",
       "Appliances   0.093336  0.036765  0.046992  0.016296    ...    -0.093609   \n",
       "lights      -0.099009  0.135162 -0.009676  0.116257    ...     0.016095   \n",
       "T1           0.892645 -0.026293  0.876253  0.098859    ...    -0.006862   \n",
       "RH_1         0.257264  0.845261  0.110630  0.881178    ...     0.736268   \n",
       "T2           0.736325  0.123498  0.763696  0.233459    ...     0.070649   \n",
       "RH_2         0.141735  0.680792 -0.043806  0.722716    ...     0.679092   \n",
       "T3           1.000000 -0.007733  0.851302  0.125974    ...     0.044758   \n",
       "RH_3        -0.007733  1.000000 -0.135896  0.899931    ...     0.829718   \n",
       "T4           0.851302 -0.135896  1.000000 -0.045076    ...    -0.092909   \n",
       "RH_4         0.125974  0.899931 -0.045076  1.000000    ...     0.848164   \n",
       "T5           0.887746 -0.047829  0.871373  0.092602    ...     0.015939   \n",
       "RH_5        -0.066896  0.375680 -0.076922  0.352833    ...     0.361126   \n",
       "T6           0.688854  0.079380  0.655526  0.260395    ...     0.074162   \n",
       "RH_6        -0.645769  0.512644 -0.701521  0.391246    ...     0.489564   \n",
       "T7           0.847192 -0.247610  0.874822 -0.130788    ...    -0.211023   \n",
       "RH_7         0.175419  0.833837  0.047420  0.894700    ...     0.885082   \n",
       "T8           0.793792 -0.278931  0.793081 -0.164411    ...    -0.208796   \n",
       "RH_8         0.044758  0.829718 -0.092909  0.848164    ...     1.000000   \n",
       "T9           0.901283 -0.191788  0.888183 -0.042908    ...    -0.114088   \n",
       "RH_9         0.138325  0.835120 -0.022374  0.857180    ...     0.856012   \n",
       "To          -0.051594  0.180875 -0.118740  0.248425    ...     0.149724   \n",
       "Press_mm_hg -0.189075 -0.236754 -0.072807 -0.252045    ...    -0.226692   \n",
       "RH_out      -0.282137  0.357210 -0.390391  0.338655    ...     0.487452   \n",
       "Wind speed  -0.101649  0.263485 -0.183969  0.298016    ...     0.200410   \n",
       "Visibility  -0.100374  0.021949 -0.103900  0.009358    ...     0.052989   \n",
       "Tdewpoint    0.322693  0.222559  0.227097  0.396843    ...     0.282787   \n",
       "nsm          0.039770 -0.051239  0.090273 -0.017396    ...    -0.291619   \n",
       "\n",
       "                   T9      RH_9        To  Press_mm_hg    RH_out  Wind speed  \\\n",
       "Appliances   0.016484 -0.050214  0.013234    -0.032222 -0.154931    0.085245   \n",
       "lights      -0.159602 -0.006144  0.079815    -0.006817  0.070385    0.063341   \n",
       "T1           0.845272  0.072651 -0.065579    -0.150184 -0.345950   -0.089516   \n",
       "RH_1         0.117897  0.765023  0.173191    -0.294802  0.274696    0.203709   \n",
       "T2           0.677350  0.160341 -0.069001    -0.132267 -0.503849    0.050900   \n",
       "RH_2         0.056586  0.677231  0.209957    -0.258329  0.583899    0.070289   \n",
       "T3           0.901283  0.138325 -0.051594    -0.189075 -0.282137   -0.101649   \n",
       "RH_3        -0.191788  0.835120  0.180875    -0.236754  0.357210    0.263485   \n",
       "T4           0.888183 -0.022374 -0.118740    -0.072807 -0.390391   -0.183969   \n",
       "RH_4        -0.042908  0.857180  0.248425    -0.252045  0.338655    0.298016   \n",
       "T5           0.911860  0.073065 -0.114777    -0.171597 -0.274503   -0.147516   \n",
       "RH_5        -0.140426  0.270844  0.018853    -0.112311  0.192718    0.070805   \n",
       "T6           0.668668  0.187352  0.125803    -0.134897 -0.568294    0.168666   \n",
       "RH_6        -0.737782  0.389474  0.120567    -0.072150  0.721437    0.098336   \n",
       "T7           0.944363 -0.076143 -0.167142    -0.095589 -0.412820   -0.185099   \n",
       "RH_7         0.029148  0.858585  0.196355    -0.270046  0.378050    0.215082   \n",
       "T8           0.868642 -0.153882 -0.140282    -0.159694 -0.298878   -0.221063   \n",
       "RH_8        -0.114088  0.856012  0.149724    -0.226692  0.487452    0.200410   \n",
       "T9           1.000000 -0.007294 -0.115742    -0.154416 -0.320553   -0.178319   \n",
       "RH_9        -0.007294  1.000000  0.210662    -0.185666  0.357144    0.236619   \n",
       "To          -0.115742  0.210662  1.000000    -0.013842  0.042408    0.370247   \n",
       "Press_mm_hg -0.154416 -0.185666 -0.013842     1.000000 -0.099391   -0.230534   \n",
       "RH_out      -0.320553  0.357144  0.042408    -0.099391  1.000000   -0.174318   \n",
       "Wind speed  -0.178319  0.236619  0.370247    -0.230534 -0.174318    1.000000   \n",
       "Visibility  -0.100567  0.017626 -0.040842     0.041036  0.087339   -0.003981   \n",
       "Tdewpoint    0.259641  0.311624  0.456679    -0.123498  0.031399    0.222743   \n",
       "nsm          0.001382 -0.266094  0.051968    -0.004368 -0.344305    0.099591   \n",
       "\n",
       "             Visibility  Tdewpoint       nsm  \n",
       "Appliances    -0.004788   0.005195  0.216167  \n",
       "lights         0.015786   0.022020  0.250096  \n",
       "T1            -0.076881   0.283746  0.179685  \n",
       "RH_1          -0.014101   0.334176  0.021377  \n",
       "T2            -0.070102   0.300484  0.254604  \n",
       "RH_2           0.001993   0.273924 -0.179071  \n",
       "T3            -0.100374   0.322693  0.039770  \n",
       "RH_3           0.021949   0.222559 -0.051239  \n",
       "T4            -0.103900   0.227097  0.090273  \n",
       "RH_4           0.009358   0.396843 -0.017396  \n",
       "T5            -0.082205   0.270074  0.072767  \n",
       "RH_5          -0.011207   0.033274  0.098603  \n",
       "T6            -0.082367   0.506041  0.205039  \n",
       "RH_6           0.111345  -0.144542 -0.189751  \n",
       "T7            -0.107225   0.161217  0.059103  \n",
       "RH_7          -0.000908   0.397652 -0.159682  \n",
       "T8            -0.058636   0.149019  0.113599  \n",
       "RH_8           0.052989   0.282787 -0.291619  \n",
       "T9            -0.100567   0.259641  0.001382  \n",
       "RH_9           0.017626   0.311624 -0.266094  \n",
       "To            -0.040842   0.456679  0.051968  \n",
       "Press_mm_hg    0.041036  -0.123498 -0.004368  \n",
       "RH_out         0.087339   0.031399 -0.344305  \n",
       "Wind speed    -0.003981   0.222743  0.099591  \n",
       "Visibility     1.000000  -0.025208 -0.027348  \n",
       "Tdewpoint     -0.025208   1.000000  0.055925  \n",
       "nsm           -0.027348   0.055925  1.000000  \n",
       "\n",
       "[27 rows x 27 columns]"
      ]
     },
     "execution_count": 30,
     "metadata": {},
     "output_type": "execute_result"
    }
   ],
   "source": [
    "Num_Cols = [ 'Appliances', 'lights', 'T1', 'RH_1', 'T2', 'RH_2','T3', 'RH_3', 'T4', 'RH_4', 'T5',\n",
    "                    'RH_5', 'T6', 'RH_6',\"T7\",\"RH_7\",\"T8\",\"RH_8\",\"T9\",\"RH_9\",\"To\",\"Press_mm_hg\",\"RH_out\",\n",
    "                    \"Wind speed\",\"Visibility\",\"Tdewpoint\",\"nsm\"]\n",
    "correlations = pandasDF[Num_Cols].corr()\n",
    "correlations"
   ]
  },
  {
   "cell_type": "code",
   "execution_count": 31,
   "metadata": {},
   "outputs": [
    {
     "data": {
      "text/plain": [
       "<matplotlib.axes._subplots.AxesSubplot at 0x760a410>"
      ]
     },
     "execution_count": 31,
     "metadata": {},
     "output_type": "execute_result"
    },
    {
     "data": {
      "image/png": "[encoded data removed]",
      "text/plain": [
       "<matplotlib.figure.Figure at 0x760a950>"
      ]
     },
     "metadata": {},
     "output_type": "display_data"
    }
   ],
   "source": [
    "# Generate a mask for the upper triangle\n",
    "mask = np.zeros_like(correlations, dtype=np.bool)\n",
    "mask[np.triu_indices_from(mask)] = True\n",
    "\n",
    "# Set up the matplotlib figure\n",
    "f, ax = plt.subplots(figsize=(15,15))\n",
    "    \n",
    "# Generate a custom diverging colormap\n",
    "cmap = sns.diverging_palette(1000, 10, as_cmap=True)\n",
    "\n",
    "# Draw the heatmap with the mask and correct aspect ratio\n",
    "sns.heatmap(correlations, mask=mask, cmap=cmap, vmax=.5, center=0,\n",
    "            square=True, linewidths=.5, cbar_kws={\"shrink\": 1})"
   ]
  },
  {
   "cell_type": "markdown",
   "metadata": {},
   "source": [
    "### Model Building - Regression "
   ]
  },
  {
   "cell_type": "markdown",
   "metadata": {},
   "source": [
    " Using the processed dataframe from above steps (using vector assembler,String Indexer, Onehot encoder ) - Numeric variables & Categorical variable , build a spark ml regression model.You are free to build any model of your choice.Metric to evaluate model performance is <font color='green'>RMSE</font>. Build the model on training dataset. Predict the results on test data set . \n",
    "<font color='brown'>Note :</font> Training and testdataset have provided separately. Dont split the data into testing and training dataset. "
   ]
  },
  {
   "cell_type": "code",
   "execution_count": 32,
   "metadata": {},
   "outputs": [],
   "source": [
    "energyDF = energyDF.drop('date')\n",
    "testDF = testDF.drop('date')"
   ]
  },
  {
   "cell_type": "code",
   "execution_count": 33,
   "metadata": {},
   "outputs": [],
   "source": [
    "num_Var_Names = ['lights', 'T1', 'RH_1', 'T2', 'RH_2','T3', 'RH_3', 'T4', 'RH_4', 'T5',\n",
    "                    'RH_5', 'T6', 'RH_6',\"T7\",\"RH_7\",\"T8\",\"RH_8\",\"T9\",\"RH_9\",\"To\",\"Press_mm_hg\",\"RH_out\",\n",
    "                    \"Wind speed\",\"Visibility\",\"Tdewpoint\",\"nsm\"]\n",
    "\n",
    "cat_Var_Names = [\"weekstatus\",\"Day_of_week\"] "
   ]
  },
  {
   "cell_type": "code",
   "execution_count": 34,
   "metadata": {},
   "outputs": [],
   "source": [
    "from pyspark.ml.feature import VectorAssembler, MinMaxScaler\n",
    "\n",
    "vector_assembler_NumVars = VectorAssembler(inputCols=num_Var_Names, outputCol=\"num_features_all\")\n",
    "min_Max_Scalar_NumVars = MinMaxScaler(inputCol=\"num_features_all\", outputCol = \"scaled_num_features\")"
   ]
  },
  {
   "cell_type": "code",
   "execution_count": 35,
   "metadata": {},
   "outputs": [],
   "source": [
    "from pyspark.ml.feature import OneHotEncoder, StringIndexer\n",
    "\n",
    "indexers_Cat  = [StringIndexer(inputCol=cat_Var_Name, outputCol=\"{0}_index\".format(cat_Var_Name)) for cat_Var_Name in cat_Var_Names ]\n",
    "encoders_Cat  = [OneHotEncoder(inputCol=indexer.getOutputCol(), outputCol=\"{0}_vec\".format(indexer.getInputCol())) for indexer in indexers_Cat]\n",
    "assembler_Cat = VectorAssembler(inputCols=[encoder.getOutputCol() for encoder in encoders_Cat], outputCol=\"cat_features\")\n",
    "\n",
    "assembler     = VectorAssembler(inputCols=[\"scaled_num_features\",\"cat_features\"], outputCol=\"features\")"
   ]
  },
  {
   "cell_type": "code",
   "execution_count": 36,
   "metadata": {},
   "outputs": [],
   "source": [
    "preprocessiong_Stages = [vector_assembler_NumVars] +\\\n",
    "                        [min_Max_Scalar_NumVars] +\\\n",
    "                        indexers_Cat + encoders_Cat +\\\n",
    "                        [assembler_Cat] +\\\n",
    "                        [assembler]\n",
    "\n",
    "from pyspark.ml import Pipeline\n",
    "Pipe_line = Pipeline(stages=preprocessiong_Stages)"
   ]
  },
  {
   "cell_type": "code",
   "execution_count": 37,
   "metadata": {},
   "outputs": [],
   "source": [
    "splitDF = energyDF.randomSplit([0.7, 0.3], seed=1234) # Split in 70:30\n",
    "train = splitDF[0]\n",
    "val = splitDF[1]"
   ]
  },
  {
   "cell_type": "code",
   "execution_count": 38,
   "metadata": {},
   "outputs": [],
   "source": [
    "from pyspark.ml.regression import LinearRegression # For Regresssion\n",
    "lr = LinearRegression(maxIter=10, labelCol=\"Appliances\", featuresCol=\"features\")\n",
    "\n",
    "# Adding to Pipeline\n",
    "lr_Pipeline = Pipeline(stages=preprocessiong_Stages+[lr])\n",
    "lr_Pipeline_model = lr_Pipeline.fit(train)"
   ]
  },
  {
   "cell_type": "code",
   "execution_count": 39,
   "metadata": {},
   "outputs": [],
   "source": [
    "train_predictions_lr = lr_Pipeline_model.transform(train)"
   ]
  },
  {
   "cell_type": "code",
   "execution_count": 40,
   "metadata": {},
   "outputs": [],
   "source": [
    "test_predictions_lr = lr_Pipeline_model.transform(val)"
   ]
  },
  {
   "cell_type": "code",
   "execution_count": 41,
   "metadata": {},
   "outputs": [
    {
     "name": "stdout",
     "output_type": "stream",
     "text": [
      "93.0680561453\n",
      "94.2413757791\n"
     ]
    }
   ],
   "source": [
    "from pyspark.ml.evaluation import RegressionEvaluator\n",
    "evaluator = RegressionEvaluator(labelCol=\"Appliances\",\n",
    "                            predictionCol=\"prediction\",\n",
    "                            metricName=\"rmse\" )\n",
    "\n",
    "lmRegTrain_rmse = evaluator.evaluate(train_predictions_lr) ; print(lmRegTrain_rmse)\n",
    "lmRegTest_rmse = evaluator.evaluate(test_predictions_lr) ; print(lmRegTest_rmse)"
   ]
  },
  {
   "cell_type": "code",
   "execution_count": 42,
   "metadata": {},
   "outputs": [],
   "source": [
    "# Regression Tuning\n",
    "from pyspark.ml.tuning import ParamGridBuilder, CrossValidator\n",
    "paramGridLR = ParamGridBuilder()\\\n",
    "    .addGrid(lr.regParam, [0.1]) \\\n",
    "    .addGrid(lr.elasticNetParam, [0.5])\\\n",
    "    .addGrid(lr.maxIter, [100])\\\n",
    "    .build()\n",
    "    \n",
    "lr_crossval = CrossValidator(estimator=lr_Pipeline,\n",
    "                             estimatorParamMaps=paramGridLR,\n",
    "                             evaluator=RegressionEvaluator(labelCol=\"Appliances\"),\n",
    "                             numFolds=2)"
   ]
  },
  {
   "cell_type": "code",
   "execution_count": 43,
   "metadata": {},
   "outputs": [],
   "source": [
    "lr_crossval_Model = lr_crossval.fit(train)\n",
    "train_predictions_lrcv = lr_crossval_Model.transform(train)\n",
    "test_predictions_lrcv = lr_crossval_Model.transform(val)"
   ]
  },
  {
   "cell_type": "code",
   "execution_count": 44,
   "metadata": {},
   "outputs": [
    {
     "name": "stdout",
     "output_type": "stream",
     "text": [
      "93.0840155073\n",
      "94.2532775808\n"
     ]
    }
   ],
   "source": [
    "predictionAndLabels_train_lrcv = train_predictions_lrcv.select(\"prediction\", \"Appliances\")\n",
    "train_accuracycv = evaluator.evaluate(predictionAndLabels_train_lrcv) ; print(train_accuracycv)\n",
    "\n",
    "predictionAndLabels_test_lrcv = test_predictions_lrcv.select(\"prediction\", \"Appliances\")\n",
    "test_accuracycv = evaluator.evaluate(predictionAndLabels_test_lrcv) ; print(test_accuracycv)"
   ]
  },
  {
   "cell_type": "markdown",
   "metadata": {},
   "source": [
    "### Prediction >>> "
   ]
  },
  {
   "cell_type": "code",
   "execution_count": 47,
   "metadata": {},
   "outputs": [
    {
     "name": "stdout",
     "output_type": "stream",
     "text": [
      "+------+-----+-----------+----+-----+-----+----+-----+-----------+-----------+-----+-----------+-----------+-----------+-----+----+-----+----+----+----+-----------+------+----------+----------+---------+-----+----------+-----------+--------------------+--------------------+----------------+-----------------+--------------+---------------+-------------------+--------------------+-----------------+\n",
      "|lights|   T1|       RH_1|  T2| RH_2|   T3|RH_3|   T4|       RH_4|         T5| RH_5|         T6|       RH_6|         T7| RH_7|  T8| RH_8|  T9|RH_9|  To|Press_mm_hg|RH_out|Wind speed|Visibility|Tdewpoint|  nsm|weekstatus|Day_of_week|    num_features_all| scaled_num_features|weekstatus_index|Day_of_week_index|weekstatus_vec|Day_of_week_vec|       cat_features|            features|       prediction|\n",
      "+------+-----+-----------+----+-----+-----+----+-----+-----------+-----------+-----+-----------+-----------+-----------+-----+----+-----+----+----+----+-----------+------+----------+----------+---------+-----+----------+-----------+--------------------+--------------------+----------------+-----------------+--------------+---------------+-------------------+--------------------+-----------------+\n",
      "|    40|19.89|46.06666667|19.2|44.59|19.79|45.0|18.89|45.72333333|17.16666667|55.09|6.433333333|83.42333333|17.13333333|41.29|18.1|48.59|17.0|45.4|6.25|      733.8|  92.0|       6.0|      51.5|      5.0|63000|   Weekday|     Monday|[40.0,19.89,46.06...|[0.8,0.3273495248...|             0.0|              1.0| (1,[0],[1.0])|  (6,[1],[1.0])|(7,[0,2],[1.0,1.0])|[0.8,0.3273495248...|171.7907064951337|\n",
      "+------+-----+-----------+----+-----+-----+----+-----+-----------+-----------+-----+-----------+-----------+-----------+-----+----+-----+----+----+----+-----------+------+----------+----------+---------+-----+----------+-----------+--------------------+--------------------+----------------+-----------------+--------------+---------------+-------------------+--------------------+-----------------+\n",
      "\n"
     ]
    }
   ],
   "source": [
    "lr_crossval_Model.transform(testDF).show()"
   ]
  },
  {
   "cell_type": "markdown",
   "metadata": {},
   "source": [
    "### ========================================================================================<br/>"
   ]
  },
  {
   "cell_type": "markdown",
   "metadata": {},
   "source": [
    "#### Classification Model - Problem Statement"
   ]
  },
  {
   "cell_type": "markdown",
   "metadata": {},
   "source": [
    "**Problem Statement** - Process this data and create machine learning models to predict if a new person is going to experience a financial distress for the next 2 years or not."
   ]
  },
  {
   "cell_type": "markdown",
   "metadata": {},
   "source": [
    "**Dataset location** - /user/jayantm/Batch48/PHD "
   ]
  },
  {
   "cell_type": "markdown",
   "metadata": {},
   "source": [
    "#### Dataset variables information : \n",
    "\n",
    "**Target**,  Person experienced Financial Distress in the past 2 years <br/>\n",
    "       * 1 - Experienced Financial Distress  \n",
    "       * 0 - Not experienced any Financial Distress \n",
    "**Utilization**, Total balance on credit cards and personal lines of credit divided by the sum of credit limits <br/>\n",
    "**age**, Age <br/>\n",
    "**FD_ind1**, Number of times borrower has been in Finanacial distress for 30-59 days <br/>\n",
    "**Debt Ratio**, Monthly debt payments <br/> \n",
    "**Monthly Income**, Monthly income<br/>\n",
    "**FD_ind2**, Number of Open loans <br/>\n",
    "**FD_ind3**, Number of times borrower has been 90 days or more past due on repaying <br/>\n",
    "**FD_ind4**, Number of mortgage and real estate loans including home equity line of credit <br/>\n",
    "**FD_ind5**, Number of times borrower has been 60-89 days past due but no worse in the last 2 years. <br/>\n",
    "**NumberOfDependents**, Number of dependents in family excluding themselves <br/>"
   ]
  },
  {
   "cell_type": "markdown",
   "metadata": {},
   "source": [
    "#### Missing values can be identified with the value, ‘NA’ in the data. Here our target feature name is ‘Target’."
   ]
  },
  {
   "cell_type": "markdown",
   "metadata": {},
   "source": [
    "#### move the dataset to HDFS "
   ]
  },
  {
   "cell_type": "code",
   "execution_count": null,
   "metadata": {},
   "outputs": [],
   "source": [
    "!hdfs dfs -get /user/jayantm/Batch48/PHD/* /home/2306B48/phd/two"
   ]
  },
  {
   "cell_type": "code",
   "execution_count": null,
   "metadata": {},
   "outputs": [],
   "source": [
    "flume-ng agent --conf ./conf -f conf/flume.properties -n agent"
   ]
  },
  {
   "cell_type": "markdown",
   "metadata": {},
   "source": [
    "#### Construct the schema and Read the dataset from HDFS using Spark as dataframe. Do basic analysis of the data and find how many missing values are there in the dataset and for which features. <br/>\n",
    "Fill the missing values for features as given below (Do not delete the rows with Null/Missing values):\n",
    " Utilization – Fill the average value of this feature for the records having null values for this\n",
    "feature <br/>\n",
    " Age - Fill the average value. <br/>\n",
    " FD_ind1 – Take the mode value of this feature and use that to fill null values.<br/>\n",
    " DebtRatio – Fill the average value.<br/>\n",
    " MonthlyIncome – Fill the average value.<br/>\n",
    " NumberOfDependents – Fill with Zero.<br/>\n",
    " For rest of the columns consider the mode of the respective feature, while filling out missing\n",
    "values <br/>"
   ]
  },
  {
   "cell_type": "code",
   "execution_count": 48,
   "metadata": {},
   "outputs": [],
   "source": [
    "fin = sc.textFile(\"hdfs:///user/2306B48/phd/two/data/*\")"
   ]
  },
  {
   "cell_type": "code",
   "execution_count": 49,
   "metadata": {},
   "outputs": [
    {
     "data": {
      "text/plain": [
       "[u'1,0.766126609,45,2,0.802982129,9120,13,0,6,0,2',\n",
       " u'0,0.957151019,40,0,0.121876201,2600,4,0,0,0,1']"
      ]
     },
     "execution_count": 49,
     "metadata": {},
     "output_type": "execute_result"
    }
   ],
   "source": [
    "fin.take(2)"
   ]
  },
  {
   "cell_type": "code",
   "execution_count": 50,
   "metadata": {},
   "outputs": [
    {
     "data": {
      "text/plain": [
       "150000"
      ]
     },
     "execution_count": 50,
     "metadata": {},
     "output_type": "execute_result"
    }
   ],
   "source": [
    "fin.count()"
   ]
  },
  {
   "cell_type": "code",
   "execution_count": 51,
   "metadata": {},
   "outputs": [],
   "source": [
    "Schema = StructType([\n",
    "    StructField(\"Target\", IntegerType(), True),\n",
    "    StructField(\"Utilization\", DoubleType(), True),\n",
    "    StructField(\"Age\", IntegerType(), True),\n",
    "    StructField(\"FD_ind1\", IntegerType(), True),\n",
    "    StructField(\"DebtRatio\", DoubleType(), True),\n",
    "    StructField(\"MonthlyIncome\", IntegerType(), True),\n",
    "    StructField(\"FD_ind2\",IntegerType(), True),\n",
    "    StructField(\"FD_ind3\",IntegerType(), True),\n",
    "    StructField(\"FD_ind4\",IntegerType(), True),\n",
    "    StructField(\"FD_ind5\",IntegerType(), True),\n",
    "    StructField(\"NumberOfDependents\", IntegerType(), True),\n",
    "])"
   ]
  },
  {
   "cell_type": "code",
   "execution_count": 52,
   "metadata": {},
   "outputs": [],
   "source": [
    "finDF = spark.read.format(\"csv\")\\\n",
    "        .option(\"header\", \"false\")\\\n",
    "        .option(\"inferSchema\", \"true\")\\\n",
    "        .option(\"nullvalue\",\"NA\")\\\n",
    "        .load(\"hdfs:///user/2306B48/phd/two/data/*\",schema = Schema)"
   ]
  },
  {
   "cell_type": "code",
   "execution_count": 53,
   "metadata": {},
   "outputs": [
    {
     "name": "stdout",
     "output_type": "stream",
     "text": [
      "+------+-----------+---+-------+-----------+-------------+-------+-------+-------+-------+------------------+\n",
      "|Target|Utilization|Age|FD_ind1|  DebtRatio|MonthlyIncome|FD_ind2|FD_ind3|FD_ind4|FD_ind5|NumberOfDependents|\n",
      "+------+-----------+---+-------+-----------+-------------+-------+-------+-------+-------+------------------+\n",
      "|     1|0.766126609| 45|      2|0.802982129|         9120|     13|      0|      6|      0|                 2|\n",
      "|     0|0.957151019| 40|      0|0.121876201|         2600|      4|      0|      0|      0|                 1|\n",
      "|     0| 0.65818014| 38|      1|0.085113375|         3042|      2|      1|      0|      0|                 0|\n",
      "|     0|0.233809776| 30|      0|0.036049682|         3300|      5|      0|      0|      0|                 0|\n",
      "|     0|  0.9072394| 49|      1|0.024925695|        63588|      7|      0|      1|      0|                 0|\n",
      "+------+-----------+---+-------+-----------+-------------+-------+-------+-------+-------+------------------+\n",
      "only showing top 5 rows\n",
      "\n"
     ]
    }
   ],
   "source": [
    "finDF.show(5)"
   ]
  },
  {
   "cell_type": "code",
   "execution_count": 54,
   "metadata": {},
   "outputs": [
    {
     "name": "stdout",
     "output_type": "stream",
     "text": [
      "+------+-----------+---+-------+---------+-------------+-------+-------+-------+-------+------------------+\n",
      "|Target|Utilization|Age|FD_ind1|DebtRatio|MonthlyIncome|FD_ind2|FD_ind3|FD_ind4|FD_ind5|NumberOfDependents|\n",
      "+------+-----------+---+-------+---------+-------------+-------+-------+-------+-------+------------------+\n",
      "|     0|          0|  0|      0|        0|        29731|      0|      0|      0|      0|              3924|\n",
      "+------+-----------+---+-------+---------+-------------+-------+-------+-------+-------+------------------+\n",
      "\n"
     ]
    }
   ],
   "source": [
    "finDF.select([count(when(isnan(c) | col(c).isNull(), c)).alias(c) for c in finDF.columns]).show()"
   ]
  },
  {
   "cell_type": "code",
   "execution_count": 55,
   "metadata": {},
   "outputs": [
    {
     "name": "stdout",
     "output_type": "stream",
     "text": [
      "+-------+------------------+\n",
      "|summary|     MonthlyIncome|\n",
      "+-------+------------------+\n",
      "|  count|            120269|\n",
      "|   mean| 6670.221237392844|\n",
      "| stddev|14384.674215282112|\n",
      "|    min|                 0|\n",
      "|    max|           3008750|\n",
      "+-------+------------------+\n",
      "\n"
     ]
    }
   ],
   "source": [
    "finDF.describe(\"MonthlyIncome\").show()  # Mean of monthly Income"
   ]
  },
  {
   "cell_type": "code",
   "execution_count": 56,
   "metadata": {},
   "outputs": [],
   "source": [
    "fill_cols_vals = {\n",
    "\"NumberOfDependents\" : 0 ,\n",
    "\"MonthlyIncome\" : 6670 ,   # avg monthly income\n",
    "}\n",
    "finDF = finDF.na.fill(fill_cols_vals)"
   ]
  },
  {
   "cell_type": "code",
   "execution_count": 57,
   "metadata": {},
   "outputs": [
    {
     "name": "stdout",
     "output_type": "stream",
     "text": [
      "+------+-----------+---+-------+---------+-------------+-------+-------+-------+-------+------------------+\n",
      "|Target|Utilization|Age|FD_ind1|DebtRatio|MonthlyIncome|FD_ind2|FD_ind3|FD_ind4|FD_ind5|NumberOfDependents|\n",
      "+------+-----------+---+-------+---------+-------------+-------+-------+-------+-------+------------------+\n",
      "|     0|          0|  0|      0|        0|            0|      0|      0|      0|      0|                 0|\n",
      "+------+-----------+---+-------+---------+-------------+-------+-------+-------+-------+------------------+\n",
      "\n"
     ]
    }
   ],
   "source": [
    "finDF.select([count(when(isnan(c) | col(c).isNull(), c)).alias(c) for c in finDF.columns]).show()"
   ]
  },
  {
   "cell_type": "markdown",
   "metadata": {},
   "source": [
    "### Model Building  - Classification"
   ]
  },
  {
   "cell_type": "markdown",
   "metadata": {},
   "source": [
    "Apply any Spark machie learning technique of your choice and try to see the accuracy of your models. In this case we are trying to find out the person who will experience a financial distress so consider Target atrribute 1 as your positive case and 0 as negative. Experiment with different machine learning models to maximize your recall, Try atleast two different techniques and give the comparison of recall between them."
   ]
  },
  {
   "cell_type": "markdown",
   "metadata": {},
   "source": [
    "### Logistic Regression >>>"
   ]
  },
  {
   "cell_type": "code",
   "execution_count": 58,
   "metadata": {},
   "outputs": [],
   "source": [
    "colnames =[\"Utilization\",\"Age\",\"FD_ind1\",\"DebtRatio\",\"MonthlyIncome\",\"FD_ind2\",\"FD_ind3\",\n",
    "           \"FD_ind4\",\"FD_ind5\",\"NumberOfDependents\"]\n",
    "\n",
    "\n",
    "vector_assembler_NumVars = VectorAssembler(inputCols= colnames, outputCol=\"num_features_all\")\n",
    "min_Max_Scalar_NumVars = MinMaxScaler(inputCol=\"num_features_all\", outputCol = \"scaled_num_features\")"
   ]
  },
  {
   "cell_type": "code",
   "execution_count": 59,
   "metadata": {},
   "outputs": [],
   "source": [
    "indexer_Label = StringIndexer(inputCol=\"Target\", outputCol=\"label\")"
   ]
  },
  {
   "cell_type": "code",
   "execution_count": 60,
   "metadata": {},
   "outputs": [],
   "source": [
    "preprocessiong_Stages = [vector_assembler_NumVars] +\\\n",
    "                        [min_Max_Scalar_NumVars] +\\\n",
    "                        [indexer_Label]\n",
    "\n",
    "Pipe_line = Pipeline(stages=preprocessiong_Stages)"
   ]
  },
  {
   "cell_type": "code",
   "execution_count": 67,
   "metadata": {},
   "outputs": [],
   "source": [
    "splitDF = finDF.randomSplit([0.8, 0.2], seed=100) # Split in 70:30\n",
    "fin_train = splitDF[0]\n",
    "fin_test = splitDF[1]"
   ]
  },
  {
   "cell_type": "code",
   "execution_count": 68,
   "metadata": {},
   "outputs": [
    {
     "data": {
      "text/plain": [
       "0.9325942979163538"
      ]
     },
     "execution_count": 68,
     "metadata": {},
     "output_type": "execute_result"
    }
   ],
   "source": [
    "from pyspark.ml.classification import LogisticRegression\n",
    "lr = LogisticRegression(maxIter=10, labelCol=\"label\", featuresCol=\"scaled_num_features\")\n",
    "\n",
    "# Adding to Pipeline\n",
    "lr_Pipeline = Pipeline(stages=preprocessiong_Stages+[lr])\n",
    "lr_Pipeline_model = lr_Pipeline.fit(fin_train)\n",
    "\n",
    "\n",
    "# Predicting the output\n",
    "train_predictions_lr = lr_Pipeline_model.transform(fin_train)\n",
    "test_predictions_lr = lr_Pipeline_model.transform(fin_test)\n",
    "\n",
    "#Evaluating the model\n",
    "from pyspark.ml.evaluation import MulticlassClassificationEvaluator\n",
    "evaluator = MulticlassClassificationEvaluator(metricName=\"accuracy\") # Object Call\n",
    "\n",
    "predictionAndLabels_train_lr = train_predictions_lr.select(\"prediction\", \"label\")\n",
    "train_accuracy_lr = evaluator.evaluate(predictionAndLabels_train_lr) ; train_accuracy_lr # Checking accuracy"
   ]
  },
  {
   "cell_type": "code",
   "execution_count": 69,
   "metadata": {},
   "outputs": [
    {
     "data": {
      "text/plain": [
       "0.9362090721923358"
      ]
     },
     "execution_count": 69,
     "metadata": {},
     "output_type": "execute_result"
    }
   ],
   "source": [
    "predictionAndLabels_test_lr = test_predictions_lr.select(\"prediction\", \"label\")\n",
    "test_accuracy_lr = evaluator.evaluate(predictionAndLabels_test_lr) ; test_accuracy_lr # Checking acccuracy"
   ]
  },
  {
   "cell_type": "code",
   "execution_count": 70,
   "metadata": {},
   "outputs": [
    {
     "name": "stdout",
     "output_type": "stream",
     "text": [
      "0.932569274144\n",
      "0.935511722123\n"
     ]
    }
   ],
   "source": [
    "# Tuning the model\n",
    "from pyspark.ml.tuning import ParamGridBuilder, CrossValidator\n",
    "\n",
    "paramGrid = ParamGridBuilder()\\\n",
    "    .addGrid(lr.regParam, [0.1]) \\\n",
    "    .addGrid(lr.elasticNetParam, [0.5])\\\n",
    "    .build()\n",
    "    \n",
    "lr_crossval = CrossValidator(estimator=lr_Pipeline,\n",
    "                             estimatorParamMaps=paramGrid,\n",
    "                             evaluator=evaluator,\n",
    "                             numFolds=2)\n",
    "\n",
    "\n",
    "# Cross Validation\n",
    "lr_crossval_Model = lr_crossval.fit(fin_train)\n",
    "\n",
    "# Predictions\n",
    "train_predictions_lrcv = lr_crossval_Model.transform(fin_train)\n",
    "test_predictions_lrcv = lr_crossval_Model.transform(fin_test)\n",
    "\n",
    "# Accuracy Check\n",
    "predictionAndLabels_train_lrcv = train_predictions_lrcv.select(\"prediction\", \"label\")\n",
    "train_accuracycv = evaluator.evaluate(predictionAndLabels_train_lrcv) ; print(train_accuracycv)\n",
    "\n",
    "predictionAndLabels_test_lrcv = test_predictions_lrcv.select(\"prediction\", \"label\")\n",
    "test_accuracycv = evaluator.evaluate(predictionAndLabels_test_lrcv) ; print(test_accuracycv)"
   ]
  },
  {
   "cell_type": "code",
   "execution_count": 66,
   "metadata": {},
   "outputs": [
    {
     "data": {
      "text/plain": [
       "array([[125810,    115],\n",
       "       [  8910,    134]])"
      ]
     },
     "execution_count": 66,
     "metadata": {},
     "output_type": "execute_result"
    }
   ],
   "source": [
    "# Confusion Matrix\n",
    "train_pred_pandas = predictionAndLabels_train_lr.toPandas()\n",
    "train_actuals = train_pred_pandas.label.tolist()\n",
    "train_predictions = train_pred_pandas.prediction.tolist()\n",
    "\n",
    "test_pred_pandas = predictionAndLabels_test_lr.toPandas()\n",
    "test_actuals = test_pred_pandas.label.tolist()\n",
    "test_predictions = test_pred_pandas.prediction.tolist()\n",
    "from sklearn import metrics as smetrics\n",
    "cm = smetrics.confusion_matrix(train_actuals, train_predictions) ; cm"
   ]
  },
  {
   "cell_type": "code",
   "execution_count": 76,
   "metadata": {},
   "outputs": [],
   "source": [
    "TP = cm[0,0]\n",
    "TN = cm[0,1]\n",
    "FP = cm[1,0]\n",
    "FN = cm[1,1]"
   ]
  },
  {
   "cell_type": "code",
   "execution_count": 81,
   "metadata": {},
   "outputs": [
    {
     "name": "stdout",
     "output_type": "stream",
     "text": [
      "TRAIN METRICS - LINEAR MODEL - BINOMIAL FAMILY\n",
      "True Positives: 112\n",
      "True Negatives: 111693\n",
      "False Positives: 109\n",
      "False Negatives: 7972\n",
      "Total 119886\n",
      "Precission:  0.506787330317\n",
      "Recall:  0.0138545274617\n",
      "F1 Score:  0.0269717037929\n"
     ]
    }
   ],
   "source": [
    "true_positive = predictionAndLabels_train_lr[(predictionAndLabels_train_lr.label == 1) & (predictionAndLabels_train_lr.prediction == 1.0)].count()\n",
    "true_negative = predictionAndLabels_train_lr[(predictionAndLabels_train_lr.label == 0) & (predictionAndLabels_train_lr.prediction == 0.0)].count()\n",
    "false_positive = predictionAndLabels_train_lr[(predictionAndLabels_train_lr.label == 0) & (predictionAndLabels_train_lr.prediction == 1.0)].count()\n",
    "false_negative = predictionAndLabels_train_lr[(predictionAndLabels_train_lr.label == 1) & (predictionAndLabels_train_lr.prediction == 0.0)].count()\n",
    "print \"TRAIN METRICS - LINEAR MODEL - BINOMIAL FAMILY\"\n",
    "print \"True Positives:\", true_positive\n",
    "print \"True Negatives:\", true_negative\n",
    "print \"False Positives:\", false_positive\n",
    "print \"False Negatives:\", false_negative\n",
    "print \"Total\", predictionAndLabels_train_lr.count()\n",
    "precission = true_positive / float(true_positive + false_positive)\n",
    "print \"Precission: \", precission\n",
    "recall = true_positive / float(true_positive + false_negative)\n",
    "print \"Recall: \", recall\n",
    "print \"F1 Score: \", (2*((precission * recall)/float(precission + recall)))"
   ]
  },
  {
   "cell_type": "markdown",
   "metadata": {},
   "source": [
    "### Decision Tree >>>"
   ]
  },
  {
   "cell_type": "code",
   "execution_count": 82,
   "metadata": {},
   "outputs": [],
   "source": [
    "from pyspark.ml.classification import DecisionTreeClassifier\n",
    "dt = DecisionTreeClassifier(labelCol=\"label\", featuresCol=\"scaled_num_features\")\n",
    "\n",
    "# Creating a Pipeline\n",
    "dt_Pipeline = Pipeline(stages=preprocessiong_Stages+[dt]) \n",
    "dt_Pipeline_model = dt_Pipeline.fit(fin_train)\n",
    "\n",
    "# Predictions\n",
    "train_predictions_dt = dt_Pipeline_model.transform(fin_train)\n",
    "test_predictions_dt = dt_Pipeline_model.transform(fin_test)\n",
    "\n",
    "# Evaluation\n",
    "from pyspark.ml.evaluation import MulticlassClassificationEvaluator\n",
    "predictionAndLabels_train_dt = train_predictions_dt.select(\"prediction\", \"label\")\n",
    "\n",
    "evaluator = MulticlassClassificationEvaluator(metricName=\"accuracy\")\n",
    "train_accuracy = evaluator.evaluate(predictionAndLabels_train_dt)\n",
    "\n",
    "predictionAndLabels_test_dt = test_predictions_dt.select(\"prediction\", \"label\")\n",
    "test_accuracy = evaluator.evaluate(predictionAndLabels_test_dt)"
   ]
  },
  {
   "cell_type": "code",
   "execution_count": 83,
   "metadata": {},
   "outputs": [
    {
     "name": "stdout",
     "output_type": "stream",
     "text": [
      "0.936489665182\n",
      "0.938699608156\n"
     ]
    }
   ],
   "source": [
    "print(train_accuracy)\n",
    "print(test_accuracy)"
   ]
  },
  {
   "cell_type": "code",
   "execution_count": 85,
   "metadata": {},
   "outputs": [
    {
     "name": "stdout",
     "output_type": "stream",
     "text": [
      "TRAIN METRICS - LINEAR MODEL - BINOMIAL FAMILY\n",
      "True Positives: 1478\n",
      "True Negatives: 110794\n",
      "False Positives: 1008\n",
      "False Negatives: 6606\n",
      "Total 119886\n",
      "Precission:  0.594529364441\n",
      "Recall:  0.182830282039\n",
      "F1 Score:  0.279659413434\n"
     ]
    }
   ],
   "source": [
    "true_positive = predictionAndLabels_train_dt[(predictionAndLabels_train_dt.label == 1) & (predictionAndLabels_train_dt.prediction == 1.0)].count()\n",
    "true_negative = predictionAndLabels_train_dt[(predictionAndLabels_train_dt.label == 0) & (predictionAndLabels_train_dt.prediction == 0.0)].count()\n",
    "false_positive = predictionAndLabels_train_dt[(predictionAndLabels_train_dt.label == 0) & (predictionAndLabels_train_dt.prediction == 1.0)].count()\n",
    "false_negative = predictionAndLabels_train_dt[(predictionAndLabels_train_dt.label == 1) & (predictionAndLabels_train_dt.prediction == 0.0)].count()\n",
    "print \"TRAIN METRICS - LINEAR MODEL - BINOMIAL FAMILY\"\n",
    "print \"True Positives:\", true_positive\n",
    "print \"True Negatives:\", true_negative\n",
    "print \"False Positives:\", false_positive\n",
    "print \"False Negatives:\", false_negative\n",
    "print \"Total\", predictionAndLabels_train_dt.count()\n",
    "precission = true_positive / float(true_positive + false_positive)\n",
    "print \"Precission: \", precission\n",
    "recall = true_positive / float(true_positive + false_negative)\n",
    "print \"Recall: \", recall\n",
    "print \"F1 Score: \", (2*((precission * recall)/float(precission + recall)))"
   ]
  }
 ],
 "metadata": {
  "kernelspec": {
   "display_name": "Python 3",
   "language": "python",
   "name": "python3"
  },
  "language_info": {
   "codemirror_mode": {
    "name": "ipython",
    "version": 3
   },
   "file_extension": ".py",
   "mimetype": "text/x-python",
   "name": "python",
   "nbconvert_exporter": "python",
   "pygments_lexer": "ipython3",
   "version": "3.6.5"
  }
 },
 "nbformat": 4,
 "nbformat_minor": 2
}
