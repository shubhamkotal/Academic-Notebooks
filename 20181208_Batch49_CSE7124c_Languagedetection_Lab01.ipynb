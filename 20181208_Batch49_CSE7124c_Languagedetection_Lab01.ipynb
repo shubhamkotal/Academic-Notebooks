{
 "cells": [
  {
   "cell_type": "markdown",
   "metadata": {},
   "source": [
    "### ACTIVITY SHEET (Language Detection)\n",
    "The file 'english_german_articles.txt' is a collection of english and german wikipedia articles. \n",
    "Each line is a different article. \n",
    "For simplicity, the first 90 articles are sorted out as german and the last 90 as english articles.\n",
    "\n",
    "##### The ground truth is going to be ['ge', 'ge', 'ge', 'ge', .... 90 times, 'en', 'en', 'en', ... 90 times]\n",
    "* Use f.readlines() to load the corpus\n",
    "* Build a tfidf on the corpus. What is the size of the tfidf matrix?\n",
    "* Build a KMeans classifier on the matrix with 2 clusters and get the prediciton lables. \n",
    "\n",
    "##sample code for kmeans\n",
    "```from sklearn.cluster import KMeans  \n",
    "model = KMeans(n_clusters=2, init = 'k-means++')  \n",
    "model.fit(tfidf_dense_matrix)\n",
    "```\n",
    "\n",
    "\n",
    "\n",
    "* Get the confusion matrix\n",
    "\n",
    "* Try out a different classifier and see how the results are(svm,naivebayse,knn)\n",
    "* Split the matrix into test and train and redo the problem (Obviously, this method of identifying the language is more complete than the activity given above)"
   ]
  },
  {
   "cell_type": "code",
   "execution_count": 19,
   "metadata": {
    "collapsed": true
   },
   "outputs": [],
   "source": [
    "from sklearn.feature_extraction.text import TfidfVectorizer\n",
    "from time import time"
   ]
  },
  {
   "cell_type": "code",
   "execution_count": 22,
   "metadata": {},
   "outputs": [
    {
     "name": "stdout",
     "output_type": "stream",
     "text": [
      "D:\\SHIVA-INSOFE\\INSOFE\\Batch49\\CSE7124c\\CSE7124c_TextPreprocessing_Lab01\n"
     ]
    }
   ],
   "source": [
    "\n",
    "import os\n",
    "print(os.getcwd())"
   ]
  },
  {
   "cell_type": "code",
   "execution_count": 23,
   "metadata": {},
   "outputs": [
    {
     "name": "stdout",
     "output_type": "stream",
     "text": [
      "180\n"
     ]
    }
   ],
   "source": [
    "2"
   ]
  },
  {
   "cell_type": "markdown",
   "metadata": {},
   "source": [
    "# Sample regular expessions-preprocessing"
   ]
  },
  {
   "cell_type": "code",
   "execution_count": 24,
   "metadata": {},
   "outputs": [
    {
     "name": "stdout",
     "output_type": "stream",
     "text": [
      "Wikipedia ist ein Projekt zum Aufbau einer Enzyklop\\u00e4die aus freien Inhalten, zu dem du mit deinem Wissen beitragen kannst. Seit Mai 2001 sind 1.982.465\\u00a0Artikel in deutscher Sprache entstanden.\\u00a0Geographie \\u00a0\\u00a0 \\u00a0Geschichte \\u00a0\\u00a0 \\u00a0Gesellschaft \\u00a0\\u00a0 \\u00a0Kunst und Kultur \\u00a0\\u00a0 \\u00a0Religion \\u00a0\\u00a0 \\u00a0Sport \\u00a0\\u00a0 \\u00a0Technik \\u00a0\\u00a0  WissenschaftArtikel nach Themen\\u00a0\\u00b7 Alphabetischer Index\\u00a0\\u00b7 Artikel nach Kategorien\\u00a0\\u00b7 Gesprochene WikipediaKontakt\\u00a0\\u00b7 Presse\\u00a0\\u00b7 Statistik\\u00a0\\u00b7 Sprachversionen\\u00a0\\u00b7 Mitmachen\\u00a0\\u00b7 MentorenprogrammDer Lendkanal ist eine vier Kilometer lange k\\u00fcnstliche Wasserstra\\u00dfe, die vom W\\u00f6rthersee bis ins Zentrum von Klagenfurt f\\u00fchrt. Auf dem gr\\u00f6\\u00dften Teil seiner L\\u00e4nge wird er im Norden von der Tarviser Stra\\u00dfe (fr\\u00fcher \\u201eLendweg\\u201c und \\u201eSchiffgasse\\u201c) und im S\\u00fcden von der Villacher Stra\\u00dfe begleitet. Im Westen zieht sich der Lendkanal entlang vom Europapark Klagenfurt und von Minimundus durch den sogenannten \\u201eLendspitz\\u201c und verbindet sich bei Schloss Maria-Loretto mit dem W\\u00f6rthersee. \\u00dcber den Kanal f\\u00fchren mehrere Br\\u00fccken, einige davon sind architektonisch und historisch bedeutsam. Die Stra\\u00dfen am n\\u00f6rdlichen Ufer des Lendkanals sind heute eine bei Radfahrern und Inline-Skatern sehr beliebte Strecke. Weil sie durch den Aushubwall ges\\u00e4umt ist und deswegen im Sonnenschatten liegt, friert die innere Lend im Winter zuverl\\u00e4ssig zu und bietet meist ab Dezember eine stadtnahe und lange Eislaufbahn. Der Name \\u201eLend\\u201c stammt vom mittelhochdeutschen \\u201eLente\\u201c (= Hafen, Verladeplatz am Wasser). Urspr\\u00fcnglich im 16. Jahrhundert als Wasserzufuhr f\\u00fcr den Stadtgraben und als Transportweg f\\u00fcr Bau- und Heizmaterial errichtet, dient der Lendkanal heute als Naherholungsgebiet. \\u00a0\\u2013 Zum Artikel \\u2026Rosetta-Raumsonde\\u00a0\\u2022 Klinikbrand in Bochum\\u00a0\\u2022 Beate Zsch\\u00e4pe\\u00a0Meta-Wiki\\u00a0\\u2013\\u00a0Koordination \\u00a0\\u00a0 \\u00a0Commons\\u00a0\\u2013\\u00a0Medien \\u00a0\\u00a0 \\u00a0Wiktionary\\u00a0\\u2013\\u00a0W\\u00f6rterbuch \\u00a0\\u00a0 \\u00a0Wikibooks\\u00a0\\u2013\\u00a0Lehrb\\u00fccher \\u00a0\\u00a0 \\u00a0Wikiquote\\u00a0\\u2013\\u00a0Zitate \\u00a0\\u00a0 \\u00a0Wikiversity\\u00a0\\u2013\\u00a0Lernplattform \\u00a0\\u00a0 \\u00a0Wikisource\\u00a0\\u2013\\u00a0Quellen \\u00a0\\u00a0 \\u00a0Wikinews\\u00a0\\u2013\\u00a0Nachrichten\\u00a0\\u00a0 \\u00a0Wikidata\\u00a0\\u2013\\u00a0Wissensdatenbank \\u00a0\\u00a0 \\u00a0Wikivoyage\\u00a0\\u2013\\u00a0Reisef\\u00fchrer\", \"name\": \"Wikipedia:Hauptseite\n",
      "\n",
      "Wikipedia ist ein Projekt zum Aufbau einer Enzyklop aus freien Inhalten, zu dem du mit deinem Wissen beitragen kannst. Seit Mai 2001 sind 1.982.465 in deutscher Sprache entstanden.       und Kultur         WissenschaftArtikel nach Themen Alphabetischer Index Artikel nach Kategorien Gesprochene WikipediaKontakt Presse Statistik Sprachversionen Mitmachen MentorenprogrammDer Lendkanal ist eine vier Kilometer lange k Wasserstra, die vom W bis ins Zentrum von Klagenfurt f. Auf dem gr Teil seiner L wird er im Norden von der Tarviser Stra (fr  und ) und im S von der Villacher Stra begleitet. Im Westen zieht sich der Lendkanal entlang vom Europapark Klagenfurt und von Minimundus durch den sogenannten  und verbindet sich bei Schloss Maria-Loretto mit dem W.  den Kanal f mehrere Br, einige davon sind architektonisch und historisch bedeutsam. Die Stra am n Ufer des Lendkanals sind heute eine bei Radfahrern und Inline-Skatern sehr beliebte Strecke. Weil sie durch den Aushubwall ges ist und deswegen im Sonnenschatten liegt, friert die innere Lend im Winter zuverl zu und bietet meist ab Dezember eine stadtnahe und lange Eislaufbahn. Der Name  stammt vom mittelhochdeutschen  (= Hafen, Verladeplatz am Wasser). Urspr im 16. Jahrhundert als Wasserzufuhr f den Stadtgraben und als Transportweg f Bau- und Heizmaterial errichtet, dient der Lendkanal heute als Naherholungsgebiet.  Zum Artikel -Raumsonde Klinikbrand in Bochum Beate Zsch-Wiki                 \", \"name\": \"Wikipedia:Hauptseite\n",
      "\n"
     ]
    }
   ],
   "source": [
    "import re\n",
    "s=corpus[3]\n",
    "print(s)\n",
    "# replace codes star with \\\\u00---observe the following outputs\n",
    "replace=re.sub('\\\\\\\\u[a-zA-Z0-9]{1,}\\w{1,2}', '', s)\n",
    "print(replace)\n"
   ]
  },
  {
   "cell_type": "code",
   "execution_count": 13,
   "metadata": {},
   "outputs": [
    {
     "name": "stdout",
     "output_type": "stream",
     "text": [
      "IMPORTANT NOTE: Most educators and professionals do not consider it appropriate to use tertiary sources such as encyclopedias as a sole source for any information\\u2014citing an encyclopedia as an important reference in footnotes or bibliographies may result in censure or a failing grade.   Wikipedia articles should be used for background information, as a reference for correct terminology and search terms, and as a starting point for further research.\\nAs with any community-built reference, there is a possibility for error in Wikipedia's content\\u2014please check your facts against multiple sources and read our disclaimers for more information.\\nPlease remember to check your manual of style, standards guide or instructor's guidelines for the exact syntax to suit your needs.  For more detailed advice, see Citing Wikipedia.\\nMain Page. (2016, August 23).  In Wikipedia, The Free Encyclopedia. Retrieved 13:52, September 30, 2016, from https://en.wikipedia.org/w/index.php?title=Main_Page&oldid=735912075\\nWikipedia contributors. \\\"Main Page.\\\" Wikipedia, The Free Encyclopedia. Wikipedia, The Free Encyclopedia, 23 Aug. 2016. Web. 30 Sep. 2016.\\nWikipedia contributors, 'Main Page',  Wikipedia, The Free Encyclopedia, 23 August 2016, 22:45 UTC, <https://en.wikipedia.org/w/index.php?title=Main_Page&oldid=735912075> [accessed 30 September 2016]\\nWikipedia contributors, \\\"Main Page,\\\"  Wikipedia, The Free Encyclopedia, https://en.wikipedia.org/w/index.php?title=Main_Page&oldid=735912075 (accessed September 30, 2016).\\nWikipedia contributors. Main Page [Internet].  Wikipedia, The Free Encyclopedia;  2016 Aug 23, 22:45 UTC [cited 2016 Sep 30].  Available from: \\nhttps://en.wikipedia.org/w/index.php?title=Main_Page&oldid=735912075.\\nMain Page, https://en.wikipedia.org/w/index.php?title=Main_Page&oldid=735912075 (last visited Sept. 30, 2016).\\nWikipedia contributors. Main Page. Wikipedia, The Free Encyclopedia. August 23, 2016, 22:45 UTC. Available at: https://en.wikipedia.org/w/index.php?title=Main_Page&oldid=735912075. Accessed September 30, 2016.\\nWhen using the LaTeX package url (\\\\usepackage{url} somewhere in the preamble), which tends to give much more nicely formatted web addresses, the following may be preferred:\\n\", \"name\": \"Cite This Page\n",
      "\n",
      "IMPORTANT NOTE: Most educators and professionals do not consider it appropriate to use tertiary sources such as encyclopedias as a sole source for any information\\u2014citing an encyclopedia as an important reference in footnotes or bibliographies may result in censure or a failing grade.   Wikipedia articles should be used for background information, as a reference for correct terminology and search terms, and as a starting point for further research.\\nAs with any community-built reference, there is a possibility for error in Wikipedia's content\\u2014please check your facts against multiple sources and read our disclaimers for more information.\\nPlease remember to check your manual of style, standards guide or instructor's guidelines for the exact syntax to suit your needs.  For more detailed advice, see Citing Wikipedia.\\nMain Page. (2016, August 23).  In Wikipedia, The Free Encyclopedia. Retrieved 13:52, September 30, 2016, from en.wikipedia.org/w/index.php?title=Main_Page&oldid=735912075\\nWikipedia contributors. \\\"Main Page.\\\" Wikipedia, The Free Encyclopedia. Wikipedia, The Free Encyclopedia, 23 Aug. 2016. Web. 30 Sep. 2016.\\nWikipedia contributors, 'Main Page',  Wikipedia, The Free Encyclopedia, 23 August 2016, 22:45 UTC, <en.wikipedia.org/w/index.php?title=Main_Page&oldid=735912075> [accessed 30 September 2016]\\nWikipedia contributors, \\\"Main Page,\\\"  Wikipedia, The Free Encyclopedia, en.wikipedia.org/w/index.php?title=Main_Page&oldid=735912075 (accessed September 30, 2016).\\nWikipedia contributors. Main Page [Internet].  Wikipedia, The Free Encyclopedia;  2016 Aug 23, 22:45 UTC [cited 2016 Sep 30].  Available from: \\nen.wikipedia.org/w/index.php?title=Main_Page&oldid=735912075.\\nMain Page, en.wikipedia.org/w/index.php?title=Main_Page&oldid=735912075 (last visited Sept. 30, 2016).\\nWikipedia contributors. Main Page. Wikipedia, The Free Encyclopedia. August 23, 2016, 22:45 UTC. Available at: en.wikipedia.org/w/index.php?title=Main_Page&oldid=735912075. Accessed September 30, 2016.\\nWhen using the LaTeX package url (\\\\usepackage{url} somewhere in the preamble), which tends to give much more nicely formatted web addresses, the following may be preferred:\\n\", \"name\": \"Cite This Page\n",
      "\n"
     ]
    }
   ],
   "source": [
    "# sample regex to replace url-onserve the following outputs\n",
    "s=corpus[110]\n",
    "print(s)\n",
    "replaced=re.sub(r'(?:(http://)|(www\\.)|(https://))','',s)\n",
    "print(replaced)"
   ]
  },
  {
   "cell_type": "code",
   "execution_count": 25,
   "metadata": {
    "scrolled": true
   },
   "outputs": [
    {
     "name": "stdout",
     "output_type": "stream",
     "text": [
      "IMPORTANT NOTE: Most educators and professionals do not consider it appropriate to use tertiary sources such as encyclopedias as a sole source for any information\\u2014citing an encyclopedia as an important reference in footnotes or bibliographies may result in censure or a failing grade.   Wikipedia articles should be used for background information, as a reference for correct terminology and search terms, and as a starting point for further research.\\nAs with any community-built reference, there is a possibility for error in Wikipedia's content\\u2014please check your facts against multiple sources and read our disclaimers for more information.\\nPlease remember to check your manual of style, standards guide or instructor's guidelines for the exact syntax to suit your needs.  For more detailed advice, see Citing Wikipedia.\\nMain Page. (2016, August 23).  In Wikipedia, The Free Encyclopedia. Retrieved 13:52, September 30, 2016, from https://en.wikipedia.org/w/index.php?title=Main_Page&oldid=735912075\\nWikipedia contributors. \\\"Main Page.\\\" Wikipedia, The Free Encyclopedia. Wikipedia, The Free Encyclopedia, 23 Aug. 2016. Web. 30 Sep. 2016.\\nWikipedia contributors, 'Main Page',  Wikipedia, The Free Encyclopedia, 23 August 2016, 22:45 UTC, <https://en.wikipedia.org/w/index.php?title=Main_Page&oldid=735912075> [accessed 30 September 2016]\\nWikipedia contributors, \\\"Main Page,\\\"  Wikipedia, The Free Encyclopedia, https://en.wikipedia.org/w/index.php?title=Main_Page&oldid=735912075 (accessed September 30, 2016).\\nWikipedia contributors. Main Page [Internet].  Wikipedia, The Free Encyclopedia;  2016 Aug 23, 22:45 UTC [cited 2016 Sep 30].  Available from: \\nhttps://en.wikipedia.org/w/index.php?title=Main_Page&oldid=735912075.\\nMain Page, https://en.wikipedia.org/w/index.php?title=Main_Page&oldid=735912075 (last visited Sept. 30, 2016).\\nWikipedia contributors. Main Page. Wikipedia, The Free Encyclopedia. August 23, 2016, 22:45 UTC. Available at: https://en.wikipedia.org/w/index.php?title=Main_Page&oldid=735912075. Accessed September 30, 2016.\\nWhen using the LaTeX package url (\\\\usepackage{url} somewhere in the preamble), which tends to give much more nicely formatted web addresses, the following may be preferred:\\n\", \"name\": \"Cite This Page\n",
      "\n",
      "IMPORTANT NOTE Most educators and professionals do not consider it appropriate to use tertiary sources such as encyclopedias as a sole source for any informationu2014citing an encyclopedia as an important reference in footnotes or bibliographies may result in censure or a failing grade   Wikipedia articles should be used for background information as a reference for correct terminology and search terms and as a starting point for further researchnAs with any community-built reference there is a possibility for error in Wikipedia's contentu2014please check your facts against multiple sources and read our disclaimers for more informationnPlease remember to check your manual of style standards guide or instructor's guidelines for the exact syntax to suit your needs  For more detailed advice see Citing WikipedianMain Page 2016 August 23  In Wikipedia The Free Encyclopedia Retrieved 1352 September 30 2016 from https//enwikipediaorg/w/indexphptitle=Main_Page&oldid=735912075nWikipedia contributors Main Page Wikipedia The Free Encyclopedia Wikipedia The Free Encyclopedia 23 Aug 2016 Web 30 Sep 2016nWikipedia contributors 'Main Page'  Wikipedia The Free Encyclopedia 23 August 2016 2245 UTC <https//enwikipediaorg/w/indexphptitle=Main_Page&oldid=735912075> [accessed 30 September 2016]nWikipedia contributors Main Page  Wikipedia The Free Encyclopedia https//enwikipediaorg/w/indexphptitle=Main_Page&oldid=735912075 accessed September 30 2016nWikipedia contributors Main Page [Internet]  Wikipedia The Free Encyclopedia  2016 Aug 23 2245 UTC [cited 2016 Sep 30]  Available from nhttps//enwikipediaorg/w/indexphptitle=Main_Page&oldid=735912075nMain Page https//enwikipediaorg/w/indexphptitle=Main_Page&oldid=735912075 last visited Sept 30 2016nWikipedia contributors Main Page Wikipedia The Free Encyclopedia August 23 2016 2245 UTC Available at https//enwikipediaorg/w/indexphptitle=Main_Page&oldid=735912075 Accessed September 30 2016nWhen using the LaTeX package url usepackageurl somewhere in the preamble which tends to give much more nicely formatted web addresses the following may be preferredn name Cite This Page\n"
     ]
    }
   ],
   "source": [
    "# removing special or unwanted characters(it is better if you give it as final step i.e after deliting unwanted patterns)\n",
    "s=corpus[110]\n",
    "print(s)\n",
    "replaced=re.sub(r'[@|}{!.:-;,~`\\\\\"\\\\?)(#\\n]','',s)\n",
    "print(replaced)"
   ]
  },
  {
   "cell_type": "markdown",
   "metadata": {},
   "source": [
    "# Applying identified regular expressions on entire data set"
   ]
  },
  {
   "cell_type": "code",
   "execution_count": 26,
   "metadata": {},
   "outputs": [],
   "source": [
    "import re\n",
    "cleaned_corpus=[]\n",
    "for s in corpus:\n",
    "    s=re.sub('\\\\\\\\u[a-zA-Z0-9]{1,}\\w{1,2}', '', s)\n",
    "    s=re.sub(r'(?:(http://)|(www\\.)|(https://))','',s)\n",
    "    s=re.sub(r'[@|}{!.:-;,~`\\\\\"\\\\?)(#\\n]','',s)\n",
    "    cleaned_corpus.append(s)\n",
    "    \n",
    "# you can also include some more regex whenever you find a pattern-make sure we are applying in sequence    "
   ]
  },
  {
   "cell_type": "code",
   "execution_count": 27,
   "metadata": {
    "scrolled": true
   },
   "outputs": [
    {
     "name": "stdout",
     "output_type": "stream",
     "text": [
      "Nachfolgend befindet sich der f\\u00fcr Wikipedia verbindliche englischsprachige Originaltext der Creative-Commons-Lizenz Attribution-ShareAlike 3.0 Unported (abgek\\u00fcrzt CC-by-sa-3.0), der ebenfalls unter http://creativecommons.org/licenses/by-sa/3.0/legalcode eingesehen werden kann.Ein Referenztext, der den zugrundeliegenden Lizenzvertrag \\u00fcbersichtlich und in allgemeinverst\\u00e4ndlicher Sprache, aber auch stark vereinfacht wiedergibt, ist auf der Seite Wikipedia:Lizenzbestimmungen Creative Commons Attribution-ShareAlike 3.0 Unported/DEED nachzulesen.CREATIVE COMMONS CORPORATION IS NOT A LAW FIRM AND DOES NOT PROVIDE LEGAL SERVICES. DISTRIBUTION OF THIS LICENSE DOES NOT CREATE AN ATTORNEY-CLIENT RELATIONSHIP. CREATIVE COMMONS PROVIDES THIS INFORMATION ON AN \\\"AS-IS\\\" BASIS. CREATIVE COMMONS MAKES NO WARRANTIES REGARDING THE INFORMATION PROVIDED, AND DISCLAIMS LIABILITY FOR DAMAGES RESULTING FROM ITS USE.THE WORK (AS DEFINED BELOW) IS PROVIDED UNDER THE TERMS OF THIS CREATIVE COMMONS PUBLIC LICENSE (\\\"CCPL\\\" OR \\\"LICENSE\\\"). THE WORK IS PROTECTED BY COPYRIGHT AND/OR OTHER APPLICABLE LAW. ANY USE OF THE WORK OTHER THAN AS AUTHORIZED UNDER THIS LICENSE OR COPYRIGHT LAW IS PROHIBITED.BY EXERCISING ANY RIGHTS TO THE WORK PROVIDED HERE, YOU ACCEPT AND AGREE TO BE BOUND BY THE TERMS OF THIS LICENSE. TO THE EXTENT THIS LICENSE MAY BE CONSIDERED TO BE A CONTRACT, THE LICENSOR GRANTS YOU THE RIGHTS CONTAINED HERE IN CONSIDERATION OF YOUR ACCEPTANCE OF SUCH TERMS AND CONDITIONS.Nothing in this License is intended to reduce, limit, or restrict any uses free from copyright or rights arising from limitations or exceptions that are provided for in connection with the copyright protection under copyright law or other applicable laws.Subject to the terms and conditions of this License, Licensor hereby grants You a worldwide, royalty-free, non-exclusive, perpetual (for the duration of the applicable copyright) license to exercise the rights in the Work as stated below:The above rights may be exercised in all media and formats whether now known or hereafter devised. The above rights include the right to make such modifications as are technically necessary to exercise the rights in other media and formats. Subject to Section 8(f), all rights not expressly granted by Licensor are hereby reserved.The license granted in Section 3 above is expressly made subject to and limited by the following restrictions:UNLESS OTHERWISE MUTUALLY AGREED TO BY THE PARTIES IN WRITING, LICENSOR OFFERS THE WORK AS-IS AND MAKES NO REPRESENTATIONS OR WARRANTIES OF ANY KIND CONCERNING THE WORK, EXPRESS, IMPLIED, STATUTORY OR OTHERWISE, INCLUDING, WITHOUT LIMITATION, WARRANTIES OF TITLE, MERCHANTIBILITY, FITNESS FOR A PARTICULAR PURPOSE, NONINFRINGEMENT, OR THE ABSENCE OF LATENT OR OTHER DEFECTS, ACCURACY, OR THE PRESENCE OF ABSENCE OF ERRORS, WHETHER OR NOT DISCOVERABLE. SOME JURISDICTIONS DO NOT ALLOW THE EXCLUSION OF IMPLIED WARRANTIES, SO SUCH EXCLUSION MAY NOT APPLY TO YOU.EXCEPT TO THE EXTENT REQUIRED BY APPLICABLE LAW, IN NO EVENT WILL LICENSOR BE LIABLE TO YOU ON ANY LEGAL THEORY FOR ANY SPECIAL, INCIDENTAL, CONSEQUENTIAL, PUNITIVE OR EXEMPLARY DAMAGES ARISING OUT OF THIS LICENSE OR THE USE OF THE WORK, EVEN IF LICENSOR HAS BEEN ADVISED OF THE POSSIBILITY OF SUCH DAMAGES.Creative Commons is not a party to this License, and makes no warranty whatsoever in connection with the Work. Creative Commons will not be liable to You or any party on any legal theory for any damages whatsoever, including without limitation any general, special, incidental or consequential damages arising in connection to this license. Notwithstanding the foregoing two (2) sentences, if Creative Commons has expressly identified itself as the Licensor hereunder, it shall have all rights and obligations of Licensor.Except for the limited purpose of indicating to the public that the Work is licensed under the CCPL, Creative Commons does not authorize the use by either party of the trademark \\\"Creative Commons\\\" or any related trademark or logo of Creative Commons without the prior written consent of Creative Commons. Any permitted use will be in compliance with Creative Commons' then-current trademark usage guidelines, as may be published on its website or otherwise made available upon request from time to time. For the avoidance of doubt, this trademark restriction does not form part of the License.Creative Commons may be contacted at http://creativecommons.org/.\", \"name\": \"Wikipedia:Lizenzbestimmungen Creative Commons Attribution-ShareAlike 3.0 Unported\n",
      "\n",
      "Nachfolgend befindet sich der f Wikipedia verbindliche englischsprachige Originaltext der Creative-Commons-Lizenz Attribution-ShareAlike 30 Unported abgek CC-by-sa-30 der ebenfalls unter creativecommonsorg/licenses/by-sa/30/legalcode eingesehen werden kannEin Referenztext der den zugrundeliegenden Lizenzvertrag  und in allgemeinverst Sprache aber auch stark vereinfacht wiedergibt ist auf der Seite WikipediaLizenzbestimmungen Creative Commons Attribution-ShareAlike 30 Unported/DEED nachzulesenCREATIVE COMMONS CORPORATION IS NOT A LAW FIRM AND DOES NOT PROVIDE LEGAL SERVICES DISTRIBUTION OF THIS LICENSE DOES NOT CREATE AN ATTORNEY-CLIENT RELATIONSHIP CREATIVE COMMONS PROVIDES THIS INFORMATION ON AN AS-IS BASIS CREATIVE COMMONS MAKES NO WARRANTIES REGARDING THE INFORMATION PROVIDED AND DISCLAIMS LIABILITY FOR DAMAGES RESULTING FROM ITS USETHE WORK AS DEFINED BELOW IS PROVIDED UNDER THE TERMS OF THIS CREATIVE COMMONS PUBLIC LICENSE CCPL OR LICENSE THE WORK IS PROTECTED BY COPYRIGHT AND/OR OTHER APPLICABLE LAW ANY USE OF THE WORK OTHER THAN AS AUTHORIZED UNDER THIS LICENSE OR COPYRIGHT LAW IS PROHIBITEDBY EXERCISING ANY RIGHTS TO THE WORK PROVIDED HERE YOU ACCEPT AND AGREE TO BE BOUND BY THE TERMS OF THIS LICENSE TO THE EXTENT THIS LICENSE MAY BE CONSIDERED TO BE A CONTRACT THE LICENSOR GRANTS YOU THE RIGHTS CONTAINED HERE IN CONSIDERATION OF YOUR ACCEPTANCE OF SUCH TERMS AND CONDITIONSNothing in this License is intended to reduce limit or restrict any uses free from copyright or rights arising from limitations or exceptions that are provided for in connection with the copyright protection under copyright law or other applicable lawsSubject to the terms and conditions of this License Licensor hereby grants You a worldwide royalty-free non-exclusive perpetual for the duration of the applicable copyright license to exercise the rights in the Work as stated belowThe above rights may be exercised in all media and formats whether now known or hereafter devised The above rights include the right to make such modifications as are technically necessary to exercise the rights in other media and formats Subject to Section 8f all rights not expressly granted by Licensor are hereby reservedThe license granted in Section 3 above is expressly made subject to and limited by the following restrictionsUNLESS OTHERWISE MUTUALLY AGREED TO BY THE PARTIES IN WRITING LICENSOR OFFERS THE WORK AS-IS AND MAKES NO REPRESENTATIONS OR WARRANTIES OF ANY KIND CONCERNING THE WORK EXPRESS IMPLIED STATUTORY OR OTHERWISE INCLUDING WITHOUT LIMITATION WARRANTIES OF TITLE MERCHANTIBILITY FITNESS FOR A PARTICULAR PURPOSE NONINFRINGEMENT OR THE ABSENCE OF LATENT OR OTHER DEFECTS ACCURACY OR THE PRESENCE OF ABSENCE OF ERRORS WHETHER OR NOT DISCOVERABLE SOME JURISDICTIONS DO NOT ALLOW THE EXCLUSION OF IMPLIED WARRANTIES SO SUCH EXCLUSION MAY NOT APPLY TO YOUEXCEPT TO THE EXTENT REQUIRED BY APPLICABLE LAW IN NO EVENT WILL LICENSOR BE LIABLE TO YOU ON ANY LEGAL THEORY FOR ANY SPECIAL INCIDENTAL CONSEQUENTIAL PUNITIVE OR EXEMPLARY DAMAGES ARISING OUT OF THIS LICENSE OR THE USE OF THE WORK EVEN IF LICENSOR HAS BEEN ADVISED OF THE POSSIBILITY OF SUCH DAMAGESCreative Commons is not a party to this License and makes no warranty whatsoever in connection with the Work Creative Commons will not be liable to You or any party on any legal theory for any damages whatsoever including without limitation any general special incidental or consequential damages arising in connection to this license Notwithstanding the foregoing two 2 sentences if Creative Commons has expressly identified itself as the Licensor hereunder it shall have all rights and obligations of LicensorExcept for the limited purpose of indicating to the public that the Work is licensed under the CCPL Creative Commons does not authorize the use by either party of the trademark Creative Commons or any related trademark or logo of Creative Commons without the prior written consent of Creative Commons Any permitted use will be in compliance with Creative Commons' then-current trademark usage guidelines as may be published on its website or otherwise made available upon request from time to time For the avoidance of doubt this trademark restriction does not form part of the LicenseCreative Commons may be contacted at creativecommonsorg/ name WikipediaLizenzbestimmungen Creative Commons Attribution-ShareAlike 30 Unported\n"
     ]
    }
   ],
   "source": [
    "# compare sample doc given text vs cleaned text--convince yourself that you have done some usefull cleaning\n",
    "print(corpus[1])\n",
    "print(cleaned_corpus[1])"
   ]
  },
  {
   "cell_type": "code",
   "execution_count": 28,
   "metadata": {
    "collapsed": true
   },
   "outputs": [],
   "source": [
    "from stop_words import get_stop_words\n",
    "#stop_words contains the stopwords of different languages-explore\n",
    "def review_to_words( raw_review ):\n",
    "      \n",
    "    # 1. Remove non-letters        \n",
    "    letters_only = re.sub(\"[^a-zA-Z]\", \" \", raw_review) \n",
    "    #\n",
    "    # 2. Convert to lower case, split into individual words\n",
    "    words = letters_only.lower().split()                             \n",
    "    #\n",
    "    # 3. In Python, searching a set is much faster than searching\n",
    "    #   a list, so convert the stop words to a set\n",
    "    stops=get_stop_words('english')+(get_stop_words('german'))                  \n",
    "    # \n",
    "    # 4. Remove stop words\n",
    "    meaningful_words = [w for w in words if not w in stops]   \n",
    "    #\n",
    "    # 5. Join the words back into one string separated by space, \n",
    "    # and return the result.\n",
    "    return( \" \".join( meaningful_words ))  "
   ]
  },
  {
   "cell_type": "code",
   "execution_count": 29,
   "metadata": {},
   "outputs": [],
   "source": [
    "num_reviews=len(cleaned_corpus)\n",
    "clean_reviews = []\n",
    "for i in range( 0, num_reviews ):\n",
    "    # Call our function for each one, and add the result to the list of\n",
    "    # clean reviews\n",
    "    clean_reviews.append( review_to_words( cleaned_corpus[i] ) )"
   ]
  },
  {
   "cell_type": "markdown",
   "metadata": {},
   "source": [
    "# Apply Tfidf vectorizer-extracting only features of minimum length 3"
   ]
  },
  {
   "cell_type": "code",
   "execution_count": 30,
   "metadata": {},
   "outputs": [
    {
     "name": "stdout",
     "output_type": "stream",
     "text": [
      "Extracting tf-idf features...\n",
      "done in 2.820s.\n"
     ]
    }
   ],
   "source": [
    "from sklearn.feature_extraction.text import TfidfVectorizer\n",
    "from time import time\n",
    "print(\"Extracting tf-idf features...\")\n",
    "# Creating the ti-idf matrix with min 3 characters in a word (excluding numbers)\n",
    "tfidf_vectorizer = TfidfVectorizer(ngram_range=(1,3),token_pattern= r'[a-zA-Z]{3,}', max_features=10000)#max_df=0.95, min_df=2, stop_words='english' #USE HELP TO SEE WHAT EACH DOES)\n",
    "t0 = time()\n",
    "tfidf = tfidf_vectorizer.fit_transform(cleaned_corpus)\n",
    "print(\"done in %0.3fs.\" % (time() - t0))"
   ]
  },
  {
   "cell_type": "code",
   "execution_count": 31,
   "metadata": {},
   "outputs": [
    {
     "data": {
      "text/plain": [
       "numpy.matrixlib.defmatrix.matrix"
      ]
     },
     "execution_count": 31,
     "metadata": {},
     "output_type": "execute_result"
    }
   ],
   "source": [
    "dense = tfidf.todense()\n",
    "dense.shape\n",
    "type(dense)"
   ]
  },
  {
   "cell_type": "code",
   "execution_count": 32,
   "metadata": {},
   "outputs": [
    {
     "data": {
      "text/plain": [
       "['abgeschossen worden', 'ability', 'abkommen', 'abl', 'able']"
      ]
     },
     "execution_count": 32,
     "metadata": {},
     "output_type": "execute_result"
    }
   ],
   "source": [
    "# randomly check what features you extracted\n",
    "l=tfidf_vectorizer.get_feature_names()\n",
    "l[10:15]\n"
   ]
  },
  {
   "cell_type": "code",
   "execution_count": 33,
   "metadata": {},
   "outputs": [
    {
     "name": "stdout",
     "output_type": "stream",
     "text": [
      "[0 1 0 0 0 0 0 0 0 0 0 0 0 0 0 0 0 0 0 0 0 0 0 0 0 0 0 0 0 0 0 0 0 1 0 0 0\n",
      " 0 0 0 0 0 0 0 0 0 0 0 0 0 0 0 0 0 0 0 0 0 0 0 0 0 0 0 0 0 0 0 0 0 0 0 0 0\n",
      " 0 0 0 0 0 0 0 0 0 0 0 0 0 0 0 0 1 1 1 1 1 1 1 1 1 1 1 1 1 1 1 1 1 1 1 0 1\n",
      " 1 1 1 1 1 1 1 1 0 1 1 1 0 1 0 0 1 0 1 1 1 1 1 1 1 1 1 1 1 1 1 1 1 1 1 1 1\n",
      " 1 1 1 1 1 1 1 1 1 1 1 1 1 1 0 1 1 0 1 1 1 1 1 1 0 1 1 1 1 1 1 1]\n"
     ]
    }
   ],
   "source": [
    "# Creating cluster using the kmeans\n",
    "from sklearn.cluster import KMeans\n",
    "model=KMeans(n_clusters=2,init='k-means++')\n",
    "model_=model.fit(dense)\n",
    "labels=model_.labels_\n",
    "len(labels)\n",
    "print(labels) "
   ]
  },
  {
   "cell_type": "code",
   "execution_count": 34,
   "metadata": {},
   "outputs": [],
   "source": [
    "import numpy as np\n",
    "x = np.array([0, 1])\n",
    "label1=np.repeat(x, [90, 90], axis=0)"
   ]
  },
  {
   "cell_type": "code",
   "execution_count": 35,
   "metadata": {},
   "outputs": [
    {
     "data": {
      "text/plain": [
       "0.9388888888888889"
      ]
     },
     "execution_count": 35,
     "metadata": {},
     "output_type": "execute_result"
    }
   ],
   "source": [
    "import sklearn\n",
    "sklearn.metrics.accuracy_score(labels,label1)"
   ]
  },
  {
   "cell_type": "code",
   "execution_count": 42,
   "metadata": {},
   "outputs": [
    {
     "data": {
      "text/plain": [
       "\"Nachfolgend befindet sich der f Wikipedia verbindliche englischsprachige Originaltext der Creative-Commons-Lizenz Attribution-ShareAlike 30 Unported abgek CC-by-sa-30 der ebenfalls unter creativecommonsorg/licenses/by-sa/30/legalcode eingesehen werden kannEin Referenztext der den zugrundeliegenden Lizenzvertrag  und in allgemeinverst Sprache aber auch stark vereinfacht wiedergibt ist auf der Seite WikipediaLizenzbestimmungen Creative Commons Attribution-ShareAlike 30 Unported/DEED nachzulesenCREATIVE COMMONS CORPORATION IS NOT A LAW FIRM AND DOES NOT PROVIDE LEGAL SERVICES DISTRIBUTION OF THIS LICENSE DOES NOT CREATE AN ATTORNEY-CLIENT RELATIONSHIP CREATIVE COMMONS PROVIDES THIS INFORMATION ON AN AS-IS BASIS CREATIVE COMMONS MAKES NO WARRANTIES REGARDING THE INFORMATION PROVIDED AND DISCLAIMS LIABILITY FOR DAMAGES RESULTING FROM ITS USETHE WORK AS DEFINED BELOW IS PROVIDED UNDER THE TERMS OF THIS CREATIVE COMMONS PUBLIC LICENSE CCPL OR LICENSE THE WORK IS PROTECTED BY COPYRIGHT AND/OR OTHER APPLICABLE LAW ANY USE OF THE WORK OTHER THAN AS AUTHORIZED UNDER THIS LICENSE OR COPYRIGHT LAW IS PROHIBITEDBY EXERCISING ANY RIGHTS TO THE WORK PROVIDED HERE YOU ACCEPT AND AGREE TO BE BOUND BY THE TERMS OF THIS LICENSE TO THE EXTENT THIS LICENSE MAY BE CONSIDERED TO BE A CONTRACT THE LICENSOR GRANTS YOU THE RIGHTS CONTAINED HERE IN CONSIDERATION OF YOUR ACCEPTANCE OF SUCH TERMS AND CONDITIONSNothing in this License is intended to reduce limit or restrict any uses free from copyright or rights arising from limitations or exceptions that are provided for in connection with the copyright protection under copyright law or other applicable lawsSubject to the terms and conditions of this License Licensor hereby grants You a worldwide royalty-free non-exclusive perpetual for the duration of the applicable copyright license to exercise the rights in the Work as stated belowThe above rights may be exercised in all media and formats whether now known or hereafter devised The above rights include the right to make such modifications as are technically necessary to exercise the rights in other media and formats Subject to Section 8f all rights not expressly granted by Licensor are hereby reservedThe license granted in Section 3 above is expressly made subject to and limited by the following restrictionsUNLESS OTHERWISE MUTUALLY AGREED TO BY THE PARTIES IN WRITING LICENSOR OFFERS THE WORK AS-IS AND MAKES NO REPRESENTATIONS OR WARRANTIES OF ANY KIND CONCERNING THE WORK EXPRESS IMPLIED STATUTORY OR OTHERWISE INCLUDING WITHOUT LIMITATION WARRANTIES OF TITLE MERCHANTIBILITY FITNESS FOR A PARTICULAR PURPOSE NONINFRINGEMENT OR THE ABSENCE OF LATENT OR OTHER DEFECTS ACCURACY OR THE PRESENCE OF ABSENCE OF ERRORS WHETHER OR NOT DISCOVERABLE SOME JURISDICTIONS DO NOT ALLOW THE EXCLUSION OF IMPLIED WARRANTIES SO SUCH EXCLUSION MAY NOT APPLY TO YOUEXCEPT TO THE EXTENT REQUIRED BY APPLICABLE LAW IN NO EVENT WILL LICENSOR BE LIABLE TO YOU ON ANY LEGAL THEORY FOR ANY SPECIAL INCIDENTAL CONSEQUENTIAL PUNITIVE OR EXEMPLARY DAMAGES ARISING OUT OF THIS LICENSE OR THE USE OF THE WORK EVEN IF LICENSOR HAS BEEN ADVISED OF THE POSSIBILITY OF SUCH DAMAGESCreative Commons is not a party to this License and makes no warranty whatsoever in connection with the Work Creative Commons will not be liable to You or any party on any legal theory for any damages whatsoever including without limitation any general special incidental or consequential damages arising in connection to this license Notwithstanding the foregoing two 2 sentences if Creative Commons has expressly identified itself as the Licensor hereunder it shall have all rights and obligations of LicensorExcept for the limited purpose of indicating to the public that the Work is licensed under the CCPL Creative Commons does not authorize the use by either party of the trademark Creative Commons or any related trademark or logo of Creative Commons without the prior written consent of Creative Commons Any permitted use will be in compliance with Creative Commons' then-current trademark usage guidelines as may be published on its website or otherwise made available upon request from time to time For the avoidance of doubt this trademark restriction does not form part of the LicenseCreative Commons may be contacted at creativecommonsorg/ name WikipediaLizenzbestimmungen Creative Commons Attribution-ShareAlike 30 Unported\""
      ]
     },
     "execution_count": 42,
     "metadata": {},
     "output_type": "execute_result"
    }
   ],
   "source": [
    "cleaned_corpus[1][0:]"
   ]
  },
  {
   "cell_type": "code",
   "execution_count": 43,
   "metadata": {
    "collapsed": true
   },
   "outputs": [],
   "source": [
    "mydict = {}\n",
    "i=0\n",
    "for l2 in cleaned_corpus:\n",
    "    mydict[l2] = labels[i] \n",
    "    i=i+1   \n",
    "import pandas as pd\n",
    "(pd.DataFrame.from_dict(data=mydict, orient='index')\n",
    "   .to_csv('dict_file.csv', header=False))  "
   ]
  },
  {
   "cell_type": "code",
   "execution_count": 56,
   "metadata": {},
   "outputs": [
    {
     "name": "stdout",
     "output_type": "stream",
     "text": [
      "The document file has been generatednDownload the file to your computernNotesnNot satisfied with the output See the help page about books for possibilities to improve itCurrently some documents do not contain tables An alternative may be to use the Printable version select Print in the browser menu and use the Save as PDF optionReturn to Main Pagenn name Rendering finished\n",
      "1\n"
     ]
    }
   ],
   "source": [
    "print(list(mydict.keys())[1])\n",
    "print(list(mydict.values())[1])\n",
    "#Assignment : Build a knnclassifier,naivebayse,svm  on dict_file"
   ]
  }
 ],
 "metadata": {
  "anaconda-cloud": {},
  "kernelspec": {
   "display_name": "Python 3",
   "language": "python",
   "name": "python3"
  },
  "language_info": {
   "codemirror_mode": {
    "name": "ipython",
    "version": 3
   },
   "file_extension": ".py",
   "mimetype": "text/x-python",
   "name": "python",
   "nbconvert_exporter": "python",
   "pygments_lexer": "ipython3",
   "version": "3.6.5"
  }
 },
 "nbformat": 4,
 "nbformat_minor": 1
}
