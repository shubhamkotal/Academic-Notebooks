{
 "cells": [
  {
   "cell_type": "code",
   "execution_count": 1,
   "metadata": {},
   "outputs": [],
   "source": [
    "import pandas as pd\n",
    "import numpy as np\n",
    "import os\n",
    "\n",
    "data=[\n",
    "3.03827e-40,\n",
    "4.7789e-40,\n",
    "4.77e-40,\n",
    "5.20851e-40,\n",
    "5.2808e-40,\n",
    "6.36372e-40,\n",
    "1.090682e-39,\n",
    "1.005017e-39,\n",
    "1.191862e-39,\n",
    "1.245369e-39,\n",
    "1.497257e-39,\n",
    "1.304728e-39,\n",
    "1.285977e-39,\n",
    "1.642145e-39\n",
    "]"
   ]
  },
  {
   "cell_type": "code",
   "execution_count": 2,
   "metadata": {},
   "outputs": [
    {
     "data": {
      "text/plain": [
       "array([[0.        ],\n",
       "       [0.13006102],\n",
       "       [0.129396  ],\n",
       "       [0.16216176],\n",
       "       [0.16756331],\n",
       "       [0.24847981],\n",
       "       [0.58794322],\n",
       "       [0.52393377],\n",
       "       [0.66354558],\n",
       "       [0.70352637],\n",
       "       [0.89173873],\n",
       "       [0.7478798 ],\n",
       "       [0.73386893],\n",
       "       [1.        ]])"
      ]
     },
     "execution_count": 2,
     "metadata": {},
     "output_type": "execute_result"
    }
   ],
   "source": [
    "from sklearn.preprocessing import MinMaxScaler\n",
    "\n",
    "vector = np.asarray(data)\n",
    "range_scaler = MinMaxScaler()\n",
    "range_scaler.fit(vector.reshape(-1,1))\n",
    "range_scaled_vector = range_scaler.transform(vector.reshape(-1,1))\n",
    "range_scaled_vector"
   ]
  },
  {
   "cell_type": "code",
   "execution_count": null,
   "metadata": {},
   "outputs": [],
   "source": []
  }
 ],
 "metadata": {
  "kernelspec": {
   "display_name": "Python 3",
   "language": "python",
   "name": "python3"
  },
  "language_info": {
   "codemirror_mode": {
    "name": "ipython",
    "version": 3
   },
   "file_extension": ".py",
   "mimetype": "text/x-python",
   "name": "python",
   "nbconvert_exporter": "python",
   "pygments_lexer": "ipython3",
   "version": "3.6.5"
  }
 },
 "nbformat": 4,
 "nbformat_minor": 2
}
