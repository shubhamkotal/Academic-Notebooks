{
 "cells": [
  {
   "cell_type": "markdown",
   "metadata": {},
   "source": [
    "# Transformations in Spark"
   ]
  },
  {
   "cell_type": "markdown",
   "metadata": {},
   "source": [
    "## Setup\n",
    "### Configure Spark Environment\n",
    "Configure environment variables, Make sure you provide the correct Spark installation path/location."
   ]
  },
  {
   "cell_type": "code",
   "execution_count": 1,
   "metadata": {},
   "outputs": [],
   "source": [
    "## Set Python - Spark environment. Resolve necessary dependencies specific to Spark HBase Connector.\n",
    "import os\n",
    "import sys\n",
    "\n",
    "os.environ[\"SPARK_HOME\"] = \"/usr/hdp/current/spark2-client\"\n",
    "os.environ[\"PYLIB\"] = os.environ[\"SPARK_HOME\"] + \"/python/lib\"\n",
    "sys.path.insert(0, os.environ[\"PYLIB\"] + \"/py4j-0.10.6-src.zip\")\n",
    "sys.path.insert(0, os.environ[\"PYLIB\"] + \"/pyspark.zip\")"
   ]
  },
  {
   "cell_type": "markdown",
   "metadata": {},
   "source": [
    "### Starting the Spark Session\n",
    "#### Create and Initialize Spark Driver\n",
    "Creating a spark app that will run locally and will use as many threads as there are cores using local[*] :"
   ]
  },
  {
   "cell_type": "code",
   "execution_count": 2,
   "metadata": {},
   "outputs": [],
   "source": [
    "## Create SparkContext, SparkSession\n",
    "from os.path import expanduser, join, abspath\n",
    "\n",
    "from pyspark.sql import SparkSession\n",
    "from pyspark.sql import Row\n",
    "\n",
    "# warehouse_location points to the default location for managed databases and tables\n",
    "warehouse_location = 'hdfs:///apps/hive/warehouse/'\n",
    "\n",
    "spark = SparkSession \\\n",
    "    .builder \\\n",
    "    .appName(\"Machine Learning Example using Spark ML\") \\\n",
    "    .config(\"spark.sql.warehouse.dir\", warehouse_location) \\\n",
    "    .enableHiveSupport() \\\n",
    "    .getOrCreate()"
   ]
  },
  {
   "cell_type": "markdown",
   "metadata": {},
   "source": [
    "#### Verify Spark Driver -  Spark Session"
   ]
  },
  {
   "cell_type": "code",
   "execution_count": 3,
   "metadata": {},
   "outputs": [
    {
     "data": {
      "text/html": [
       "\n",
       "            <div>\n",
       "                <p><b>SparkSession - hive</b></p>\n",
       "                \n",
       "        <div>\n",
       "            <p><b>SparkContext</b></p>\n",
       "\n",
       "            <p><a href=\"http://r.insofe.edu.in:4042\">Spark UI</a></p>\n",
       "\n",
       "            <dl>\n",
       "              <dt>Version</dt>\n",
       "                <dd><code>v2.3.0.2.6.5.0-292</code></dd>\n",
       "              <dt>Master</dt>\n",
       "                <dd><code>local[*]</code></dd>\n",
       "              <dt>AppName</dt>\n",
       "                <dd><code>Machine Learning Example using Spark ML</code></dd>\n",
       "            </dl>\n",
       "        </div>\n",
       "        \n",
       "            </div>\n",
       "        "
      ],
      "text/plain": [
       "<pyspark.sql.session.SparkSession at 0x39306d0>"
      ]
     },
     "execution_count": 3,
     "metadata": {},
     "output_type": "execute_result"
    }
   ],
   "source": [
    "## Verify Spark Session\n",
    "spark"
   ]
  },
  {
   "cell_type": "markdown",
   "metadata": {},
   "source": [
    "#### Verify Python version"
   ]
  },
  {
   "cell_type": "code",
   "execution_count": 4,
   "metadata": {},
   "outputs": [
    {
     "name": "stdout",
     "output_type": "stream",
     "text": [
      "2.7.5 (default, Nov 20 2015, 02:00:19) \n",
      "[GCC 4.8.5 20150623 (Red Hat 4.8.5-4)]\n",
      "sys.version_info(major=2, minor=7, micro=5, releaselevel='final', serial=0)\n"
     ]
    }
   ],
   "source": [
    "print(sys.version)\n",
    "print(sys.version_info)"
   ]
  },
  {
   "cell_type": "markdown",
   "metadata": {},
   "source": [
    "### Existing Database Schema\n",
    "#### Columns\n",
    "\n",
    "| **employees**     | **departments**   | **dept_emp**      | **dept_manager**  | **salaries**      | **titles**        |\n",
    "|-------------------|-------------------|-------------------|-------------------|-------------------|-------------------|\n",
    "| **emp_no**        | **dept_no**       | **seq_no**        | **seq_no**        | **seq_no**        | **seq_no**        |\n",
    "| birth_date        | **dept_name**     | **emp_no**        | **dept_no**       | **emp_no**        | **emp_no**        |\n",
    "| first_name        | last_modified     | **dept_no**       | **emp_no**        | salary            | **title**         |\n",
    "| last_name         |                   | from_date         | from_date         | **from_date**     | **from_date**     |\n",
    "| gender            |                   | to_date           | to_date           | to_date           | to_date           |\n",
    "| hire_date         |                   | last_modified     | last_modified     | last_modified     | last_modified     |\n",
    "| last_modified     |                   |                   |                   |                   |                   |"
   ]
  },
  {
   "cell_type": "markdown",
   "metadata": {},
   "source": [
    "### HIVE Metastore\n",
    "#### Verify Hive Metastore - Database and Table(s)"
   ]
  },
  {
   "cell_type": "markdown",
   "metadata": {},
   "source": [
    "#### Verify previously created hive database - insofe_empdb_10064"
   ]
  },
  {
   "cell_type": "code",
   "execution_count": 5,
   "metadata": {},
   "outputs": [
    {
     "data": {
      "text/plain": [
       "DataFrame[]"
      ]
     },
     "execution_count": 5,
     "metadata": {},
     "output_type": "execute_result"
    }
   ],
   "source": [
    "# insofe_empdb_10064\n",
    "spark.sql(\"USE insofe_empdb_10064\")"
   ]
  },
  {
   "cell_type": "markdown",
   "metadata": {},
   "source": [
    "#### Verify/list all the table(s) in the above database "
   ]
  },
  {
   "cell_type": "code",
   "execution_count": 6,
   "metadata": {},
   "outputs": [
    {
     "name": "stdout",
     "output_type": "stream",
     "text": [
      "+------------------+------------+-----------+\n",
      "|          database|   tableName|isTemporary|\n",
      "+------------------+------------+-----------+\n",
      "|insofe_empdb_10064| departments|      false|\n",
      "|insofe_empdb_10064|    dept_emp|      false|\n",
      "|insofe_empdb_10064|dept_manager|      false|\n",
      "|insofe_empdb_10064|   employees|      false|\n",
      "|insofe_empdb_10064|    salaries|      false|\n",
      "|insofe_empdb_10064|      titles|      false|\n",
      "+------------------+------------+-----------+\n",
      "\n"
     ]
    }
   ],
   "source": [
    "spark.sql(\"SHOW TABLES\").show()"
   ]
  },
  {
   "cell_type": "markdown",
   "metadata": {},
   "source": [
    "Now there are 6 tables available in HIVE, in the database *insofe_empdb_10064**, Access these tables and process the data by creating DataFrames."
   ]
  },
  {
   "cell_type": "markdown",
   "metadata": {},
   "source": [
    "## Transformations\n",
    "#### 1. Create DataFrame for each of the underlying table.\n",
    "#### 2. Remove unnecessary rows (retain only active rows from the tables where necessary) and columns.\n",
    "#### 3. Cache DataFrames as necessary."
   ]
  },
  {
   "cell_type": "markdown",
   "metadata": {},
   "source": [
    "### Load and Filter DataFrames."
   ]
  },
  {
   "cell_type": "markdown",
   "metadata": {},
   "source": [
    "#### Departments Table\n",
    "Create DataFrame for departments data from departments table in HIVE"
   ]
  },
  {
   "cell_type": "code",
   "execution_count": 7,
   "metadata": {},
   "outputs": [],
   "source": [
    "deptDF = spark.sql(\"SELECT * FROM departments\")"
   ]
  },
  {
   "cell_type": "markdown",
   "metadata": {},
   "source": [
    "Verify the above DataFrame"
   ]
  },
  {
   "cell_type": "code",
   "execution_count": 8,
   "metadata": {},
   "outputs": [
    {
     "name": "stdout",
     "output_type": "stream",
     "text": [
      "+-------+------------------+-------------------+\n",
      "|dept_no|         dept_name|      last_modified|\n",
      "+-------+------------------+-------------------+\n",
      "|   d001|         Marketing|2013-01-28 23:59:59|\n",
      "|   d002|           Finance|2013-01-28 23:59:59|\n",
      "|   d003|   Human Resources|2013-01-28 23:59:59|\n",
      "|   d004|        Production|2013-01-28 23:59:59|\n",
      "|   d005|       Development|2013-01-28 23:59:59|\n",
      "|   d006|Quality Management|2013-01-28 23:59:59|\n",
      "|   d007|             Sales|2013-01-28 23:59:59|\n",
      "|   d008|          Research|2013-01-28 23:59:59|\n",
      "|   d009|  Customer Service|2013-01-28 23:59:59|\n",
      "|   d010|         Analytics|2019-01-17 12:47:16|\n",
      "+-------+------------------+-------------------+\n",
      "\n"
     ]
    }
   ],
   "source": [
    "deptDF.show()"
   ]
  },
  {
   "cell_type": "markdown",
   "metadata": {},
   "source": [
    "Verify the schema for the above DataFrame"
   ]
  },
  {
   "cell_type": "code",
   "execution_count": 9,
   "metadata": {},
   "outputs": [
    {
     "name": "stdout",
     "output_type": "stream",
     "text": [
      "root\n",
      " |-- dept_no: string (nullable = true)\n",
      " |-- dept_name: string (nullable = true)\n",
      " |-- last_modified: timestamp (nullable = true)\n",
      "\n"
     ]
    }
   ],
   "source": [
    "deptDF.printSchema()"
   ]
  },
  {
   "cell_type": "markdown",
   "metadata": {},
   "source": [
    "#### Departments and Employees Table\n",
    "Create DataFrame for departments & employees from dept_emp table in HIVE\n",
    "- An employee might work in different departments during their tenure.\n",
    "- At any time an employee is active in only in one department.\n",
    "- So, there will be multiple records for an employee with different departments\n",
    "- At any time an there will be only one deparment an employee actively working, and is can be identified by to_date value '9999-01-01'"
   ]
  },
  {
   "cell_type": "code",
   "execution_count": 10,
   "metadata": {},
   "outputs": [],
   "source": [
    "dept_empDF = spark.sql(\"SELECT * FROM dept_emp\")"
   ]
  },
  {
   "cell_type": "markdown",
   "metadata": {},
   "source": [
    "Verify the above DataFrame"
   ]
  },
  {
   "cell_type": "code",
   "execution_count": 11,
   "metadata": {},
   "outputs": [
    {
     "name": "stdout",
     "output_type": "stream",
     "text": [
      "+------+------+-------+----------+----------+-------------------+\n",
      "|seq_no|emp_no|dept_no| from_date|   to_date|      last_modified|\n",
      "+------+------+-------+----------+----------+-------------------+\n",
      "|     1|     1|   d001|1986-01-01|9999-01-01|2013-01-28 23:59:59|\n",
      "|    10|    10|   d002|1986-01-14|9999-01-01|2013-01-28 23:59:59|\n",
      "|   100|    94|   d004|1994-05-26|1999-04-29|2013-01-28 23:59:59|\n",
      "|  1000|   909|   d009|1988-09-12|9999-01-01|2013-01-28 23:59:59|\n",
      "| 10000|  9059|   d008|1995-04-21|1996-02-20|2013-01-28 23:59:59|\n",
      "|100000| 90419|   d004|1998-05-23|9999-01-01|2013-01-28 23:59:59|\n",
      "|100001| 90420|   d008|1991-07-23|2005-12-15|2013-01-28 23:59:59|\n",
      "|100002| 90421|   d005|1991-07-23|9999-01-01|2013-01-28 23:59:59|\n",
      "|100003| 90422|   d002|1992-03-25|9999-01-01|2013-01-28 23:59:59|\n",
      "|100004| 90422|   d003|1991-07-23|1992-03-25|2013-01-28 23:59:59|\n",
      "|100005| 90423|   d004|1991-07-23|2005-10-14|2013-01-28 23:59:59|\n",
      "|100006| 90424|   d007|2003-06-25|9999-01-01|2013-01-28 23:59:59|\n",
      "|100007| 90425|   d007|1996-02-26|9999-01-01|2013-01-28 23:59:59|\n",
      "|100008| 90426|   d005|2001-12-15|2004-08-14|2013-01-28 23:59:59|\n",
      "|100009| 90427|   d008|1991-07-23|9999-01-01|2013-01-28 23:59:59|\n",
      "| 10001|  9060|   d003|1991-09-30|9999-01-01|2013-01-28 23:59:59|\n",
      "|100010| 90428|   d007|2003-12-03|9999-01-01|2013-01-28 23:59:59|\n",
      "|100011| 90429|   d003|1991-07-23|1994-09-18|2013-01-28 23:59:59|\n",
      "|100012| 90430|   d004|2000-06-21|9999-01-01|2013-01-28 23:59:59|\n",
      "|100013| 90430|   d005|1998-11-23|2000-06-21|2013-01-28 23:59:59|\n",
      "+------+------+-------+----------+----------+-------------------+\n",
      "only showing top 20 rows\n",
      "\n"
     ]
    }
   ],
   "source": [
    "dept_empDF.show()"
   ]
  },
  {
   "cell_type": "markdown",
   "metadata": {},
   "source": [
    "Veify the schema for the above DataFrame"
   ]
  },
  {
   "cell_type": "code",
   "execution_count": 12,
   "metadata": {},
   "outputs": [
    {
     "name": "stdout",
     "output_type": "stream",
     "text": [
      "root\n",
      " |-- seq_no: integer (nullable = true)\n",
      " |-- emp_no: integer (nullable = true)\n",
      " |-- dept_no: string (nullable = true)\n",
      " |-- from_date: string (nullable = true)\n",
      " |-- to_date: string (nullable = true)\n",
      " |-- last_modified: timestamp (nullable = true)\n",
      "\n"
     ]
    }
   ],
   "source": [
    "dept_empDF.printSchema()"
   ]
  },
  {
   "cell_type": "markdown",
   "metadata": {},
   "source": [
    "Verify the record counts in the above DataFrame"
   ]
  },
  {
   "cell_type": "code",
   "execution_count": 13,
   "metadata": {},
   "outputs": [
    {
     "data": {
      "text/plain": [
       "341603"
      ]
     },
     "execution_count": 13,
     "metadata": {},
     "output_type": "execute_result"
    }
   ],
   "source": [
    "dept_empDF.count()"
   ]
  },
  {
   "cell_type": "markdown",
   "metadata": {},
   "source": [
    "Filter only the active records from the above DataFrame, Active employees can be identified with the to_date == '9999-01-01'"
   ]
  },
  {
   "cell_type": "code",
   "execution_count": 14,
   "metadata": {},
   "outputs": [],
   "source": [
    "# from pyspark.sql.functions import col\n",
    "# active_dept_empDF = dept_empDF.filter(col(\"to_date\") == '9999-01-01')\n",
    "active_dept_empDF = dept_empDF[dept_empDF.to_date == '9999-01-01']"
   ]
  },
  {
   "cell_type": "markdown",
   "metadata": {},
   "source": [
    "Verify the active employees count from the above DataFrame"
   ]
  },
  {
   "cell_type": "code",
   "execution_count": 15,
   "metadata": {},
   "outputs": [
    {
     "data": {
      "text/plain": [
       "250124"
      ]
     },
     "execution_count": 15,
     "metadata": {},
     "output_type": "execute_result"
    }
   ],
   "source": [
    "active_dept_empDF.count()"
   ]
  },
  {
   "cell_type": "markdown",
   "metadata": {},
   "source": [
    "Verify the Data types from the above DataFrame"
   ]
  },
  {
   "cell_type": "code",
   "execution_count": 16,
   "metadata": {},
   "outputs": [
    {
     "data": {
      "text/plain": [
       "[('seq_no', 'int'),\n",
       " ('emp_no', 'int'),\n",
       " ('dept_no', 'string'),\n",
       " ('from_date', 'string'),\n",
       " ('to_date', 'string'),\n",
       " ('last_modified', 'timestamp')]"
      ]
     },
     "execution_count": 16,
     "metadata": {},
     "output_type": "execute_result"
    }
   ],
   "source": [
    "active_dept_empDF.dtypes"
   ]
  },
  {
   "cell_type": "code",
   "execution_count": 17,
   "metadata": {},
   "outputs": [
    {
     "data": {
      "text/plain": [
       "250124"
      ]
     },
     "execution_count": 17,
     "metadata": {},
     "output_type": "execute_result"
    }
   ],
   "source": [
    "active_dept_empDF.count()"
   ]
  },
  {
   "cell_type": "markdown",
   "metadata": {},
   "source": [
    "Remove unnecessary columns, **last_modified** column is not necessary. "
   ]
  },
  {
   "cell_type": "code",
   "execution_count": 18,
   "metadata": {},
   "outputs": [],
   "source": [
    "active_dept_empDF = active_dept_empDF.select('seq_no', 'emp_no', 'dept_no', 'from_date', 'to_date')"
   ]
  },
  {
   "cell_type": "markdown",
   "metadata": {},
   "source": [
    "Verify above DataFrame"
   ]
  },
  {
   "cell_type": "code",
   "execution_count": 19,
   "metadata": {},
   "outputs": [
    {
     "name": "stdout",
     "output_type": "stream",
     "text": [
      "+------+------+-------+----------+----------+\n",
      "|seq_no|emp_no|dept_no| from_date|   to_date|\n",
      "+------+------+-------+----------+----------+\n",
      "|     1|     1|   d001|1986-01-01|9999-01-01|\n",
      "|    10|    10|   d002|1986-01-14|9999-01-01|\n",
      "|  1000|   909|   d009|1988-09-12|9999-01-01|\n",
      "|100000| 90419|   d004|1998-05-23|9999-01-01|\n",
      "|100002| 90421|   d005|1991-07-23|9999-01-01|\n",
      "|100003| 90422|   d002|1992-03-25|9999-01-01|\n",
      "|100006| 90424|   d007|2003-06-25|9999-01-01|\n",
      "|100007| 90425|   d007|1996-02-26|9999-01-01|\n",
      "|100009| 90427|   d008|1991-07-23|9999-01-01|\n",
      "| 10001|  9060|   d003|1991-09-30|9999-01-01|\n",
      "|100010| 90428|   d007|2003-12-03|9999-01-01|\n",
      "|100012| 90430|   d004|2000-06-21|9999-01-01|\n",
      "|100014| 90431|   d004|1995-08-26|9999-01-01|\n",
      "|100018| 90433|   d009|2005-11-15|9999-01-01|\n",
      "|100019| 90434|   d005|1991-07-23|9999-01-01|\n",
      "| 10002|  9061|   d001|1986-10-24|9999-01-01|\n",
      "|100022| 90437|   d005|1991-07-23|9999-01-01|\n",
      "|100023| 90438|   d004|2003-04-25|9999-01-01|\n",
      "|100025| 90440|   d006|1998-10-18|9999-01-01|\n",
      "|100029| 90442|   d006|2003-02-08|9999-01-01|\n",
      "+------+------+-------+----------+----------+\n",
      "only showing top 20 rows\n",
      "\n"
     ]
    }
   ],
   "source": [
    "active_dept_empDF.show()"
   ]
  },
  {
   "cell_type": "markdown",
   "metadata": {},
   "source": [
    "Make the DataFrame available in in-memory"
   ]
  },
  {
   "cell_type": "code",
   "execution_count": 20,
   "metadata": {},
   "outputs": [
    {
     "data": {
      "text/plain": [
       "DataFrame[seq_no: int, emp_no: int, dept_no: string, from_date: string, to_date: string]"
      ]
     },
     "execution_count": 20,
     "metadata": {},
     "output_type": "execute_result"
    }
   ],
   "source": [
    "active_dept_empDF.cache()"
   ]
  },
  {
   "cell_type": "markdown",
   "metadata": {},
   "source": [
    "#### Departments and Managers Table\n",
    "Create DataFrame for departments and managers data from dept_manager table in HIVE"
   ]
  },
  {
   "cell_type": "markdown",
   "metadata": {},
   "source": [
    "- For each department respective manager's employee number is available in dept_manager table\n",
    "- A department may have multiple manager's\n",
    "- So, there will be multiple records for a department (with different employee number's for different time periods)\n",
    "- At any time an there will be only one active manager for each department and is can be identified by to_date value '9999-01-01'"
   ]
  },
  {
   "cell_type": "code",
   "execution_count": 21,
   "metadata": {},
   "outputs": [],
   "source": [
    "dept_managerDF = spark.sql(\"SELECT * FROM dept_manager\")"
   ]
  },
  {
   "cell_type": "markdown",
   "metadata": {},
   "source": [
    "Verify the departments and manager's DataFrame"
   ]
  },
  {
   "cell_type": "code",
   "execution_count": 22,
   "metadata": {},
   "outputs": [
    {
     "name": "stdout",
     "output_type": "stream",
     "text": [
      "+------+-------+------+----------+----------+-------------------+\n",
      "|seq_no|dept_no|emp_no| from_date|   to_date|      last_modified|\n",
      "+------+-------+------+----------+----------+-------------------+\n",
      "|     1|   d001|     1|1986-01-01|1992-10-01|2013-01-28 23:59:59|\n",
      "|    10|   d002|    10|1990-12-17|9999-01-01|2013-01-28 23:59:59|\n",
      "|    11|   d003| 19827|1993-03-21|9999-01-01|2013-01-28 23:59:59|\n",
      "|    12|   d004| 31345|1990-09-09|1994-08-02|2013-01-28 23:59:59|\n",
      "|    13|   d001| 45502|1993-10-01|9999-01-01|2013-01-28 23:59:59|\n",
      "|    14|   d006| 57739|1994-09-12|1997-06-28|2013-01-28 23:59:59|\n",
      "|    15|   d005| 64439|1995-04-25|9999-01-01|2013-01-28 23:59:59|\n",
      "|    16|   d007| 71341|1994-03-07|9999-01-01|2013-01-28 23:59:59|\n",
      "|    17|   d008|107706|1996-04-08|9999-01-01|2013-01-28 23:59:59|\n",
      "|    18|   d009|108801|1993-10-17|1997-09-08|2013-01-28 23:59:59|\n",
      "|    19|   d004|129808|1998-08-02|2002-08-30|2013-01-28 23:59:59|\n",
      "|     2|   d002|     2|1986-01-01|1990-12-17|2013-01-28 23:59:59|\n",
      "|    20|   d006|136923|1995-05-06|1997-09-12|2013-01-28 23:59:59|\n",
      "|    21|   d006|149081|2000-06-28|9999-01-01|2013-01-28 23:59:59|\n",
      "|    22|   d009|151543|2003-01-03|9999-01-01|2013-01-28 23:59:59|\n",
      "|    23|   d009|204867|2001-09-08|2005-01-03|2013-01-28 23:59:59|\n",
      "|    24|   d004|215054|2005-08-30|9999-01-01|2013-01-28 23:59:59|\n",
      "|    25|   d010|300030|2013-01-29|9999-01-01|2019-01-19 14:23:13|\n",
      "|     3|   d003|     3|1986-01-01|1993-03-21|2013-01-28 23:59:59|\n",
      "|     4|   d004|     4|1986-01-01|1989-09-09|2013-01-28 23:59:59|\n",
      "+------+-------+------+----------+----------+-------------------+\n",
      "only showing top 20 rows\n",
      "\n"
     ]
    }
   ],
   "source": [
    "dept_managerDF.show()"
   ]
  },
  {
   "cell_type": "markdown",
   "metadata": {},
   "source": [
    "Verify the schema for departments and manager's DataFrame"
   ]
  },
  {
   "cell_type": "code",
   "execution_count": 23,
   "metadata": {},
   "outputs": [
    {
     "name": "stdout",
     "output_type": "stream",
     "text": [
      "root\n",
      " |-- seq_no: integer (nullable = true)\n",
      " |-- dept_no: string (nullable = true)\n",
      " |-- emp_no: integer (nullable = true)\n",
      " |-- from_date: string (nullable = true)\n",
      " |-- to_date: string (nullable = true)\n",
      " |-- last_modified: timestamp (nullable = true)\n",
      "\n"
     ]
    }
   ],
   "source": [
    "dept_managerDF.printSchema()"
   ]
  },
  {
   "cell_type": "markdown",
   "metadata": {},
   "source": [
    "Total Count in departments and manager's DataFrame"
   ]
  },
  {
   "cell_type": "code",
   "execution_count": 24,
   "metadata": {},
   "outputs": [
    {
     "data": {
      "text/plain": [
       "25"
      ]
     },
     "execution_count": 24,
     "metadata": {},
     "output_type": "execute_result"
    }
   ],
   "source": [
    "dept_managerDF.count()"
   ]
  },
  {
   "cell_type": "markdown",
   "metadata": {},
   "source": [
    "Filter only the active records from above DataFrame\n",
    "<br>Though there are only total 10 departments, but there are 25 records (manager records) exists,\n",
    "<br>remove the inactive records, Active records are whose to_date is '9999-01-01'"
   ]
  },
  {
   "cell_type": "code",
   "execution_count": 25,
   "metadata": {},
   "outputs": [],
   "source": [
    "# from pyspark.sql.functions import col\n",
    "# active_dept_managerDF = dept_managerDF.filter(col(\"to_date\") == '9999-01-01')\n",
    "active_dept_managerDF = dept_managerDF[dept_managerDF.to_date == '9999-01-01']"
   ]
  },
  {
   "cell_type": "markdown",
   "metadata": {},
   "source": [
    "Verify the records count from the above DataFrame"
   ]
  },
  {
   "cell_type": "code",
   "execution_count": 26,
   "metadata": {},
   "outputs": [
    {
     "data": {
      "text/plain": [
       "10"
      ]
     },
     "execution_count": 26,
     "metadata": {},
     "output_type": "execute_result"
    }
   ],
   "source": [
    "active_dept_managerDF.count()"
   ]
  },
  {
   "cell_type": "markdown",
   "metadata": {},
   "source": [
    "Verify the columns"
   ]
  },
  {
   "cell_type": "code",
   "execution_count": 27,
   "metadata": {},
   "outputs": [
    {
     "data": {
      "text/plain": [
       "[('seq_no', 'int'),\n",
       " ('dept_no', 'string'),\n",
       " ('emp_no', 'int'),\n",
       " ('from_date', 'string'),\n",
       " ('to_date', 'string'),\n",
       " ('last_modified', 'timestamp')]"
      ]
     },
     "execution_count": 27,
     "metadata": {},
     "output_type": "execute_result"
    }
   ],
   "source": [
    "active_dept_managerDF.dtypes"
   ]
  },
  {
   "cell_type": "markdown",
   "metadata": {},
   "source": [
    "Remove unwanted columns and rename the columns as necessary, **seq_no**, **last_modified** and **to_date** are not necessary."
   ]
  },
  {
   "cell_type": "code",
   "execution_count": 28,
   "metadata": {},
   "outputs": [],
   "source": [
    "from pyspark.sql.functions import expr\n",
    "active_dept_managerDF = active_dept_managerDF.select('dept_no', expr('emp_no AS mgr_emp_no'), expr('from_date AS mgr_from_date'))"
   ]
  },
  {
   "cell_type": "markdown",
   "metadata": {},
   "source": [
    "Verify above DataFrame"
   ]
  },
  {
   "cell_type": "code",
   "execution_count": 29,
   "metadata": {},
   "outputs": [
    {
     "name": "stdout",
     "output_type": "stream",
     "text": [
      "+-------+----------+-------------+\n",
      "|dept_no|mgr_emp_no|mgr_from_date|\n",
      "+-------+----------+-------------+\n",
      "|   d002|        10|   1990-12-17|\n",
      "|   d003|     19827|   1993-03-21|\n",
      "|   d001|     45502|   1993-10-01|\n",
      "|   d005|     64439|   1995-04-25|\n",
      "|   d007|     71341|   1994-03-07|\n",
      "|   d008|    107706|   1996-04-08|\n",
      "|   d006|    149081|   2000-06-28|\n",
      "|   d009|    151543|   2003-01-03|\n",
      "|   d004|    215054|   2005-08-30|\n",
      "|   d010|    300030|   2013-01-29|\n",
      "+-------+----------+-------------+\n",
      "\n"
     ]
    }
   ],
   "source": [
    "active_dept_managerDF.show()"
   ]
  },
  {
   "cell_type": "markdown",
   "metadata": {},
   "source": [
    "#### Employees Table\n",
    "Create DataFrame for employees data from employees table in HIVE"
   ]
  },
  {
   "cell_type": "code",
   "execution_count": 30,
   "metadata": {},
   "outputs": [],
   "source": [
    "employeesDF = spark.sql(\"SELECT * FROM employees\")"
   ]
  },
  {
   "cell_type": "markdown",
   "metadata": {},
   "source": [
    "Verify employees DataFrame"
   ]
  },
  {
   "cell_type": "code",
   "execution_count": 31,
   "metadata": {},
   "outputs": [
    {
     "name": "stdout",
     "output_type": "stream",
     "text": [
      "+------+----------+----------+------------+------+----------+-------------------+\n",
      "|emp_no|birth_date|first_name|   last_name|gender| hire_date|      last_modified|\n",
      "+------+----------+----------+------------+------+----------+-------------------+\n",
      "|     1|1958-09-12| Margareta|  Markovitch|     M|1986-01-01|2013-01-28 23:59:59|\n",
      "|     2|1961-10-28|      Ebru|       Alpin|     M|1986-01-01|2013-01-28 23:59:59|\n",
      "|     3|1955-06-24|   Shirish|Ossenbruggen|     F|1986-01-01|2013-01-28 23:59:59|\n",
      "|     4|1958-06-08| Krassimir|     Wegerle|     F|1986-01-01|2013-01-28 23:59:59|\n",
      "+------+----------+----------+------------+------+----------+-------------------+\n",
      "only showing top 4 rows\n",
      "\n"
     ]
    }
   ],
   "source": [
    "employeesDF.show(4)"
   ]
  },
  {
   "cell_type": "markdown",
   "metadata": {},
   "source": [
    "Verify schema of employees DataFrame"
   ]
  },
  {
   "cell_type": "code",
   "execution_count": 32,
   "metadata": {},
   "outputs": [
    {
     "name": "stdout",
     "output_type": "stream",
     "text": [
      "root\n",
      " |-- emp_no: integer (nullable = true)\n",
      " |-- birth_date: string (nullable = true)\n",
      " |-- first_name: string (nullable = true)\n",
      " |-- last_name: string (nullable = true)\n",
      " |-- gender: string (nullable = true)\n",
      " |-- hire_date: string (nullable = true)\n",
      " |-- last_modified: timestamp (nullable = true)\n",
      "\n"
     ]
    }
   ],
   "source": [
    "employeesDF.printSchema()"
   ]
  },
  {
   "cell_type": "markdown",
   "metadata": {},
   "source": [
    "Remove unwanted columns"
   ]
  },
  {
   "cell_type": "code",
   "execution_count": 33,
   "metadata": {},
   "outputs": [],
   "source": [
    "employeesDF = employeesDF.drop('last_modified')"
   ]
  },
  {
   "cell_type": "markdown",
   "metadata": {},
   "source": [
    "Verify above DataFrame"
   ]
  },
  {
   "cell_type": "code",
   "execution_count": 34,
   "metadata": {},
   "outputs": [
    {
     "name": "stdout",
     "output_type": "stream",
     "text": [
      "+------+----------+----------+------------+------+----------+\n",
      "|emp_no|birth_date|first_name|   last_name|gender| hire_date|\n",
      "+------+----------+----------+------------+------+----------+\n",
      "|     1|1958-09-12| Margareta|  Markovitch|     M|1986-01-01|\n",
      "|     2|1961-10-28|      Ebru|       Alpin|     M|1986-01-01|\n",
      "|     3|1955-06-24|   Shirish|Ossenbruggen|     F|1986-01-01|\n",
      "|     4|1958-06-08| Krassimir|     Wegerle|     F|1986-01-01|\n",
      "+------+----------+----------+------------+------+----------+\n",
      "only showing top 4 rows\n",
      "\n"
     ]
    }
   ],
   "source": [
    "employeesDF.show(4)"
   ]
  },
  {
   "cell_type": "markdown",
   "metadata": {},
   "source": [
    "#### Salaries Table\n",
    "Create DataFrame for salaries data from salaries table in HIVE"
   ]
  },
  {
   "cell_type": "code",
   "execution_count": 35,
   "metadata": {},
   "outputs": [],
   "source": [
    "salariesDF = spark.sql(\"SELECT * FROM salaries\")"
   ]
  },
  {
   "cell_type": "markdown",
   "metadata": {},
   "source": [
    "Verify salaries DataFrame"
   ]
  },
  {
   "cell_type": "code",
   "execution_count": 36,
   "metadata": {},
   "outputs": [
    {
     "name": "stdout",
     "output_type": "stream",
     "text": [
      "+------+------+------+----------+----------+-------------------+\n",
      "|seq_no|emp_no|salary| from_date|   to_date|      last_modified|\n",
      "+------+------+------+----------+----------+-------------------+\n",
      "|     1|     1| 70166|1986-01-01|1987-01-01|2013-01-28 23:59:59|\n",
      "|    10|     1| 91165|1994-12-30|1995-12-30|2013-01-28 23:59:59|\n",
      "|   100|     6| 84203|1994-12-30|1995-12-30|2013-01-28 23:59:59|\n",
      "|  1000|    73| 39000|1997-11-25|1998-11-25|2013-01-28 23:59:59|\n",
      "+------+------+------+----------+----------+-------------------+\n",
      "only showing top 4 rows\n",
      "\n"
     ]
    }
   ],
   "source": [
    "salariesDF.show(4)"
   ]
  },
  {
   "cell_type": "markdown",
   "metadata": {},
   "source": [
    "Verify schema of salaries DataFrame"
   ]
  },
  {
   "cell_type": "code",
   "execution_count": 37,
   "metadata": {},
   "outputs": [
    {
     "name": "stdout",
     "output_type": "stream",
     "text": [
      "root\n",
      " |-- seq_no: integer (nullable = true)\n",
      " |-- emp_no: integer (nullable = true)\n",
      " |-- salary: integer (nullable = true)\n",
      " |-- from_date: string (nullable = true)\n",
      " |-- to_date: string (nullable = true)\n",
      " |-- last_modified: timestamp (nullable = true)\n",
      "\n"
     ]
    }
   ],
   "source": [
    "salariesDF.printSchema()"
   ]
  },
  {
   "cell_type": "markdown",
   "metadata": {},
   "source": [
    "Verify count of records in salaries DataFrame"
   ]
  },
  {
   "cell_type": "code",
   "execution_count": 38,
   "metadata": {},
   "outputs": [
    {
     "data": {
      "text/plain": [
       "2854047"
      ]
     },
     "execution_count": 38,
     "metadata": {},
     "output_type": "execute_result"
    }
   ],
   "source": [
    "salariesDF.count()"
   ]
  },
  {
   "cell_type": "markdown",
   "metadata": {},
   "source": [
    "Filter only the active records from above DataFrame"
   ]
  },
  {
   "cell_type": "code",
   "execution_count": 39,
   "metadata": {},
   "outputs": [],
   "source": [
    "active_salariesDF = salariesDF[salariesDF.to_date=='9999-01-01']"
   ]
  },
  {
   "cell_type": "markdown",
   "metadata": {},
   "source": [
    "Verify the record count"
   ]
  },
  {
   "cell_type": "code",
   "execution_count": 40,
   "metadata": {},
   "outputs": [
    {
     "data": {
      "text/plain": [
       "250124"
      ]
     },
     "execution_count": 40,
     "metadata": {},
     "output_type": "execute_result"
    }
   ],
   "source": [
    "active_salariesDF.count()"
   ]
  },
  {
   "cell_type": "code",
   "execution_count": 41,
   "metadata": {},
   "outputs": [
    {
     "data": {
      "text/plain": [
       "[('seq_no', 'int'),\n",
       " ('emp_no', 'int'),\n",
       " ('salary', 'int'),\n",
       " ('from_date', 'string'),\n",
       " ('to_date', 'string'),\n",
       " ('last_modified', 'timestamp')]"
      ]
     },
     "execution_count": 41,
     "metadata": {},
     "output_type": "execute_result"
    }
   ],
   "source": [
    "active_salariesDF.dtypes"
   ]
  },
  {
   "cell_type": "markdown",
   "metadata": {},
   "source": [
    "Remove and rename unnecessary columns"
   ]
  },
  {
   "cell_type": "code",
   "execution_count": 42,
   "metadata": {},
   "outputs": [],
   "source": [
    "from pyspark.sql.functions import col, expr, column\n",
    "active_salariesDF = active_salariesDF.select(\"emp_no\", \"salary\", expr(\"from_date as sal_from_date\"))"
   ]
  },
  {
   "cell_type": "code",
   "execution_count": 43,
   "metadata": {},
   "outputs": [
    {
     "data": {
      "text/plain": [
       "[('emp_no', 'int'), ('salary', 'int'), ('sal_from_date', 'string')]"
      ]
     },
     "execution_count": 43,
     "metadata": {},
     "output_type": "execute_result"
    }
   ],
   "source": [
    "active_salariesDF.dtypes"
   ]
  },
  {
   "cell_type": "markdown",
   "metadata": {},
   "source": [
    "#### Titles Table\n",
    "Create titles DataFrame for the titles table in HIVE"
   ]
  },
  {
   "cell_type": "code",
   "execution_count": 44,
   "metadata": {},
   "outputs": [],
   "source": [
    "titlesDF = spark.sql(\"SELECT * FROM titles\")"
   ]
  },
  {
   "cell_type": "markdown",
   "metadata": {},
   "source": [
    "Verify titles DataFrame"
   ]
  },
  {
   "cell_type": "code",
   "execution_count": 45,
   "metadata": {},
   "outputs": [
    {
     "name": "stdout",
     "output_type": "stream",
     "text": [
      "+------+------+----------------+----------+----------+-------------------+\n",
      "|seq_no|emp_no|           title| from_date|   to_date|      last_modified|\n",
      "+------+------+----------------+----------+----------+-------------------+\n",
      "|     1|     1|         Manager|1986-01-01|1992-10-01|2013-01-28 23:59:59|\n",
      "|    10|     5|Technique Leader|1993-04-25|9999-01-01|2013-01-28 23:59:59|\n",
      "|   100|    60|           Staff|1997-11-02|9999-01-01|2013-01-28 23:59:59|\n",
      "|  1000|   620|        Engineer|1996-09-15|2003-03-20|2013-01-28 23:59:59|\n",
      "+------+------+----------------+----------+----------+-------------------+\n",
      "only showing top 4 rows\n",
      "\n"
     ]
    }
   ],
   "source": [
    "titlesDF.show(4)"
   ]
  },
  {
   "cell_type": "markdown",
   "metadata": {},
   "source": [
    "Verify titles DataFrame schema"
   ]
  },
  {
   "cell_type": "code",
   "execution_count": 46,
   "metadata": {},
   "outputs": [
    {
     "name": "stdout",
     "output_type": "stream",
     "text": [
      "root\n",
      " |-- seq_no: integer (nullable = true)\n",
      " |-- emp_no: integer (nullable = true)\n",
      " |-- title: string (nullable = true)\n",
      " |-- from_date: string (nullable = true)\n",
      " |-- to_date: string (nullable = true)\n",
      " |-- last_modified: timestamp (nullable = true)\n",
      "\n"
     ]
    }
   ],
   "source": [
    "titlesDF.printSchema()"
   ]
  },
  {
   "cell_type": "markdown",
   "metadata": {},
   "source": [
    "Verify records count in the above DataFrame"
   ]
  },
  {
   "cell_type": "code",
   "execution_count": 47,
   "metadata": {},
   "outputs": [
    {
     "data": {
      "text/plain": [
       "453308"
      ]
     },
     "execution_count": 47,
     "metadata": {},
     "output_type": "execute_result"
    }
   ],
   "source": [
    "titlesDF.count()"
   ]
  },
  {
   "cell_type": "markdown",
   "metadata": {},
   "source": [
    "Filter active records from the above DataFrame"
   ]
  },
  {
   "cell_type": "code",
   "execution_count": 48,
   "metadata": {},
   "outputs": [],
   "source": [
    "active_titlesDF = titlesDF[titlesDF.to_date=='9999-01-01']"
   ]
  },
  {
   "cell_type": "code",
   "execution_count": 49,
   "metadata": {},
   "outputs": [
    {
     "data": {
      "text/plain": [
       "[('seq_no', 'int'),\n",
       " ('emp_no', 'int'),\n",
       " ('title', 'string'),\n",
       " ('from_date', 'string'),\n",
       " ('to_date', 'string'),\n",
       " ('last_modified', 'timestamp')]"
      ]
     },
     "execution_count": 49,
     "metadata": {},
     "output_type": "execute_result"
    }
   ],
   "source": [
    "active_titlesDF.dtypes"
   ]
  },
  {
   "cell_type": "markdown",
   "metadata": {},
   "source": [
    "Remove and rename the columns as necessary"
   ]
  },
  {
   "cell_type": "code",
   "execution_count": 50,
   "metadata": {},
   "outputs": [],
   "source": [
    "from pyspark.sql.functions import col, expr, column\n",
    "active_titlesDF = active_titlesDF.select('emp_no', 'title', expr('from_date AS title_from_date'))"
   ]
  },
  {
   "cell_type": "code",
   "execution_count": 51,
   "metadata": {},
   "outputs": [
    {
     "data": {
      "text/plain": [
       "[('emp_no', 'int'), ('title', 'string'), ('title_from_date', 'string')]"
      ]
     },
     "execution_count": 51,
     "metadata": {},
     "output_type": "execute_result"
    }
   ],
   "source": [
    "active_titlesDF.dtypes"
   ]
  },
  {
   "cell_type": "markdown",
   "metadata": {},
   "source": [
    "\n",
    "Join department and departments_manager s DataFrames\n",
    "\n",
    "Result will have each department and corresponding manager's employee no\n"
   ]
  },
  {
   "cell_type": "code",
   "execution_count": 52,
   "metadata": {},
   "outputs": [
    {
     "name": "stdout",
     "output_type": "stream",
     "text": [
      "+-------+------------------+-------------------+----------+-------------+\n",
      "|dept_no|         dept_name|      last_modified|mgr_emp_no|mgr_from_date|\n",
      "+-------+------------------+-------------------+----------+-------------+\n",
      "|   d002|           Finance|2013-01-28 23:59:59|        10|   1990-12-17|\n",
      "|   d003|   Human Resources|2013-01-28 23:59:59|     19827|   1993-03-21|\n",
      "|   d001|         Marketing|2013-01-28 23:59:59|     45502|   1993-10-01|\n",
      "|   d005|       Development|2013-01-28 23:59:59|     64439|   1995-04-25|\n",
      "|   d007|             Sales|2013-01-28 23:59:59|     71341|   1994-03-07|\n",
      "|   d008|          Research|2013-01-28 23:59:59|    107706|   1996-04-08|\n",
      "|   d006|Quality Management|2013-01-28 23:59:59|    149081|   2000-06-28|\n",
      "|   d009|  Customer Service|2013-01-28 23:59:59|    151543|   2003-01-03|\n",
      "|   d004|        Production|2013-01-28 23:59:59|    215054|   2005-08-30|\n",
      "|   d010|         Analytics|2019-01-17 12:47:16|    300030|   2013-01-29|\n",
      "+-------+------------------+-------------------+----------+-------------+\n",
      "\n"
     ]
    }
   ],
   "source": [
    "dept_curr_mgrDF = deptDF.join(active_dept_managerDF, 'dept_no', 'inner')\n",
    "dept_curr_mgrDF.show(50)"
   ]
  },
  {
   "cell_type": "markdown",
   "metadata": {},
   "source": [
    "Find the manager's details by joining above DataFrame with employee's details using emp_no"
   ]
  },
  {
   "cell_type": "code",
   "execution_count": 53,
   "metadata": {},
   "outputs": [
    {
     "data": {
      "text/plain": [
       "[('dept_no', 'string'),\n",
       " ('dept_name', 'string'),\n",
       " ('last_modified', 'timestamp'),\n",
       " ('mgr_emp_no', 'int'),\n",
       " ('mgr_from_date', 'string')]"
      ]
     },
     "execution_count": 53,
     "metadata": {},
     "output_type": "execute_result"
    }
   ],
   "source": [
    "dept_curr_mgrDF.dtypes"
   ]
  },
  {
   "cell_type": "code",
   "execution_count": 54,
   "metadata": {},
   "outputs": [
    {
     "data": {
      "text/plain": [
       "[('emp_no', 'int'),\n",
       " ('birth_date', 'string'),\n",
       " ('first_name', 'string'),\n",
       " ('last_name', 'string'),\n",
       " ('gender', 'string'),\n",
       " ('hire_date', 'string')]"
      ]
     },
     "execution_count": 54,
     "metadata": {},
     "output_type": "execute_result"
    }
   ],
   "source": [
    "employeesDF.dtypes"
   ]
  },
  {
   "cell_type": "code",
   "execution_count": 55,
   "metadata": {},
   "outputs": [],
   "source": [
    "join_expr = dept_curr_mgrDF[\"mgr_emp_no\"] == employeesDF[\"emp_no\"]"
   ]
  },
  {
   "cell_type": "code",
   "execution_count": 56,
   "metadata": {},
   "outputs": [],
   "source": [
    "dept_curr_mgr_detailsDF = dept_curr_mgrDF.join(employeesDF,join_expr,'inner')"
   ]
  },
  {
   "cell_type": "code",
   "execution_count": 57,
   "metadata": {},
   "outputs": [
    {
     "data": {
      "text/plain": [
       "[('dept_no', 'string'),\n",
       " ('dept_name', 'string'),\n",
       " ('last_modified', 'timestamp'),\n",
       " ('mgr_emp_no', 'int'),\n",
       " ('mgr_from_date', 'string'),\n",
       " ('emp_no', 'int'),\n",
       " ('birth_date', 'string'),\n",
       " ('first_name', 'string'),\n",
       " ('last_name', 'string'),\n",
       " ('gender', 'string'),\n",
       " ('hire_date', 'string')]"
      ]
     },
     "execution_count": 57,
     "metadata": {},
     "output_type": "execute_result"
    }
   ],
   "source": [
    "dept_curr_mgr_detailsDF.dtypes"
   ]
  },
  {
   "cell_type": "code",
   "execution_count": 58,
   "metadata": {},
   "outputs": [
    {
     "name": "stdout",
     "output_type": "stream",
     "text": [
      "+-------+---------------+-------------------+----------+-------------+------+----------+----------+----------+------+----------+\n",
      "|dept_no|      dept_name|      last_modified|mgr_emp_no|mgr_from_date|emp_no|birth_date|first_name| last_name|gender| hire_date|\n",
      "+-------+---------------+-------------------+----------+-------------+------+----------+----------+----------+------+----------+\n",
      "|   d002|        Finance|2013-01-28 23:59:59|        10|   1990-12-17|    10|1959-03-28|     Isamu|Legleitner|     F|1986-01-14|\n",
      "|   d003|Human Resources|2013-01-28 23:59:59|     19827|   1993-03-21| 19827|1960-12-02|   Karsten|   Sigstam|     F|1986-08-04|\n",
      "|   d001|      Marketing|2013-01-28 23:59:59|     45502|   1993-10-01| 45502|1967-06-21|  Vishwani|  Minakawa|     M|1988-04-12|\n",
      "|   d005|    Development|2013-01-28 23:59:59|     64439|   1995-04-25| 64439|1970-04-25|      Leon|  DasSarma|     F|1989-10-21|\n",
      "+-------+---------------+-------------------+----------+-------------+------+----------+----------+----------+------+----------+\n",
      "only showing top 4 rows\n",
      "\n"
     ]
    }
   ],
   "source": [
    "dept_curr_mgr_detailsDF.show(4)"
   ]
  },
  {
   "cell_type": "markdown",
   "metadata": {},
   "source": [
    "Rename columns as necessary"
   ]
  },
  {
   "cell_type": "code",
   "execution_count": 59,
   "metadata": {},
   "outputs": [],
   "source": [
    "from pyspark.sql.functions import col\n",
    "\n",
    "replacements = {'birth_date' : 'mgr_birth_date', \n",
    "                'first_name' : 'mgr_first_name',\n",
    "                'last_name' : 'mgr_last_name',\n",
    "                'gender' : 'mgr_gender',\n",
    "                'hire_date' : 'mgr_hire_date'\n",
    "               }\n",
    "\n",
    "dept_curr_mgr_detailsDF = dept_curr_mgr_detailsDF.select([col(c).alias(replacements.get(c, c)) for c in dept_curr_mgr_detailsDF.columns])"
   ]
  },
  {
   "cell_type": "markdown",
   "metadata": {},
   "source": [
    "Verify above DataFrame"
   ]
  },
  {
   "cell_type": "code",
   "execution_count": 60,
   "metadata": {},
   "outputs": [
    {
     "name": "stdout",
     "output_type": "stream",
     "text": [
      "+-------+---------------+-------------------+----------+-------------+------+--------------+--------------+-------------+----------+-------------+\n",
      "|dept_no|      dept_name|      last_modified|mgr_emp_no|mgr_from_date|emp_no|mgr_birth_date|mgr_first_name|mgr_last_name|mgr_gender|mgr_hire_date|\n",
      "+-------+---------------+-------------------+----------+-------------+------+--------------+--------------+-------------+----------+-------------+\n",
      "|   d002|        Finance|2013-01-28 23:59:59|        10|   1990-12-17|    10|    1959-03-28|         Isamu|   Legleitner|         F|   1986-01-14|\n",
      "|   d003|Human Resources|2013-01-28 23:59:59|     19827|   1993-03-21| 19827|    1960-12-02|       Karsten|      Sigstam|         F|   1986-08-04|\n",
      "|   d001|      Marketing|2013-01-28 23:59:59|     45502|   1993-10-01| 45502|    1967-06-21|      Vishwani|     Minakawa|         M|   1988-04-12|\n",
      "|   d005|    Development|2013-01-28 23:59:59|     64439|   1995-04-25| 64439|    1970-04-25|          Leon|     DasSarma|         F|   1989-10-21|\n",
      "+-------+---------------+-------------------+----------+-------------+------+--------------+--------------+-------------+----------+-------------+\n",
      "only showing top 4 rows\n",
      "\n"
     ]
    }
   ],
   "source": [
    "dept_curr_mgr_detailsDF.show(4)"
   ]
  },
  {
   "cell_type": "markdown",
   "metadata": {},
   "source": [
    "Remove unwanted columns"
   ]
  },
  {
   "cell_type": "code",
   "execution_count": 61,
   "metadata": {},
   "outputs": [],
   "source": [
    "dept_curr_mgr_detailsDF = dept_curr_mgr_detailsDF.drop('last_modified', 'emp_no')"
   ]
  },
  {
   "cell_type": "code",
   "execution_count": 62,
   "metadata": {},
   "outputs": [
    {
     "data": {
      "text/plain": [
       "[('dept_no', 'string'),\n",
       " ('dept_name', 'string'),\n",
       " ('mgr_emp_no', 'int'),\n",
       " ('mgr_from_date', 'string'),\n",
       " ('mgr_birth_date', 'string'),\n",
       " ('mgr_first_name', 'string'),\n",
       " ('mgr_last_name', 'string'),\n",
       " ('mgr_gender', 'string'),\n",
       " ('mgr_hire_date', 'string')]"
      ]
     },
     "execution_count": 62,
     "metadata": {},
     "output_type": "execute_result"
    }
   ],
   "source": [
    "dept_curr_mgr_detailsDF.dtypes"
   ]
  },
  {
   "cell_type": "code",
   "execution_count": 63,
   "metadata": {},
   "outputs": [
    {
     "name": "stdout",
     "output_type": "stream",
     "text": [
      "+-------+---------------+----------+-------------+--------------+--------------+-------------+----------+-------------+\n",
      "|dept_no|      dept_name|mgr_emp_no|mgr_from_date|mgr_birth_date|mgr_first_name|mgr_last_name|mgr_gender|mgr_hire_date|\n",
      "+-------+---------------+----------+-------------+--------------+--------------+-------------+----------+-------------+\n",
      "|   d002|        Finance|        10|   1990-12-17|    1959-03-28|         Isamu|   Legleitner|         F|   1986-01-14|\n",
      "|   d003|Human Resources|     19827|   1993-03-21|    1960-12-02|       Karsten|      Sigstam|         F|   1986-08-04|\n",
      "|   d001|      Marketing|     45502|   1993-10-01|    1967-06-21|      Vishwani|     Minakawa|         M|   1988-04-12|\n",
      "|   d005|    Development|     64439|   1995-04-25|    1970-04-25|          Leon|     DasSarma|         F|   1989-10-21|\n",
      "+-------+---------------+----------+-------------+--------------+--------------+-------------+----------+-------------+\n",
      "only showing top 4 rows\n",
      "\n"
     ]
    }
   ],
   "source": [
    "dept_curr_mgr_detailsDF.show(4)"
   ]
  },
  {
   "cell_type": "markdown",
   "metadata": {},
   "source": [
    "Join employees DataFrame with departments&employee DataFrame\n",
    "<br>Join employeesDF and active_dept_empDF based on emp_no\n",
    "<br>result DataFrame of the above is employee and his/her corresponding department"
   ]
  },
  {
   "cell_type": "code",
   "execution_count": 64,
   "metadata": {},
   "outputs": [
    {
     "data": {
      "text/plain": [
       "[('emp_no', 'int'),\n",
       " ('birth_date', 'string'),\n",
       " ('first_name', 'string'),\n",
       " ('last_name', 'string'),\n",
       " ('gender', 'string'),\n",
       " ('hire_date', 'string')]"
      ]
     },
     "execution_count": 64,
     "metadata": {},
     "output_type": "execute_result"
    }
   ],
   "source": [
    "employeesDF.dtypes"
   ]
  },
  {
   "cell_type": "code",
   "execution_count": 65,
   "metadata": {},
   "outputs": [
    {
     "data": {
      "text/plain": [
       "[('seq_no', 'int'),\n",
       " ('emp_no', 'int'),\n",
       " ('dept_no', 'string'),\n",
       " ('from_date', 'string'),\n",
       " ('to_date', 'string')]"
      ]
     },
     "execution_count": 65,
     "metadata": {},
     "output_type": "execute_result"
    }
   ],
   "source": [
    "active_dept_empDF.dtypes"
   ]
  },
  {
   "cell_type": "code",
   "execution_count": 66,
   "metadata": {},
   "outputs": [],
   "source": [
    "emp_deptDF = active_dept_empDF.join(employeesDF,'emp_no','inner')"
   ]
  },
  {
   "cell_type": "markdown",
   "metadata": {},
   "source": [
    "Verify the above result DataFrame"
   ]
  },
  {
   "cell_type": "code",
   "execution_count": 67,
   "metadata": {},
   "outputs": [
    {
     "name": "stdout",
     "output_type": "stream",
     "text": [
      "+------+------+-------+----------+----------+----------+----------+---------+------+----------+\n",
      "|emp_no|seq_no|dept_no| from_date|   to_date|birth_date|first_name|last_name|gender| hire_date|\n",
      "+------+------+-------+----------+----------+----------+----------+---------+------+----------+\n",
      "|   148|   156|   d005|1986-02-03|9999-01-01|1960-03-11|    Feipei| Nollmann|     M|1986-02-03|\n",
      "|   463|   507|   d008|1986-02-06|9999-01-01|1955-04-15|Dharmaraja| Sadowsky|     M|1986-02-06|\n",
      "|   496|   543|   d006|2001-09-02|9999-01-01|1964-03-29|      Mari|    Rotem|     M|1986-02-06|\n",
      "|   833|   914|   d005|1994-03-25|9999-01-01|1961-09-14|      Huan|  Preusig|     M|1986-02-09|\n",
      "+------+------+-------+----------+----------+----------+----------+---------+------+----------+\n",
      "only showing top 4 rows\n",
      "\n"
     ]
    }
   ],
   "source": [
    "emp_deptDF.show(4)"
   ]
  },
  {
   "cell_type": "markdown",
   "metadata": {},
   "source": [
    "Rename the columns"
   ]
  },
  {
   "cell_type": "code",
   "execution_count": 68,
   "metadata": {},
   "outputs": [],
   "source": [
    "from pyspark.sql.functions import col\n",
    "\n",
    "replacements = {\n",
    "    'from_date' : 'dept_from_date',\n",
    "    'birth_date' : 'emp_birth_date',\n",
    "    'first_name' : 'emp_first_name',\n",
    "    'last_name' : 'emp_last_name',\n",
    "    'gender' : 'emp_gender',\n",
    "    'hire_date' : 'emp_hire_date'\n",
    "}\n",
    "\n",
    "emp_deptDF = emp_deptDF.select([col(c).alias(replacements.get(c, c)) for c in emp_deptDF.columns])"
   ]
  },
  {
   "cell_type": "markdown",
   "metadata": {},
   "source": [
    "Verify DataFrame"
   ]
  },
  {
   "cell_type": "code",
   "execution_count": 69,
   "metadata": {},
   "outputs": [
    {
     "name": "stdout",
     "output_type": "stream",
     "text": [
      "+------+------+-------+--------------+----------+--------------+--------------+-------------+----------+-------------+\n",
      "|emp_no|seq_no|dept_no|dept_from_date|   to_date|emp_birth_date|emp_first_name|emp_last_name|emp_gender|emp_hire_date|\n",
      "+------+------+-------+--------------+----------+--------------+--------------+-------------+----------+-------------+\n",
      "|   148|   156|   d005|    1986-02-03|9999-01-01|    1960-03-11|        Feipei|     Nollmann|         M|   1986-02-03|\n",
      "|   463|   507|   d008|    1986-02-06|9999-01-01|    1955-04-15|    Dharmaraja|     Sadowsky|         M|   1986-02-06|\n",
      "|   496|   543|   d006|    2001-09-02|9999-01-01|    1964-03-29|          Mari|        Rotem|         M|   1986-02-06|\n",
      "|   833|   914|   d005|    1994-03-25|9999-01-01|    1961-09-14|          Huan|      Preusig|         M|   1986-02-09|\n",
      "+------+------+-------+--------------+----------+--------------+--------------+-------------+----------+-------------+\n",
      "only showing top 4 rows\n",
      "\n"
     ]
    }
   ],
   "source": [
    "emp_deptDF.show(4)"
   ]
  },
  {
   "cell_type": "markdown",
   "metadata": {},
   "source": [
    "Verify active records count"
   ]
  },
  {
   "cell_type": "code",
   "execution_count": 70,
   "metadata": {},
   "outputs": [
    {
     "data": {
      "text/plain": [
       "250124"
      ]
     },
     "execution_count": 70,
     "metadata": {},
     "output_type": "execute_result"
    }
   ],
   "source": [
    "emp_deptDF.count()"
   ]
  },
  {
   "cell_type": "markdown",
   "metadata": {},
   "source": [
    "Create a DataFrame with employees and respective manager's details<br>\n",
    "<br>DataFrame **emp_deptDF** contains all the active employees along with the their department\n",
    "<br>DataFrame **dept_curr_mgr_detailsDF** contains all the departments its manager''s details\n",
    "<br>Join these two DataFrames based on the **dept_no**, to result a DataFrame with employee''s along with the manager''s details."
   ]
  },
  {
   "cell_type": "code",
   "execution_count": 71,
   "metadata": {},
   "outputs": [
    {
     "data": {
      "text/plain": [
       "[('emp_no', 'int'),\n",
       " ('seq_no', 'int'),\n",
       " ('dept_no', 'string'),\n",
       " ('dept_from_date', 'string'),\n",
       " ('to_date', 'string'),\n",
       " ('emp_birth_date', 'string'),\n",
       " ('emp_first_name', 'string'),\n",
       " ('emp_last_name', 'string'),\n",
       " ('emp_gender', 'string'),\n",
       " ('emp_hire_date', 'string')]"
      ]
     },
     "execution_count": 71,
     "metadata": {},
     "output_type": "execute_result"
    }
   ],
   "source": [
    "emp_deptDF.dtypes"
   ]
  },
  {
   "cell_type": "code",
   "execution_count": 72,
   "metadata": {},
   "outputs": [
    {
     "data": {
      "text/plain": [
       "250124"
      ]
     },
     "execution_count": 72,
     "metadata": {},
     "output_type": "execute_result"
    }
   ],
   "source": [
    "emp_deptDF.count()"
   ]
  },
  {
   "cell_type": "code",
   "execution_count": 73,
   "metadata": {},
   "outputs": [
    {
     "data": {
      "text/plain": [
       "[('dept_no', 'string'),\n",
       " ('dept_name', 'string'),\n",
       " ('mgr_emp_no', 'int'),\n",
       " ('mgr_from_date', 'string'),\n",
       " ('mgr_birth_date', 'string'),\n",
       " ('mgr_first_name', 'string'),\n",
       " ('mgr_last_name', 'string'),\n",
       " ('mgr_gender', 'string'),\n",
       " ('mgr_hire_date', 'string')]"
      ]
     },
     "execution_count": 73,
     "metadata": {},
     "output_type": "execute_result"
    }
   ],
   "source": [
    "dept_curr_mgr_detailsDF.dtypes"
   ]
  },
  {
   "cell_type": "code",
   "execution_count": 74,
   "metadata": {},
   "outputs": [
    {
     "data": {
      "text/plain": [
       "10"
      ]
     },
     "execution_count": 74,
     "metadata": {},
     "output_type": "execute_result"
    }
   ],
   "source": [
    "dept_curr_mgr_detailsDF.count()"
   ]
  },
  {
   "cell_type": "markdown",
   "metadata": {},
   "source": [
    "Join by broadcasting the smaller table - efficient join"
   ]
  },
  {
   "cell_type": "code",
   "execution_count": 75,
   "metadata": {},
   "outputs": [],
   "source": [
    "from pyspark.sql.functions import broadcast\n",
    "active_emp_dept_mgrDF = emp_deptDF.join(broadcast(dept_curr_mgr_detailsDF), 'dept_no', 'inner')"
   ]
  },
  {
   "cell_type": "markdown",
   "metadata": {},
   "source": [
    "Verify the DataFrame"
   ]
  },
  {
   "cell_type": "code",
   "execution_count": 76,
   "metadata": {},
   "outputs": [
    {
     "name": "stdout",
     "output_type": "stream",
     "text": [
      "+-------+------+------+--------------+----------+--------------+--------------+-------------+----------+-------------+------------------+----------+-------------+--------------+--------------+-------------+----------+-------------+\n",
      "|dept_no|emp_no|seq_no|dept_from_date|   to_date|emp_birth_date|emp_first_name|emp_last_name|emp_gender|emp_hire_date|         dept_name|mgr_emp_no|mgr_from_date|mgr_birth_date|mgr_first_name|mgr_last_name|mgr_gender|mgr_hire_date|\n",
      "+-------+------+------+--------------+----------+--------------+--------------+-------------+----------+-------------+------------------+----------+-------------+--------------+--------------+-------------+----------+-------------+\n",
      "|   d005|   148|   156|    1986-02-03|9999-01-01|    1960-03-11|        Feipei|     Nollmann|         M|   1986-02-03|       Development|     64439|   1995-04-25|    1970-04-25|          Leon|     DasSarma|         F|   1989-10-21|\n",
      "|   d008|   463|   507|    1986-02-06|9999-01-01|    1955-04-15|    Dharmaraja|     Sadowsky|         M|   1986-02-06|          Research|    107706|   1996-04-08|    1962-06-27|        Hilary|       Kambil|         F|   1993-01-31|\n",
      "|   d006|   496|   543|    2001-09-02|9999-01-01|    1964-03-29|          Mari|        Rotem|         M|   1986-02-06|Quality Management|    149081|   2000-06-28|    1972-08-19|          Dung|        Pesch|         M|   1995-06-09|\n",
      "|   d005|   833|   914|    1994-03-25|9999-01-01|    1961-09-14|          Huan|      Preusig|         M|   1986-02-09|       Development|     64439|   1995-04-25|    1970-04-25|          Leon|     DasSarma|         F|   1989-10-21|\n",
      "+-------+------+------+--------------+----------+--------------+--------------+-------------+----------+-------------+------------------+----------+-------------+--------------+--------------+-------------+----------+-------------+\n",
      "only showing top 4 rows\n",
      "\n"
     ]
    }
   ],
   "source": [
    "active_emp_dept_mgrDF.show(4)"
   ]
  },
  {
   "cell_type": "markdown",
   "metadata": {},
   "source": [
    "Verify the counts"
   ]
  },
  {
   "cell_type": "code",
   "execution_count": 77,
   "metadata": {},
   "outputs": [
    {
     "data": {
      "text/plain": [
       "250124"
      ]
     },
     "execution_count": 77,
     "metadata": {},
     "output_type": "execute_result"
    }
   ],
   "source": [
    "active_emp_dept_mgrDF.count()"
   ]
  },
  {
   "cell_type": "markdown",
   "metadata": {},
   "source": [
    "Make the DataFrame available in in-memory"
   ]
  },
  {
   "cell_type": "code",
   "execution_count": 78,
   "metadata": {},
   "outputs": [
    {
     "data": {
      "text/plain": [
       "DataFrame[dept_no: string, emp_no: int, seq_no: int, dept_from_date: string, to_date: string, emp_birth_date: string, emp_first_name: string, emp_last_name: string, emp_gender: string, emp_hire_date: string, dept_name: string, mgr_emp_no: int, mgr_from_date: string, mgr_birth_date: string, mgr_first_name: string, mgr_last_name: string, mgr_gender: string, mgr_hire_date: string]"
      ]
     },
     "execution_count": 78,
     "metadata": {},
     "output_type": "execute_result"
    }
   ],
   "source": [
    "active_emp_dept_mgrDF.cache()"
   ]
  },
  {
   "cell_type": "markdown",
   "metadata": {},
   "source": [
    "Join Salaries and Titles DataFrames<br>\n",
    "<br>**active_salariesDF** DataFrame contains the current salaries details of active employees\n",
    "<br>**active_titlesDF** DataFrame contains the current titles/designation details of active employees\n",
    "<br>join these two DataFrames based on the emp_no\n",
    "<br>result is DataFrame consists of all active employees along with their salaries and titles details"
   ]
  },
  {
   "cell_type": "code",
   "execution_count": 79,
   "metadata": {},
   "outputs": [
    {
     "data": {
      "text/plain": [
       "[('emp_no', 'int'), ('salary', 'int'), ('sal_from_date', 'string')]"
      ]
     },
     "execution_count": 79,
     "metadata": {},
     "output_type": "execute_result"
    }
   ],
   "source": [
    "active_salariesDF.dtypes"
   ]
  },
  {
   "cell_type": "code",
   "execution_count": 80,
   "metadata": {},
   "outputs": [
    {
     "data": {
      "text/plain": [
       "[('emp_no', 'int'), ('title', 'string'), ('title_from_date', 'string')]"
      ]
     },
     "execution_count": 80,
     "metadata": {},
     "output_type": "execute_result"
    }
   ],
   "source": [
    "active_titlesDF.dtypes"
   ]
  },
  {
   "cell_type": "code",
   "execution_count": 81,
   "metadata": {},
   "outputs": [
    {
     "data": {
      "text/plain": [
       "DataFrame[emp_no: int, title: string, title_from_date: string]"
      ]
     },
     "execution_count": 81,
     "metadata": {},
     "output_type": "execute_result"
    }
   ],
   "source": [
    "active_salariesDF.cache()\n",
    "active_titlesDF.cache()"
   ]
  },
  {
   "cell_type": "code",
   "execution_count": 82,
   "metadata": {},
   "outputs": [],
   "source": [
    "emp_sal_titlesDF = active_salariesDF.join(active_titlesDF, 'emp_no', 'inner')"
   ]
  },
  {
   "cell_type": "markdown",
   "metadata": {},
   "source": [
    "Verify the DataFrame"
   ]
  },
  {
   "cell_type": "code",
   "execution_count": 83,
   "metadata": {},
   "outputs": [
    {
     "name": "stdout",
     "output_type": "stream",
     "text": [
      "+------+------+-------------+---------------+---------------+\n",
      "|emp_no|salary|sal_from_date|          title|title_from_date|\n",
      "+------+------+-------------+---------------+---------------+\n",
      "|   148|121640|   2003-01-30|Senior Engineer|     1993-02-04|\n",
      "|   463| 63130|   2003-02-02|   Senior Staff|     1986-02-06|\n",
      "|   496| 50281|   2002-08-16|       Engineer|     2000-08-17|\n",
      "|   833| 52747|   2003-03-23|Senior Engineer|     1994-03-25|\n",
      "+------+------+-------------+---------------+---------------+\n",
      "only showing top 4 rows\n",
      "\n"
     ]
    }
   ],
   "source": [
    "emp_sal_titlesDF.show(4)"
   ]
  },
  {
   "cell_type": "markdown",
   "metadata": {},
   "source": [
    "Verify record count"
   ]
  },
  {
   "cell_type": "code",
   "execution_count": 84,
   "metadata": {},
   "outputs": [
    {
     "data": {
      "text/plain": [
       "250124"
      ]
     },
     "execution_count": 84,
     "metadata": {},
     "output_type": "execute_result"
    }
   ],
   "source": [
    "emp_sal_titlesDF.count()"
   ]
  },
  {
   "cell_type": "code",
   "execution_count": 85,
   "metadata": {},
   "outputs": [
    {
     "data": {
      "text/plain": [
       "DataFrame[emp_no: int, salary: int, sal_from_date: string, title: string, title_from_date: string]"
      ]
     },
     "execution_count": 85,
     "metadata": {},
     "output_type": "execute_result"
    }
   ],
   "source": [
    "emp_sal_titlesDF.cache()"
   ]
  },
  {
   "cell_type": "markdown",
   "metadata": {},
   "source": [
    "Final Join<br>\n",
    "<br>By now there are 2 DataFrames\n",
    "<br>**active_emp_dept_mgrDF** consists of all active employees along with the manager''s details.\n",
    "<br>**emp_sal_titlesDF** consists of the current salary and titles details for all the active employees.\n",
    "<br>join these two DataFrames to result a DataFrame with all the details for all active employees"
   ]
  },
  {
   "cell_type": "code",
   "execution_count": 86,
   "metadata": {},
   "outputs": [
    {
     "data": {
      "text/plain": [
       "250124"
      ]
     },
     "execution_count": 86,
     "metadata": {},
     "output_type": "execute_result"
    }
   ],
   "source": [
    "active_emp_dept_mgrDF.count()"
   ]
  },
  {
   "cell_type": "code",
   "execution_count": 87,
   "metadata": {},
   "outputs": [
    {
     "data": {
      "text/plain": [
       "[('dept_no', 'string'),\n",
       " ('emp_no', 'int'),\n",
       " ('seq_no', 'int'),\n",
       " ('dept_from_date', 'string'),\n",
       " ('to_date', 'string'),\n",
       " ('emp_birth_date', 'string'),\n",
       " ('emp_first_name', 'string'),\n",
       " ('emp_last_name', 'string'),\n",
       " ('emp_gender', 'string'),\n",
       " ('emp_hire_date', 'string'),\n",
       " ('dept_name', 'string'),\n",
       " ('mgr_emp_no', 'int'),\n",
       " ('mgr_from_date', 'string'),\n",
       " ('mgr_birth_date', 'string'),\n",
       " ('mgr_first_name', 'string'),\n",
       " ('mgr_last_name', 'string'),\n",
       " ('mgr_gender', 'string'),\n",
       " ('mgr_hire_date', 'string')]"
      ]
     },
     "execution_count": 87,
     "metadata": {},
     "output_type": "execute_result"
    }
   ],
   "source": [
    "active_emp_dept_mgrDF.dtypes"
   ]
  },
  {
   "cell_type": "code",
   "execution_count": 88,
   "metadata": {},
   "outputs": [
    {
     "data": {
      "text/plain": [
       "250124"
      ]
     },
     "execution_count": 88,
     "metadata": {},
     "output_type": "execute_result"
    }
   ],
   "source": [
    "emp_sal_titlesDF.count()"
   ]
  },
  {
   "cell_type": "code",
   "execution_count": 89,
   "metadata": {},
   "outputs": [
    {
     "data": {
      "text/plain": [
       "[('emp_no', 'int'),\n",
       " ('salary', 'int'),\n",
       " ('sal_from_date', 'string'),\n",
       " ('title', 'string'),\n",
       " ('title_from_date', 'string')]"
      ]
     },
     "execution_count": 89,
     "metadata": {},
     "output_type": "execute_result"
    }
   ],
   "source": [
    "emp_sal_titlesDF.dtypes"
   ]
  },
  {
   "cell_type": "code",
   "execution_count": 90,
   "metadata": {},
   "outputs": [
    {
     "data": {
      "text/plain": [
       "DataFrame[dept_no: string, emp_no: int, seq_no: int, dept_from_date: string, to_date: string, emp_birth_date: string, emp_first_name: string, emp_last_name: string, emp_gender: string, emp_hire_date: string, dept_name: string, mgr_emp_no: int, mgr_from_date: string, mgr_birth_date: string, mgr_first_name: string, mgr_last_name: string, mgr_gender: string, mgr_hire_date: string]"
      ]
     },
     "execution_count": 90,
     "metadata": {},
     "output_type": "execute_result"
    }
   ],
   "source": [
    "emp_sal_titlesDF.cache()\n",
    "active_emp_dept_mgrDF.cache()"
   ]
  },
  {
   "cell_type": "code",
   "execution_count": 91,
   "metadata": {},
   "outputs": [],
   "source": [
    "active_emp_detailsDF = active_emp_dept_mgrDF.join(emp_sal_titlesDF, 'emp_no', 'inner')"
   ]
  },
  {
   "cell_type": "code",
   "execution_count": 92,
   "metadata": {},
   "outputs": [
    {
     "data": {
      "text/plain": [
       "DataFrame[emp_no: int, dept_no: string, seq_no: int, dept_from_date: string, to_date: string, emp_birth_date: string, emp_first_name: string, emp_last_name: string, emp_gender: string, emp_hire_date: string, dept_name: string, mgr_emp_no: int, mgr_from_date: string, mgr_birth_date: string, mgr_first_name: string, mgr_last_name: string, mgr_gender: string, mgr_hire_date: string, salary: int, sal_from_date: string, title: string, title_from_date: string]"
      ]
     },
     "execution_count": 92,
     "metadata": {},
     "output_type": "execute_result"
    }
   ],
   "source": [
    "active_emp_detailsDF.cache()"
   ]
  },
  {
   "cell_type": "markdown",
   "metadata": {},
   "source": [
    "Verify DataFrame"
   ]
  },
  {
   "cell_type": "code",
   "execution_count": 93,
   "metadata": {},
   "outputs": [
    {
     "name": "stdout",
     "output_type": "stream",
     "text": [
      "+------+-------+------+--------------+----------+--------------+--------------+-------------+----------+-------------+------------------+----------+-------------+--------------+--------------+-------------+----------+-------------+------+-------------+---------------+---------------+\n",
      "|emp_no|dept_no|seq_no|dept_from_date|   to_date|emp_birth_date|emp_first_name|emp_last_name|emp_gender|emp_hire_date|         dept_name|mgr_emp_no|mgr_from_date|mgr_birth_date|mgr_first_name|mgr_last_name|mgr_gender|mgr_hire_date|salary|sal_from_date|          title|title_from_date|\n",
      "+------+-------+------+--------------+----------+--------------+--------------+-------------+----------+-------------+------------------+----------+-------------+--------------+--------------+-------------+----------+-------------+------+-------------+---------------+---------------+\n",
      "|   148|   d005|   156|    1986-02-03|9999-01-01|    1960-03-11|        Feipei|     Nollmann|         M|   1986-02-03|       Development|     64439|   1995-04-25|    1970-04-25|          Leon|     DasSarma|         F|   1989-10-21|121640|   2003-01-30|Senior Engineer|     1993-02-04|\n",
      "|   463|   d008|   507|    1986-02-06|9999-01-01|    1955-04-15|    Dharmaraja|     Sadowsky|         M|   1986-02-06|          Research|    107706|   1996-04-08|    1962-06-27|        Hilary|       Kambil|         F|   1993-01-31| 63130|   2003-02-02|   Senior Staff|     1986-02-06|\n",
      "|   496|   d006|   543|    2001-09-02|9999-01-01|    1964-03-29|          Mari|        Rotem|         M|   1986-02-06|Quality Management|    149081|   2000-06-28|    1972-08-19|          Dung|        Pesch|         M|   1995-06-09| 50281|   2002-08-16|       Engineer|     2000-08-17|\n",
      "|   833|   d005|   914|    1994-03-25|9999-01-01|    1961-09-14|          Huan|      Preusig|         M|   1986-02-09|       Development|     64439|   1995-04-25|    1970-04-25|          Leon|     DasSarma|         F|   1989-10-21| 52747|   2003-03-23|Senior Engineer|     1994-03-25|\n",
      "+------+-------+------+--------------+----------+--------------+--------------+-------------+----------+-------------+------------------+----------+-------------+--------------+--------------+-------------+----------+-------------+------+-------------+---------------+---------------+\n",
      "only showing top 4 rows\n",
      "\n"
     ]
    }
   ],
   "source": [
    "active_emp_detailsDF.show(4)"
   ]
  },
  {
   "cell_type": "markdown",
   "metadata": {},
   "source": [
    "Derive additional columns such as <br>\n",
    "- emp_age = current_date - emp_birth_date\n",
    "- emp_tenure = current_date - emp_hire_date\n",
    "- mgr_age = current_date - mgr_birth_date\n",
    "- mgr_tenure = current_date - mgr_hire_date\n",
    "- salary_since = current_date - sal_from_date\n",
    "- role_since = current_date - title_from_date\n",
    "- emp_dept_tenure = current_date - dept_from_date\n",
    "- mgr_dept_tenure = current_date - mgr_from_date\n",
    "<br>\n",
    "<br>Create a temporary table/view to perform sql queries"
   ]
  },
  {
   "cell_type": "code",
   "execution_count": 94,
   "metadata": {},
   "outputs": [],
   "source": [
    "active_emp_detailsDF.registerTempTable(\"active_emp_details_sqlTBL\")"
   ]
  },
  {
   "cell_type": "code",
   "execution_count": 95,
   "metadata": {},
   "outputs": [
    {
     "data": {
      "text/plain": [
       "[('emp_no', 'int'),\n",
       " ('dept_no', 'string'),\n",
       " ('seq_no', 'int'),\n",
       " ('dept_from_date', 'string'),\n",
       " ('to_date', 'string'),\n",
       " ('emp_birth_date', 'string'),\n",
       " ('emp_first_name', 'string'),\n",
       " ('emp_last_name', 'string'),\n",
       " ('emp_gender', 'string'),\n",
       " ('emp_hire_date', 'string'),\n",
       " ('dept_name', 'string'),\n",
       " ('mgr_emp_no', 'int'),\n",
       " ('mgr_from_date', 'string'),\n",
       " ('mgr_birth_date', 'string'),\n",
       " ('mgr_first_name', 'string'),\n",
       " ('mgr_last_name', 'string'),\n",
       " ('mgr_gender', 'string'),\n",
       " ('mgr_hire_date', 'string'),\n",
       " ('salary', 'int'),\n",
       " ('sal_from_date', 'string'),\n",
       " ('title', 'string'),\n",
       " ('title_from_date', 'string')]"
      ]
     },
     "execution_count": 95,
     "metadata": {},
     "output_type": "execute_result"
    }
   ],
   "source": [
    "active_emp_detailsDF.dtypes"
   ]
  },
  {
   "cell_type": "markdown",
   "metadata": {},
   "source": [
    "Change the order of the columns with the select and derive the columns as necessary"
   ]
  },
  {
   "cell_type": "code",
   "execution_count": 96,
   "metadata": {},
   "outputs": [],
   "source": [
    "active_employees_data  = spark.sql(\"\"\"\n",
    "SELECT emp_no, emp_first_name, emp_last_name, emp_gender, emp_birth_date, emp_hire_date,\n",
    "       round(datediff(current_date,to_date(emp_birth_date))/365) as emp_age,\n",
    "       round(datediff(current_date,to_date(emp_hire_date))/365) as emp_tenure,\n",
    "       salary, sal_from_date, \n",
    "       round(datediff(current_date,to_date(sal_from_date))/365) as salary_since,\n",
    "       title, title_from_date,\n",
    "       round(datediff(current_date,to_date(title_from_date))/365) as role_since,\n",
    "       dept_no, dept_name, dept_from_date,\n",
    "       round(datediff(current_date,to_date(dept_from_date))/365) as emp_dept_tenure,\n",
    "       mgr_emp_no, mgr_first_name, mgr_last_name, mgr_gender, mgr_birth_date, mgr_hire_date, mgr_from_date,\n",
    "       round(datediff(current_date,to_date(mgr_birth_date))/365) as mgr_age,\n",
    "       round(datediff(current_date,to_date(mgr_hire_date))/365) as mgr_tenure,\n",
    "       round(datediff(current_date,to_date(mgr_from_date))/365) as mgr_dept_tenure\n",
    "FROM active_emp_details_sqlTBL\"\"\")"
   ]
  },
  {
   "cell_type": "markdown",
   "metadata": {},
   "source": [
    "Verify the DataFrame"
   ]
  },
  {
   "cell_type": "code",
   "execution_count": 97,
   "metadata": {},
   "outputs": [
    {
     "name": "stdout",
     "output_type": "stream",
     "text": [
      "+------+--------------+-------------+----------+--------------+-------------+-------+----------+------+-------------+------------+---------------+---------------+----------+-------+------------------+--------------+---------------+----------+--------------+-------------+----------+--------------+-------------+-------------+-------+----------+---------------+\n",
      "|emp_no|emp_first_name|emp_last_name|emp_gender|emp_birth_date|emp_hire_date|emp_age|emp_tenure|salary|sal_from_date|salary_since|          title|title_from_date|role_since|dept_no|         dept_name|dept_from_date|emp_dept_tenure|mgr_emp_no|mgr_first_name|mgr_last_name|mgr_gender|mgr_birth_date|mgr_hire_date|mgr_from_date|mgr_age|mgr_tenure|mgr_dept_tenure|\n",
      "+------+--------------+-------------+----------+--------------+-------------+-------+----------+------+-------------+------------+---------------+---------------+----------+-------+------------------+--------------+---------------+----------+--------------+-------------+----------+--------------+-------------+-------------+-------+----------+---------------+\n",
      "|   148|        Feipei|     Nollmann|         M|    1960-03-11|   1986-02-03|   59.0|      33.0|121640|   2003-01-30|        16.0|Senior Engineer|     1993-02-04|      26.0|   d005|       Development|    1986-02-03|           33.0|     64439|          Leon|     DasSarma|         F|    1970-04-25|   1989-10-21|   1995-04-25|   49.0|      29.0|           24.0|\n",
      "|   463|    Dharmaraja|     Sadowsky|         M|    1955-04-15|   1986-02-06|   64.0|      33.0| 63130|   2003-02-02|        16.0|   Senior Staff|     1986-02-06|      33.0|   d008|          Research|    1986-02-06|           33.0|    107706|        Hilary|       Kambil|         F|    1962-06-27|   1993-01-31|   1996-04-08|   57.0|      26.0|           23.0|\n",
      "|   496|          Mari|        Rotem|         M|    1964-03-29|   1986-02-06|   55.0|      33.0| 50281|   2002-08-16|        16.0|       Engineer|     2000-08-17|      18.0|   d006|Quality Management|    2001-09-02|           17.0|    149081|          Dung|        Pesch|         M|    1972-08-19|   1995-06-09|   2000-06-28|   46.0|      24.0|           19.0|\n",
      "|   833|          Huan|      Preusig|         M|    1961-09-14|   1986-02-09|   57.0|      33.0| 52747|   2003-03-23|        16.0|Senior Engineer|     1994-03-25|      25.0|   d005|       Development|    1994-03-25|           25.0|     64439|          Leon|     DasSarma|         F|    1970-04-25|   1989-10-21|   1995-04-25|   49.0|      29.0|           24.0|\n",
      "+------+--------------+-------------+----------+--------------+-------------+-------+----------+------+-------------+------------+---------------+---------------+----------+-------+------------------+--------------+---------------+----------+--------------+-------------+----------+--------------+-------------+-------------+-------+----------+---------------+\n",
      "only showing top 4 rows\n",
      "\n"
     ]
    }
   ],
   "source": [
    "active_employees_data.show(4)"
   ]
  },
  {
   "cell_type": "markdown",
   "metadata": {},
   "source": [
    "Write the DataFrame to the persistent storage - HDFS"
   ]
  },
  {
   "cell_type": "code",
   "execution_count": 98,
   "metadata": {},
   "outputs": [],
   "source": [
    "active_employees_data.repartition(1).write.option(\"header\", \"false\").csv(\"/user/rameshm/Batch49/employeesdb/results/active_employees_data\")"
   ]
  },
  {
   "cell_type": "code",
   "execution_count": 99,
   "metadata": {},
   "outputs": [
    {
     "data": {
      "text/plain": [
       "DataFrame[emp_no: int, emp_first_name: string, emp_last_name: string, emp_gender: string, emp_birth_date: string, emp_hire_date: string, emp_age: double, emp_tenure: double, salary: int, sal_from_date: string, salary_since: double, title: string, title_from_date: string, role_since: double, dept_no: string, dept_name: string, dept_from_date: string, emp_dept_tenure: double, mgr_emp_no: int, mgr_first_name: string, mgr_last_name: string, mgr_gender: string, mgr_birth_date: string, mgr_hire_date: string, mgr_from_date: string, mgr_age: double, mgr_tenure: double, mgr_dept_tenure: double]"
      ]
     },
     "execution_count": 99,
     "metadata": {},
     "output_type": "execute_result"
    }
   ],
   "source": [
    "active_employees_data.cache()"
   ]
  },
  {
   "cell_type": "code",
   "execution_count": 100,
   "metadata": {},
   "outputs": [
    {
     "data": {
      "text/plain": [
       "250124"
      ]
     },
     "execution_count": 100,
     "metadata": {},
     "output_type": "execute_result"
    }
   ],
   "source": [
    "active_employees_data.count()"
   ]
  },
  {
   "cell_type": "markdown",
   "metadata": {},
   "source": [
    "#### Aggregated Data\n",
    "<br>Create the Aggregations\n",
    "- Based on Department\n",
    "- Based on Department and Gender\n",
    "<br>Aggregate based on department"
   ]
  },
  {
   "cell_type": "code",
   "execution_count": 101,
   "metadata": {},
   "outputs": [],
   "source": [
    "from pyspark.sql import functions as F\n",
    "\n",
    "dept_aggrDF = active_employees_data.groupBy('dept_no').agg(\n",
    "    F.min('salary').alias('Min_Salary'),\n",
    "    F.max('salary').alias('Max_Salary'),\n",
    "    F.mean('salary').alias('Mean_Salary'),\n",
    "    F.count('salary').alias('Total_Employees'),\n",
    "    F.stddev('salary').alias('StdDev_Salary'),\n",
    "    F.sum('salary').alias('Total_salary'),\n",
    "    F.min('emp_age').alias('Min_Age'),\n",
    "    F.max('emp_age').alias('Max_Age'),\n",
    "    F.mean('emp_age').alias('Mean_Age'),\n",
    "    F.min('emp_tenure').alias('Min_Tenure'),\n",
    "    F.max('emp_tenure').alias('Max_Tenure'),\n",
    "    F.mean('emp_tenure').alias('Mean_Tenure'),\n",
    "    F.mean('salary_since').alias('Mean_Salary_Since'),\n",
    "    F.mean('role_since').alias('Mean_Role_Since')\n",
    ")"
   ]
  },
  {
   "cell_type": "code",
   "execution_count": 102,
   "metadata": {},
   "outputs": [
    {
     "data": {
      "text/plain": [
       "DataFrame[dept_no: string, Min_Salary: int, Max_Salary: int, Mean_Salary: double, Total_Employees: bigint, StdDev_Salary: double, Total_salary: bigint, Min_Age: double, Max_Age: double, Mean_Age: double, Min_Tenure: double, Max_Tenure: double, Mean_Tenure: double, Mean_Salary_Since: double, Mean_Role_Since: double]"
      ]
     },
     "execution_count": 102,
     "metadata": {},
     "output_type": "execute_result"
    }
   ],
   "source": [
    "dept_aggrDF.cache()"
   ]
  },
  {
   "cell_type": "code",
   "execution_count": 103,
   "metadata": {},
   "outputs": [
    {
     "name": "stdout",
     "output_type": "stream",
     "text": [
      "+-------+----------+----------+------------------+---------------+------------------+------------+-------+-------+------------------+----------+----------+------------------+------------------+------------------+\n",
      "|dept_no|Min_Salary|Max_Salary|       Mean_Salary|Total_Employees|     StdDev_Salary|Total_salary|Min_Age|Max_Age|          Mean_Age|Min_Tenure|Max_Tenure|       Mean_Tenure| Mean_Salary_Since|   Mean_Role_Since|\n",
      "+-------+----------+----------+------------------+---------------+------------------+------------+-------+-------+------------------+----------+----------+------------------+------------------+------------------+\n",
      "|   d005|     12582|    142434|61388.935342615165|          62344|16393.484361748524|  3827231785|   24.0|   67.0|47.371711792634414|       2.0|      33.0|22.235692287950727|10.399797895547286|16.192416271012448|\n",
      "|   d009|     12505|    142950| 61567.09564047363|          18580|19054.432158113068|  1143916637|   24.0|   67.0| 46.94913885898816|       2.0|      33.0| 21.50086114101184|10.141334768568353|15.531431646932186|\n",
      "|   d003|     12669|    140953|58621.627125972904|          13876|17636.231843258673|   813433698|   24.0|   66.0|  46.7474776592678|       2.0|      33.0|21.168204093398675|10.013260305563563|15.258431824733352|\n",
      "|   d001|     12501|    144128| 73716.20280959312|          15803|20121.259512783337|  1164937153|   24.0|   67.0| 46.79965829272923|       2.0|      33.0|21.343099411504145| 10.07580839081187|15.379548187053091|\n",
      "|   d007|     12524|    157220|  82163.1371330952|          38634|19680.750681990237|  3174290640|   24.0|   67.0| 47.26624217010923|       2.0|      33.0|22.051793756794535|10.329580162551121| 15.87573122120412|\n",
      "|   d004|     12568|    137497| 61653.83507737656|          54280| 16490.60266483779|  3346570168|   24.0|   67.0|  47.3828297715549|       2.0|      33.0|22.199944731024317|10.389812085482683|  16.2165622697126|\n",
      "|   d010|     12567|    137498| 76304.74850299401|           1002| 36296.40611115705|    76457358|   24.0|   49.0| 36.27744510978044|       2.0|       6.0| 4.005988023952096| 4.005988023952096| 4.005988023952096|\n",
      "|   d002|     12701|    141395| 72330.34274492368|          13494|20223.466108891476|   976025645|   24.0|   67.0| 46.70194160367571|       2.0|      33.0|21.078257003112494| 9.992515191937157|15.220246035274936|\n",
      "|   d006|     12596|    137308|60143.686778493524|          15679|17906.764461726154|   942992865|   24.0|   67.0| 46.74641239874992|       2.0|      33.0|21.145289878181007|10.012437017666944|15.510109063078003|\n",
      "|   d008|     12817|    137344|  62241.2610150925|          16432|18057.399737068674|  1022748401|   24.0|   67.0| 46.87895569620253|       2.0|      33.0|21.396969328140216|10.106864654333009|15.501582278481013|\n",
      "+-------+----------+----------+------------------+---------------+------------------+------------+-------+-------+------------------+----------+----------+------------------+------------------+------------------+\n",
      "\n"
     ]
    }
   ],
   "source": [
    "dept_aggrDF.show()"
   ]
  },
  {
   "cell_type": "markdown",
   "metadata": {},
   "source": [
    "Aggregation based on Department and Gender"
   ]
  },
  {
   "cell_type": "code",
   "execution_count": 104,
   "metadata": {},
   "outputs": [],
   "source": [
    "dept_gender_aggrDF = active_employees_data.groupBy('dept_no', 'emp_gender').agg(\n",
    "    F.min('salary').alias('Min_Salary'),\n",
    "    F.max('salary').alias('Max_Salary'),\n",
    "    F.mean('salary').alias('Mean_Salary'),\n",
    "    F.count('salary').alias('Total_Employees'),\n",
    "    F.stddev('salary').alias('StdDev_Salary'),\n",
    "    F.sum('salary').alias('Total_salary'),\n",
    "    F.min('emp_age').alias('Min_Age'),\n",
    "    F.max('emp_age').alias('Max_Age'),\n",
    "    F.mean('emp_age').alias('Mean_Age'),\n",
    "    F.min('emp_tenure').alias('Min_Tenure'),\n",
    "    F.max('emp_tenure').alias('Max_Tenure'),\n",
    "    F.mean('emp_tenure').alias('Mean_Tenure'),\n",
    "    F.mean('salary_since').alias('Mean_Salary_Since'),\n",
    "    F.mean('role_since').alias('Mean_Role_Since')\n",
    ")"
   ]
  },
  {
   "cell_type": "code",
   "execution_count": 105,
   "metadata": {},
   "outputs": [
    {
     "name": "stdout",
     "output_type": "stream",
     "text": [
      "+-------+----------+----------+----------+------------------+---------------+------------------+------------+-------+-------+------------------+----------+----------+------------------+------------------+------------------+\n",
      "|dept_no|emp_gender|Min_Salary|Max_Salary|       Mean_Salary|Total_Employees|     StdDev_Salary|Total_salary|Min_Age|Max_Age|          Mean_Age|Min_Tenure|Max_Tenure|       Mean_Tenure| Mean_Salary_Since|   Mean_Role_Since|\n",
      "+-------+----------+----------+----------+------------------+---------------+------------------+------------+-------+-------+------------------+----------+----------+------------------+------------------+------------------+\n",
      "|   d006|         M|     12596|    137308| 59807.84364820847|           9210|17371.741914549362|   550830240|   24.0|   67.0|46.915526601520085|       2.0|      33.0|21.419978284473398|10.110749185667752|15.670901194353963|\n",
      "|   d006|         F|     12776|    137294| 60621.83104034627|           6469|18632.929352115545|   392162625|   24.0|   67.0| 46.50564229401762|       2.0|      33.0|  20.7542123975885| 9.872468696861956|15.281187200494667|\n",
      "|   d003|         M|     13320|    140953| 58390.39888322409|           8238|17382.666710193324|   481020106|   24.0|   66.0| 46.88407380432144|       2.0|      33.0| 21.37533381888808| 10.08363680504977| 15.40616654527798|\n",
      "|   d001|         F|     13110|    137842| 73401.52398232881|           6338| 20192.29637278024|   465218859|   24.0|   66.0| 46.53297570211423|       2.0|      33.0|21.007257810034712| 9.940990848848218|  15.1071315872515|\n",
      "|   d005|         F|     12582|    142434|61347.262718299164|          25023|16452.692992389355|  1535092555|   24.0|   67.0| 47.31339167965472|       2.0|      33.0|22.134316428885427|10.361187707309275|16.153059185549296|\n",
      "|   d009|         M|     12505|    142950|61337.880253050156|          11065|   18889.760887489|   678703645|   24.0|   67.0| 46.99367374604609|       2.0|      33.0|21.652146407591506|10.193131495707185|15.607139629462269|\n",
      "|   d004|         F|     13612|    137497| 61600.81429550126|          21895| 16518.61693414313|  1348749829|   24.0|   67.0| 47.35711349623202|       2.0|      33.0|22.131399862982416|10.365882621603106|16.174743092030145|\n",
      "|   d009|         F|     12998|    140866| 61904.58975382568|           7515|  19290.6392600534|   465212992|   24.0|   67.0| 46.88356620093147|       2.0|      33.0|21.278110445775116|10.065069860279442|15.419960079840319|\n",
      "|   d010|         F|     12567|    137498| 76325.34419551934|            491|36076.747302666736|    37475744|   24.0|   49.0| 36.73727087576375|       2.0|       6.0|3.9633401221995928|3.9633401221995928|3.9633401221995928|\n",
      "|   d001|         M|     12501|    144128| 73926.91959852086|           9465|20071.861027664712|   699718294|   24.0|   67.0| 46.97823560486001|       2.0|      33.0| 21.56798732171157|10.166085578446909|15.561965134706815|\n",
      "|   d003|         F|     12669|    137321|58959.487761617595|           5638| 17996.51950328604|   332413592|   24.0|   66.0| 46.54788932245477|       2.0|      33.0|20.865555161404753| 9.910429230223484|15.042568286626464|\n",
      "|   d002|         M|     12701|    141395| 72112.88582924682|           7953| 20151.16751739652|   573513781|   24.0|   67.0| 46.77907707783226|       2.0|      33.0| 21.27888846975984|10.060731799321012|15.301395699735949|\n",
      "|   d007|         M|     12524|    157220| 82220.26261928408|          23159| 19551.94973561398|  1904139062|   24.0|   67.0|47.326913942743644|       2.0|      33.0|22.128848395872016|10.357398851418456|15.918347078889417|\n",
      "|   d007|         F|     12632|    151687| 82077.64639741518|          15475|19872.274431122827|  1270151578|   24.0|   66.0| 47.17544426494346|       2.0|      33.0|21.936478190630048| 10.28794830371567|15.811954765751212|\n",
      "|   d008|         F|     12904|    137284|  62530.6636677163|           6669|18237.142865819453|   417016996|   24.0|   66.0| 46.79832058779427|       2.0|      33.0| 21.24456440245914|10.067626330784226|15.378167641325536|\n",
      "|   d002|         F|     13007|    137300| 72642.45876195632|           5541| 20324.54184952541|   402511864|   24.0|   66.0|46.591229020032486|       2.0|      33.0|20.790290561270528| 9.894603862118752|15.103771882331708|\n",
      "|   d008|         M|     12817|    137344|62043.573184471985|           9763| 17931.83570658838|   605731405|   24.0|   67.0|46.934036669056646|       2.0|      33.0|21.501075489091466|10.133667929939568|15.585885486018642|\n",
      "|   d004|         M|     12568|    137378| 61689.68161185734|          32385| 16471.79413468687|  1997820339|   24.0|   67.0| 47.40021614945191|       2.0|      33.0|22.246286861201174| 10.40599042766713|16.244835572024087|\n",
      "|   d005|         M|     12876|    137119|61416.876021542834|          37321|16353.827310278446|  2292139230|   24.0|   67.0|47.410814286862625|       2.0|      33.0|22.303662817180676|10.425685271027035|16.218804426462313|\n",
      "|   d010|         M|     12852|    137449| 76284.95890410959|            511|36541.558030365144|    38981614|   24.0|   49.0| 35.83561643835616|       2.0|       6.0| 4.046966731898239| 4.046966731898239| 4.046966731898239|\n",
      "+-------+----------+----------+----------+------------------+---------------+------------------+------------+-------+-------+------------------+----------+----------+------------------+------------------+------------------+\n",
      "\n"
     ]
    }
   ],
   "source": [
    "dept_gender_aggrDF.show()"
   ]
  },
  {
   "cell_type": "markdown",
   "metadata": {},
   "source": [
    "Write above DataFrames to storage"
   ]
  },
  {
   "cell_type": "code",
   "execution_count": 106,
   "metadata": {},
   "outputs": [],
   "source": [
    "dept_aggrDF.repartition(1).write.option(\"header\", \"false\").csv(\"/user/rameshm/Batch49/employeesdb/results/aggr_dept/\")\n",
    "dept_gender_aggrDF.repartition(1).write.option(\"header\", \"false\").csv(\"/user/rameshm/Batch49/employeesdb/results/aggr_dept_gender/\")"
   ]
  },
  {
   "cell_type": "code",
   "execution_count": 108,
   "metadata": {},
   "outputs": [
    {
     "name": "stdout",
     "output_type": "stream",
     "text": [
      "root\n",
      " |-- emp_no: integer (nullable = true)\n",
      " |-- emp_first_name: string (nullable = true)\n",
      " |-- emp_last_name: string (nullable = true)\n",
      " |-- emp_gender: string (nullable = true)\n",
      " |-- emp_birth_date: string (nullable = true)\n",
      " |-- emp_hire_date: string (nullable = true)\n",
      " |-- emp_age: double (nullable = true)\n",
      " |-- emp_tenure: double (nullable = true)\n",
      " |-- salary: integer (nullable = true)\n",
      " |-- sal_from_date: string (nullable = true)\n",
      " |-- salary_since: double (nullable = true)\n",
      " |-- title: string (nullable = true)\n",
      " |-- title_from_date: string (nullable = true)\n",
      " |-- role_since: double (nullable = true)\n",
      " |-- dept_no: string (nullable = true)\n",
      " |-- dept_name: string (nullable = true)\n",
      " |-- dept_from_date: string (nullable = true)\n",
      " |-- emp_dept_tenure: double (nullable = true)\n",
      " |-- mgr_emp_no: integer (nullable = true)\n",
      " |-- mgr_first_name: string (nullable = true)\n",
      " |-- mgr_last_name: string (nullable = true)\n",
      " |-- mgr_gender: string (nullable = true)\n",
      " |-- mgr_birth_date: string (nullable = true)\n",
      " |-- mgr_hire_date: string (nullable = true)\n",
      " |-- mgr_from_date: string (nullable = true)\n",
      " |-- mgr_age: double (nullable = true)\n",
      " |-- mgr_tenure: double (nullable = true)\n",
      " |-- mgr_dept_tenure: double (nullable = true)\n",
      "\n"
     ]
    }
   ],
   "source": [
    "active_employees_data.printSchema()"
   ]
  },
  {
   "cell_type": "markdown",
   "metadata": {},
   "source": [
    "DB Store"
   ]
  },
  {
   "cell_type": "code",
   "execution_count": 109,
   "metadata": {},
   "outputs": [],
   "source": [
    "active_employees_data.write.mode(\"overwrite\").saveAsTable(\"active_employees_data\")"
   ]
  },
  {
   "cell_type": "code",
   "execution_count": 110,
   "metadata": {},
   "outputs": [],
   "source": [
    "dept_aggrDF.write.mode(\"overwrite\").saveAsTable(\"dept_aggr\")"
   ]
  },
  {
   "cell_type": "code",
   "execution_count": 111,
   "metadata": {},
   "outputs": [],
   "source": [
    "dept_gender_aggrDF.write.mode(\"overwrite\").saveAsTable(\"dept_gender_aggr\")"
   ]
  },
  {
   "cell_type": "code",
   "execution_count": 86,
   "metadata": {},
   "outputs": [],
   "source": [
    "# active_employees_data.write.format('jdbc').options(\n",
    "#       url='jdbc:mysql://172.16.0.241:3306/insofe_results_10064',\n",
    "#       driver='com.mysql.jdbc.Driver',\n",
    "#       dbtable='active_emp_details',\n",
    "#       user='insofeadmin',\n",
    "#       password='insofe_password').mode('append').save()"
   ]
  },
  {
   "cell_type": "code",
   "execution_count": 113,
   "metadata": {},
   "outputs": [
    {
     "name": "stdout",
     "output_type": "stream",
     "text": [
      "+------------------+-------------------------+-----------+\n",
      "|database          |tableName                |isTemporary|\n",
      "+------------------+-------------------------+-----------+\n",
      "|insofe_empdb_10064|active_employees_data    |false      |\n",
      "|insofe_empdb_10064|departments              |false      |\n",
      "|insofe_empdb_10064|dept_aggr                |false      |\n",
      "|insofe_empdb_10064|dept_emp                 |false      |\n",
      "|insofe_empdb_10064|dept_gender_aggr         |false      |\n",
      "|insofe_empdb_10064|dept_manager             |false      |\n",
      "|insofe_empdb_10064|employees                |false      |\n",
      "|insofe_empdb_10064|salaries                 |false      |\n",
      "|insofe_empdb_10064|titles                   |false      |\n",
      "|                  |active_emp_details_sqltbl|true       |\n",
      "+------------------+-------------------------+-----------+\n",
      "\n"
     ]
    }
   ],
   "source": [
    "spark.sql(\"SHOW TABLES\").show(truncate=False)"
   ]
  },
  {
   "cell_type": "code",
   "execution_count": 87,
   "metadata": {},
   "outputs": [
    {
     "name": "stdout",
     "output_type": "stream",
     "text": [
      "+-----------------+---------+-------+\n",
      "|col_name         |data_type|comment|\n",
      "+-----------------+---------+-------+\n",
      "|dept_no          |string   |null   |\n",
      "|Min_Salary       |int      |null   |\n",
      "|Max_Salary       |int      |null   |\n",
      "|Mean_Salary      |double   |null   |\n",
      "|Total_Employees  |bigint   |null   |\n",
      "|StdDev_Salary    |double   |null   |\n",
      "|Total_salary     |bigint   |null   |\n",
      "|Min_Age          |double   |null   |\n",
      "|Max_Age          |double   |null   |\n",
      "|Mean_Age         |double   |null   |\n",
      "|Min_Tenure       |double   |null   |\n",
      "|Max_Tenure       |double   |null   |\n",
      "|Mean_Tenure      |double   |null   |\n",
      "|Mean_Salary_Since|double   |null   |\n",
      "|Mean_Role_Since  |double   |null   |\n",
      "+-----------------+---------+-------+\n",
      "\n"
     ]
    }
   ],
   "source": [
    "spark.sql(\"DESCRIBE dept_aggr\").show(truncate=False)"
   ]
  },
  {
   "cell_type": "code",
   "execution_count": 89,
   "metadata": {},
   "outputs": [
    {
     "name": "stdout",
     "output_type": "stream",
     "text": [
      "+-------------------------------------------------------------------------------------------------------------------------------------------------------------------------------------------------------------------------------------------------------------------------------------------------------------------------------------------------------------------------------------------------------------------+\n",
      "|createtab_stmt                                                                                                                                                                                                                                                                                                                                                                                                     |\n",
      "+-------------------------------------------------------------------------------------------------------------------------------------------------------------------------------------------------------------------------------------------------------------------------------------------------------------------------------------------------------------------------------------------------------------------+\n",
      "|CREATE TABLE `dept_aggr` (`dept_no` STRING, `Min_Salary` INT, `Max_Salary` INT, `Mean_Salary` DOUBLE, `Total_Employees` BIGINT, `StdDev_Salary` DOUBLE, `Total_salary` BIGINT, `Min_Age` DOUBLE, `Max_Age` DOUBLE, `Mean_Age` DOUBLE, `Min_Tenure` DOUBLE, `Max_Tenure` DOUBLE, `Mean_Tenure` DOUBLE, `Mean_Salary_Since` DOUBLE, `Mean_Role_Since` DOUBLE)\n",
      "USING parquet\n",
      "OPTIONS (\n",
      "  `serialization.format` '1'\n",
      ")\n",
      "|\n",
      "+-------------------------------------------------------------------------------------------------------------------------------------------------------------------------------------------------------------------------------------------------------------------------------------------------------------------------------------------------------------------------------------------------------------------+\n",
      "\n"
     ]
    }
   ],
   "source": [
    "spark.sql(\"SHOW CREATE TABLE dept_aggr\").show(truncate=False)"
   ]
  },
  {
   "cell_type": "code",
   "execution_count": 92,
   "metadata": {},
   "outputs": [
    {
     "name": "stdout",
     "output_type": "stream",
     "text": [
      "Found 785 items\r\n",
      "drwxrwxrwx   - 1355B30     hdfs          0 2017-11-11 12:08 /apps/hive/warehouse/.hive-staging_hive_2017-11-11_12-08-32_725_406234144602136858-1\r\n",
      "drwxrwxrwx   - 1305B40     hdfs          0 2018-07-15 12:21 /apps/hive/warehouse/1305b40.db\r\n",
      "drwxrwxrwx   - 1803B40     hdfs          0 2018-07-15 12:56 /apps/hive/warehouse/1803b40_hive_data.db\r\n",
      "drwxrwxrwx   - 1806B40     hdfs          0 2018-07-15 12:47 /apps/hive/warehouse/1806_testing.db\r\n",
      "drwxrwxrwx   - 1886B39     hdfs          0 2018-07-07 14:54 /apps/hive/warehouse/1886_batch39.db\r\n",
      "drwxrwxrwx   - 1895B40     hdfs          0 2018-07-29 15:10 /apps/hive/warehouse/1895_cute.db\r\n",
      "drwxrwxrwx   - 1896B40     hdfs          0 2018-07-15 12:04 /apps/hive/warehouse/1896b40.db\r\n",
      "drwxrwxrwx   - 1915B40     hdfs          0 2018-07-15 12:48 /apps/hive/warehouse/1915_testing.db\r\n",
      "drwxrwxrwx   - 1915B40     hdfs          0 2018-07-29 15:03 /apps/hive/warehouse/1915b40_cute.db\r\n",
      "drwxrwxrwx   - 1923B40     hdfs          0 2018-07-15 12:26 /apps/hive/warehouse/1923b40.db\r\n",
      "drwxrwxrwx   - 1925B40     hdfs          0 2018-07-29 17:25 /apps/hive/warehouse/1925b40_db.db\r\n",
      "drwxrwxrwx   - 1925B40     hdfs          0 2018-07-15 12:33 /apps/hive/warehouse/1925b40_test.db\r\n",
      "drwxrwxrwx   - 1932B40     hdfs          0 2018-07-08 15:14 /apps/hive/warehouse/1932b40db.db\r\n",
      "drwxrwxrwx   - 1937B40     hdfs          0 2018-07-29 15:52 /apps/hive/warehouse/1937cutepartb.db\r\n",
      "drwxrwxrwx   - 1938B40     hdfs          0 2018-07-29 18:15 /apps/hive/warehouse/1938_cute.db\r\n",
      "drwxrwxrwx   - 1939B40     hdfs          0 2018-07-15 11:57 /apps/hive/warehouse/1939_testing.db\r\n",
      "drwxrwxrwx   - 1945B40     hdfs          0 2018-07-15 14:14 /apps/hive/warehouse/1945b40.db\r\n",
      "drwxrwxrwx   - 1964B40     hdfs          0 2018-07-15 12:36 /apps/hive/warehouse/1964b40_testing.db\r\n",
      "drwxrwxrwx   - 2001B42     hdfs          0 2018-08-05 15:17 /apps/hive/warehouse/2001b42.db\r\n",
      "drwxrwxrwx   - 2018B42     hdfs          0 2018-08-05 15:17 /apps/hive/warehouse/2018b42.db\r\n",
      "drwxrwxrwx   - 2029B42     hdfs          0 2018-08-05 15:16 /apps/hive/warehouse/2029_b42.db\r\n",
      "drwxrwxrwx   - 2094B43     hdfs          0 2018-09-06 21:10 /apps/hive/warehouse/2094b43_ignitor_db.db\r\n",
      "drwxrwxrwx   - 2105B44     hdfs          0 2018-11-04 11:31 /apps/hive/warehouse/2105b44_testing.db\r\n",
      "drwxrwxrwx   - 2106B44     hdfs          0 2018-11-04 11:18 /apps/hive/warehouse/2106b44_testing.db\r\n",
      "drwxrwxrwx   - 2107B44     hdfs          0 2018-11-04 11:48 /apps/hive/warehouse/2107_posts\r\n",
      "drwxrwxrwx   - 2107B44     hdfs          0 2018-11-04 11:31 /apps/hive/warehouse/2107_testing.db\r\n",
      "drwxrwxrwx   - 2111B44     hdfs          0 2018-11-04 11:28 /apps/hive/warehouse/2111b44_testing.db\r\n",
      "drwxrwxrwx   - 2114B44     hdfs          0 2018-11-04 11:31 /apps/hive/warehouse/2114_testing.db\r\n",
      "drwxrwxrwx   - 2115B44     hdfs          0 2018-11-04 11:53 /apps/hive/warehouse/2115b44_testing.db\r\n",
      "drwxrwxrwx   - 2117B44     hdfs          0 2018-11-04 10:26 /apps/hive/warehouse/2117b44_testing.db\r\n",
      "drwxrwxrwx   - 2120B44     hdfs          0 2018-10-07 09:47 /apps/hive/warehouse/2120b44\r\n",
      "drwxrwxrwx   - 2120B44     hdfs          0 2018-11-04 11:39 /apps/hive/warehouse/2120b44_testing.db\r\n",
      "drwxrwxrwx   - 2121B44     hdfs          0 2018-11-04 10:36 /apps/hive/warehouse/2121b44_posts\r\n",
      "drwxrwxrwx   - 2121B44     hdfs          0 2018-11-04 11:33 /apps/hive/warehouse/2121b44_testing.db\r\n",
      "drwxrwxrwx   - 2123B44     hdfs          0 2018-10-07 09:48 /apps/hive/warehouse/2123b44\r\n",
      "drwxrwxrwx   - 2123B44     hdfs          0 2018-11-04 11:18 /apps/hive/warehouse/2123b44_posts\r\n",
      "drwxrwxrwx   - 2123B44     hdfs          0 2018-11-04 12:05 /apps/hive/warehouse/2123b44_testing.db\r\n",
      "drwxrwxrwx   - 2124B44     hdfs          0 2018-11-04 12:10 /apps/hive/warehouse/2124_testing.db\r\n",
      "drwxrwxrwx   - 2125B44     hdfs          0 2018-11-04 11:32 /apps/hive/warehouse/2125b44_testing.db\r\n",
      "drwxrwxrwx   - 2126B44     hdfs          0 2018-11-04 10:28 /apps/hive/warehouse/2126b44_testing.db\r\n",
      "drwxrwxrwx   - 2128B44     hdfs          0 2018-10-07 09:47 /apps/hive/warehouse/2128b44\r\n",
      "drwxrwxrwx   - 2128B44     hdfs          0 2018-11-04 12:08 /apps/hive/warehouse/2128b44_posts\r\n",
      "drwxrwxrwx   - 2128B44     hdfs          0 2018-11-04 11:33 /apps/hive/warehouse/2128b44_testing.db\r\n",
      "drwxrwxrwx   - 2131B44     hdfs          0 2018-11-04 18:07 /apps/hive/warehouse/2131b44_employees_db.db\r\n",
      "drwxrwxrwx   - 2131B44     hdfs          0 2018-11-04 11:10 /apps/hive/warehouse/2131b44_testing.db\r\n",
      "drwxrwxrwx   - 2134B44     hdfs          0 2018-10-07 09:47 /apps/hive/warehouse/2134b44\r\n",
      "drwxrwxrwx   - 2134B44     hdfs          0 2018-11-09 22:33 /apps/hive/warehouse/2134b44_testing.db\r\n",
      "drwxrwxrwx   - 2134B44     hdfs          0 2018-11-05 16:30 /apps/hive/warehouse/2134b44_testing_practice.db\r\n",
      "drwxrwxrwx   - 2135B44     hdfs          0 2018-11-04 11:40 /apps/hive/warehouse/2135b44_testing.db\r\n",
      "drwxrwxrwx   - 2136B44     hdfs          0 2018-11-04 11:56 /apps/hive/warehouse/2136_posts\r\n",
      "drwxrwxrwx   - 2136B44     hdfs          0 2018-11-04 11:33 /apps/hive/warehouse/2136_testing.db\r\n",
      "drwxrwxrwx   - 2136B44     hdfs          0 2018-11-04 12:08 /apps/hive/warehouse/2136b_posts\r\n",
      "drwxrwxrwx   - 2137B44     hdfs          0 2018-11-04 12:06 /apps/hive/warehouse/2137b44_posts\r\n",
      "drwxrwxrwx   - 2137B44     hdfs          0 2018-11-04 11:26 /apps/hive/warehouse/2137b44_testing.db\r\n",
      "drwxrwxrwx   - 2138B44     hdfs          0 2018-11-04 11:49 /apps/hive/warehouse/2138b44_testing.db\r\n",
      "drwxrwxrwx   - 2140B44     hdfs          0 2018-10-07 09:47 /apps/hive/warehouse/2140b44\r\n",
      "drwxrwxrwx   - 2140B44     hdfs          0 2018-11-04 10:35 /apps/hive/warehouse/2140b44_posts\r\n",
      "drwxrwxrwx   - 2140B44     hdfs          0 2018-11-04 11:18 /apps/hive/warehouse/2140b44_testing.db\r\n",
      "drwxrwxrwx   - 2255B47     hdfs          0 2019-01-13 16:23 /apps/hive/warehouse/2255_testing.db\r\n",
      "drwxrwxrwx   - 2257B47     hdfs          0 2019-01-13 16:23 /apps/hive/warehouse/2257b47.db\r\n",
      "drwxrwxrwx   - 2258B47     hdfs          0 2019-01-13 16:23 /apps/hive/warehouse/2258_testing.db\r\n",
      "drwxrwxrwx   - 2259B47     hdfs          0 2019-01-13 16:24 /apps/hive/warehouse/2259_testing.db\r\n",
      "drwxrwxrwx   - 2260B47     hdfs          0 2019-01-13 16:24 /apps/hive/warehouse/2260b47_testing.db\r\n",
      "drwxrwxrwx   - 2261B47     hdfs          0 2019-01-13 16:24 /apps/hive/warehouse/2261b47_e_posts\r\n",
      "drwxrwxrwx   - 2261B47     hdfs          0 2019-01-13 16:25 /apps/hive/warehouse/2261b47_testing.db\r\n",
      "drwxrwxrwx   - 2262B47     hdfs          0 2019-01-13 16:26 /apps/hive/warehouse/2262b47_testing.db\r\n",
      "drwxrwxrwx   - 2267B47     hdfs          0 2019-01-13 16:22 /apps/hive/warehouse/2267b47_testing.db\r\n",
      "drwxrwxrwx   - 2268B47     hdfs          0 2019-01-13 16:23 /apps/hive/warehouse/2268b47_testing.db\r\n",
      "drwxrwxrwx   - 2269B47     hdfs          0 2019-01-13 16:21 /apps/hive/warehouse/2269b47_testing.db\r\n",
      "drwxrwxrwx   - 2271B47     hdfs          0 2019-01-13 16:22 /apps/hive/warehouse/2271b47_db.db\r\n",
      "drwxrwxrwx   - 2277B47     hdfs          0 2019-01-13 16:44 /apps/hive/warehouse/2277b47_testing.db\r\n",
      "drwxrwxrwx   - 2280B47     hdfs          0 2019-01-13 16:27 /apps/hive/warehouse/2280b47_testing.db\r\n",
      "drwxrwxrwx   - 2281B47     hdfs          0 2019-01-13 16:23 /apps/hive/warehouse/2281_testing.db\r\n",
      "drwxrwxrwx   - 2284B47     hdfs          0 2019-01-13 16:22 /apps/hive/warehouse/2284b47_testing.db\r\n",
      "drwxrwxrwx   - 2288B47     hdfs          0 2019-01-13 15:36 /apps/hive/warehouse/2288_testing.db\r\n",
      "drwxrwxrwx   - 2290B47     hdfs          0 2019-01-13 16:22 /apps/hive/warehouse/2290b47_testing.db\r\n",
      "drwxrwxrwx   - 2299B47     hdfs          0 2019-01-13 16:18 /apps/hive/warehouse/2299b47_testing.db\r\n",
      "drwxrwxrwx   - 2305B47     hdfs          0 2019-01-13 16:48 /apps/hive/warehouse/2305_e_posts\r\n",
      "drwxrwxrwx   - 2305B47     hdfs          0 2019-01-13 16:49 /apps/hive/warehouse/2305_testing.db\r\n",
      "drwxr-xr-x   - 2343B48     hdfs          0 2019-01-18 11:27 /apps/hive/warehouse/2343_tcs_stocks\r\n",
      "drwxrwxrwx   - 2124B44     hdfs          0 2018-10-07 09:48 /apps/hive/warehouse/44b2124\r\n",
      "drwxrwxrwx   - 2350B48     hdfs          0 2018-12-22 12:57 /apps/hive/warehouse/a\r\n",
      "drwxrwxrwx   - 1845B39     hdfs          0 2018-07-11 19:10 /apps/hive/warehouse/abc.db\r\n",
      "drwxrwxrwx   - 2139B44     hdfs          0 2018-10-07 09:50 /apps/hive/warehouse/abhi\r\n",
      "drwxrwxrwx   - 2139B44     hdfs          0 2018-11-04 12:06 /apps/hive/warehouse/abhi_hive_db.db\r\n",
      "drwxrwxrwx   - 1887B39     hdfs          0 2018-07-07 16:47 /apps/hive/warehouse/advance_neelima.db\r\n",
      "drwxrwxrwx   - 1860B39     hdfs          0 2018-07-07 16:40 /apps/hive/warehouse/advance_prajwal.db\r\n",
      "drwxrwxrwx   - mahidharv   hdfs          0 2018-07-07 14:51 /apps/hive/warehouse/advanced.db\r\n",
      "drwxrwxrwx   - 1867B39     hdfs          0 2018-07-20 12:15 /apps/hive/warehouse/advanced1.db\r\n",
      "drwxrwxrwx   - 1837B39     hdfs          0 2018-07-08 11:40 /apps/hive/warehouse/advanced1837.db\r\n",
      "drwxrwxrwx   - 1867B39     hdfs          0 2018-07-20 12:35 /apps/hive/warehouse/advanced2.db\r\n",
      "drwxrwxrwx   - 1862B39     hdfs          0 2018-07-07 16:41 /apps/hive/warehouse/advanced_1862_raj.db\r\n",
      "drwxrwxrwx   - 1864B39     hdfs          0 2018-07-07 16:49 /apps/hive/warehouse/advanced_1864.db\r\n",
      "drwxrwxrwx   - 1868B39     hdfs          0 2018-07-07 15:08 /apps/hive/warehouse/advanced_1868_rev.db\r\n",
      "drwxrwxrwx   - 1868B39     hdfs          0 2018-07-07 16:42 /apps/hive/warehouse/advanced_1868_rev1.db\r\n",
      "drwxrwxrwx   - 1834B39     hdfs          0 2018-07-07 15:19 /apps/hive/warehouse/advanced_ajar.db\r\n",
      "drwxrwxrwx   - 1661B39     hdfs          0 2018-07-07 17:01 /apps/hive/warehouse/advanced_arjun.db\r\n",
      "drwxrwxrwx   - 1838B39     hdfs          0 2018-07-07 14:53 /apps/hive/warehouse/advanced_arun.db\r\n",
      "drwxrwxrwx   - 1838B39     hdfs          0 2018-07-07 15:10 /apps/hive/warehouse/advanced_arunbalu.db\r\n",
      "drwxrwxrwx   - mahidharv   hdfs          0 2018-07-07 16:38 /apps/hive/warehouse/advanced_batch39.db\r\n",
      "drwxrwxrwx   - 1882B39     hdfs          0 2018-07-07 15:55 /apps/hive/warehouse/advanced_batman.db\r\n",
      "drwxrwxrwx   - 1840B39     hdfs          0 2018-07-07 14:53 /apps/hive/warehouse/advanced_bh.db\r\n",
      "drwxrwxrwx   - 1839B39     hdfs          0 2018-07-07 16:38 /apps/hive/warehouse/advanced_bhargav.db\r\n",
      "drwxrwxrwx   - 1843B39     hdfs          0 2018-07-07 15:02 /apps/hive/warehouse/advanced_eshwag.db\r\n",
      "drwxrwxrwx   - 1844B39     hdfs          0 2018-07-07 16:07 /apps/hive/warehouse/advanced_gayathriv.db\r\n",
      "drwxrwxrwx   - 1893B39     hdfs          0 2018-07-07 14:56 /apps/hive/warehouse/advanced_harika.db\r\n",
      "drwxrwxrwx   - 1847B39     hdfs          0 2018-07-07 15:05 /apps/hive/warehouse/advanced_jyothi.db\r\n",
      "drwxrwxrwx   - 1848B39     hdfs          0 2018-07-07 16:38 /apps/hive/warehouse/advanced_karunakaran.db\r\n",
      "drwxrwxrwx   - 1841B39     hdfs          0 2018-07-07 15:09 /apps/hive/warehouse/advanced_mani39.db\r\n",
      "drwxrwxrwx   - 1855B39     hdfs          0 2018-07-07 16:39 /apps/hive/warehouse/advanced_midhun.db\r\n",
      "drwxrwxrwx   - 1859B39     hdfs          0 2018-07-07 15:18 /apps/hive/warehouse/advanced_pavan.db\r\n",
      "drwxrwxrwx   - 1859B39     hdfs          0 2018-07-07 16:44 /apps/hive/warehouse/advanced_pavantej.db\r\n",
      "drwxrwxrwx   - 1865B39     hdfs          0 2018-07-07 16:48 /apps/hive/warehouse/advanced_rashmi.db\r\n",
      "drwxrwxrwx   - 1870B39     hdfs          0 2018-07-07 15:03 /apps/hive/warehouse/advanced_samarth.db\r\n",
      "drwxrwxrwx   - 1867B39     hdfs          0 2018-07-07 15:09 /apps/hive/warehouse/advanced_shashank.db\r\n",
      "drwxrwxrwx   - 1867B39     hdfs          0 2018-07-07 15:31 /apps/hive/warehouse/advanced_shashank1.db\r\n"
     ]
    },
    {
     "name": "stdout",
     "output_type": "stream",
     "text": [
      "drwxrwxrwx   - 1867B39     hdfs          0 2018-07-07 15:44 /apps/hive/warehouse/advanced_shashank2.db\r\n",
      "drwxrwxrwx   - 1878B39     hdfs          0 2018-07-07 17:04 /apps/hive/warehouse/advanced_shijith.db\r\n",
      "drwxrwxrwx   - 1882B39     hdfs          0 2018-07-07 15:44 /apps/hive/warehouse/advanced_sumeet.db\r\n",
      "drwxrwxrwx   - 1887B39     hdfs          0 2018-07-07 15:02 /apps/hive/warehouse/advanced_uma.db\r\n",
      "drwxrwxrwx   - 1887B39     hdfs          0 2018-07-07 16:47 /apps/hive/warehouse/advanced_uma1.db\r\n",
      "drwxrwxrwx   - 1890B39     hdfs          0 2018-07-07 16:43 /apps/hive/warehouse/advanced_vikas.db\r\n",
      "drwxrwxrwx   - 1724B39     hdfs          0 2018-07-07 16:44 /apps/hive/warehouse/advanced_vikass.db\r\n",
      "drwxrwxrwx   - 1879B39     hdfs          0 2018-07-07 16:22 /apps/hive/warehouse/advancedsri.db\r\n",
      "drwxrwxrwx   - 1834B39     hdfs          0 2018-07-07 16:05 /apps/hive/warehouse/ajar.db\r\n",
      "drwxrwxrwx   - 1836B39     hdfs          0 2018-07-07 17:00 /apps/hive/warehouse/amy.db\r\n",
      "drwxrwxrwx   - 1900B40     hdfs          0 2018-07-15 12:13 /apps/hive/warehouse/anuradha.db\r\n",
      "drwxrwxrwx   - 1900B40     hdfs          0 2018-07-29 15:35 /apps/hive/warehouse/anuradhap.db\r\n",
      "drwxrwxrwx   - 2126B44     hdfs          0 2018-10-07 09:48 /apps/hive/warehouse/ap1\r\n",
      "drwxrwxrwx   - rameshm     hdfs          0 2018-07-05 14:33 /apps/hive/warehouse/avg_tcs\r\n",
      "drwxrwxrwx   - rameshm     hdfs          0 2018-07-05 15:44 /apps/hive/warehouse/avg_tcs_new\r\n",
      "drwxrwxrwx   - 2113B44     hdfs          0 2018-10-07 09:55 /apps/hive/warehouse/b44\r\n",
      "drwxr-xr-x   - rameshm     hdfs          0 2018-10-23 16:35 /apps/hive/warehouse/bank_marketing\r\n",
      "drwxrwxrwx   - 1866B39     hdfs          0 2018-07-07 17:03 /apps/hive/warehouse/batch39_1866.db\r\n",
      "drwxrwxrwx   - 2257B47     hdfs          0 2019-01-13 15:58 /apps/hive/warehouse/batch47_copy\r\n",
      "drwxrwxrwx   - 2305B47     hdfs          0 2019-01-13 16:48 /apps/hive/warehouse/batch47_e_posts\r\n",
      "drwxrwxrwx   - 2305B47     hdfs          0 2019-01-13 15:41 /apps/hive/warehouse/batch47_posts\r\n",
      "drwxrwxrwx   - mahidharv   hdfs          0 2019-01-13 16:02 /apps/hive/warehouse/batch47_testing.db\r\n",
      "drwxrwxrwx   - 2257B47     hdfs          0 2019-01-13 16:40 /apps/hive/warehouse/batch47e\r\n",
      "drwxrwxrwx   - 2257B47     hdfs          0 2019-01-13 16:08 /apps/hive/warehouse/batch47like\r\n",
      "drwxrwxrwx   - 2113B44     hdfs          0 2018-10-07 09:48 /apps/hive/warehouse/batch_44\r\n",
      "drwxrwxrwx   - rameshm     hdfs          0 2018-09-28 11:27 /apps/hive/warehouse/books_hive_ext\r\n",
      "drwxrwxrwx   - mahidharv   hdfs          0 2018-07-20 14:37 /apps/hive/warehouse/boxes\r\n",
      "drwxrwxrwx   - 2082B43     hdfs          0 2018-09-07 14:07 /apps/hive/warehouse/bsk.db\r\n",
      "drwxrwxrwx   - 1847B39     hdfs          0 2018-07-07 16:52 /apps/hive/warehouse/buck_locations\r\n",
      "drwxrwxrwx   - 1847B39     hdfs          0 2018-07-07 16:43 /apps/hive/warehouse/buck_users\r\n",
      "drwxrwxrwx   - 1840B39     hdfs          0 2018-07-07 16:43 /apps/hive/warehouse/buck_users_bh\r\n",
      "drwxrwxrwx   - 1887B39     hdfs          0 2018-07-07 16:41 /apps/hive/warehouse/buck_users_uma\r\n",
      "drwxrwxrwx   - 1866B39     hdfs          0 2018-07-07 16:51 /apps/hive/warehouse/bucket_users\r\n",
      "drwxrwxrwx   - 1905B40     hdfs          0 2018-07-15 12:42 /apps/hive/warehouse/chals.db\r\n",
      "drwxrwxrwx   - 2011B42     hdfs          0 2018-08-19 09:57 /apps/hive/warehouse/cuisine\r\n",
      "drwxrwxrwx   - 2233B46     hdfs          0 2018-11-22 19:35 /apps/hive/warehouse/customer.db\r\n",
      "drwxrwxrwx   - 2233B46     hdfs          0 2018-11-22 19:47 /apps/hive/warehouse/customer1.db\r\n",
      "drwxrwxrwx   - 2233B46     hdfs          0 2018-11-23 08:48 /apps/hive/warehouse/customer2.db\r\n",
      "drwxrwxrwx   - 2233B46     hdfs          0 2018-11-23 11:52 /apps/hive/warehouse/customer3.db\r\n",
      "drwxrwxrwx   - 2233B46     hdfs          0 2018-11-23 15:05 /apps/hive/warehouse/customer4.db\r\n",
      "drwxrwxrwx   - 2233B46     hdfs          0 2018-11-23 15:31 /apps/hive/warehouse/customer5.db\r\n",
      "drwxrwxrwx   - 2233B46     hdfs          0 2018-11-23 15:51 /apps/hive/warehouse/customer6.db\r\n",
      "drwxrwxrwx   - 2179B45     hdfs          0 2018-11-15 15:46 /apps/hive/warehouse/customer_data_2179.db\r\n",
      "drwxrwxrwx   - 2215B46     hdfs          0 2018-11-23 17:25 /apps/hive/warehouse/customerdata_2215.db\r\n",
      "drwxrwxrwx   - 2233B46     hdfs          0 2018-11-21 21:24 /apps/hive/warehouse/customerdb.db\r\n",
      "drwxrwxrwx   - 2227B46     hdfs          0 2018-11-23 12:23 /apps/hive/warehouse/customerdb1.db\r\n",
      "drwxrwxrwx   - 2233B46     hdfs          0 2018-11-21 21:09 /apps/hive/warehouse/customerdb_2233b46.db\r\n",
      "drwxrwxrwx   - 1383B30     hdfs          0 2017-11-05 14:32 /apps/hive/warehouse/customers_new\r\n",
      "drwxrwxrwx   - 1803B40     hdfs          0 2018-07-29 18:18 /apps/hive/warehouse/cute.db\r\n",
      "drwxrwxrwx   - 1940B40     hdfs          0 2018-07-29 15:29 /apps/hive/warehouse/cute_1940b40_results.db\r\n",
      "drwxrwxrwx   - 1864B39     hdfs          0 2018-07-07 15:09 /apps/hive/warehouse/db1837.db\r\n",
      "drwxrwxrwx   - 1835B39     hdfs          0 2018-07-07 16:42 /apps/hive/warehouse/db_1835.db\r\n",
      "drwxrwxrwx   - 1930B40     hdfs          0 2018-07-29 15:05 /apps/hive/warehouse/db_1930_cute.db\r\n",
      "drwxrwxrwx   - 2113B44     hdfs          0 2018-10-07 09:47 /apps/hive/warehouse/diksha\r\n",
      "drwxrwxrwx   - 2173B45     hdfs          0 2019-01-02 11:41 /apps/hive/warehouse/emp\r\n",
      "drwxrwxrwx   - 2401B49     hdfs          0 2019-01-19 17:49 /apps/hive/warehouse/emp_2401.db\r\n",
      "drwxrwxrwx   - 2324B48     hdfs          0 2019-01-06 09:58 /apps/hive/warehouse/emp_db.db\r\n",
      "drwxrwxrwx   - 2139B44     hdfs          0 2018-11-04 18:46 /apps/hive/warehouse/employeedb.db\r\n",
      "drwxrwxrwx   - 2047B42     hdfs          0 2018-08-12 11:19 /apps/hive/warehouse/employees_2047b42.db\r\n",
      "drwxrwxrwx   - 2268B47     hdfs          0 2019-01-20 12:50 /apps/hive/warehouse/employees_db.db\r\n",
      "drwxrwxrwx   - 1874B42     hdfs          0 2018-08-12 12:23 /apps/hive/warehouse/employees_db_1874b42.db\r\n",
      "drwxrwxrwx   - 1991B42     hdfs          0 2018-08-12 10:58 /apps/hive/warehouse/employees_db_1991b42.db\r\n",
      "drwxrwxrwx   - 1993B42     hdfs          0 2018-08-12 12:03 /apps/hive/warehouse/employees_db_1993b42.db\r\n",
      "drwxrwxrwx   - 1999B42     hdfs          0 2018-08-12 12:03 /apps/hive/warehouse/employees_db_1999b42.db\r\n",
      "drwxrwxrwx   - 2000B42     hdfs          0 2018-08-12 12:03 /apps/hive/warehouse/employees_db_2000b42.db\r\n",
      "drwxrwxrwx   - 2001B42     hdfs          0 2018-08-12 11:34 /apps/hive/warehouse/employees_db_2001b42.db\r\n",
      "drwxrwxrwx   - 2003B42     hdfs          0 2018-08-12 10:48 /apps/hive/warehouse/employees_db_2003.db\r\n",
      "drwxrwxrwx   - 2007B42     hdfs          0 2018-08-12 10:30 /apps/hive/warehouse/employees_db_2007b42.db\r\n",
      "drwxrwxrwx   - 2008B42     hdfs          0 2018-08-12 11:50 /apps/hive/warehouse/employees_db_2008.db\r\n",
      "drwxrwxrwx   - 2010B42     hdfs          0 2018-08-12 10:30 /apps/hive/warehouse/employees_db_2010b42.db\r\n",
      "drwxrwxrwx   - 2011B42     hdfs          0 2018-08-12 12:49 /apps/hive/warehouse/employees_db_2011b42.db\r\n",
      "drwxrwxrwx   - 2012B42     hdfs          0 2018-08-12 10:04 /apps/hive/warehouse/employees_db_2012b42.db\r\n",
      "drwxrwxrwx   - 2014B42     hdfs          0 2018-08-12 11:59 /apps/hive/warehouse/employees_db_2014b42.db\r\n",
      "drwxrwxrwx   - 2023B42     hdfs          0 2018-08-12 10:51 /apps/hive/warehouse/employees_db_2016b42.db\r\n",
      "drwxrwxrwx   - 2017B42     hdfs          0 2018-08-12 11:59 /apps/hive/warehouse/employees_db_2017b42.db\r\n",
      "drwxrwxrwx   - 2018B42     hdfs          0 2018-08-12 11:47 /apps/hive/warehouse/employees_db_2018b42.db\r\n",
      "drwxrwxrwx   - 2019B42     hdfs          0 2018-08-12 10:20 /apps/hive/warehouse/employees_db_2019.db\r\n",
      "drwxrwxrwx   - 2020B42     hdfs          0 2018-08-12 11:08 /apps/hive/warehouse/employees_db_2020b42.db\r\n",
      "drwxrwxrwx   - 2023B42     hdfs          0 2018-08-12 10:57 /apps/hive/warehouse/employees_db_2023b42.db\r\n",
      "drwxrwxrwx   - 2024B42     hdfs          0 2018-08-12 10:27 /apps/hive/warehouse/employees_db_2024.db\r\n",
      "drwxrwxrwx   - 2025B42     hdfs          0 2018-08-12 12:21 /apps/hive/warehouse/employees_db_2025b42.db\r\n",
      "drwxrwxrwx   - 2026B42     hdfs          0 2018-08-12 10:39 /apps/hive/warehouse/employees_db_2026b42.db\r\n",
      "drwxrwxrwx   - 2027B42     hdfs          0 2018-08-12 11:50 /apps/hive/warehouse/employees_db_2027b42.db\r\n",
      "drwxrwxrwx   - 2030B42     hdfs          0 2018-08-12 12:05 /apps/hive/warehouse/employees_db_2030b42.db\r\n",
      "drwxrwxrwx   - 2031B42     hdfs          0 2018-08-12 11:03 /apps/hive/warehouse/employees_db_2031b42.db\r\n",
      "drwxrwxrwx   - 2036B42     hdfs          0 2018-08-12 10:41 /apps/hive/warehouse/employees_db_2036b42.db\r\n",
      "drwxrwxrwx   - 2040B42     hdfs          0 2018-08-12 11:15 /apps/hive/warehouse/employees_db_2040b42.db\r\n",
      "drwxrwxrwx   - 2041B42     hdfs          0 2018-08-12 10:41 /apps/hive/warehouse/employees_db_2041b42.db\r\n",
      "drwxrwxrwx   - 2042B42     hdfs          0 2018-08-12 10:04 /apps/hive/warehouse/employees_db_2042b42.db\r\n",
      "drwxrwxrwx   - 2044B42     hdfs          0 2018-08-12 11:37 /apps/hive/warehouse/employees_db_2044b42.db\r\n",
      "drwxrwxrwx   - 2046B42     hdfs          0 2018-08-12 11:53 /apps/hive/warehouse/employees_db_2046b42.db\r\n",
      "drwxrwxrwx   - 2048B42     hdfs          0 2018-08-12 11:42 /apps/hive/warehouse/employees_db_2048b42.db\r\n",
      "drwxrwxrwx   - 2141B42     hdfs          0 2018-08-12 10:39 /apps/hive/warehouse/employees_db_2141b42.db\r\n",
      "drwxrwxrwx   - 2275B47     hdfs          0 2019-01-20 12:59 /apps/hive/warehouse/employees_db_2275.db\r\n",
      "drwxrwxrwx   - 2302B47     hdfs          0 2019-01-20 12:32 /apps/hive/warehouse/employees_db_2302.db\r\n",
      "drwxrwxrwx   - pavanw      hdfs          0 2018-08-10 14:59 /apps/hive/warehouse/employees_wale.db\r\n",
      "drwxrwxrwx   - 1843B39     hdfs          0 2018-07-07 14:56 /apps/hive/warehouse/eshwag_advanced.db\r\n",
      "drwxrwxrwx   - gauthamp    hdfs          0 2018-07-30 15:15 /apps/hive/warehouse/frauddetection.db\r\n",
      "drwxrwxrwx   - 2115B44     hdfs          0 2018-10-07 09:46 /apps/hive/warehouse/g1\r\n",
      "drwxrwxrwx   - mahidharv   hdfs          0 2019-01-12 10:41 /apps/hive/warehouse/gaurang_batch47.db\r\n",
      "drwxrwxrwx   - 1350B30     hdfs          0 2017-11-05 15:20 /apps/hive/warehouse/hadoopapp1table2\r\n",
      "drwxrwxrwx   - manasm      hdfs          0 2018-02-27 12:40 /apps/hive/warehouse/hbasehive_table\r\n",
      "drwxrwxrwx   - 2264B47     hdfs          0 2019-01-13 16:22 /apps/hive/warehouse/hiranb47_testing.db\r\n",
      "drwxrwxrwx   - 2133B44     hdfs          0 2018-11-04 12:01 /apps/hive/warehouse/hive2133.db\r\n",
      "drwxrwxrwx   - 2006B42     hdfs          0 2018-07-21 16:59 /apps/hive/warehouse/hote\r\n",
      "drwxrwxrwx   - 2061B43     hdfs          0 2018-08-18 15:04 /apps/hive/warehouse/hsa.db\r\n",
      "drwxrwxrwx   - 1983B41     hdfs          0 2018-07-14 10:19 /apps/hive/warehouse/insofe1_1983_empdb.db\r\n",
      "drwxrwxrwx   - 2303B47     hdfs          0 2019-01-13 15:39 /apps/hive/warehouse/insofe2303b47_testing.db\r\n",
      "drwxrwxrwx   - 1335B29     hdfs          0 2017-10-08 17:58 /apps/hive/warehouse/insofe_1335b29_tcs.db\r\n",
      "drwxrwxrwx   - 1389B37     hdfs          0 2018-04-29 14:31 /apps/hive/warehouse/insofe_1389b37_b37.db\r\n",
      "drwxrwxrwx   - 1523B33     hdfs          0 2018-03-04 17:12 /apps/hive/warehouse/insofe_1523_salesdb\r\n",
      "drwxrwxrwx   - 1561B34     hdfs          0 2018-02-17 16:59 /apps/hive/warehouse/insofe_1561b34_empdb.db\r\n",
      "drwxrwxrwx   - 1654B38     hdfs          0 2018-05-12 17:45 /apps/hive/warehouse/insofe_1654_posts\r\n",
      "drwxrwxrwx   - 1806B40     hdfs          0 2018-07-29 17:18 /apps/hive/warehouse/insofe_1806b40_stockdata\r\n",
      "drwxrwxrwx   - 2324B48     hdfs          0 2019-01-05 17:47 /apps/hive/warehouse/insofe_1825db.db\r\n",
      "drwxrwxrwx   - 1874B42     hdfs          0 2018-08-05 15:18 /apps/hive/warehouse/insofe_1874b42.db\r\n",
      "drwxrwxrwx   - 1889B42     hdfs          0 2018-08-05 15:17 /apps/hive/warehouse/insofe_1889b42.db\r\n",
      "drwxrwxrwx   - 1894B40     hdfs          0 2018-07-15 11:25 /apps/hive/warehouse/insofe_1894_postdb.db\r\n",
      "drwxrwxrwx   - 1899B41     hdfs          0 2018-07-14 09:35 /apps/hive/warehouse/insofe_1899b41_empdb.db\r\n",
      "drwxrwxrwx   - 1955B41     hdfs          0 2018-07-14 09:50 /apps/hive/warehouse/insofe_1899b41_empdb1.db\r\n",
      "drwxrwxrwx   - 1901B40     hdfs          0 2018-08-26 00:12 /apps/hive/warehouse/insofe_1901b40.db\r\n",
      "drwxrwxrwx   - 1909B40     hdfs          0 2018-07-29 14:28 /apps/hive/warehouse/insofe_1909b40_stockdata.db\r\n",
      "drwxrwxrwx   - 1909B40     hdfs          0 2018-07-15 12:31 /apps/hive/warehouse/insofe_1909b40_testing.db\r\n",
      "drwxrwxrwx   - 1911B45     hdfs          0 2019-01-06 09:52 /apps/hive/warehouse/insofe_1911b48.db\r\n",
      "drwxrwxrwx   - 1913B40     hdfs          0 2018-07-15 12:18 /apps/hive/warehouse/insofe_1913b40_testing.db\r\n",
      "drwxrwxrwx   - 1919B40     hdfs          0 2018-07-29 14:57 /apps/hive/warehouse/insofe_1919_stockdata.db\r\n",
      "drwxrwxrwx   - 1919B40     hdfs          0 2018-08-16 16:51 /apps/hive/warehouse/insofe_1919b40.db\r\n",
      "drwxrwxrwx   - 1919B40     hdfs          0 2018-07-15 12:36 /apps/hive/warehouse/insofe_1919b40_testing.db\r\n",
      "drwxrwxrwx   - 1927B40     hdfs          0 2018-07-15 12:45 /apps/hive/warehouse/insofe_1927b40_result.db\r\n",
      "drwxrwxrwx   - 1927B40     hdfs          0 2018-07-29 17:35 /apps/hive/warehouse/insofe_1927b40_results.db\r\n",
      "drwxrwxrwx   - 1929B40     hdfs          0 2018-07-29 15:33 /apps/hive/warehouse/insofe_1929.db\r\n",
      "drwxrwxrwx   - 1929B40     hdfs          0 2018-07-15 12:14 /apps/hive/warehouse/insofe_1929_testing.db\r\n",
      "drwxrwxrwx   - 1930B40     hdfs          0 2018-07-15 12:36 /apps/hive/warehouse/insofe_1930b40_results.db\r\n",
      "drwxrwxrwx   - 1932B40     hdfs          0 2018-07-29 16:46 /apps/hive/warehouse/insofe_1932b40_stockdata.db\r\n",
      "drwxrwxrwx   - 1932B40     hdfs          0 2018-07-15 12:22 /apps/hive/warehouse/insofe_1932b40_testing.db\r\n",
      "drwxrwxrwx   - 1939B40     hdfs          0 2018-07-29 15:24 /apps/hive/warehouse/insofe_1939_stock.db\r\n",
      "drwxrwxrwx   - 1940B40     hdfs          0 2018-07-15 12:42 /apps/hive/warehouse/insofe_1940b40_results.db\r\n",
      "drwxrwxrwx   - 1943B40     hdfs          0 2018-07-15 12:52 /apps/hive/warehouse/insofe_1943_testing.db\r\n",
      "drwxrwxrwx   - 1943B40     hdfs          0 2018-07-29 15:02 /apps/hive/warehouse/insofe_1943b40_stockdata.db\r\n",
      "drwxrwxrwx   - 1949B41     hdfs          0 2018-07-14 09:36 /apps/hive/warehouse/insofe_1949_emdb.db\r\n",
      "drwxrwxrwx   - 1949B41     hdfs          0 2018-07-14 09:39 /apps/hive/warehouse/insofe_1949_empdb.db\r\n",
      "drwxrwxrwx   - 1951B41     hdfs          0 2018-07-14 14:34 /apps/hive/warehouse/insofe_1951_empdb.db\r\n",
      "drwxrwxrwx   - 1954B41     hdfs          0 2018-07-14 09:35 /apps/hive/warehouse/insofe_1954_empdb.db\r\n",
      "drwxrwxrwx   - 1955B41     hdfs          0 2018-07-14 09:34 /apps/hive/warehouse/insofe_1955b41_empdb.db\r\n",
      "drwxrwxrwx   - 1957B41     hdfs          0 2018-07-14 09:41 /apps/hive/warehouse/insofe_1957_empdb.db\r\n",
      "drwxrwxrwx   - 1957B41     hdfs          0 2018-07-14 09:40 /apps/hive/warehouse/insofe_1957_empddb.db\r\n",
      "drwxrwxrwx   - 1958B41     hdfs          0 2018-07-14 09:35 /apps/hive/warehouse/insofe_1958_empdb.db\r\n",
      "drwxrwxrwx   - 1958B41     hdfs          0 2018-11-23 17:59 /apps/hive/warehouse/insofe_1958b41_empdb.db\r\n",
      "drwxrwxrwx   - 1959B41     hdfs          0 2018-07-14 09:34 /apps/hive/warehouse/insofe_1959_empdb.db\r\n",
      "drwxrwxrwx   - 1960B41     hdfs          0 2018-07-14 09:34 /apps/hive/warehouse/insofe_1960_empdb.db\r\n",
      "drwxrwxrwx   - 1963B41     hdfs          0 2018-07-14 09:35 /apps/hive/warehouse/insofe_1963_empdb.db\r\n",
      "drwxrwxrwx   - 1965B41     hdfs          0 2018-07-14 09:34 /apps/hive/warehouse/insofe_1965_empdb.db\r\n",
      "drwxrwxrwx   - 1966B41     hdfs          0 2018-07-14 09:34 /apps/hive/warehouse/insofe_1966_empdb.db\r\n",
      "drwxrwxrwx   - 1970B41     hdfs          0 2018-07-14 09:36 /apps/hive/warehouse/insofe_1970_empdb.db\r\n",
      "drwxrwxrwx   - 1971B41     hdfs          0 2018-07-14 10:33 /apps/hive/warehouse/insofe_1971_emp.db\r\n",
      "drwxrwxrwx   - 1971B41     hdfs          0 2018-07-14 09:35 /apps/hive/warehouse/insofe_1971_empdb.db\r\n",
      "drwxrwxrwx   - 1972B41     hdfs          0 2018-07-14 09:34 /apps/hive/warehouse/insofe_1972_empdb.db\r\n",
      "drwxrwxrwx   - 1973B41     hdfs          0 2018-07-14 09:34 /apps/hive/warehouse/insofe_1973_empdb.db\r\n",
      "drwxrwxrwx   - 1973B41     hdfs          0 2018-07-30 21:55 /apps/hive/warehouse/insofe_1973b41_empdb.db\r\n",
      "drwxrwxrwx   - 1974B41     hdfs          0 2018-07-14 09:35 /apps/hive/warehouse/insofe_1974_empdb.db\r\n",
      "drwxrwxrwx   - 1975B41     hdfs          0 2018-07-14 09:34 /apps/hive/warehouse/insofe_1975_empdb.db\r\n",
      "drwxrwxrwx   - 1976B41     hdfs          0 2018-07-14 09:34 /apps/hive/warehouse/insofe_1976_empdb.db\r\n",
      "drwxrwxrwx   - 1977B41     hdfs          0 2018-07-14 09:34 /apps/hive/warehouse/insofe_1977_empdb.db\r\n",
      "drwxrwxrwx   - 1978B41     hdfs          0 2018-07-14 19:53 /apps/hive/warehouse/insofe_1978_empdb.db\r\n",
      "drwxrwxrwx   - 1980B41     hdfs          0 2018-07-14 09:34 /apps/hive/warehouse/insofe_1980b41_empdb.db\r\n",
      "drwxrwxrwx   - 1981B41     hdfs          0 2018-07-27 10:41 /apps/hive/warehouse/insofe_1981b41_empdb.db\r\n",
      "drwxrwxrwx   - 1982B41     hdfs          0 2018-07-14 09:39 /apps/hive/warehouse/insofe_1982_empdb.db\r\n",
      "drwxrwxrwx   - 1983B41     hdfs          0 2018-07-14 09:34 /apps/hive/warehouse/insofe_1983_empdb.db\r\n",
      "drwxrwxrwx   - 1984B41     hdfs          0 2018-07-14 09:35 /apps/hive/warehouse/insofe_1984_empdb.db\r\n",
      "drwxrwxrwx   - 1985B41     hdfs          0 2018-07-26 10:38 /apps/hive/warehouse/insofe_1985_b41_empdb.db\r\n",
      "drwxrwxrwx   - 1985B41     hdfs          0 2018-07-14 09:34 /apps/hive/warehouse/insofe_1985_empdb.db\r\n",
      "drwxrwxrwx   - 1985B41     hdfs          0 2018-07-26 09:10 /apps/hive/warehouse/insofe_1985b41_empdb.db\r\n",
      "drwxrwxrwx   - 1986B41     hdfs          0 2018-07-14 09:34 /apps/hive/warehouse/insofe_1986_empdb.db\r\n",
      "drwxrwxrwx   - 1989B41     hdfs          0 2018-07-14 09:34 /apps/hive/warehouse/insofe_1989_empdb.db\r\n",
      "drwxrwxrwx   - 1991B42     hdfs          0 2018-08-05 15:15 /apps/hive/warehouse/insofe_1991b42.db\r\n",
      "drwxrwxrwx   - 1992B42     hdfs          0 2018-08-05 15:15 /apps/hive/warehouse/insofe_1992b42.db\r\n",
      "drwxrwxrwx   - 1993B42     hdfs          0 2018-08-12 09:53 /apps/hive/warehouse/insofe_1993b42.db\r\n",
      "drwxrwxrwx   - 1998B42     hdfs          0 2018-08-05 15:16 /apps/hive/warehouse/insofe_1998b42.db\r\n",
      "drwxrwxrwx   - 1999B42     hdfs          0 2018-08-05 15:18 /apps/hive/warehouse/insofe_1999b42.db\r\n",
      "drwxrwxrwx   - 2000B42     hdfs          0 2018-08-05 15:17 /apps/hive/warehouse/insofe_2000b42.db\r\n",
      "drwxrwxrwx   - 2001B42     hdfs          0 2018-08-12 09:46 /apps/hive/warehouse/insofe_2001b42.db\r\n",
      "drwxrwxrwx   - 2002B42     hdfs          0 2018-08-12 10:58 /apps/hive/warehouse/insofe_2002b42.db\r\n",
      "drwxrwxrwx   - 2003B42     hdfs          0 2018-08-05 15:17 /apps/hive/warehouse/insofe_2003b42.db\r\n",
      "drwxrwxrwx   - 2007B42     hdfs          0 2018-08-05 15:17 /apps/hive/warehouse/insofe_2007b42.db\r\n",
      "drwxrwxrwx   - 2008B42     hdfs          0 2018-08-05 15:16 /apps/hive/warehouse/insofe_2008.db\r\n",
      "drwxrwxrwx   - 2011B42     hdfs          0 2018-08-05 15:23 /apps/hive/warehouse/insofe_2011b42.db\r\n",
      "drwxrwxrwx   - 2012B42     hdfs          0 2018-08-05 15:17 /apps/hive/warehouse/insofe_2012b42.db\r\n",
      "drwxrwxrwx   - 2014B42     hdfs          0 2018-08-05 15:18 /apps/hive/warehouse/insofe_2014b42.db\r\n",
      "drwxrwxrwx   - 2016B42     hdfs          0 2018-08-05 16:30 /apps/hive/warehouse/insofe_2016b42.db\r\n",
      "drwxrwxrwx   - 2017B42     hdfs          0 2018-08-12 10:05 /apps/hive/warehouse/insofe_2017b42.db\r\n",
      "drwxrwxrwx   - 2019B42     hdfs          0 2018-08-05 15:20 /apps/hive/warehouse/insofe_2019.db\r\n",
      "drwxrwxrwx   - 2019B42     hdfs          0 2018-08-16 16:58 /apps/hive/warehouse/insofe_2019b42.db\r\n",
      "drwxrwxrwx   - 2020B42     hdfs          0 2018-08-05 15:17 /apps/hive/warehouse/insofe_2020b42.db\r\n",
      "drwxrwxrwx   - 2021B42     hdfs          0 2018-08-05 15:18 /apps/hive/warehouse/insofe_2021b42.db\r\n",
      "drwxrwxrwx   - 2022B42     hdfs          0 2018-08-05 15:43 /apps/hive/warehouse/insofe_2022b42.db\r\n",
      "drwxrwxrwx   - 2023B42     hdfs          0 2018-08-05 15:18 /apps/hive/warehouse/insofe_2023b42.db\r\n",
      "drwxrwxrwx   - 2024B42     hdfs          0 2018-08-05 15:17 /apps/hive/warehouse/insofe_2024.db\r\n",
      "drwxrwxrwx   - 2025B42     hdfs          0 2018-08-12 06:01 /apps/hive/warehouse/insofe_2025b42.db\r\n",
      "drwxrwxrwx   - 2026B42     hdfs          0 2018-08-09 12:55 /apps/hive/warehouse/insofe_2026b42.db\r\n",
      "drwxrwxrwx   - 2027B42     hdfs          0 2018-08-05 15:17 /apps/hive/warehouse/insofe_2027b42.db\r\n",
      "drwxrwxrwx   - 2030B42     hdfs          0 2018-08-05 15:50 /apps/hive/warehouse/insofe_2030b42.db\r\n",
      "drwxrwxrwx   - 2031B42     hdfs          0 2018-08-05 15:17 /apps/hive/warehouse/insofe_2031b42.db\r\n",
      "drwxrwxrwx   - 2032B42     hdfs          0 2018-08-12 10:04 /apps/hive/warehouse/insofe_2032b42.db\r\n",
      "drwxrwxrwx   - 2033B42     hdfs          0 2018-08-05 15:43 /apps/hive/warehouse/insofe_2033b42.db\r\n",
      "drwxrwxrwx   - 2035B42     hdfs          0 2018-08-12 12:37 /apps/hive/warehouse/insofe_2035b42.db\r\n",
      "drwxrwxrwx   - 2036B42     hdfs          0 2018-08-05 15:19 /apps/hive/warehouse/insofe_2036b42.db\r\n",
      "drwxrwxrwx   - 2037B42     hdfs          0 2018-08-05 15:21 /apps/hive/warehouse/insofe_2037b42.db\r\n",
      "drwxrwxrwx   - 2038B42     hdfs          0 2018-08-09 15:52 /apps/hive/warehouse/insofe_2038b42.db\r\n",
      "drwxrwxrwx   - 2040B42     hdfs          0 2018-08-05 15:43 /apps/hive/warehouse/insofe_2040b42.db\r\n",
      "drwxrwxrwx   - 2041B42     hdfs          0 2018-08-09 13:21 /apps/hive/warehouse/insofe_2041b42.db\r\n",
      "drwxrwxrwx   - 2042B42     hdfs          0 2018-08-05 15:16 /apps/hive/warehouse/insofe_2042.db\r\n",
      "drwxrwxrwx   - 2043B42     hdfs          0 2018-09-11 23:26 /apps/hive/warehouse/insofe_2043.db\r\n",
      "drwxrwxrwx   - 2043B42     hdfs          0 2018-08-05 15:16 /apps/hive/warehouse/insofe_2043b42.db\r\n",
      "drwxrwxrwx   - 2044B42     hdfs          0 2018-08-05 15:16 /apps/hive/warehouse/insofe_2044b42.db\r\n",
      "drwxrwxrwx   - 2045B42     hdfs          0 2018-08-05 15:17 /apps/hive/warehouse/insofe_2045b42.db\r\n",
      "drwxrwxrwx   - 2046B42     hdfs          0 2018-08-05 15:16 /apps/hive/warehouse/insofe_2046b42.db\r\n",
      "drwxrwxrwx   - 2047B42     hdfs          0 2018-08-05 16:53 /apps/hive/warehouse/insofe_2047b42.db\r\n",
      "drwxrwxrwx   - 2048B42     hdfs          0 2018-08-05 15:16 /apps/hive/warehouse/insofe_2048b42.db\r\n",
      "drwxrwxrwx   - 2060B48     hdfs          0 2019-01-06 15:02 /apps/hive/warehouse/insofe_2060b48.db\r\n",
      "drwxrwxrwx   - 2089B43     hdfs          0 2018-08-18 15:43 /apps/hive/warehouse/insofe_2089.db\r\n",
      "drwxrwxrwx   - 2094B43     hdfs          0 2018-08-16 16:56 /apps/hive/warehouse/insofe_2094b43.db\r\n",
      "drwxrwxrwx   - 2096B43     hdfs          0 2018-08-16 16:58 /apps/hive/warehouse/insofe_2096b43.db\r\n",
      "drwxrwxrwx   - 2105B44     hdfs          0 2018-11-04 17:23 /apps/hive/warehouse/insofe_2105b44.db\r\n",
      "drwxrwxrwx   - 2107B44     hdfs          0 2018-11-04 17:23 /apps/hive/warehouse/insofe_2107b44.db\r\n",
      "drwxrwxrwx   - 2114B44     hdfs          0 2018-11-04 17:27 /apps/hive/warehouse/insofe_2114b44.db\r\n",
      "drwxrwxrwx   - 2115B44     hdfs          0 2018-11-04 18:28 /apps/hive/warehouse/insofe_2115b44.db\r\n",
      "drwxrwxrwx   - 2120B44     hdfs          0 2018-11-04 17:09 /apps/hive/warehouse/insofe_2120b44.db\r\n",
      "drwxrwxrwx   - 2125B44     hdfs          0 2018-11-04 17:18 /apps/hive/warehouse/insofe_2125b44.db\r\n",
      "drwxrwxrwx   - 2126B44     hdfs          0 2018-11-04 17:15 /apps/hive/warehouse/insofe_2126b44.db\r\n",
      "drwxrwxrwx   - 2128B44     hdfs          0 2018-11-04 17:14 /apps/hive/warehouse/insofe_2128b44.db\r\n",
      "drwxrwxrwx   - 2134B44     hdfs          0 2018-11-04 17:19 /apps/hive/warehouse/insofe_2134b44.db\r\n",
      "drwxrwxrwx   - 2135B44     hdfs          0 2018-11-04 17:58 /apps/hive/warehouse/insofe_2135b44.db\r\n",
      "drwxrwxrwx   - 2136B44     hdfs          0 2018-11-04 17:31 /apps/hive/warehouse/insofe_2136b44.db\r\n",
      "drwxrwxrwx   - 2141B42     hdfs          0 2018-08-05 15:25 /apps/hive/warehouse/insofe_2141b42.db\r\n",
      "drwxrwxrwx   - 2253B47     hdfs          0 2019-01-13 15:21 /apps/hive/warehouse/insofe_2253.db\r\n",
      "drwxrwxrwx   - 2275B47     hdfs          0 2019-01-13 16:19 /apps/hive/warehouse/insofe_2275_testing.db\r\n",
      "drwxrwxrwx   - 2302B47     hdfs          0 2019-01-13 16:18 /apps/hive/warehouse/insofe_2302b47.db\r\n",
      "drwxrwxrwx   - 2303B47     hdfs          0 2019-01-13 15:27 /apps/hive/warehouse/insofe_2303b47.db\r\n",
      "drwxrwxrwx   - 2307B48     hdfs          0 2019-01-05 17:52 /apps/hive/warehouse/insofe_2307b48.db\r\n",
      "drwxrwxrwx   - 2312B48     hdfs          0 2019-01-06 10:05 /apps/hive/warehouse/insofe_2312b48.db\r\n",
      "drwxrwxrwx   - 2330B48     hdfs          0 2019-01-06 09:40 /apps/hive/warehouse/insofe_2330b48.db\r\n",
      "drwxrwxrwx   - 2332B48     hdfs          0 2019-01-06 09:40 /apps/hive/warehouse/insofe_2332b48.db\r\n",
      "drwxrwxrwx   - 2343B48     hdfs          0 2019-01-05 18:02 /apps/hive/warehouse/insofe_2343b48.db\r\n",
      "drwxrwxrwx   - 2353B48     hdfs          0 2019-01-06 09:51 /apps/hive/warehouse/insofe_2353b48.db\r\n",
      "drwxrwxrwx   - 2362B48     hdfs          0 2019-01-05 17:48 /apps/hive/warehouse/insofe_2362b48.db\r\n",
      "drwxrwxrwx   - 1962B41     hdfs          0 2018-07-14 09:34 /apps/hive/warehouse/insofe_41_empdb.db\r\n",
      "drwxrwxrwx   - 2179B45     hdfs          0 2018-11-15 16:08 /apps/hive/warehouse/insofe_45_custdb_2179.db\r\n",
      "drwxrwxrwx   - 2156B45     hdfs          0 2018-11-03 14:27 /apps/hive/warehouse/insofe_45_empdb_2156.db\r\n",
      "drwxrwxrwx   - 2173B45     hdfs          0 2018-11-03 14:27 /apps/hive/warehouse/insofe_45_empdb_2173.db\r\n",
      "drwxrwxrwx   - 2174B45     hdfs          0 2018-11-03 14:38 /apps/hive/warehouse/insofe_45_empdb_2174.db\r\n",
      "drwxrwxrwx   - 2216B46     hdfs          0 2018-11-20 16:35 /apps/hive/warehouse/insofe_46_empdb1_2216.db\r\n",
      "drwxrwxrwx   - 2216B46     hdfs          0 2018-11-10 17:13 /apps/hive/warehouse/insofe_46_empdb_2216.db\r\n",
      "drwxrwxrwx   - 2217B46     hdfs          0 2018-11-10 17:08 /apps/hive/warehouse/insofe_46_empdb_2217.db\r\n",
      "drwxrwxrwx   - 2226B46     hdfs          0 2018-11-10 17:23 /apps/hive/warehouse/insofe_46_empdb_2226.db\r\n",
      "drwxrwxrwx   - 2226B46     hdfs          0 2018-11-23 14:41 /apps/hive/warehouse/insofe_46_empdb_2226_1.db\r\n",
      "drwxrwxrwx   - 2232B46     hdfs          0 2018-11-10 17:24 /apps/hive/warehouse/insofe_46_empdb_2232.db\r\n",
      "drwxrwxrwx   - 2235B46     hdfs          0 2018-11-10 17:24 /apps/hive/warehouse/insofe_46_empdb_2235.db\r\n",
      "drwxrwxrwx   - 2409B50     hdfs          0 2018-12-10 18:03 /apps/hive/warehouse/insofe_50_empdb_1552.db\r\n",
      "drwxrwxrwx   - 2409B50     hdfs          0 2018-12-10 18:05 /apps/hive/warehouse/insofe_50_empdb_198.db\r\n",
      "drwxrwxrwx   - 2405B50     hdfs          0 2018-11-28 17:22 /apps/hive/warehouse/insofe_50_empdb_2405.db\r\n",
      "drwxrwxrwx   - 2406B50     hdfs          0 2018-11-28 17:22 /apps/hive/warehouse/insofe_50_empdb_2406.db\r\n",
      "drwxrwxrwx   - 2408B50     hdfs          0 2018-12-10 18:04 /apps/hive/warehouse/insofe_50_empdb_2408.db\r\n",
      "drwxrwxrwx   - 2411B50     hdfs          0 2018-11-28 17:21 /apps/hive/warehouse/insofe_50_empdb_2411.db\r\n",
      "drwxrwxrwx   - 2412B50     hdfs          0 2018-11-28 17:22 /apps/hive/warehouse/insofe_50_empdb_2412.db\r\n",
      "drwxrwxrwx   - 2414B50     hdfs          0 2018-11-28 17:21 /apps/hive/warehouse/insofe_50_empdb_2414.db\r\n",
      "drwxrwxrwx   - 2418B50     hdfs          0 2018-11-28 17:26 /apps/hive/warehouse/insofe_50_empdb_2418.db\r\n",
      "drwxrwxrwx   - 1968B41     hdfs          0 2018-07-28 19:52 /apps/hive/warehouse/insofe_561_empdb.db\r\n",
      "drwxrwxrwx   - 2176B45     hdfs          0 2018-11-18 12:14 /apps/hive/warehouse/insofe_56_customerdb_2176.db\r\n",
      "drwxrwxrwx   - 2189B45     hdfs          0 2018-11-03 14:30 /apps/hive/warehouse/insofe_56_emp_2189.db\r\n",
      "drwxrwxrwx   - jayantm     hdfs          0 2018-07-07 11:03 /apps/hive/warehouse/insofe_56_empdb.db\r\n",
      "drwxrwxrwx   - shilpak     hdfs          0 2018-11-29 10:03 /apps/hive/warehouse/insofe_56_empdb_0017.db\r\n",
      "drwxrwxrwx   - 2180B45     hdfs          0 2018-11-03 14:35 /apps/hive/warehouse/insofe_56_empdb_1234.db\r\n",
      "drwxrwxrwx   - nagarajn    hdfs          0 2018-10-31 18:49 /apps/hive/warehouse/insofe_56_empdb_1552.db\r\n",
      "drwxrwxrwx   - 2236B46     hdfs          0 2018-11-16 14:29 /apps/hive/warehouse/insofe_56_empdb_1552_a.db\r\n",
      "drwxrwxrwx   - 2201B46     hdfs          0 2018-11-15 13:52 /apps/hive/warehouse/insofe_56_empdb_1552_again.db\r\n",
      "drwxrwxrwx   - 2236B46     hdfs          0 2018-11-16 15:11 /apps/hive/warehouse/insofe_56_empdb_1552_b.db\r\n",
      "drwxrwxrwx   - anjaneyalu  hdfs          0 2018-11-27 23:32 /apps/hive/warehouse/insofe_56_empdb_1553.db\r\n",
      "drwxrwxrwx   - 1727B46     hdfs          0 2018-11-10 17:10 /apps/hive/warehouse/insofe_56_empdb_1727b46.db\r\n",
      "drwxrwxrwx   - 2180B45     hdfs          0 2018-11-03 14:38 /apps/hive/warehouse/insofe_56_empdb_1914.db\r\n",
      "drwxrwxrwx   - 1917B45     hdfs          0 2018-11-03 14:29 /apps/hive/warehouse/insofe_56_empdb_1917.db\r\n",
      "drwxrwxrwx   - 1956B41     hdfs          0 2018-11-10 17:25 /apps/hive/warehouse/insofe_56_empdb_1956.db\r\n",
      "drwxrwxrwx   - 1961B45     hdfs          0 2018-11-03 14:26 /apps/hive/warehouse/insofe_56_empdb_1961b45.db\r\n",
      "drwxrwxrwx   - 2235B46     hdfs          0 2018-11-23 15:07 /apps/hive/warehouse/insofe_56_empdb_1999.db\r\n",
      "drwxrwxrwx   - 2062B45     hdfs          0 2018-11-03 14:24 /apps/hive/warehouse/insofe_56_empdb_2062.db\r\n",
      "drwxrwxrwx   - 2091B45     hdfs          0 2018-11-03 14:40 /apps/hive/warehouse/insofe_56_empdb_2091.db\r\n",
      "drwxrwxrwx   - 2158B45     hdfs          0 2018-11-03 14:28 /apps/hive/warehouse/insofe_56_empdb_2128.db\r\n",
      "drwxrwxrwx   - 2143B45     hdfs          0 2018-11-03 14:27 /apps/hive/warehouse/insofe_56_empdb_2143.db\r\n",
      "drwxrwxrwx   - 2144B45     hdfs          0 2018-11-03 14:29 /apps/hive/warehouse/insofe_56_empdb_2144.db\r\n",
      "drwxrwxrwx   - 2145B45     hdfs          0 2018-11-03 14:34 /apps/hive/warehouse/insofe_56_empdb_2145.db\r\n",
      "drwxrwxrwx   - 2146B45     hdfs          0 2018-11-03 14:31 /apps/hive/warehouse/insofe_56_empdb_2146.db\r\n",
      "drwxrwxrwx   - 2147B45     hdfs          0 2018-11-03 14:30 /apps/hive/warehouse/insofe_56_empdb_2147.db\r\n",
      "drwxrwxrwx   - 2148B45     hdfs          0 2018-11-03 14:24 /apps/hive/warehouse/insofe_56_empdb_2148.db\r\n",
      "drwxrwxrwx   - 2149B45     hdfs          0 2018-11-03 14:29 /apps/hive/warehouse/insofe_56_empdb_2149.db\r\n",
      "drwxrwxrwx   - 2150B45     hdfs          0 2018-11-03 14:24 /apps/hive/warehouse/insofe_56_empdb_2150.db\r\n",
      "drwxrwxrwx   - 2151B45     hdfs          0 2018-11-03 14:24 /apps/hive/warehouse/insofe_56_empdb_2151.db\r\n",
      "drwxrwxrwx   - 2153B45     hdfs          0 2018-11-03 14:39 /apps/hive/warehouse/insofe_56_empdb_2153.db\r\n",
      "drwxrwxrwx   - 2154B45     hdfs          0 2018-11-03 15:47 /apps/hive/warehouse/insofe_56_empdb_2154.db\r\n",
      "drwxrwxrwx   - 2155B45     hdfs          0 2018-11-03 14:49 /apps/hive/warehouse/insofe_56_empdb_2155.db\r\n",
      "drwxrwxrwx   - 2158B45     hdfs          0 2018-11-03 14:32 /apps/hive/warehouse/insofe_56_empdb_2158.db\r\n",
      "drwxrwxrwx   - 2160B45     hdfs          0 2018-11-03 14:28 /apps/hive/warehouse/insofe_56_empdb_2160.db\r\n",
      "drwxrwxrwx   - 2162B45     hdfs          0 2018-11-03 14:24 /apps/hive/warehouse/insofe_56_empdb_2162.db\r\n",
      "drwxrwxrwx   - 2164B45     hdfs          0 2018-11-03 14:30 /apps/hive/warehouse/insofe_56_empdb_2164.db\r\n",
      "drwxrwxrwx   - 2166B45     hdfs          0 2018-11-03 15:10 /apps/hive/warehouse/insofe_56_empdb_2166.db\r\n",
      "drwxrwxrwx   - 2167B45     hdfs          0 2018-11-03 15:55 /apps/hive/warehouse/insofe_56_empdb_2167.db\r\n",
      "drwxrwxrwx   - 2167B45     hdfs          0 2018-11-03 14:34 /apps/hive/warehouse/insofe_56_empdb_2167b45.db\r\n",
      "drwxrwxrwx   - 2169B45     hdfs          0 2018-11-03 14:24 /apps/hive/warehouse/insofe_56_empdb_2169.db\r\n",
      "drwxrwxrwx   - 2169B45     hdfs          0 2018-11-23 14:42 /apps/hive/warehouse/insofe_56_empdb_2169_new.db\r\n",
      "drwxrwxrwx   - 2170B45     hdfs          0 2018-11-03 14:29 /apps/hive/warehouse/insofe_56_empdb_2170.db\r\n",
      "drwxrwxrwx   - 2171B45     hdfs          0 2018-11-03 14:29 /apps/hive/warehouse/insofe_56_empdb_2171.db\r\n",
      "drwxrwxrwx   - 2172B45     hdfs          0 2018-11-03 14:27 /apps/hive/warehouse/insofe_56_empdb_2172.db\r\n",
      "drwxrwxrwx   - 2173B45     hdfs          0 2018-11-03 14:24 /apps/hive/warehouse/insofe_56_empdb_2173.db\r\n",
      "drwxrwxrwx   - 2176B45     hdfs          0 2018-11-03 14:27 /apps/hive/warehouse/insofe_56_empdb_2176.db\r\n",
      "drwxrwxrwx   - 2177B45     hdfs          0 2018-11-03 14:24 /apps/hive/warehouse/insofe_56_empdb_2177.db\r\n",
      "drwxrwxrwx   - 2178B45     hdfs          0 2018-11-03 14:24 /apps/hive/warehouse/insofe_56_empdb_2178.db\r\n",
      "drwxrwxrwx   - 2179B45     hdfs          0 2018-11-03 14:24 /apps/hive/warehouse/insofe_56_empdb_2179.db\r\n",
      "drwxrwxrwx   - 2181B45     hdfs          0 2018-11-03 14:27 /apps/hive/warehouse/insofe_56_empdb_2181b45.db\r\n",
      "drwxrwxrwx   - 2182B45     hdfs          0 2018-11-23 11:36 /apps/hive/warehouse/insofe_56_empdb_2182.db\r\n",
      "drwxrwxrwx   - 2183B45     hdfs          0 2018-11-03 14:30 /apps/hive/warehouse/insofe_56_empdb_2183.db\r\n",
      "drwxrwxrwx   - 2186B45     hdfs          0 2018-11-03 14:25 /apps/hive/warehouse/insofe_56_empdb_2186.db\r\n",
      "drwxrwxrwx   - 2188B45     hdfs          0 2018-11-03 14:24 /apps/hive/warehouse/insofe_56_empdb_2188.db\r\n",
      "drwxrwxrwx   - 2189B45     hdfs          0 2018-11-03 14:30 /apps/hive/warehouse/insofe_56_empdb_2189.db\r\n",
      "drwxrwxrwx   - 2190B45     hdfs          0 2018-11-03 14:31 /apps/hive/warehouse/insofe_56_empdb_2190.db\r\n",
      "drwxrwxrwx   - 2191B45     hdfs          0 2018-11-03 14:26 /apps/hive/warehouse/insofe_56_empdb_2191b45.db\r\n",
      "drwxrwxrwx   - 2192B45     hdfs          0 2018-11-03 14:26 /apps/hive/warehouse/insofe_56_empdb_2192.db\r\n",
      "drwxrwxrwx   - 2193B46     hdfs          0 2018-11-10 17:10 /apps/hive/warehouse/insofe_56_empdb_2193b46.db\r\n",
      "drwxrwxrwx   - 2195B46     hdfs          0 2018-11-10 17:09 /apps/hive/warehouse/insofe_56_empdb_2195.db\r\n",
      "drwxrwxrwx   - 2200B46     hdfs          0 2018-11-10 17:13 /apps/hive/warehouse/insofe_56_empdb_2200b46.db\r\n",
      "drwxrwxrwx   - 2202B46     hdfs          0 2018-11-24 07:04 /apps/hive/warehouse/insofe_56_empdb_2202b46.db\r\n",
      "drwxrwxrwx   - 2203B46     hdfs          0 2018-11-10 17:10 /apps/hive/warehouse/insofe_56_empdb_2203.db\r\n",
      "drwxrwxrwx   - 2205B46     hdfs          0 2018-11-10 17:10 /apps/hive/warehouse/insofe_56_empdb_2205.db\r\n",
      "drwxrwxrwx   - 2206B46     hdfs          0 2018-11-11 10:01 /apps/hive/warehouse/insofe_56_empdb_2206.db\r\n",
      "drwxrwxrwx   - 2209B46     hdfs          0 2018-11-10 17:10 /apps/hive/warehouse/insofe_56_empdb_2209.db\r\n",
      "drwxrwxrwx   - 2210B46     hdfs          0 2018-11-10 17:36 /apps/hive/warehouse/insofe_56_empdb_2210.db\r\n",
      "drwxrwxrwx   - 2211B46     hdfs          0 2018-11-10 17:11 /apps/hive/warehouse/insofe_56_empdb_2211.db\r\n",
      "drwxrwxrwx   - 2213B46     hdfs          0 2018-11-10 17:13 /apps/hive/warehouse/insofe_56_empdb_2213b46.db\r\n",
      "drwxrwxrwx   - 2214B46     hdfs          0 2018-11-10 17:28 /apps/hive/warehouse/insofe_56_empdb_2214.db\r\n",
      "drwxrwxrwx   - 2215B46     hdfs          0 2018-11-10 17:22 /apps/hive/warehouse/insofe_56_empdb_2215.db\r\n",
      "drwxrwxrwx   - 2216B46     hdfs          0 2018-11-10 17:13 /apps/hive/warehouse/insofe_56_empdb_2216.db\r\n",
      "drwxrwxrwx   - 2218B46     hdfs          0 2018-11-10 17:09 /apps/hive/warehouse/insofe_56_empdb_2218.db\r\n",
      "drwxrwxrwx   - 2224B46     hdfs          0 2018-11-10 17:23 /apps/hive/warehouse/insofe_56_empdb_2224.db\r\n",
      "drwxrwxrwx   - 2225B46     hdfs          0 2018-11-10 17:11 /apps/hive/warehouse/insofe_56_empdb_2225.db\r\n",
      "drwxrwxrwx   - 2226B46     hdfs          0 2018-11-10 17:11 /apps/hive/warehouse/insofe_56_empdb_2226.db\r\n",
      "drwxrwxrwx   - 2226B46     hdfs          0 2018-11-23 14:59 /apps/hive/warehouse/insofe_56_empdb_2226_1.db\r\n",
      "drwxrwxrwx   - 2227B46     hdfs          0 2018-11-10 17:12 /apps/hive/warehouse/insofe_56_empdb_2227.db\r\n",
      "drwxrwxrwx   - 2233B46     hdfs          0 2018-11-14 17:17 /apps/hive/warehouse/insofe_56_empdb_2233b46.db\r\n",
      "drwxrwxrwx   - 2236B46     hdfs          0 2018-11-10 17:27 /apps/hive/warehouse/insofe_56_empdb_2236.db\r\n",
      "drwxrwxrwx   - 2237B46     hdfs          0 2018-11-10 17:08 /apps/hive/warehouse/insofe_56_empdb_2237.db\r\n",
      "drwxrwxrwx   - 2239B46     hdfs          0 2018-11-10 17:12 /apps/hive/warehouse/insofe_56_empdb_2239.db\r\n",
      "drwxrwxrwx   - 2240B46     hdfs          0 2018-11-10 17:23 /apps/hive/warehouse/insofe_56_empdb_2240.db\r\n",
      "drwxrwxrwx   - 2241B46     hdfs          0 2018-11-10 17:09 /apps/hive/warehouse/insofe_56_empdb_2241.db\r\n",
      "drwxrwxrwx   - 2242B46     hdfs          0 2018-11-10 17:09 /apps/hive/warehouse/insofe_56_empdb_2242.db\r\n",
      "drwxrwxrwx   - 2408B50     hdfs          0 2018-11-28 17:27 /apps/hive/warehouse/insofe_56_empdb_2408.db\r\n",
      "drwxrwxrwx   - 2410B50     hdfs          0 2018-11-28 17:21 /apps/hive/warehouse/insofe_56_empdb_2410.db\r\n",
      "drwxrwxrwx   - 2227B46     hdfs          0 2018-11-23 10:36 /apps/hive/warehouse/insofe_56_empdb_42227.db\r\n",
      "drwxrwxrwx   - anjaneyalu  hdfs          0 2018-11-27 23:35 /apps/hive/warehouse/insofe_56_empdb_enrollid.db\r\n",
      "drwxrwxrwx   - 2227B46     hdfs          0 2018-11-23 10:18 /apps/hive/warehouse/insofe_56_empdb_prac_2227.db\r\n",
      "drwxrwxrwx   - 2143B45     hdfs          0 2018-11-08 21:04 /apps/hive/warehouse/insofe_56_empdb_rt.db\r\n",
      "drwxrwxrwx   - 2181B45     hdfs          0 2018-11-21 12:27 /apps/hive/warehouse/insofe_56_flightdata_2181b45.db\r\n",
      "drwxrwxrwx   - 1969B41     hdfs          0 2018-07-14 09:35 /apps/hive/warehouse/insofe_69_empdb.db\r\n",
      "drwxrwxrwx   - 2175B45     hdfs          0 2018-11-03 14:44 /apps/hive/warehouse/insofe_75_empdb_1552.db\r\n",
      "drwxrwxrwx   - 1979B41     hdfs          0 2018-07-14 09:35 /apps/hive/warehouse/insofe_79_empdb.db\r\n",
      "drwxrwxrwx   - anjaneyalu  hdfs          0 2018-08-16 16:45 /apps/hive/warehouse/insofe_anjaneyalu.db\r\n",
      "drwxrwxrwx   - 1985B41     hdfs          0 2018-07-26 10:23 /apps/hive/warehouse/insofe_b411985_empdb.db\r\n",
      "drwxrwxrwx   - 2072B43     hdfs          0 2018-08-18 15:39 /apps/hive/warehouse/insofe_b43_g6.db\r\n",
      "drwxrwxrwx   - 2082B43     hdfs          0 2018-08-18 15:39 /apps/hive/warehouse/insofe_b43_group1.db\r\n",
      "drwxrwxrwx   - 1487B32     hdfs          0 2018-01-06 14:39 /apps/hive/warehouse/insofe_batch321487_empdb.db\r\n",
      "drwxrwxrwx   - 1479B32     hdfs          0 2018-01-06 14:46 /apps/hive/warehouse/insofe_batch32_1479b32_empdb.db\r\n",
      "drwxrwxrwx   - 2050B43     hdfs          0 2018-08-18 15:55 /apps/hive/warehouse/insofe_batch43_2050.db\r\n",
      "drwxrwxrwx   - 2061B43     hdfs          0 2018-08-18 15:39 /apps/hive/warehouse/insofe_batch43_group07.db\r\n",
      "drwxrwxrwx   - 2080B43     hdfs          0 2018-08-18 15:39 /apps/hive/warehouse/insofe_batch43_group2.db\r\n",
      "drwxrwxrwx   - 2066B43     hdfs          0 2018-08-18 15:46 /apps/hive/warehouse/insofe_batch43_group3.db\r\n",
      "drwxrwxrwx   - 2098B43     hdfs          0 2018-08-18 15:39 /apps/hive/warehouse/insofe_batch43_group4.db\r\n",
      "drwxrwxrwx   - 2084B43     hdfs          0 2018-08-18 15:47 /apps/hive/warehouse/insofe_batch43_group5.db\r\n",
      "drwxrwxrwx   - 2255B47     hdfs          0 2019-01-20 12:49 /apps/hive/warehouse/insofe_batch47_2255b47_empdb.db\r\n",
      "drwxrwxrwx   - 2261B47     hdfs          0 2019-01-20 12:14 /apps/hive/warehouse/insofe_batch47_2261_empdb.db\r\n",
      "drwxrwxrwx   - 2274B47     hdfs          0 2019-01-13 16:46 /apps/hive/warehouse/insofe_batch47_2274.db\r\n",
      "drwxrwxrwx   - 2274B47     hdfs          0 2019-01-20 12:05 /apps/hive/warehouse/insofe_batch47_2274_empdb.db\r\n",
      "drwxrwxrwx   - 2303B47     hdfs          0 2019-01-20 12:50 /apps/hive/warehouse/insofe_batch47_empdb.db\r\n",
      "drwxrwxrwx   - 2276B47     hdfs          0 2019-01-20 12:01 /apps/hive/warehouse/insofe_batch47_empdb2276.db\r\n",
      "drwxrwxrwx   - 2258B47     hdfs          0 2019-01-20 12:44 /apps/hive/warehouse/insofe_batch47_empdb_2258hive.db\r\n",
      "drwxrwxrwx   - 2275B47     hdfs          0 2019-01-20 11:44 /apps/hive/warehouse/insofe_batch47_empdb_2275.db\r\n",
      "drwxrwxrwx   - 2299B47     hdfs          0 2019-01-20 12:19 /apps/hive/warehouse/insofe_batch47_empdb_2299b47.db\r\n",
      "drwxrwxrwx   - 2299B47     hdfs          0 2019-01-20 12:13 /apps/hive/warehouse/insofe_batch47_empdb_2299b47_2299b47.db\r\n",
      "drwxrwxrwx   - 2302B47     hdfs          0 2019-01-20 12:14 /apps/hive/warehouse/insofe_batch47_empdb_2302.db\r\n",
      "drwxrwxrwx   - 2233B46     hdfs          0 2018-11-18 12:20 /apps/hive/warehouse/insofe_custdb_2233b46.db\r\n",
      "drwxrwxrwx   - 2210B46     hdfs          0 2018-11-18 13:06 /apps/hive/warehouse/insofe_custloan_2210.db\r\n",
      "drwxrwxrwx   - 1366B30     hdfs          0 2017-11-05 12:11 /apps/hive/warehouse/insofe_customer.db\r\n",
      "drwxrwxrwx   - 1369B30     hdfs          0 2018-07-04 15:05 /apps/hive/warehouse/insofe_customer_modified.db\r\n",
      "drwxrwxrwx   - 1367B30     hdfs          0 2018-07-04 15:05 /apps/hive/warehouse/insofe_customerdata_1367b30.db\r\n",
      "drwxrwxrwx   - 2225B46     hdfs          0 2018-11-18 12:27 /apps/hive/warehouse/insofe_customerdata_2225.db\r\n",
      "drwxrwxrwx   - 2233B46     hdfs          0 2018-11-21 20:25 /apps/hive/warehouse/insofe_customerdb_2233b46.db\r\n",
      "drwxrwxrwx   - 2091B45     hdfs          0 2018-11-18 12:01 /apps/hive/warehouse/insofe_cute_2091.db\r\n",
      "drwxrwxrwx   - 2158B45     hdfs          0 2018-11-18 12:40 /apps/hive/warehouse/insofe_cute_2158.db\r\n",
      "drwxrwxrwx   - 2329B48     hdfs          0 2019-01-06 09:45 /apps/hive/warehouse/insofe_eedb2329.db\r\n",
      "drwxrwxrwx   - 2336B48     hdfs          0 2019-01-06 09:42 /apps/hive/warehouse/insofe_eedb2336.db\r\n",
      "drwxrwxrwx   - 2060B48     hdfs          0 2019-01-06 10:12 /apps/hive/warehouse/insofe_emp_2060b48.db\r\n",
      "drwxrwxrwx   - 2063B43     hdfs          0 2018-09-14 18:05 /apps/hive/warehouse/insofe_empdb1.db\r\n",
      "drwxrwxrwx   - 2082B43     hdfs          0 2018-09-07 12:23 /apps/hive/warehouse/insofe_empdb123.db\r\n",
      "drwxrwxrwx   - 2337B48     hdfs          0 2019-01-06 10:03 /apps/hive/warehouse/insofe_empdb2337.db\r\n",
      "drwxrwxrwx   - 2342B48     hdfs          0 2019-01-06 09:44 /apps/hive/warehouse/insofe_empdb2342.db\r\n",
      "drwxrwxrwx   - 2339B48     hdfs          0 2019-01-05 17:49 /apps/hive/warehouse/insofe_empdb33.db\r\n",
      "drwxrwxrwx   - 2367B49     hdfs          0 2019-01-19 18:10 /apps/hive/warehouse/insofe_empdb_10045.db\r\n",
      "drwxrwxrwx   - rameshm     hdfs          0 2019-01-20 10:31 /apps/hive/warehouse/insofe_empdb_10064.db\r\n",
      "drwxrwxrwx   - archanam    hdfs          0 2019-01-18 16:26 /apps/hive/warehouse/insofe_empdb_10098.db\r\n",
      "drwxrwxrwx   - 1305B40     hdfs          0 2018-07-29 15:39 /apps/hive/warehouse/insofe_empdb_1305b40.db\r\n",
      "drwxr-xr-x   - 1441B31     hdfs          0 2017-12-24 11:06 /apps/hive/warehouse/insofe_empdb_1441b31.db\r\n",
      "drwxrwxrwx   - 1502B39     hdfs          0 2018-07-14 12:09 /apps/hive/warehouse/insofe_empdb_1502b39.db\r\n",
      "drwxrwxrwx   - 1502B39     hdfs          0 2018-07-14 13:20 /apps/hive/warehouse/insofe_empdb_1502b39_new1.db\r\n",
      "drwxrwxrwx   - 1502B39     hdfs          0 2018-07-14 13:48 /apps/hive/warehouse/insofe_empdb_1502b39_new2.db\r\n",
      "drwxrwxrwx   - 1661B39     hdfs          0 2018-07-14 12:01 /apps/hive/warehouse/insofe_empdb_1661b39.db\r\n",
      "drwxrwxrwx   - 1724B39     hdfs          0 2018-07-14 11:54 /apps/hive/warehouse/insofe_empdb_1724b39.db\r\n",
      "drwxrwxrwx   - 1835B39     hdfs          0 2018-07-14 12:01 /apps/hive/warehouse/insofe_empdb_1835b39.db\r\n",
      "drwxrwxrwx   - 1836B39     hdfs          0 2018-07-14 11:53 /apps/hive/warehouse/insofe_empdb_1836b39.db\r\n",
      "drwxrwxrwx   - 1837B39     hdfs          0 2018-07-14 13:46 /apps/hive/warehouse/insofe_empdb_1837b39.db\r\n",
      "drwxrwxrwx   - 1838B39     hdfs          0 2018-07-14 14:14 /apps/hive/warehouse/insofe_empdb_1838b39.db\r\n",
      "drwxrwxrwx   - 1840B39     hdfs          0 2018-07-14 13:31 /apps/hive/warehouse/insofe_empdb_1840b39.db\r\n",
      "drwxrwxrwx   - 1843B39     hdfs          0 2018-07-14 11:47 /apps/hive/warehouse/insofe_empdb_1843b39.db\r\n",
      "drwxrwxrwx   - 1844B39     hdfs          0 2018-07-12 16:20 /apps/hive/warehouse/insofe_empdb_1844.db\r\n",
      "drwxrwxrwx   - 1844B39     hdfs          0 2018-07-14 12:09 /apps/hive/warehouse/insofe_empdb_1844b39.db\r\n",
      "drwxrwxrwx   - 1848B39     hdfs          0 2018-07-14 12:01 /apps/hive/warehouse/insofe_empdb_1848b39.db\r\n",
      "drwxrwxrwx   - 1850B39     hdfs          0 2018-07-14 12:01 /apps/hive/warehouse/insofe_empdb_1850b39.db\r\n",
      "drwxrwxrwx   - 1855B39     hdfs          0 2018-07-14 11:53 /apps/hive/warehouse/insofe_empdb_1855b39.db\r\n",
      "drwxrwxrwx   - 1856B39     hdfs          0 2018-07-14 12:01 /apps/hive/warehouse/insofe_empdb_1856b39.db\r\n",
      "drwxrwxrwx   - 1856B39     hdfs          0 2018-07-20 09:59 /apps/hive/warehouse/insofe_empdb_1856b39_practice.db\r\n",
      "drwxrwxrwx   - 1858B39     hdfs          0 2018-07-14 11:45 /apps/hive/warehouse/insofe_empdb_1858.db\r\n",
      "drwxrwxrwx   - 1860B39     hdfs          0 2018-07-14 11:54 /apps/hive/warehouse/insofe_empdb_1860b39.db\r\n",
      "drwxrwxrwx   - 1861B39     hdfs          0 2018-07-14 11:47 /apps/hive/warehouse/insofe_empdb_1861b39.db\r\n",
      "drwxrwxrwx   - 1862B39     hdfs          0 2018-07-14 12:05 /apps/hive/warehouse/insofe_empdb_1862.db\r\n",
      "drwxrwxrwx   - 1863B39     hdfs          0 2018-07-14 13:48 /apps/hive/warehouse/insofe_empdb_1863b39.db\r\n",
      "drwxrwxrwx   - 1864B39     hdfs          0 2018-07-14 12:01 /apps/hive/warehouse/insofe_empdb_1864b39.db\r\n",
      "drwxrwxrwx   - 1865B39     hdfs          0 2018-07-14 11:53 /apps/hive/warehouse/insofe_empdb_1865b39.db\r\n",
      "drwxrwxrwx   - 1866B39     hdfs          0 2018-07-14 14:00 /apps/hive/warehouse/insofe_empdb_1866b39.db\r\n",
      "drwxrwxrwx   - 1868B39     hdfs          0 2018-07-14 11:53 /apps/hive/warehouse/insofe_empdb_1868b39.db\r\n",
      "drwxrwxrwx   - 1868B39     hdfs          0 2018-07-14 12:09 /apps/hive/warehouse/insofe_empdb_1868b3911.db\r\n",
      "drwxrwxrwx   - 1868B39     hdfs          0 2018-07-14 14:01 /apps/hive/warehouse/insofe_empdb_1868b3912.db\r\n",
      "drwxrwxrwx   - 1870B39     hdfs          0 2018-07-14 11:54 /apps/hive/warehouse/insofe_empdb_1870.db\r\n",
      "drwxrwxrwx   - 1873B39     hdfs          0 2018-07-14 12:05 /apps/hive/warehouse/insofe_empdb_1873b39.db\r\n",
      "drwxrwxrwx   - 1878B39     hdfs          0 2018-07-14 12:01 /apps/hive/warehouse/insofe_empdb_1878b39.db\r\n",
      "drwxrwxrwx   - 1879B39     hdfs          0 2018-07-14 12:09 /apps/hive/warehouse/insofe_empdb_1879b39.db\r\n",
      "drwxrwxrwx   - 1886B39     hdfs          0 2018-07-14 11:54 /apps/hive/warehouse/insofe_empdb_1886b39.db\r\n",
      "drwxrwxrwx   - 1887B39     hdfs          0 2018-07-14 13:45 /apps/hive/warehouse/insofe_empdb_1887b3.db\r\n",
      "drwxrwxrwx   - 1887B39     hdfs          0 2018-07-14 12:01 /apps/hive/warehouse/insofe_empdb_1887b39.db\r\n",
      "drwxrwxrwx   - 1887B39     hdfs          0 2018-07-14 13:41 /apps/hive/warehouse/insofe_empdb_1887b391.db\r\n",
      "drwxrwxrwx   - 1887B39     hdfs          0 2018-07-14 13:49 /apps/hive/warehouse/insofe_empdb_1887b392.db\r\n",
      "drwxrwxrwx   - 1890B39     hdfs          0 2018-07-14 11:54 /apps/hive/warehouse/insofe_empdb_1890b39.db\r\n",
      "drwxrwxrwx   - 1891B39     hdfs          0 2018-07-14 11:48 /apps/hive/warehouse/insofe_empdb_1891b39.db\r\n",
      "drwxrwxrwx   - 1901B40     hdfs          0 2018-07-15 12:38 /apps/hive/warehouse/insofe_empdb_1901b40.db\r\n",
      "drwxrwxrwx   - 1945B40     hdfs          0 2018-07-29 16:35 /apps/hive/warehouse/insofe_empdb_1945b40.db\r\n"
     ]
    },
    {
     "name": "stdout",
     "output_type": "stream",
     "text": [
      "drwxrwxrwx   - 1985B41     hdfs          0 2018-07-26 10:49 /apps/hive/warehouse/insofe_empdb_1985.db\r\n",
      "drwxrwxrwx   - 2152B49     hdfs          0 2019-01-20 10:25 /apps/hive/warehouse/insofe_empdb_2152b49.db\r\n",
      "drwxrwxrwx   - 2184B45     hdfs          0 2019-01-05 18:13 /apps/hive/warehouse/insofe_empdb_2184.db\r\n",
      "drwxrwxrwx   - 2184B45     hdfs          0 2019-01-06 09:55 /apps/hive/warehouse/insofe_empdb_2184b45.db\r\n",
      "drwxrwxrwx   - 2187B45     hdfs          0 2019-01-06 11:45 /apps/hive/warehouse/insofe_empdb_2187.db\r\n",
      "drwxrwxrwx   - 2187B45     hdfs          0 2019-01-06 14:48 /apps/hive/warehouse/insofe_empdb_2187b45.db\r\n",
      "drwxrwxrwx   - 2210B46     hdfs          0 2018-11-24 08:05 /apps/hive/warehouse/insofe_empdb_2210.db\r\n",
      "drwxrwxrwx   - 2245B49     hdfs          0 2019-01-19 17:44 /apps/hive/warehouse/insofe_empdb_2245.db\r\n",
      "drwxrwxrwx   - 2308B48     hdfs          0 2019-01-05 17:53 /apps/hive/warehouse/insofe_empdb_2308.db\r\n",
      "drwxrwxrwx   - 2308B48     hdfs          0 2019-01-05 17:54 /apps/hive/warehouse/insofe_empdb_2308b48.db\r\n",
      "drwxrwxrwx   - 2310B48     hdfs          0 2019-01-05 17:52 /apps/hive/warehouse/insofe_empdb_2310.db\r\n",
      "drwxrwxrwx   - 2313B48     hdfs          0 2019-01-05 17:49 /apps/hive/warehouse/insofe_empdb_2313b48.db\r\n",
      "drwxrwxrwx   - 2314B48     hdfs          0 2019-01-06 11:16 /apps/hive/warehouse/insofe_empdb_2314b48.db\r\n",
      "drwxrwxrwx   - 2315B48     hdfs          0 2019-01-05 17:47 /apps/hive/warehouse/insofe_empdb_2315.db\r\n",
      "drwxrwxrwx   - 2317B48     hdfs          0 2019-01-05 17:49 /apps/hive/warehouse/insofe_empdb_2317.db\r\n",
      "drwxrwxrwx   - 2321B48     hdfs          0 2019-01-06 10:12 /apps/hive/warehouse/insofe_empdb_2321b48.db\r\n",
      "drwxrwxrwx   - 2313B48     hdfs          0 2019-01-06 10:03 /apps/hive/warehouse/insofe_empdb_2324b48.db\r\n",
      "drwxrwxrwx   - 2325B48     hdfs          0 2019-01-05 17:47 /apps/hive/warehouse/insofe_empdb_2325.db\r\n",
      "drwxrwxrwx   - 2328B48     hdfs          0 2019-01-06 09:52 /apps/hive/warehouse/insofe_empdb_2328b48.db\r\n",
      "drwxrwxrwx   - 2331B48     hdfs          0 2019-01-06 09:43 /apps/hive/warehouse/insofe_empdb_2331b48.db\r\n",
      "drwxrwxrwx   - 2333B48     hdfs          0 2019-01-05 17:52 /apps/hive/warehouse/insofe_empdb_2333b48.db\r\n",
      "drwxrwxrwx   - 2334B48     hdfs          0 2019-01-06 10:37 /apps/hive/warehouse/insofe_empdb_2334.db\r\n",
      "drwxrwxrwx   - 2335B48     hdfs          0 2019-01-05 17:48 /apps/hive/warehouse/insofe_empdb_2335_ramya.db\r\n",
      "drwxrwxrwx   - 2338B48     hdfs          0 2019-01-05 18:10 /apps/hive/warehouse/insofe_empdb_2338b48.db\r\n",
      "drwxrwxrwx   - 2345B48     hdfs          0 2019-01-05 17:46 /apps/hive/warehouse/insofe_empdb_2345b48.db\r\n",
      "drwxrwxrwx   - 2346B48     hdfs          0 2019-01-06 09:43 /apps/hive/warehouse/insofe_empdb_2346.db\r\n",
      "drwxrwxrwx   - 2348B48     hdfs          0 2019-01-06 09:58 /apps/hive/warehouse/insofe_empdb_2348b48.db\r\n",
      "drwxrwxrwx   - 2349B48     hdfs          0 2019-01-06 10:45 /apps/hive/warehouse/insofe_empdb_2349.db\r\n",
      "drwxrwxrwx   - 2350B48     hdfs          0 2019-01-05 18:09 /apps/hive/warehouse/insofe_empdb_2350.db\r\n",
      "drwxrwxrwx   - 2351B48     hdfs          0 2019-01-05 17:49 /apps/hive/warehouse/insofe_empdb_2351.db\r\n",
      "drwxrwxrwx   - 2352B48     hdfs          0 2019-01-05 17:48 /apps/hive/warehouse/insofe_empdb_2352.db\r\n",
      "drwxrwxrwx   - 2356B48     hdfs          0 2019-01-06 09:23 /apps/hive/warehouse/insofe_empdb_2356.db\r\n",
      "drwxrwxrwx   - 2357B48     hdfs          0 2019-01-06 10:50 /apps/hive/warehouse/insofe_empdb_2357b48.db\r\n",
      "drwxrwxrwx   - 2358B48     hdfs          0 2019-01-05 17:47 /apps/hive/warehouse/insofe_empdb_2358.db\r\n",
      "drwxrwxrwx   - 2359B48     hdfs          0 2019-01-06 10:17 /apps/hive/warehouse/insofe_empdb_2359b48.db\r\n",
      "drwxrwxrwx   - 2360B48     hdfs          0 2019-01-06 10:30 /apps/hive/warehouse/insofe_empdb_2360b48.db\r\n",
      "drwxrwxrwx   - 2364B49     hdfs          0 2019-01-19 17:47 /apps/hive/warehouse/insofe_empdb_2364.db\r\n",
      "drwxrwxrwx   - 2365B49     hdfs          0 2019-01-19 17:45 /apps/hive/warehouse/insofe_empdb_2365.db\r\n",
      "drwxrwxrwx   - 2371B49     hdfs          0 2019-01-20 09:51 /apps/hive/warehouse/insofe_empdb_2371.db\r\n",
      "drwxrwxrwx   - 2372B49     hdfs          0 2019-01-19 17:47 /apps/hive/warehouse/insofe_empdb_2372.db\r\n",
      "drwxrwxrwx   - 2373B49     hdfs          0 2019-01-19 18:07 /apps/hive/warehouse/insofe_empdb_2373b49.db\r\n",
      "drwxrwxrwx   - 2374B49     hdfs          0 2019-01-19 17:47 /apps/hive/warehouse/insofe_empdb_2374b49.db\r\n",
      "drwxrwxrwx   - 2375B49     hdfs          0 2019-01-19 17:49 /apps/hive/warehouse/insofe_empdb_2375b49.db\r\n",
      "drwxrwxrwx   - 2377B49     hdfs          0 2019-01-19 17:46 /apps/hive/warehouse/insofe_empdb_2377.db\r\n",
      "drwxrwxrwx   - 2380B49     hdfs          0 2019-01-19 17:47 /apps/hive/warehouse/insofe_empdb_2380.db\r\n",
      "drwxrwxrwx   - 2380B49     hdfs          0 2019-01-20 09:52 /apps/hive/warehouse/insofe_empdb_2380b49.db\r\n",
      "drwxrwxrwx   - 2383B49     hdfs          0 2019-01-19 17:46 /apps/hive/warehouse/insofe_empdb_2383.db\r\n",
      "drwxrwxrwx   - 2384B49     hdfs          0 2019-01-19 17:46 /apps/hive/warehouse/insofe_empdb_2384.db\r\n",
      "drwxrwxrwx   - 2387B49     hdfs          0 2019-01-20 09:56 /apps/hive/warehouse/insofe_empdb_2387.db\r\n",
      "drwxrwxrwx   - 2389B49     hdfs          0 2019-01-20 09:38 /apps/hive/warehouse/insofe_empdb_2389.db\r\n",
      "drwxrwxrwx   - 2390B49     hdfs          0 2019-01-20 10:56 /apps/hive/warehouse/insofe_empdb_2390.db\r\n",
      "drwxrwxrwx   - 2392B49     hdfs          0 2019-01-20 13:01 /apps/hive/warehouse/insofe_empdb_2392b49.db\r\n",
      "drwxrwxrwx   - 2393B49     hdfs          0 2019-01-20 13:01 /apps/hive/warehouse/insofe_empdb_2393b49.db\r\n",
      "drwxrwxrwx   - 2394B49     hdfs          0 2019-01-20 12:56 /apps/hive/warehouse/insofe_empdb_2394.db\r\n",
      "drwxrwxrwx   - 2395B49     hdfs          0 2019-01-20 09:54 /apps/hive/warehouse/insofe_empdb_2395.db\r\n",
      "drwxrwxrwx   - 2396B49     hdfs          0 2019-01-20 09:52 /apps/hive/warehouse/insofe_empdb_2396.db\r\n",
      "drwxrwxrwx   - 2398B49     hdfs          0 2019-01-19 17:47 /apps/hive/warehouse/insofe_empdb_2398.db\r\n",
      "drwxrwxrwx   - 2399B49     hdfs          0 2019-01-19 17:49 /apps/hive/warehouse/insofe_empdb_2399b49.db\r\n",
      "drwxrwxrwx   - 2400B49     hdfs          0 2019-01-19 19:50 /apps/hive/warehouse/insofe_empdb_2400.db\r\n",
      "drwxrwxrwx   - 2401B49     hdfs          0 2019-01-20 10:11 /apps/hive/warehouse/insofe_empdb_2401.db\r\n",
      "drwxrwxrwx   - 2402B49     hdfs          0 2019-01-20 10:34 /apps/hive/warehouse/insofe_empdb_2402b49.db\r\n",
      "drwxrwxrwx   - 2403B49     hdfs          0 2019-01-19 17:48 /apps/hive/warehouse/insofe_empdb_2403.db\r\n",
      "drwxrwxrwx   - 2404B49     hdfs          0 2019-01-19 17:33 /apps/hive/warehouse/insofe_empdb_2404b49.db\r\n",
      "drwxrwxrwx   - 2320B48     hdfs          0 2019-01-06 09:39 /apps/hive/warehouse/insofe_empdb_akc2320.db\r\n",
      "drwxrwxrwx   - 2309B48     hdfs          0 2019-01-05 17:48 /apps/hive/warehouse/insofe_empdb_anil.db\r\n",
      "drwxrwxrwx   - 2388B49     hdfs          0 2019-01-19 17:49 /apps/hive/warehouse/insofe_empdb_b2388.db\r\n",
      "drwxrwxrwx   - anjaneyalu  hdfs          0 2018-11-27 23:14 /apps/hive/warehouse/insofe_empdb_enroll.db\r\n",
      "drwxrwxrwx   - 1879B39     hdfs          0 2018-07-14 14:00 /apps/hive/warehouse/insofe_empdb_hive_1879b39.db\r\n",
      "drwxrwxrwx   - thomasj     hdfs          0 2018-11-04 07:29 /apps/hive/warehouse/insofe_empdb_mahidharv.db\r\n",
      "drwxrwxrwx   - thomasj     hdfs          0 2018-08-11 21:39 /apps/hive/warehouse/insofe_empdb_thomasj.db\r\n",
      "drwxrwxrwx   - 2139B44     hdfs          0 2018-11-17 06:12 /apps/hive/warehouse/insofe_employeedatabase.db\r\n",
      "drwxrwxrwx   - 2139B44     hdfs          0 2018-11-17 05:21 /apps/hive/warehouse/insofe_employeedb.db\r\n",
      "drwxrwxrwx   - 2004B42     hdfs          0 2018-08-05 15:16 /apps/hive/warehouse/insofe_gowtham.db\r\n",
      "drwxrwxrwx   - gauthamp    hdfs          0 2018-08-08 17:21 /apps/hive/warehouse/insofe_loandata_gem.db\r\n",
      "drwxrwxrwx   - 2010B42     hdfs          0 2018-08-05 15:20 /apps/hive/warehouse/insofe_madhuhive.db\r\n",
      "drwxrwxrwx   - 1840B39     hdfs          0 2018-07-14 13:38 /apps/hive/warehouse/insofe_newempdb_1840b39.db\r\n",
      "drwxrwxrwx   - 2326B48     hdfs          0 2019-01-06 10:14 /apps/hive/warehouse/insofe_p2326.db\r\n",
      "drwxrwxrwx   - pavanw      hdfs          0 2018-08-10 15:05 /apps/hive/warehouse/insofe_pavanw.db\r\n",
      "drwxrwxrwx   - pavanw      hdfs          0 2018-08-05 11:07 /apps/hive/warehouse/insofe_pavanw_empdb.db\r\n",
      "drwxrwxrwx   - yugandhar   hdfs          0 2018-07-04 15:14 /apps/hive/warehouse/insofe_poc_test.db\r\n",
      "drwxrwxrwx   - rameshm     hdfs          0 2018-08-16 16:45 /apps/hive/warehouse/insofe_rameshm.db\r\n",
      "drwxrwxrwx   - 2340B48     hdfs          0 2019-01-06 09:52 /apps/hive/warehouse/insofe_rc2340.db\r\n",
      "drwxrwxrwx   - 2098B43     hdfs          0 2018-08-19 11:10 /apps/hive/warehouse/insofe_results.db\r\n",
      "drwxrwxrwx   - 2029B42     hdfs          0 2018-08-12 12:13 /apps/hive/warehouse/insofe_results_2029b42.db\r\n",
      "drwxrwxrwx   - 2033B42     hdfs          0 2018-08-12 09:48 /apps/hive/warehouse/insofe_results_2033b42.db\r\n",
      "drwxrwxrwx   - 2151B45     hdfs          0 2018-11-03 18:06 /apps/hive/warehouse/insofe_results_2151.db\r\n",
      "drwxrwxrwx   - 2181B45     hdfs          0 2018-11-21 12:25 /apps/hive/warehouse/insofe_results_2181b45.db\r\n",
      "drwxrwxrwx   - 2192B45     hdfs          0 2018-11-23 14:35 /apps/hive/warehouse/insofe_results_test2192.db\r\n",
      "drwxrwxrwx   - 2341B48     hdfs          0 2019-01-06 10:07 /apps/hive/warehouse/insofe_ru2341.db\r\n",
      "drwxrwxrwx   - 1906B43     hdfs          0 2018-09-08 17:16 /apps/hive/warehouse/insofe_sample.db\r\n",
      "drwxrwxrwx   - seemab      hdfs          0 2018-11-02 15:48 /apps/hive/warehouse/insofe_seemab.db\r\n",
      "drwxrwxrwx   - 2127B44     hdfs          0 2018-11-04 17:18 /apps/hive/warehouse/insofe_sid.db\r\n",
      "drwxrwxrwx   - 2115B44     hdfs          0 2018-11-04 18:27 /apps/hive/warehouse/insofe_thomasj.db\r\n",
      "drwxrwxrwx   - 2131B44     hdfs          0 2018-11-04 17:51 /apps/hive/warehouse/insofe_vijayemp.db\r\n",
      "drwxrwxrwx   - vivekb      hdfs          0 2018-08-16 16:46 /apps/hive/warehouse/insofe_vivekb.db\r\n",
      "drwxrwxrwx   - pavanw      hdfs          0 2018-08-10 15:38 /apps/hive/warehouse/insofe_wale.db\r\n",
      "drwxrwxrwx   - 2303B47     hdfs          0 2019-01-13 16:24 /apps/hive/warehouse/insofpreetham_testing.db\r\n",
      "drwxrwxrwx   - 1201B28     hdfs          0 2017-08-19 17:53 /apps/hive/warehouse/internal_data\r\n",
      "drwxrwxrwx   - 2109B44     hdfs          0 2018-10-07 09:48 /apps/hive/warehouse/johnmayer\r\n",
      "drwxrwxrwx   - 1850B39     hdfs          0 2018-07-07 15:08 /apps/hive/warehouse/kiran.db\r\n",
      "drwxrwxrwx   - 1910B40     hdfs          0 2018-07-15 12:59 /apps/hive/warehouse/kranthi_1910.db\r\n",
      "drwxrwxrwx   - 2136B44     hdfs          0 2018-10-07 09:53 /apps/hive/warehouse/l1\r\n",
      "drwxrwxrwx   - seemab      hdfs          0 2018-11-02 19:07 /apps/hive/warehouse/likes\r\n",
      "drwxrwxrwx   - 2133B44     hdfs          0 2018-11-04 11:58 /apps/hive/warehouse/likes2133\r\n",
      "drwxrwxrwx   - 1641B35     hdfs          0 2018-07-20 12:22 /apps/hive/warehouse/locations\r\n",
      "drwxrwxrwx   - mahidharv   hdfs          0 2018-03-11 16:28 /apps/hive/warehouse/locations1\r\n",
      "drwxrwxrwx   - 1867B39     hdfs          0 2018-07-20 12:20 /apps/hive/warehouse/locations2\r\n",
      "drwxrwxrwx   - 1641B35     hdfs          0 2018-03-04 17:29 /apps/hive/warehouse/locationshive\r\n",
      "drwxrwxrwx   - 2252B47     hdfs          0 2019-01-13 16:08 /apps/hive/warehouse/mayurb47_e_posts\r\n",
      "drwxrwxrwx   - 2252B47     hdfs          0 2019-01-13 16:02 /apps/hive/warehouse/mayurb47_testing.db\r\n",
      "drwxrwxrwx   - 1936B40     hdfs          0 2018-07-08 15:37 /apps/hive/warehouse/my_empdb.db\r\n",
      "drwxrwxrwx   - 2387B49     hdfs          0 2018-12-30 11:25 /apps/hive/warehouse/new\r\n",
      "drwxrwxrwx   - 1455B32     hdfs          0 2017-12-31 15:57 /apps/hive/warehouse/new_table\r\n",
      "drwxrwxrwx   - 1455B32     hdfs          0 2017-12-31 15:05 /apps/hive/warehouse/newtable\r\n",
      "drwxrwxrwx   - 2017B42     hdfs          0 2018-08-05 15:44 /apps/hive/warehouse/niroop_2017b42.db\r\n",
      "drwxrwxrwx   - 1600B34     hdfs          0 2018-03-04 12:08 /apps/hive/warehouse/olympic_medals\r\n",
      "drwxrwxrwx   - 1299B29     hdfs          0 2018-03-11 15:34 /apps/hive/warehouse/olympics\r\n",
      "drwxrwxrwx   - 1321B29     hdfs          0 2017-10-31 00:24 /apps/hive/warehouse/olympics_1286b29\r\n",
      "drwxrwxrwx   - 1568B34     hdfs          0 2018-03-04 11:44 /apps/hive/warehouse/olympics_1568\r\n",
      "drwxrwxrwx   - 1289B29     hdfs          0 2017-10-29 17:59 /apps/hive/warehouse/olympics_table\r\n",
      "drwxrwxrwx   - 1297B29     hdfs          0 2017-10-29 17:48 /apps/hive/warehouse/olympictable\r\n",
      "drwxrwxrwx   - 1845B39     hdfs          0 2018-07-11 19:10 /apps/hive/warehouse/one.db\r\n",
      "drwxrwxrwx   - 1404B31     hdfs          0 2017-12-03 17:40 /apps/hive/warehouse/p\r\n",
      "drwxrwxrwx   - 2111B44     hdfs          0 2018-10-07 09:47 /apps/hive/warehouse/p1\r\n",
      "drwxrwxrwx   - 2011B42     hdfs          0 2018-08-19 09:58 /apps/hive/warehouse/parking\r\n",
      "drwxrwxrwx   - 2011B42     hdfs          0 2018-08-19 09:57 /apps/hive/warehouse/paymentmode\r\n",
      "drwxr-xr-x   - 1850B39     hdfs          0 2018-06-23 17:17 /apps/hive/warehouse/people1_bucketed\r\n",
      "drwxr-xr-x   - jeevans     hdfs          0 2018-06-22 23:36 /apps/hive/warehouse/people_bucketed\r\n",
      "drwxr-xr-x   - 1845B39     hdfs          0 2018-07-11 18:46 /apps/hive/warehouse/people_bucketed1\r\n",
      "drwxr-xr-x   - 1860B39     hdfs          0 2018-06-23 16:32 /apps/hive/warehouse/people_bucketed_1\r\n",
      "drwxrwxrwx   - 1422B31     hdfs          0 2018-04-08 12:05 /apps/hive/warehouse/pokemon1\r\n",
      "drwxrwxrwx   - 1422B31     hdfs          0 2018-04-08 12:06 /apps/hive/warehouse/pokemon2\r\n",
      "drwxrwxrwx   - 1422B31     hdfs          0 2018-04-08 12:34 /apps/hive/warehouse/pokemon_1\r\n",
      "drwxrwxrwx   - 1422B31     hdfs          0 2018-04-08 12:37 /apps/hive/warehouse/pokemon_2\r\n",
      "drwxrwxrwx   - 1929B40     hdfs          0 2018-07-15 14:56 /apps/hive/warehouse/post_count\r\n",
      "drwxrwxrwx   - 1920B40     hdfs          0 2018-07-15 12:35 /apps/hive/warehouse/post_counts\r\n",
      "drwxrwxrwx   - seemab      hdfs          0 2018-11-02 19:06 /apps/hive/warehouse/posts\r\n",
      "drwxrwxrwx   - 1929B40     hdfs          0 2018-07-15 14:44 /apps/hive/warehouse/posts1\r\n",
      "drwxrwxrwx   - 1484B32     hdfs          0 2018-05-29 16:04 /apps/hive/warehouse/posts2\r\n",
      "drwxrwxrwx   - 1937B40     hdfs          0 2018-07-15 11:00 /apps/hive/warehouse/posts37\r\n",
      "drwxrwxrwx   - seemab      hdfs          0 2018-11-03 18:45 /apps/hive/warehouse/posts_new\r\n",
      "drwxrwxrwx   - 1920B40     hdfs          0 2018-07-15 12:26 /apps/hive/warehouse/postsed\r\n",
      "drwxrwxrwx   - 1718B36     hdfs          0 2018-07-07 16:59 /apps/hive/warehouse/product\r\n",
      "drwxrwxrwx   - 2106B44     hdfs          0 2018-10-07 09:47 /apps/hive/warehouse/r1\r\n",
      "drwxrwxrwx   - 1861B39     hdfs          0 2018-07-07 16:30 /apps/hive/warehouse/rahul_hive_db.db\r\n",
      "drwxrwxrwx   - 1929B40     hdfs          0 2018-07-15 09:35 /apps/hive/warehouse/ramya.db\r\n",
      "drwxrwxrwx   - 1339B30     hdfs          0 2017-10-15 16:26 /apps/hive/warehouse/rating_full\r\n",
      "drwxrwxrwx   - chaithanyas hdfs          0 2018-02-17 15:53 /apps/hive/warehouse/records_partitioned\r\n",
      "drwxrwxrwx   - 2011B42     hdfs          0 2018-08-19 09:55 /apps/hive/warehouse/restgen\r\n",
      "drwxrwxrwx   - 1907B40     hdfs          0 2018-07-15 13:07 /apps/hive/warehouse/rk.db\r\n",
      "drwxrwxrwx   - 2111B44     hdfs          0 2018-10-07 09:49 /apps/hive/warehouse/rohith\r\n",
      "drwxrwxrwx   - 2342B48     hdfs          0 2019-01-05 17:48 /apps/hive/warehouse/sahil_123.db\r\n",
      "drwxrwxrwx   - 2135B44     hdfs          0 2018-10-07 09:49 /apps/hive/warehouse/sai123\r\n",
      "drwxrwxrwx   - hueadmin    hdfs          0 2017-09-26 13:11 /apps/hive/warehouse/sample_07\r\n",
      "drwxrwxrwx   - hueadmin    hdfs          0 2018-05-18 16:09 /apps/hive/warehouse/sample_08\r\n",
      "drwxrwxrwx   - 1871B39     hdfs          0 2018-07-07 16:07 /apps/hive/warehouse/sandip.db\r\n",
      "drwxrwxrwx   - seemab      hdfs          0 2018-11-03 23:32 /apps/hive/warehouse/seema_testing.db\r\n",
      "drwxrwxrwx   - 2034B42     hdfs          0 2018-08-05 15:39 /apps/hive/warehouse/shamanth_2034.db\r\n",
      "drwxrwxrwx   - 1892B39     hdfs          0 2018-07-07 15:08 /apps/hive/warehouse/shivakumar.db\r\n",
      "drwxrwxrwx   - 2421B51     hdfs          0 2018-12-09 20:35 /apps/hive/warehouse/shravan_test\r\n",
      "drwxrwxrwx   - 2117B44     hdfs          0 2018-10-07 09:47 /apps/hive/warehouse/sid1\r\n",
      "drwxrwxrwx   - 2127B44     hdfs          0 2018-11-04 10:30 /apps/hive/warehouse/sid_b44_testing.db\r\n",
      "drwxrwxrwx   - 2114B44     hdfs          0 2018-10-07 09:48 /apps/hive/warehouse/sravanthi\r\n",
      "drwxrwxrwx   - 2110B44     hdfs          0 2018-10-07 09:47 /apps/hive/warehouse/sriram\r\n",
      "drwxrwxrwx   - 2132B44     hdfs          0 2018-11-04 11:33 /apps/hive/warehouse/srujish.db\r\n",
      "drwxrwxrwx   - 1905B40     hdfs          0 2018-07-29 15:12 /apps/hive/warehouse/stock_cute.db\r\n",
      "drwxrwxrwx   - 1895B40     hdfs          0 2018-07-29 15:02 /apps/hive/warehouse/stocsdb.db\r\n",
      "drwxrwxrwx   - hive        hdfs          0 2017-08-29 13:35 /apps/hive/warehouse/students\r\n",
      "drwxrwxrwx   - 2185B45     hdfs          0 2018-11-03 15:10 /apps/hive/warehouse/sumanth_employee.db\r\n",
      "drwxrwxrwx   - 2132B44     hdfs          0 2018-10-07 09:47 /apps/hive/warehouse/svs\r\n",
      "drwxrwxrwx   - 2123B44     hdfs          0 2018-10-07 09:49 /apps/hive/warehouse/swa_2123b44\r\n",
      "drwxrwxrwx   - mahidharv   hdfs          0 2018-07-20 14:01 /apps/hive/warehouse/t1\r\n",
      "drwxrwxrwx   - 2134B44     hdfs          0 2018-10-10 11:22 /apps/hive/warehouse/t127\r\n",
      "drwxrwxrwx   - 1884B44     hdfs          0 2018-10-07 09:48 /apps/hive/warehouse/t1884\r\n",
      "drwxrwxrwx   - 2127B44     hdfs          0 2018-10-07 09:47 /apps/hive/warehouse/t1_class44\r\n",
      "drwxrwxrwx   - mahidharv   hdfs          0 2018-07-20 14:06 /apps/hive/warehouse/t2\r\n",
      "drwxrwxrwx   - 2134B44     hdfs          0 2018-10-07 09:46 /apps/hive/warehouse/t21\r\n",
      "drwxrwxrwx   - 2122B44     hdfs          0 2018-10-07 09:48 /apps/hive/warehouse/t2122\r\n",
      "drwxrwxrwx   - 2125B44     hdfs          0 2018-10-07 09:47 /apps/hive/warehouse/t2125\r\n",
      "drwxrwxrwx   - 2137B44     hdfs          0 2018-10-07 12:36 /apps/hive/warehouse/t4\r\n",
      "drwxrwxrwx   - mahidharv   hdfs          0 2018-12-05 12:28 /apps/hive/warehouse/t5\r\n",
      "drwxrwxrwx   - 2115B44     hdfs          0 2018-10-07 09:47 /apps/hive/warehouse/table_suyog\r\n",
      "drwxr-xr-x   - thomasj     hdfs          0 2018-12-29 08:39 /apps/hive/warehouse/tc_stocks\r\n",
      "drwxr-xr-x   - rameshm     hdfs          0 2018-10-28 10:06 /apps/hive/warehouse/tcs_stocks\r\n",
      "drwxr-xr-x   - 2334B48     hdfs          0 2019-01-18 11:27 /apps/hive/warehouse/tcs_stocks_2334\r\n",
      "drwxr-xr-x   - jayantm     hdfs          0 2018-12-16 16:21 /apps/hive/warehouse/tcs_stocks_jayantm\r\n",
      "drwxrwxrwx   - 1670B35     hdfs          0 2018-02-17 16:14 /apps/hive/warehouse/temperature\r\n",
      "drwxrwxrwx   - 1349B30     hdfs          0 2017-11-05 12:44 /apps/hive/warehouse/test\r\n",
      "drwxrwxrwx   - 1937B40     hdfs          0 2018-07-15 12:45 /apps/hive/warehouse/test1937.db\r\n",
      "drwxrwxrwx   - hive        hdfs          0 2017-07-21 16:16 /apps/hive/warehouse/test2\r\n",
      "drwxrwxrwx   - mahidharv   hdfs          0 2018-12-04 18:37 /apps/hive/warehouse/test4\r\n",
      "drwxrwxrwx   - 2139B44     hdfs          0 2018-11-16 15:42 /apps/hive/warehouse/test_2139b44.db\r\n",
      "drwxrwxrwx   - rameshm     hdfs          0 2018-10-16 09:35 /apps/hive/warehouse/test_hive_hbase\r\n",
      "drwxrwxrwx   - 1340B30     hdfs          0 2017-10-15 15:50 /apps/hive/warehouse/testing\r\n",
      "drwxrwxrwx   - manasm      hdfs          0 2018-11-04 11:38 /apps/hive/warehouse/testing.db\r\n",
      "drwxrwxrwx   - 1937B40     hdfs          0 2018-07-15 10:46 /apps/hive/warehouse/testing123.db\r\n",
      "drwxrwxrwx   - 1895B40     hdfs          0 2018-07-15 12:38 /apps/hive/warehouse/testing_1895.db\r\n",
      "drwxrwxrwx   - 1895B40     hdfs          0 2018-07-15 10:49 /apps/hive/warehouse/testing_1985.db\r\n",
      "drwxrwxrwx   - 1920B40     hdfs          0 2018-07-15 11:59 /apps/hive/warehouse/testingtools.db\r\n",
      "drwxrwxrwx   - 2135B44     hdfs          0 2018-10-07 09:47 /apps/hive/warehouse/ti\r\n",
      "drwxrwxrwx   - 2138B44     hdfs          0 2018-11-17 00:07 /apps/hive/warehouse/tool\r\n",
      "drwxr-xr-x   - rameshm     hdfs          0 2018-10-26 22:15 /apps/hive/warehouse/traindf_hive\r\n",
      "drwxrwxrwx   - 1340B30     hdfs          0 2017-10-15 15:49 /apps/hive/warehouse/training\r\n",
      "drwxrwxrwx   - 1551B33     hdfs          0 2018-03-21 15:27 /apps/hive/warehouse/transactions_stg\r\n",
      "drwxrwxrwx   - 1870B39     hdfs          0 2018-07-20 18:37 /apps/hive/warehouse/try.db\r\n",
      "drwxrwxrwx   - 2004B42     hdfs          0 2018-07-21 12:11 /apps/hive/warehouse/ttw\r\n",
      "drwxrwxrwx   - 1886B39     hdfs          0 2018-07-07 15:02 /apps/hive/warehouse/umaballav.db\r\n",
      "drwxrwxrwx   - 1894B40     hdfs          0 2018-07-15 11:47 /apps/hive/warehouse/user_info\r\n",
      "drwxrwxrwx   - 1920B40     hdfs          0 2018-07-15 12:45 /apps/hive/warehouse/user_infok\r\n",
      "drwxrwxrwx   - seemab      hdfs          0 2018-12-04 15:52 /apps/hive/warehouse/user_t1\r\n",
      "drwxrwxrwx   - mahidharv   hdfs          0 2018-12-05 12:25 /apps/hive/warehouse/user_test\r\n",
      "drwxrwxrwx   - mahidharv   hdfs          0 2018-03-11 16:28 /apps/hive/warehouse/users1\r\n",
      "drwxrwxrwx   - 1867B39     hdfs          0 2018-07-20 12:19 /apps/hive/warehouse/users2\r\n",
      "drwxrwxrwx   - manasm      hdfs          0 2017-12-29 11:38 /apps/hive/warehouse/users_data\r\n",
      "drwxrwxrwx   - 1920B40     hdfs          0 2018-07-15 12:42 /apps/hive/warehouse/users_datak\r\n",
      "drwxrwxrwx   - 1641B35     hdfs          0 2018-03-04 17:28 /apps/hive/warehouse/usershive\r\n",
      "drwxrwxrwx   - 1502B39     hdfs          0 2018-07-07 16:46 /apps/hive/warehouse/venkatapavan1502.db\r\n",
      "drwxrwxrwx   - hueadmin    hdfs          0 2018-05-18 16:09 /apps/hive/warehouse/web_logs\r\n",
      "drwxr-xr-x   - 1186B28     hdfs          0 2017-11-24 13:48 /apps/hive/warehouse/word_count\r\n",
      "drwxrwxrwx   - 2103B44     hdfs          0 2018-10-07 09:47 /apps/hive/warehouse/yashwanth\r\n",
      "drwxrwxrwx   - 1845B39     hdfs          0 2018-07-11 19:16 /apps/hive/warehouse/zero.db\r\n"
     ]
    }
   ],
   "source": [
    "!hdfs dfs -ls /apps/hive/warehouse/"
   ]
  },
  {
   "cell_type": "code",
   "execution_count": 93,
   "metadata": {},
   "outputs": [
    {
     "name": "stdout",
     "output_type": "stream",
     "text": [
      "Found 3 items\r\n",
      "drwxr-xr-x   - rameshm hdfs          0 2019-01-20 10:31 /apps/hive/warehouse/insofe_empdb_10064.db/active_employees_data\r\n",
      "drwxr-xr-x   - rameshm hdfs          0 2019-01-20 10:31 /apps/hive/warehouse/insofe_empdb_10064.db/dept_aggr\r\n",
      "drwxr-xr-x   - rameshm hdfs          0 2019-01-20 10:31 /apps/hive/warehouse/insofe_empdb_10064.db/dept_gender_aggr\r\n"
     ]
    }
   ],
   "source": [
    "!hdfs dfs -ls /apps/hive/warehouse/insofe_empdb_10064.db/"
   ]
  },
  {
   "cell_type": "code",
   "execution_count": null,
   "metadata": {},
   "outputs": [],
   "source": []
  }
 ],
 "metadata": {
  "kernelspec": {
   "display_name": "Python 2",
   "language": "python",
   "name": "python2"
  },
  "language_info": {
   "codemirror_mode": {
    "name": "ipython",
    "version": 2
   },
   "file_extension": ".py",
   "mimetype": "text/x-python",
   "name": "python",
   "nbconvert_exporter": "python",
   "pygments_lexer": "ipython2",
   "version": "2.7.5"
  }
 },
 "nbformat": 4,
 "nbformat_minor": 2
}
