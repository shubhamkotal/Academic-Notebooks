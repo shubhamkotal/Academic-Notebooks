{
 "cells": [
  {
   "cell_type": "code",
   "execution_count": 54,
   "metadata": {},
   "outputs": [],
   "source": [
    "import pandas as pd\n",
    "import numpy as np\n",
    "import os"
   ]
  },
  {
   "cell_type": "code",
   "execution_count": 55,
   "metadata": {},
   "outputs": [],
   "source": [
    "os.chdir('C:\\\\Users\\\\Hp\\\\Downloads\\\\March\\\\March')"
   ]
  },
  {
   "cell_type": "code",
   "execution_count": 76,
   "metadata": {},
   "outputs": [],
   "source": [
    "data1=pd.read_csv('NIFTY14800CE.csv',names=['Index','Date','Time','Open','High','Low','Close','Volume','OI'])\n",
    "data1['Month']=data1['Date'].str.split('/',expand=True)[1]\n",
    "data1=data1[data1['Month'] == '03']\n",
    "data1.reset_index(inplace=True)\n",
    "data1=data1.drop(['Month','Index','index','OI'],axis=1)"
   ]
  },
  {
   "cell_type": "code",
   "execution_count": 77,
   "metadata": {},
   "outputs": [
    {
     "data": {
      "text/html": [
       "<div>\n",
       "<style scoped>\n",
       "    .dataframe tbody tr th:only-of-type {\n",
       "        vertical-align: middle;\n",
       "    }\n",
       "\n",
       "    .dataframe tbody tr th {\n",
       "        vertical-align: top;\n",
       "    }\n",
       "\n",
       "    .dataframe thead th {\n",
       "        text-align: right;\n",
       "    }\n",
       "</style>\n",
       "<table border=\"1\" class=\"dataframe\">\n",
       "  <thead>\n",
       "    <tr style=\"text-align: right;\">\n",
       "      <th></th>\n",
       "      <th>Date</th>\n",
       "      <th>Time</th>\n",
       "      <th>Open</th>\n",
       "      <th>High</th>\n",
       "      <th>Low</th>\n",
       "      <th>Close</th>\n",
       "      <th>Volume</th>\n",
       "    </tr>\n",
       "  </thead>\n",
       "  <tbody>\n",
       "    <tr>\n",
       "      <th>0</th>\n",
       "      <td>2021/03/01</td>\n",
       "      <td>09:15</td>\n",
       "      <td>350.00</td>\n",
       "      <td>353.5</td>\n",
       "      <td>335.25</td>\n",
       "      <td>338.55</td>\n",
       "      <td>16125</td>\n",
       "    </tr>\n",
       "    <tr>\n",
       "      <th>1</th>\n",
       "      <td>2021/03/01</td>\n",
       "      <td>09:16</td>\n",
       "      <td>338.55</td>\n",
       "      <td>346.5</td>\n",
       "      <td>326.50</td>\n",
       "      <td>346.50</td>\n",
       "      <td>14025</td>\n",
       "    </tr>\n",
       "    <tr>\n",
       "      <th>2</th>\n",
       "      <td>2021/03/01</td>\n",
       "      <td>09:17</td>\n",
       "      <td>347.20</td>\n",
       "      <td>347.2</td>\n",
       "      <td>342.20</td>\n",
       "      <td>345.00</td>\n",
       "      <td>3600</td>\n",
       "    </tr>\n",
       "    <tr>\n",
       "      <th>3</th>\n",
       "      <td>2021/03/01</td>\n",
       "      <td>09:20</td>\n",
       "      <td>355.00</td>\n",
       "      <td>366.6</td>\n",
       "      <td>353.40</td>\n",
       "      <td>366.00</td>\n",
       "      <td>26700</td>\n",
       "    </tr>\n",
       "    <tr>\n",
       "      <th>4</th>\n",
       "      <td>2021/03/01</td>\n",
       "      <td>09:21</td>\n",
       "      <td>365.05</td>\n",
       "      <td>369.3</td>\n",
       "      <td>363.65</td>\n",
       "      <td>366.50</td>\n",
       "      <td>11700</td>\n",
       "    </tr>\n",
       "  </tbody>\n",
       "</table>\n",
       "</div>"
      ],
      "text/plain": [
       "         Date   Time    Open   High     Low   Close  Volume\n",
       "0  2021/03/01  09:15  350.00  353.5  335.25  338.55   16125\n",
       "1  2021/03/01  09:16  338.55  346.5  326.50  346.50   14025\n",
       "2  2021/03/01  09:17  347.20  347.2  342.20  345.00    3600\n",
       "3  2021/03/01  09:20  355.00  366.6  353.40  366.00   26700\n",
       "4  2021/03/01  09:21  365.05  369.3  363.65  366.50   11700"
      ]
     },
     "execution_count": 77,
     "metadata": {},
     "output_type": "execute_result"
    }
   ],
   "source": [
    "data1.head()"
   ]
  },
  {
   "cell_type": "code",
   "execution_count": 78,
   "metadata": {},
   "outputs": [],
   "source": [
    "data1.to_csv('14800CE.csv',index=False)"
   ]
  },
  {
   "cell_type": "code",
   "execution_count": null,
   "metadata": {},
   "outputs": [],
   "source": []
  }
 ],
 "metadata": {
  "kernelspec": {
   "display_name": "Python 3",
   "language": "python",
   "name": "python3"
  },
  "language_info": {
   "codemirror_mode": {
    "name": "ipython",
    "version": 3
   },
   "file_extension": ".py",
   "mimetype": "text/x-python",
   "name": "python",
   "nbconvert_exporter": "python",
   "pygments_lexer": "ipython3",
   "version": "3.6.5"
  }
 },
 "nbformat": 4,
 "nbformat_minor": 2
}
