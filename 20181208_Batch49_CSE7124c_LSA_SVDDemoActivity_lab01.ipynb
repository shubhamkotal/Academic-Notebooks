{
 "cells": [
  {
   "cell_type": "markdown",
   "metadata": {},
   "source": [
    "## Loading modules, data and preprocessing"
   ]
  },
  {
   "cell_type": "code",
   "execution_count": 1,
   "metadata": {
    "collapsed": true
   },
   "outputs": [],
   "source": [
    "import sklearn \n",
    "# Import all of the scikit learn stuff \n",
    "from __future__ import print_function \n",
    "from sklearn.decomposition import TruncatedSVD \n",
    "from sklearn.feature_extraction.text import TfidfVectorizer \n",
    "import pandas as pd\n",
    "import numpy as np\n"
   ]
  },
  {
   "cell_type": "code",
   "execution_count": 2,
   "metadata": {
    "collapsed": true
   },
   "outputs": [],
   "source": [
    "import nltk\n",
    "from nltk.tokenize import sent_tokenize, word_tokenize\n",
    "from nltk.stem import WordNetLemmatizer\n",
    "import re\n",
    "\n",
    "stopwords = nltk.corpus.stopwords\n",
    "eng_stopwords = stopwords.words('english')\n",
    "ps = nltk.stem.PorterStemmer()\n",
    "wordnet_lemmatizer = WordNetLemmatizer()\n",
    "\n",
    "def basic_preprocessing(text):\n",
    "    text = text.lower() #lowering\n",
    "    text = re.sub(r'\\[.*?\\]', '', text) #removing all instances of citation brackets found in wiki articles\n",
    "    text = word_tokenize(text)\n",
    "    text = [word for word in text if word not in eng_stopwords] #removing stop words\n",
    "    text = [word for word in text if len(word) > 1] #removing single character tokens\n",
    "    text = [wordnet_lemmatizer.lemmatize(word) for word in text]\n",
    "    text = [ps.stem(word) for word in text]\n",
    "\n",
    "    return(text)\n"
   ]
  },
  {
   "cell_type": "code",
   "execution_count": 3,
   "metadata": {
    "collapsed": true
   },
   "outputs": [],
   "source": [
    "documents = [\n",
    "             \"Sam loves computers. Computers have software.\",\n",
    "             \"Computers need software to run\",\n",
    "             \"Cats sat on Sam. Sam likes and cares for his cats\",\n",
    "             \"Sam's cats don't care where Sam is\",\n",
    "             \"Software in computers is cool. Sam loves software\",\n",
    "             \"Sam thinks Cats are nice. They sit where they like and do not care\"\n",
    "            ]\n",
    "\n",
    "sample_processed_texts = [basic_preprocessing(text) for text in documents]"
   ]
  },
  {
   "cell_type": "code",
   "execution_count": 12,
   "metadata": {
    "collapsed": false
   },
   "outputs": [
    {
     "data": {
      "text/plain": [
       "['Sam loves computers.',\n",
       " 'Computers need softw',\n",
       " 'Cats sat on Sam. Sam',\n",
       " \"Sam's cats don't car\",\n",
       " 'Software in computer',\n",
       " 'Sam thinks Cats are ']"
      ]
     },
     "execution_count": 12,
     "metadata": {},
     "output_type": "execute_result"
    }
   ],
   "source": [
    "all_texts_summary = [text[:20] for text in documents]\n",
    "all_texts_summary"
   ]
  },
  {
   "cell_type": "markdown",
   "metadata": {},
   "source": [
    "## Creating the TFIDF Matrix of data"
   ]
  },
  {
   "cell_type": "code",
   "execution_count": 13,
   "metadata": {
    "collapsed": false
   },
   "outputs": [
    {
     "data": {
      "text/html": [
       "<div>\n",
       "<table border=\"1\" class=\"dataframe\">\n",
       "  <thead>\n",
       "    <tr style=\"text-align: right;\">\n",
       "      <th></th>\n",
       "      <th>and</th>\n",
       "      <th>are</th>\n",
       "      <th>care</th>\n",
       "      <th>cares</th>\n",
       "      <th>cats</th>\n",
       "      <th>computers</th>\n",
       "      <th>cool</th>\n",
       "      <th>do</th>\n",
       "      <th>don</th>\n",
       "      <th>for</th>\n",
       "      <th>...</th>\n",
       "      <th>on</th>\n",
       "      <th>run</th>\n",
       "      <th>sam</th>\n",
       "      <th>sat</th>\n",
       "      <th>sit</th>\n",
       "      <th>software</th>\n",
       "      <th>they</th>\n",
       "      <th>thinks</th>\n",
       "      <th>to</th>\n",
       "      <th>where</th>\n",
       "    </tr>\n",
       "  </thead>\n",
       "  <tbody>\n",
       "    <tr>\n",
       "      <th>Sam loves computers.</th>\n",
       "      <td>0.000000</td>\n",
       "      <td>0.000000</td>\n",
       "      <td>0.000000</td>\n",
       "      <td>0.000000</td>\n",
       "      <td>0.000000</td>\n",
       "      <td>0.665302</td>\n",
       "      <td>0.000000</td>\n",
       "      <td>0.000000</td>\n",
       "      <td>0.000000</td>\n",
       "      <td>0.000000</td>\n",
       "      <td>...</td>\n",
       "      <td>0.000000</td>\n",
       "      <td>0.000000</td>\n",
       "      <td>0.246169</td>\n",
       "      <td>0.000000</td>\n",
       "      <td>0.000000</td>\n",
       "      <td>0.332651</td>\n",
       "      <td>0.000000</td>\n",
       "      <td>0.000000</td>\n",
       "      <td>0.000000</td>\n",
       "      <td>0.000000</td>\n",
       "    </tr>\n",
       "    <tr>\n",
       "      <th>Computers need softw</th>\n",
       "      <td>0.000000</td>\n",
       "      <td>0.000000</td>\n",
       "      <td>0.000000</td>\n",
       "      <td>0.000000</td>\n",
       "      <td>0.000000</td>\n",
       "      <td>0.347962</td>\n",
       "      <td>0.000000</td>\n",
       "      <td>0.000000</td>\n",
       "      <td>0.000000</td>\n",
       "      <td>0.000000</td>\n",
       "      <td>...</td>\n",
       "      <td>0.000000</td>\n",
       "      <td>0.502608</td>\n",
       "      <td>0.000000</td>\n",
       "      <td>0.000000</td>\n",
       "      <td>0.000000</td>\n",
       "      <td>0.347962</td>\n",
       "      <td>0.000000</td>\n",
       "      <td>0.000000</td>\n",
       "      <td>0.502608</td>\n",
       "      <td>0.000000</td>\n",
       "    </tr>\n",
       "    <tr>\n",
       "      <th>Cats sat on Sam. Sam</th>\n",
       "      <td>0.264115</td>\n",
       "      <td>0.000000</td>\n",
       "      <td>0.000000</td>\n",
       "      <td>0.322086</td>\n",
       "      <td>0.445969</td>\n",
       "      <td>0.000000</td>\n",
       "      <td>0.000000</td>\n",
       "      <td>0.000000</td>\n",
       "      <td>0.000000</td>\n",
       "      <td>0.322086</td>\n",
       "      <td>...</td>\n",
       "      <td>0.322086</td>\n",
       "      <td>0.000000</td>\n",
       "      <td>0.330027</td>\n",
       "      <td>0.322086</td>\n",
       "      <td>0.000000</td>\n",
       "      <td>0.000000</td>\n",
       "      <td>0.000000</td>\n",
       "      <td>0.000000</td>\n",
       "      <td>0.000000</td>\n",
       "      <td>0.000000</td>\n",
       "    </tr>\n",
       "    <tr>\n",
       "      <th>Sam's cats don't car</th>\n",
       "      <td>0.000000</td>\n",
       "      <td>0.000000</td>\n",
       "      <td>0.384577</td>\n",
       "      <td>0.000000</td>\n",
       "      <td>0.324687</td>\n",
       "      <td>0.000000</td>\n",
       "      <td>0.000000</td>\n",
       "      <td>0.000000</td>\n",
       "      <td>0.468989</td>\n",
       "      <td>0.000000</td>\n",
       "      <td>...</td>\n",
       "      <td>0.000000</td>\n",
       "      <td>0.000000</td>\n",
       "      <td>0.480551</td>\n",
       "      <td>0.000000</td>\n",
       "      <td>0.000000</td>\n",
       "      <td>0.000000</td>\n",
       "      <td>0.000000</td>\n",
       "      <td>0.000000</td>\n",
       "      <td>0.000000</td>\n",
       "      <td>0.384577</td>\n",
       "    </tr>\n",
       "    <tr>\n",
       "      <th>Software in computer</th>\n",
       "      <td>0.000000</td>\n",
       "      <td>0.000000</td>\n",
       "      <td>0.000000</td>\n",
       "      <td>0.000000</td>\n",
       "      <td>0.000000</td>\n",
       "      <td>0.282546</td>\n",
       "      <td>0.408119</td>\n",
       "      <td>0.000000</td>\n",
       "      <td>0.000000</td>\n",
       "      <td>0.000000</td>\n",
       "      <td>...</td>\n",
       "      <td>0.000000</td>\n",
       "      <td>0.000000</td>\n",
       "      <td>0.209090</td>\n",
       "      <td>0.000000</td>\n",
       "      <td>0.000000</td>\n",
       "      <td>0.565091</td>\n",
       "      <td>0.000000</td>\n",
       "      <td>0.000000</td>\n",
       "      <td>0.000000</td>\n",
       "      <td>0.000000</td>\n",
       "    </tr>\n",
       "    <tr>\n",
       "      <th>Sam thinks Cats are</th>\n",
       "      <td>0.221069</td>\n",
       "      <td>0.269591</td>\n",
       "      <td>0.221069</td>\n",
       "      <td>0.000000</td>\n",
       "      <td>0.186641</td>\n",
       "      <td>0.000000</td>\n",
       "      <td>0.000000</td>\n",
       "      <td>0.269591</td>\n",
       "      <td>0.000000</td>\n",
       "      <td>0.000000</td>\n",
       "      <td>...</td>\n",
       "      <td>0.000000</td>\n",
       "      <td>0.000000</td>\n",
       "      <td>0.138119</td>\n",
       "      <td>0.000000</td>\n",
       "      <td>0.269591</td>\n",
       "      <td>0.000000</td>\n",
       "      <td>0.539183</td>\n",
       "      <td>0.269591</td>\n",
       "      <td>0.000000</td>\n",
       "      <td>0.221069</td>\n",
       "    </tr>\n",
       "  </tbody>\n",
       "</table>\n",
       "<p>6 rows × 30 columns</p>\n",
       "</div>"
      ],
      "text/plain": [
       "                           and       are      care     cares      cats  \\\n",
       "Sam loves computers.  0.000000  0.000000  0.000000  0.000000  0.000000   \n",
       "Computers need softw  0.000000  0.000000  0.000000  0.000000  0.000000   \n",
       "Cats sat on Sam. Sam  0.264115  0.000000  0.000000  0.322086  0.445969   \n",
       "Sam's cats don't car  0.000000  0.000000  0.384577  0.000000  0.324687   \n",
       "Software in computer  0.000000  0.000000  0.000000  0.000000  0.000000   \n",
       "Sam thinks Cats are   0.221069  0.269591  0.221069  0.000000  0.186641   \n",
       "\n",
       "                      computers      cool        do       don       for  \\\n",
       "Sam loves computers.   0.665302  0.000000  0.000000  0.000000  0.000000   \n",
       "Computers need softw   0.347962  0.000000  0.000000  0.000000  0.000000   \n",
       "Cats sat on Sam. Sam   0.000000  0.000000  0.000000  0.000000  0.322086   \n",
       "Sam's cats don't car   0.000000  0.000000  0.000000  0.468989  0.000000   \n",
       "Software in computer   0.282546  0.408119  0.000000  0.000000  0.000000   \n",
       "Sam thinks Cats are    0.000000  0.000000  0.269591  0.000000  0.000000   \n",
       "\n",
       "                        ...           on       run       sam       sat  \\\n",
       "Sam loves computers.    ...     0.000000  0.000000  0.246169  0.000000   \n",
       "Computers need softw    ...     0.000000  0.502608  0.000000  0.000000   \n",
       "Cats sat on Sam. Sam    ...     0.322086  0.000000  0.330027  0.322086   \n",
       "Sam's cats don't car    ...     0.000000  0.000000  0.480551  0.000000   \n",
       "Software in computer    ...     0.000000  0.000000  0.209090  0.000000   \n",
       "Sam thinks Cats are     ...     0.000000  0.000000  0.138119  0.000000   \n",
       "\n",
       "                           sit  software      they    thinks        to  \\\n",
       "Sam loves computers.  0.000000  0.332651  0.000000  0.000000  0.000000   \n",
       "Computers need softw  0.000000  0.347962  0.000000  0.000000  0.502608   \n",
       "Cats sat on Sam. Sam  0.000000  0.000000  0.000000  0.000000  0.000000   \n",
       "Sam's cats don't car  0.000000  0.000000  0.000000  0.000000  0.000000   \n",
       "Software in computer  0.000000  0.565091  0.000000  0.000000  0.000000   \n",
       "Sam thinks Cats are   0.269591  0.000000  0.539183  0.269591  0.000000   \n",
       "\n",
       "                         where  \n",
       "Sam loves computers.  0.000000  \n",
       "Computers need softw  0.000000  \n",
       "Cats sat on Sam. Sam  0.000000  \n",
       "Sam's cats don't car  0.384577  \n",
       "Software in computer  0.000000  \n",
       "Sam thinks Cats are   0.221069  \n",
       "\n",
       "[6 rows x 30 columns]"
      ]
     },
     "execution_count": 13,
     "metadata": {},
     "output_type": "execute_result"
    }
   ],
   "source": [
    "x = TfidfVectorizer()\n",
    "x.fit(documents)\n",
    "all_texts_summary = [text[:20] for text in documents]\n",
    "tfidf = x.transform(documents)\n",
    "pd.DataFrame(tfidf.todense(), index=all_texts_summary, columns=x.get_feature_names())"
   ]
  },
  {
   "cell_type": "markdown",
   "metadata": {},
   "source": [
    "## Applying SVD"
   ]
  },
  {
   "cell_type": "code",
   "execution_count": 15,
   "metadata": {
    "collapsed": true
   },
   "outputs": [],
   "source": [
    "n_topics = 2\n",
    "lsa = TruncatedSVD(n_topics, algorithm = 'arpack')\n",
    "lsa.fit(tfidf)\n",
    "lsa_data = lsa.transform(tfidf)"
   ]
  },
  {
   "cell_type": "code",
   "execution_count": 23,
   "metadata": {
    "collapsed": false
   },
   "outputs": [
    {
     "name": "stdout",
     "output_type": "stream",
     "text": [
      "[0.03771687 0.22102334]\n",
      "[0.05452911 0.31954414]\n"
     ]
    }
   ],
   "source": [
    "lsa.components_\n",
    "print(lsa.explained_variance_)\n",
    "print(lsa.explained_variance_ratio_)"
   ]
  },
  {
   "cell_type": "code",
   "execution_count": 25,
   "metadata": {
    "collapsed": false
   },
   "outputs": [
    {
     "data": {
      "text/plain": [
       "array([1.39038728, 1.19972874])"
      ]
     },
     "execution_count": 25,
     "metadata": {},
     "output_type": "execute_result"
    }
   ],
   "source": [
    "lsa.singular_values_"
   ]
  },
  {
   "cell_type": "code",
   "execution_count": 35,
   "metadata": {
    "collapsed": false
   },
   "outputs": [
    {
     "data": {
      "text/plain": [
       "array([[ 0.77228086, -0.32416197],\n",
       "       [ 0.53584776, -0.42063724],\n",
       "       [ 0.33997378,  0.58578388],\n",
       "       [ 0.48949478,  0.60840497],\n",
       "       [ 0.78613358, -0.24493166],\n",
       "       [ 0.27646507,  0.61971083]])"
      ]
     },
     "execution_count": 35,
     "metadata": {},
     "output_type": "execute_result"
    }
   ],
   "source": [
    "lsa_data"
   ]
  },
  {
   "cell_type": "markdown",
   "metadata": {},
   "source": [
    "### Printing concept-word matrix"
   ]
  },
  {
   "cell_type": "code",
   "execution_count": 26,
   "metadata": {
    "collapsed": false
   },
   "outputs": [
    {
     "data": {
      "text/html": [
       "<div>\n",
       "<table border=\"1\" class=\"dataframe\">\n",
       "  <thead>\n",
       "    <tr style=\"text-align: right;\">\n",
       "      <th></th>\n",
       "      <th>and</th>\n",
       "      <th>are</th>\n",
       "      <th>care</th>\n",
       "      <th>cares</th>\n",
       "      <th>cats</th>\n",
       "      <th>computers</th>\n",
       "      <th>cool</th>\n",
       "      <th>do</th>\n",
       "      <th>don</th>\n",
       "      <th>for</th>\n",
       "      <th>...</th>\n",
       "      <th>on</th>\n",
       "      <th>run</th>\n",
       "      <th>sam</th>\n",
       "      <th>sat</th>\n",
       "      <th>sit</th>\n",
       "      <th>software</th>\n",
       "      <th>they</th>\n",
       "      <th>thinks</th>\n",
       "      <th>to</th>\n",
       "      <th>where</th>\n",
       "    </tr>\n",
       "  </thead>\n",
       "  <tbody>\n",
       "    <tr>\n",
       "      <th>concept0</th>\n",
       "      <td>0.078063</td>\n",
       "      <td>0.038554</td>\n",
       "      <td>0.128993</td>\n",
       "      <td>0.056643</td>\n",
       "      <td>0.187334</td>\n",
       "      <td>0.477128</td>\n",
       "      <td>0.165963</td>\n",
       "      <td>0.038554</td>\n",
       "      <td>0.118751</td>\n",
       "      <td>0.056643</td>\n",
       "      <td>...</td>\n",
       "      <td>0.056643</td>\n",
       "      <td>0.139315</td>\n",
       "      <td>0.382840</td>\n",
       "      <td>0.056643</td>\n",
       "      <td>0.038554</td>\n",
       "      <td>0.459136</td>\n",
       "      <td>0.077109</td>\n",
       "      <td>0.038554</td>\n",
       "      <td>0.139315</td>\n",
       "      <td>0.128993</td>\n",
       "    </tr>\n",
       "    <tr>\n",
       "      <th>concept1</th>\n",
       "      <td>0.202670</td>\n",
       "      <td>0.116072</td>\n",
       "      <td>0.257740</td>\n",
       "      <td>0.131082</td>\n",
       "      <td>0.399101</td>\n",
       "      <td>-0.299605</td>\n",
       "      <td>-0.069449</td>\n",
       "      <td>0.116072</td>\n",
       "      <td>0.198239</td>\n",
       "      <td>0.131082</td>\n",
       "      <td>...</td>\n",
       "      <td>0.131082</td>\n",
       "      <td>-0.146883</td>\n",
       "      <td>0.305886</td>\n",
       "      <td>0.131082</td>\n",
       "      <td>0.116072</td>\n",
       "      <td>-0.272767</td>\n",
       "      <td>0.232145</td>\n",
       "      <td>0.116072</td>\n",
       "      <td>-0.146883</td>\n",
       "      <td>0.257740</td>\n",
       "    </tr>\n",
       "  </tbody>\n",
       "</table>\n",
       "<p>2 rows × 30 columns</p>\n",
       "</div>"
      ],
      "text/plain": [
       "               and       are      care     cares      cats  computers  \\\n",
       "concept0  0.078063  0.038554  0.128993  0.056643  0.187334   0.477128   \n",
       "concept1  0.202670  0.116072  0.257740  0.131082  0.399101  -0.299605   \n",
       "\n",
       "              cool        do       don       for    ...           on  \\\n",
       "concept0  0.165963  0.038554  0.118751  0.056643    ...     0.056643   \n",
       "concept1 -0.069449  0.116072  0.198239  0.131082    ...     0.131082   \n",
       "\n",
       "               run       sam       sat       sit  software      they  \\\n",
       "concept0  0.139315  0.382840  0.056643  0.038554  0.459136  0.077109   \n",
       "concept1 -0.146883  0.305886  0.131082  0.116072 -0.272767  0.232145   \n",
       "\n",
       "            thinks        to     where  \n",
       "concept0  0.038554  0.139315  0.128993  \n",
       "concept1  0.116072 -0.146883  0.257740  \n",
       "\n",
       "[2 rows x 30 columns]"
      ]
     },
     "execution_count": 26,
     "metadata": {},
     "output_type": "execute_result"
    }
   ],
   "source": [
    "concepts = ['concept{}'.format(i) for i in range(n_topics)]\n",
    "concept_word = pd.DataFrame(lsa.components_, columns=x.get_feature_names(), index=concepts)\n",
    "concept_word"
   ]
  },
  {
   "cell_type": "markdown",
   "metadata": {},
   "source": [
    "### Printing document-concept matrix"
   ]
  },
  {
   "cell_type": "code",
   "execution_count": 27,
   "metadata": {
    "collapsed": false
   },
   "outputs": [
    {
     "data": {
      "text/html": [
       "<div>\n",
       "<table border=\"1\" class=\"dataframe\">\n",
       "  <thead>\n",
       "    <tr style=\"text-align: right;\">\n",
       "      <th></th>\n",
       "      <th>concept0</th>\n",
       "      <th>concept1</th>\n",
       "    </tr>\n",
       "  </thead>\n",
       "  <tbody>\n",
       "    <tr>\n",
       "      <th>Sam loves computers.</th>\n",
       "      <td>0.772281</td>\n",
       "      <td>-0.324162</td>\n",
       "    </tr>\n",
       "    <tr>\n",
       "      <th>Computers need softw</th>\n",
       "      <td>0.535848</td>\n",
       "      <td>-0.420637</td>\n",
       "    </tr>\n",
       "    <tr>\n",
       "      <th>Cats sat on Sam. Sam</th>\n",
       "      <td>0.339974</td>\n",
       "      <td>0.585784</td>\n",
       "    </tr>\n",
       "    <tr>\n",
       "      <th>Sam's cats don't car</th>\n",
       "      <td>0.489495</td>\n",
       "      <td>0.608405</td>\n",
       "    </tr>\n",
       "    <tr>\n",
       "      <th>Software in computer</th>\n",
       "      <td>0.786134</td>\n",
       "      <td>-0.244932</td>\n",
       "    </tr>\n",
       "    <tr>\n",
       "      <th>Sam thinks Cats are</th>\n",
       "      <td>0.276465</td>\n",
       "      <td>0.619711</td>\n",
       "    </tr>\n",
       "  </tbody>\n",
       "</table>\n",
       "</div>"
      ],
      "text/plain": [
       "                      concept0  concept1\n",
       "Sam loves computers.  0.772281 -0.324162\n",
       "Computers need softw  0.535848 -0.420637\n",
       "Cats sat on Sam. Sam  0.339974  0.585784\n",
       "Sam's cats don't car  0.489495  0.608405\n",
       "Software in computer  0.786134 -0.244932\n",
       "Sam thinks Cats are   0.276465  0.619711"
      ]
     },
     "execution_count": 27,
     "metadata": {},
     "output_type": "execute_result"
    }
   ],
   "source": [
    "doc_concept = pd.DataFrame(lsa_data, index = all_texts_summary, columns=concepts)\n",
    "doc_concept"
   ]
  },
  {
   "cell_type": "markdown",
   "metadata": {},
   "source": [
    "### Obtaining document-document similarities"
   ]
  },
  {
   "cell_type": "code",
   "execution_count": 28,
   "metadata": {
    "collapsed": false
   },
   "outputs": [
    {
     "data": {
      "text/html": [
       "<div>\n",
       "<table border=\"1\" class=\"dataframe\">\n",
       "  <thead>\n",
       "    <tr style=\"text-align: right;\">\n",
       "      <th></th>\n",
       "      <th>Sam loves computers.</th>\n",
       "      <th>Computers need softw</th>\n",
       "      <th>Cats sat on Sam. Sam</th>\n",
       "      <th>Sam's cats don't car</th>\n",
       "      <th>Software in computer</th>\n",
       "      <th>Sam thinks Cats are</th>\n",
       "    </tr>\n",
       "  </thead>\n",
       "  <tbody>\n",
       "    <tr>\n",
       "      <th>Sam loves computers.</th>\n",
       "      <td>0.701499</td>\n",
       "      <td>0.550180</td>\n",
       "      <td>0.072666</td>\n",
       "      <td>0.180806</td>\n",
       "      <td>0.686513</td>\n",
       "      <td>0.012622</td>\n",
       "    </tr>\n",
       "    <tr>\n",
       "      <th>Computers need softw</th>\n",
       "      <td>0.550180</td>\n",
       "      <td>0.464069</td>\n",
       "      <td>-0.064228</td>\n",
       "      <td>0.006377</td>\n",
       "      <td>0.524275</td>\n",
       "      <td>-0.112530</td>\n",
       "    </tr>\n",
       "    <tr>\n",
       "      <th>Cats sat on Sam. Sam</th>\n",
       "      <td>0.072666</td>\n",
       "      <td>-0.064228</td>\n",
       "      <td>0.458725</td>\n",
       "      <td>0.522809</td>\n",
       "      <td>0.123788</td>\n",
       "      <td>0.457007</td>\n",
       "    </tr>\n",
       "    <tr>\n",
       "      <th>Sam's cats don't car</th>\n",
       "      <td>0.180806</td>\n",
       "      <td>0.006377</td>\n",
       "      <td>0.522809</td>\n",
       "      <td>0.609762</td>\n",
       "      <td>0.235791</td>\n",
       "      <td>0.512363</td>\n",
       "    </tr>\n",
       "    <tr>\n",
       "      <th>Software in computer</th>\n",
       "      <td>0.686513</td>\n",
       "      <td>0.524275</td>\n",
       "      <td>0.123788</td>\n",
       "      <td>0.235791</td>\n",
       "      <td>0.677998</td>\n",
       "      <td>0.065552</td>\n",
       "    </tr>\n",
       "    <tr>\n",
       "      <th>Sam thinks Cats are</th>\n",
       "      <td>0.012622</td>\n",
       "      <td>-0.112530</td>\n",
       "      <td>0.457007</td>\n",
       "      <td>0.512363</td>\n",
       "      <td>0.065552</td>\n",
       "      <td>0.460474</td>\n",
       "    </tr>\n",
       "  </tbody>\n",
       "</table>\n",
       "</div>"
      ],
      "text/plain": [
       "                      Sam loves computers.  Computers need softw  \\\n",
       "Sam loves computers.              0.701499              0.550180   \n",
       "Computers need softw              0.550180              0.464069   \n",
       "Cats sat on Sam. Sam              0.072666             -0.064228   \n",
       "Sam's cats don't car              0.180806              0.006377   \n",
       "Software in computer              0.686513              0.524275   \n",
       "Sam thinks Cats are               0.012622             -0.112530   \n",
       "\n",
       "                      Cats sat on Sam. Sam  Sam's cats don't car  \\\n",
       "Sam loves computers.              0.072666              0.180806   \n",
       "Computers need softw             -0.064228              0.006377   \n",
       "Cats sat on Sam. Sam              0.458725              0.522809   \n",
       "Sam's cats don't car              0.522809              0.609762   \n",
       "Software in computer              0.123788              0.235791   \n",
       "Sam thinks Cats are               0.457007              0.512363   \n",
       "\n",
       "                      Software in computer  Sam thinks Cats are   \n",
       "Sam loves computers.              0.686513              0.012622  \n",
       "Computers need softw              0.524275             -0.112530  \n",
       "Cats sat on Sam. Sam              0.123788              0.457007  \n",
       "Sam's cats don't car              0.235791              0.512363  \n",
       "Software in computer              0.677998              0.065552  \n",
       "Sam thinks Cats are               0.065552              0.460474  "
      ]
     },
     "execution_count": 28,
     "metadata": {},
     "output_type": "execute_result"
    }
   ],
   "source": [
    "matrix_similarity = np.asarray(np.asmatrix(lsa_data) * np.asmatrix(lsa_data).T) \n",
    "pd.DataFrame(matrix_similarity,index=all_texts_summary, columns=all_texts_summary)"
   ]
  },
  {
   "cell_type": "code",
   "execution_count": 29,
   "metadata": {
    "collapsed": false,
    "scrolled": false
   },
   "outputs": [
    {
     "data": {
      "image/png": "[encoded data removed]",
      "text/plain": [
       "<matplotlib.figure.Figure at 0x176cdbe0>"
      ]
     },
     "metadata": {},
     "output_type": "display_data"
    }
   ],
   "source": [
    "%matplotlib inline\n",
    "import matplotlib.pyplot as plt\n",
    "\n",
    "plt.rcParams['figure.figsize'] = (10, 10)\n",
    "\n",
    "c1 = doc_concept.values[:,0].T\n",
    "c2 = doc_concept.values[:,1].T\n",
    "\n",
    "fig, ax = plt.subplots()\n",
    "plt.xlabel('concept1')\n",
    "plt.ylabel('concept2')\n",
    "ax.scatter(c1, c2, color='r')\n",
    "\n",
    "\n",
    "for i, txt in enumerate(doc_concept.index):\n",
    "    ax.annotate(txt+'...', (c1[i]+0.01, c2[i]+0.01))\n",
    "    \n",
    "c1 = concept_word.values[0,:]\n",
    "c2 = concept_word.values[1,:]\n",
    "\n",
    "ax.scatter(c1, c2, color='b')\n",
    "    \n",
    "for i, txt in enumerate(concept_word.columns):\n",
    "    ax.annotate(txt, (c1[i]+0.01, c2[i]+0.01))\n",
    "    \n",
    "## BELOW YOU SEE THE DOCUMENTS AND WORDS SHARING A COMMON CONCEPT SPACE. NOTICE HOW SIMILAR WORDS (e.g. - computer and software) \n",
    "## AND DOCUMENTS ARE CLUSTERED"
   ]
  },
  {
   "cell_type": "markdown",
   "metadata": {},
   "source": [
    "# Activity\n",
    "\n",
    "### Loaded are the text files of speeches given by US presidents over years.\n",
    "#### Your task is to classify which speech was given by whom (let's not worry about test/train split)\n",
    "\n",
    "2. Write your own preprocessing function for the corpus\n",
    "3. Build LSI model on the data\n",
    "4. Obtain the document vectors in LSI space and \n",
    "5. Classify using logistic regression/naive bayes/KNN classifier\n",
    "\n",
    "Since we are learning syntax, let's not worry about train-test split or parameter tuning."
   ]
  },
  {
   "cell_type": "code",
   "execution_count": 34,
   "metadata": {
    "collapsed": false
   },
   "outputs": [
    {
     "data": {
      "text/plain": [
       "'1946-Truman.txt'"
      ]
     },
     "execution_count": 34,
     "metadata": {},
     "output_type": "execute_result"
    }
   ],
   "source": [
    "_files_all_speechs[1]"
   ]
  },
  {
   "cell_type": "code",
   "execution_count": 32,
   "metadata": {
    "collapsed": false
   },
   "outputs": [
    {
     "name": "stdout",
     "output_type": "stream",
     "text": [
      "Number of Speeches: 65\n",
      "['Truman', 'Truman', 'Truman', 'Truman', 'Truman', 'Truman', 'Truman', 'Eisenhower', 'Eisenhower', 'Eisenhower', 'Eisenhower', 'Eisenhower', 'Eisenhower', 'Eisenhower', 'Eisenhower', 'Kennedy', 'Kennedy', 'Johnson', 'Kennedy', 'Johnson', 'Johnson', 'Johnson', 'Johnson', 'Johnson', 'Johnson', 'Johnson', 'Nixon', 'Nixon', 'Nixon', 'Nixon', 'Nixon', 'Ford', 'Ford', 'Ford', 'Carter', 'Carter', 'Carter', 'Reagan', 'Reagan', 'Reagan', 'Reagan', 'Reagan', 'Reagan', 'Reagan', 'Reagan', 'Bush', 'Bush', 'Bush', 'Bush', 'Bush', 'Clinton', 'Clinton', 'Clinton', 'Clinton', 'Clinton', 'Clinton', 'Clinton', 'Clinton', 'GWBush', 'GWBush', 'GWBush', 'GWBush', 'GWBush', 'GWBush', 'GWBush']\n"
     ]
    }
   ],
   "source": [
    "from nltk.corpus import state_union\n",
    "\n",
    "_files_all_speechs = state_union.fileids()\n",
    "\n",
    "all_raw_speeches = []\n",
    "for _file_ in _files_all_speechs:\n",
    "    all_raw_speeches.append(state_union.raw(_file_))\n",
    "\n",
    "all_categories = [x.split('-')[1].split('.')[0] for x in _files_all_speechs]\n",
    "\n",
    "print('Number of Speeches:', len(all_raw_speeches))\n",
    "print(all_categories)"
   ]
  },
  {
   "cell_type": "code",
   "execution_count": null,
   "metadata": {
    "collapsed": true
   },
   "outputs": [],
   "source": []
  }
 ],
 "metadata": {
  "anaconda-cloud": {},
  "kernelspec": {
   "display_name": "Python [conda root]",
   "language": "python",
   "name": "conda-root-py"
  },
  "language_info": {
   "codemirror_mode": {
    "name": "ipython",
    "version": 3
   },
   "file_extension": ".py",
   "mimetype": "text/x-python",
   "name": "python",
   "nbconvert_exporter": "python",
   "pygments_lexer": "ipython3",
   "version": "3.5.2"
  },
  "varInspector": {
   "cols": {
    "lenName": 16,
    "lenType": 16,
    "lenVar": 40
   },
   "kernels_config": {
    "python": {
     "delete_cmd_postfix": "",
     "delete_cmd_prefix": "del ",
     "library": "var_list.py",
     "varRefreshCmd": "print(var_dic_list())"
    },
    "r": {
     "delete_cmd_postfix": ") ",
     "delete_cmd_prefix": "rm(",
     "library": "var_list.r",
     "varRefreshCmd": "cat(var_dic_list()) "
    }
   },
   "types_to_exclude": [
    "module",
    "function",
    "builtin_function_or_method",
    "instance",
    "_Feature"
   ],
   "window_display": false
  }
 },
 "nbformat": 4,
 "nbformat_minor": 2
}
