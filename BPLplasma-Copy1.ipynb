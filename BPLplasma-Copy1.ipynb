{
 "cells": [
  {
   "cell_type": "code",
   "execution_count": 1,
   "metadata": {},
   "outputs": [],
   "source": [
    "import os, random, sys\n",
    "from selenium import webdriver\n",
    "from bs4 import BeautifulSoup\n",
    "import tqdm.notebook as tq\n",
    "import time\n",
    "import warnings\n",
    "import pandas as pd\n",
    "from datetime import datetime\n",
    "import time\n",
    "warnings.filterwarnings('ignore')\n",
    "import numpy as np\n",
    "import requests\n",
    "import lxml\n",
    "#How to get the HTML\n",
    "import requests\n",
    "from bs4 import BeautifulSoup\n",
    "import pandas as pd"
   ]
  },
  {
   "cell_type": "code",
   "execution_count": 2,
   "metadata": {},
   "outputs": [],
   "source": [
    "#browser=webdriver.Chrome('chromedriver.exe')\n",
    "browser=webdriver.Edge('msedgedriver.exe')"
   ]
  },
  {
   "cell_type": "code",
   "execution_count": 3,
   "metadata": {},
   "outputs": [],
   "source": [
    "source =browser.get('https://bplplasma.com/find-a-center')\n",
    "source_code=browser.page_source\n",
    "soup = BeautifulSoup(source_code,'lxml')\n"
   ]
  },
  {
   "cell_type": "code",
   "execution_count": 4,
   "metadata": {},
   "outputs": [],
   "source": [
    "blocks = soup.find_all(\"div\", class_=\"pt-2 pb-3 px-3\")"
   ]
  },
  {
   "cell_type": "code",
   "execution_count": 5,
   "metadata": {},
   "outputs": [
    {
     "data": {
      "text/plain": [
       "56"
      ]
     },
     "execution_count": 5,
     "metadata": {},
     "output_type": "execute_result"
    }
   ],
   "source": [
    "len(blocks)"
   ]
  },
  {
   "cell_type": "code",
   "execution_count": 6,
   "metadata": {},
   "outputs": [
    {
     "data": {
      "text/plain": [
       "'5202 Aldine Mail Route Road, Houston TX \\xa077039'"
      ]
     },
     "execution_count": 6,
     "metadata": {},
     "output_type": "execute_result"
    }
   ],
   "source": [
    "blocks[53].find_all('div',class_='field__item')[1].text.strip()"
   ]
  },
  {
   "cell_type": "code",
   "execution_count": 18,
   "metadata": {},
   "outputs": [
    {
     "data": {
      "text/plain": [
       "'6075 Parkway Drive, Commerce City, CO 80022'"
      ]
     },
     "execution_count": 18,
     "metadata": {},
     "output_type": "execute_result"
    }
   ],
   "source": [
    "blocks[6].find_all('div',class_='field__item')[1].text.strip()"
   ]
  },
  {
   "cell_type": "code",
   "execution_count": null,
   "metadata": {},
   "outputs": [],
   "source": []
  },
  {
   "cell_type": "code",
   "execution_count": 47,
   "metadata": {},
   "outputs": [
    {
     "ename": "IndexError",
     "evalue": "list index out of range",
     "output_type": "error",
     "traceback": [
      "\u001b[1;31m---------------------------------------------------------------------------\u001b[0m",
      "\u001b[1;31mIndexError\u001b[0m                                Traceback (most recent call last)",
      "\u001b[1;32m<ipython-input-47-63316a95784b>\u001b[0m in \u001b[0;36m<module>\u001b[1;34m\u001b[0m\n\u001b[0;32m      4\u001b[0m \u001b[1;32mwhile\u001b[0m \u001b[1;32mTrue\u001b[0m\u001b[1;33m:\u001b[0m\u001b[1;33m\u001b[0m\u001b[1;33m\u001b[0m\u001b[0m\n\u001b[0;32m      5\u001b[0m \u001b[1;33m\u001b[0m\u001b[0m\n\u001b[1;32m----> 6\u001b[1;33m     \u001b[0mfull_add\u001b[0m \u001b[1;33m=\u001b[0m \u001b[0mblocks\u001b[0m\u001b[1;33m[\u001b[0m\u001b[0mblocksize\u001b[0m\u001b[1;33m]\u001b[0m\u001b[1;33m.\u001b[0m\u001b[0mfind_all\u001b[0m\u001b[1;33m(\u001b[0m\u001b[1;34m\"div\"\u001b[0m\u001b[1;33m,\u001b[0m\u001b[0mclass_\u001b[0m\u001b[1;33m=\u001b[0m\u001b[1;34m\"field__item\"\u001b[0m\u001b[1;33m)\u001b[0m\u001b[1;33m[\u001b[0m\u001b[1;36m1\u001b[0m\u001b[1;33m]\u001b[0m\u001b[1;33m.\u001b[0m\u001b[0mtext\u001b[0m\u001b[1;33m.\u001b[0m\u001b[0mstrip\u001b[0m\u001b[1;33m(\u001b[0m\u001b[1;33m)\u001b[0m\u001b[1;33m\u001b[0m\u001b[1;33m\u001b[0m\u001b[0m\n\u001b[0m\u001b[0;32m      7\u001b[0m     \u001b[0mfull_a_list\u001b[0m\u001b[1;33m.\u001b[0m\u001b[0mappend\u001b[0m\u001b[1;33m(\u001b[0m\u001b[0mfull_add\u001b[0m\u001b[1;33m)\u001b[0m\u001b[1;33m\u001b[0m\u001b[1;33m\u001b[0m\u001b[0m\n\u001b[0;32m      8\u001b[0m     \u001b[0mblocksize\u001b[0m\u001b[1;33m=\u001b[0m\u001b[0mblocksize\u001b[0m\u001b[1;33m+\u001b[0m\u001b[1;36m1\u001b[0m\u001b[1;33m\u001b[0m\u001b[1;33m\u001b[0m\u001b[0m\n",
      "\u001b[1;31mIndexError\u001b[0m: list index out of range"
     ]
    }
   ],
   "source": [
    "blocksize=0\n",
    "\n",
    "full_a_list=[]\n",
    "while True:\n",
    "    \n",
    "    full_add = blocks[blocksize].find_all(\"div\",class_=\"field__item\")[1].text.strip()\n",
    "    full_a_list.append(full_add)\n",
    "    blocksize=blocksize+1\n",
    "   \n",
    "    "
   ]
  },
  {
   "cell_type": "code",
   "execution_count": 48,
   "metadata": {},
   "outputs": [
    {
     "data": {
      "text/plain": [
       "['1250 South Plaza Way, Suite C, Flagstaff, AZ 86001',\n",
       " '13550 West Van Buren Street, Goodyear, AZ 85338',\n",
       " '2320 East Bell Road, Suite 101, Phoenix, AZ 85022',\n",
       " '630 Malvern Avenue, Hot Springs, AR 71901',\n",
       " '2309A East Nettleton, Jonesboro, AR 72401',\n",
       " '824 South Spring Street, Little Rock, AR 72201',\n",
       " '6075 Parkway Drive, Commerce City, CO 80022',\n",
       " '6300 West Colfax Avenue, Lakewood, CO 80214',\n",
       " '150 N.W. 6th Street, Gainesville, FL 32601',\n",
       " '11601 East Colonial Drive, Orlando, FL 32817',\n",
       " '5252 East Fowler Avenue, Temple Terrace, FL 33617',\n",
       " '410 Old Morgantown Road, Bowling Green, KY 42101',\n",
       " '753 West Broadway, Farmington, NM 87401',\n",
       " '1706 South 2nd Street, Gallup, NM 87301',\n",
       " '2727 East 10th Street, Greenville, NC 27858',\n",
       " '6813 Broadway Avenue, Unit 10, Cleveland, OH 44105',\n",
       " '396 Town Square, Copperas Cove, TX 76522',\n",
       " '9813 Dyer Street, Suite 300, El Paso, TX 79924',\n",
       " '313 South Stanton Street, El Paso, TX 79901',\n",
       " '2415-A Main Street, Lubbock, TX 79401',\n",
       " '2217 34th Street, Lubbock, TX 79411',\n",
       " '207 West Palma Vista Drive, Suite G-H, Palmview, TX 78572',\n",
       " '1300 U.S. Highway 83 Business, Suite 3, Pharr, TX 78577',\n",
       " '1721 S.W.W.White Road, Suite 113, San Antonio, TX 78220',\n",
       " '320 W Calton Road, Laredo TX 78041',\n",
       " '5202 Aldine Mail Route Road, Houston TX \\xa077039']"
      ]
     },
     "execution_count": 48,
     "metadata": {},
     "output_type": "execute_result"
    }
   ],
   "source": [
    "full_a_list"
   ]
  },
  {
   "cell_type": "code",
   "execution_count": 49,
   "metadata": {},
   "outputs": [],
   "source": [
    "df = pd.DataFrame({\"Name\":[],\"Date\":[],\"Address\":[],\"City\":[],\"State\":[],\"Zip\":[] })"
   ]
  },
  {
   "cell_type": "code",
   "execution_count": 50,
   "metadata": {},
   "outputs": [],
   "source": [
    "df.Address = full_a_list\n",
    "df.Name = \"BPLplasma\""
   ]
  },
  {
   "cell_type": "code",
   "execution_count": 51,
   "metadata": {},
   "outputs": [
    {
     "data": {
      "text/html": [
       "<div>\n",
       "<style scoped>\n",
       "    .dataframe tbody tr th:only-of-type {\n",
       "        vertical-align: middle;\n",
       "    }\n",
       "\n",
       "    .dataframe tbody tr th {\n",
       "        vertical-align: top;\n",
       "    }\n",
       "\n",
       "    .dataframe thead th {\n",
       "        text-align: right;\n",
       "    }\n",
       "</style>\n",
       "<table border=\"1\" class=\"dataframe\">\n",
       "  <thead>\n",
       "    <tr style=\"text-align: right;\">\n",
       "      <th></th>\n",
       "      <th>Name</th>\n",
       "      <th>Date</th>\n",
       "      <th>Address</th>\n",
       "      <th>City</th>\n",
       "      <th>State</th>\n",
       "      <th>Zip</th>\n",
       "    </tr>\n",
       "  </thead>\n",
       "  <tbody>\n",
       "    <tr>\n",
       "      <th>0</th>\n",
       "      <td>BPLplasma</td>\n",
       "      <td>NaN</td>\n",
       "      <td>1250 South Plaza Way, Suite C, Flagstaff, AZ 8...</td>\n",
       "      <td>NaN</td>\n",
       "      <td>NaN</td>\n",
       "      <td>NaN</td>\n",
       "    </tr>\n",
       "    <tr>\n",
       "      <th>1</th>\n",
       "      <td>BPLplasma</td>\n",
       "      <td>NaN</td>\n",
       "      <td>13550 West Van Buren Street, Goodyear, AZ 85338</td>\n",
       "      <td>NaN</td>\n",
       "      <td>NaN</td>\n",
       "      <td>NaN</td>\n",
       "    </tr>\n",
       "    <tr>\n",
       "      <th>2</th>\n",
       "      <td>BPLplasma</td>\n",
       "      <td>NaN</td>\n",
       "      <td>2320 East Bell Road, Suite 101, Phoenix, AZ 85022</td>\n",
       "      <td>NaN</td>\n",
       "      <td>NaN</td>\n",
       "      <td>NaN</td>\n",
       "    </tr>\n",
       "    <tr>\n",
       "      <th>3</th>\n",
       "      <td>BPLplasma</td>\n",
       "      <td>NaN</td>\n",
       "      <td>630 Malvern Avenue, Hot Springs, AR 71901</td>\n",
       "      <td>NaN</td>\n",
       "      <td>NaN</td>\n",
       "      <td>NaN</td>\n",
       "    </tr>\n",
       "    <tr>\n",
       "      <th>4</th>\n",
       "      <td>BPLplasma</td>\n",
       "      <td>NaN</td>\n",
       "      <td>2309A East Nettleton, Jonesboro, AR 72401</td>\n",
       "      <td>NaN</td>\n",
       "      <td>NaN</td>\n",
       "      <td>NaN</td>\n",
       "    </tr>\n",
       "  </tbody>\n",
       "</table>\n",
       "</div>"
      ],
      "text/plain": [
       "        Name  Date                                            Address  City  \\\n",
       "0  BPLplasma   NaN  1250 South Plaza Way, Suite C, Flagstaff, AZ 8...   NaN   \n",
       "1  BPLplasma   NaN    13550 West Van Buren Street, Goodyear, AZ 85338   NaN   \n",
       "2  BPLplasma   NaN  2320 East Bell Road, Suite 101, Phoenix, AZ 85022   NaN   \n",
       "3  BPLplasma   NaN          630 Malvern Avenue, Hot Springs, AR 71901   NaN   \n",
       "4  BPLplasma   NaN          2309A East Nettleton, Jonesboro, AR 72401   NaN   \n",
       "\n",
       "   State  Zip  \n",
       "0    NaN  NaN  \n",
       "1    NaN  NaN  \n",
       "2    NaN  NaN  \n",
       "3    NaN  NaN  \n",
       "4    NaN  NaN  "
      ]
     },
     "execution_count": 51,
     "metadata": {},
     "output_type": "execute_result"
    }
   ],
   "source": [
    "df.head()"
   ]
  },
  {
   "cell_type": "code",
   "execution_count": 102,
   "metadata": {},
   "outputs": [],
   "source": [
    "zip_code = df.Address.apply(lambda x: x[-6:].strip())\n",
    "state_code = df.Address.apply(lambda x: x[-9:-6].strip())"
   ]
  },
  {
   "cell_type": "code",
   "execution_count": 103,
   "metadata": {},
   "outputs": [],
   "source": [
    "# city -> df.Address[25].replace(\"  \",\"\")[-18:].split()[-3]"
   ]
  },
  {
   "cell_type": "code",
   "execution_count": 104,
   "metadata": {},
   "outputs": [],
   "source": [
    "city_name=df.Address.apply(lambda x: x.strip().replace(\"  \",\"\")[-25:].split()[-3]).replace(\",\",\"\")"
   ]
  },
  {
   "cell_type": "code",
   "execution_count": 105,
   "metadata": {},
   "outputs": [],
   "source": [
    "#current_time = datetime.datetime.now()\n",
    "date_time_now = datetime.now()\n",
    "current_time = date_time_now.strftime(\"%m/%d/%Y %H:%M:%S\") "
   ]
  },
  {
   "cell_type": "code",
   "execution_count": 106,
   "metadata": {},
   "outputs": [],
   "source": [
    "df['City']=city_name\n",
    "df['State']=state_code\n",
    "df['Zip']=zip_code\n",
    "df['Date']=current_time"
   ]
  },
  {
   "cell_type": "code",
   "execution_count": 107,
   "metadata": {},
   "outputs": [
    {
     "data": {
      "text/html": [
       "<div>\n",
       "<style scoped>\n",
       "    .dataframe tbody tr th:only-of-type {\n",
       "        vertical-align: middle;\n",
       "    }\n",
       "\n",
       "    .dataframe tbody tr th {\n",
       "        vertical-align: top;\n",
       "    }\n",
       "\n",
       "    .dataframe thead th {\n",
       "        text-align: right;\n",
       "    }\n",
       "</style>\n",
       "<table border=\"1\" class=\"dataframe\">\n",
       "  <thead>\n",
       "    <tr style=\"text-align: right;\">\n",
       "      <th></th>\n",
       "      <th>Name</th>\n",
       "      <th>Date</th>\n",
       "      <th>Address</th>\n",
       "      <th>City</th>\n",
       "      <th>State</th>\n",
       "      <th>Zip</th>\n",
       "    </tr>\n",
       "  </thead>\n",
       "  <tbody>\n",
       "    <tr>\n",
       "      <th>0</th>\n",
       "      <td>BPLplasma</td>\n",
       "      <td>07/09/2021 14:06:07</td>\n",
       "      <td>1250 South Plaza Way, Suite C, Flagstaff, AZ 8...</td>\n",
       "      <td>Flagstaff,</td>\n",
       "      <td>AZ</td>\n",
       "      <td>86001</td>\n",
       "    </tr>\n",
       "    <tr>\n",
       "      <th>1</th>\n",
       "      <td>BPLplasma</td>\n",
       "      <td>07/09/2021 14:06:07</td>\n",
       "      <td>13550 West Van Buren Street, Goodyear, AZ 85338</td>\n",
       "      <td>Goodyear,</td>\n",
       "      <td>AZ</td>\n",
       "      <td>85338</td>\n",
       "    </tr>\n",
       "  </tbody>\n",
       "</table>\n",
       "</div>"
      ],
      "text/plain": [
       "        Name                 Date  \\\n",
       "0  BPLplasma  07/09/2021 14:06:07   \n",
       "1  BPLplasma  07/09/2021 14:06:07   \n",
       "\n",
       "                                             Address        City State    Zip  \n",
       "0  1250 South Plaza Way, Suite C, Flagstaff, AZ 8...  Flagstaff,    AZ  86001  \n",
       "1    13550 West Van Buren Street, Goodyear, AZ 85338   Goodyear,    AZ  85338  "
      ]
     },
     "execution_count": 107,
     "metadata": {},
     "output_type": "execute_result"
    }
   ],
   "source": [
    "df.head(2)"
   ]
  },
  {
   "cell_type": "code",
   "execution_count": null,
   "metadata": {},
   "outputs": [],
   "source": []
  }
 ],
 "metadata": {
  "kernelspec": {
   "display_name": "Python 3",
   "language": "python",
   "name": "python3"
  },
  "language_info": {
   "codemirror_mode": {
    "name": "ipython",
    "version": 3
   },
   "file_extension": ".py",
   "mimetype": "text/x-python",
   "name": "python",
   "nbconvert_exporter": "python",
   "pygments_lexer": "ipython3",
   "version": "3.6.5"
  }
 },
 "nbformat": 4,
 "nbformat_minor": 5
}
