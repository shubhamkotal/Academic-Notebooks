{
 "cells": [
  {
   "cell_type": "code",
   "execution_count": 1,
   "metadata": {},
   "outputs": [],
   "source": [
    "import os\n",
    "import sys\n",
    "os.environ[\"SPARK_HOME\"] = \"/usr/hdp/current/spark2-client\"\n",
    "os.environ[\"PYLIB\"] = os.environ[\"SPARK_HOME\"] + \"/python/lib\"\n",
    "sys.path.insert(0, os.environ[\"PYLIB\"] + \"/py4j-0.10.4-src.zip\")\n",
    "sys.path.insert(0, os.environ[\"PYLIB\"] + \"/pyspark.zip\")"
   ]
  },
  {
   "cell_type": "code",
   "execution_count": 2,
   "metadata": {},
   "outputs": [],
   "source": [
    "## Create SparkContext, SparkSession\n",
    "from os.path import expanduser, join, abspath\n",
    "\n",
    "from pyspark.sql import SparkSession\n",
    "from pyspark.sql import Row\n",
    "\n",
    "# warehouse_location points to the default location for managed databases and tables\n",
    "warehouse_location = 'hdfs:///apps/hive/warehouse/'\n",
    "\n",
    "spark = SparkSession \\\n",
    "    .builder \\\n",
    "    .appName(\"Machine Learning Example using Spark ML\") \\\n",
    "    .config(\"spark.sql.warehouse.dir\", warehouse_location) \\\n",
    "    .enableHiveSupport() \\\n",
    "    .getOrCreate()"
   ]
  },
  {
   "cell_type": "code",
   "execution_count": 4,
   "metadata": {},
   "outputs": [
    {
     "data": {
      "text/html": [
       "\n",
       "            <div>\n",
       "                <p><b>SparkSession - hive</b></p>\n",
       "                \n",
       "        <div>\n",
       "            <p><b>SparkContext</b></p>\n",
       "\n",
       "            <p><a href=\"http://u.insofe.edu.in:4040\">Spark UI</a></p>\n",
       "\n",
       "            <dl>\n",
       "              <dt>Version</dt>\n",
       "                <dd><code>v2.3.0.2.6.5.0-292</code></dd>\n",
       "              <dt>Master</dt>\n",
       "                <dd><code>local[*]</code></dd>\n",
       "              <dt>AppName</dt>\n",
       "                <dd><code>Machine Learning Example using Spark ML</code></dd>\n",
       "            </dl>\n",
       "        </div>\n",
       "        \n",
       "            </div>\n",
       "        "
      ],
      "text/plain": [
       "<pyspark.sql.session.SparkSession at 0x3144210>"
      ]
     },
     "execution_count": 4,
     "metadata": {},
     "output_type": "execute_result"
    }
   ],
   "source": [
    "##Verify Spark Session:\n",
    "spark"
   ]
  },
  {
   "cell_type": "code",
   "execution_count": 5,
   "metadata": {},
   "outputs": [],
   "source": [
    "from pyspark.sql.types import *\n",
    "from pyspark.sql.functions import *"
   ]
  },
  {
   "cell_type": "code",
   "execution_count": 6,
   "metadata": {},
   "outputs": [],
   "source": [
    "import numpy as np\n",
    "import StringIO\n",
    "import pandas as pd\n",
    "import warnings"
   ]
  },
  {
   "cell_type": "code",
   "execution_count": 7,
   "metadata": {},
   "outputs": [
    {
     "data": {
      "text/html": [
       "<script>requirejs.config({paths: { 'plotly': ['https://cdn.plot.ly/plotly-latest.min']},});if(!window.Plotly) {{require(['plotly'],function(plotly) {window.Plotly=plotly;});}}</script>"
      ],
      "text/vnd.plotly.v1+html": [
       "<script>requirejs.config({paths: { 'plotly': ['https://cdn.plot.ly/plotly-latest.min']},});if(!window.Plotly) {{require(['plotly'],function(plotly) {window.Plotly=plotly;});}}</script>"
      ]
     },
     "metadata": {},
     "output_type": "display_data"
    }
   ],
   "source": [
    "# Plotting libraries\n",
    "\n",
    "import matplotlib.pyplot as plt\n",
    "import seaborn as sns\n",
    "\n",
    "import plotly\n",
    "plotly.tools.set_credentials_file(username='shubhkotal', api_key='V8cbLCj4d7YTNhqYM5CL')\n",
    "\n",
    "import plotly.figure_factory as ff\n",
    "import plotly.plotly as py\n",
    "import plotly.offline as pyoff\n",
    "import plotly.graph_objs as go\n",
    "\n",
    "# Initializing some settings\n",
    "sns.set_style('whitegrid')\n",
    "sns.set(color_codes=True)\n",
    "warnings.filterwarnings('ignore')\n",
    "pyoff.init_notebook_mode(connected=True)\n",
    "get_ipython().magic('matplotlib inline')"
   ]
  },
  {
   "cell_type": "code",
   "execution_count": 8,
   "metadata": {},
   "outputs": [],
   "source": [
    "# Reading and create from local files\n",
    "data=spark.read.format(\"csv\")\\\n",
    "        .option(\"header\", \"true\")\\\n",
    "        .option(\"inferSchema\", \"true\")\\\n",
    "        .load(\"file:///home/2386B49/CustomerData.csv\")"
   ]
  },
  {
   "cell_type": "code",
   "execution_count": 9,
   "metadata": {},
   "outputs": [
    {
     "name": "stdout",
     "output_type": "stream",
     "text": [
      "root\n",
      " |-- CustomerID: integer (nullable = true)\n",
      " |-- City: integer (nullable = true)\n",
      " |-- NoOfChildren: integer (nullable = true)\n",
      " |-- MinAgeOfChild: integer (nullable = true)\n",
      " |-- MaxAgeOfChild: integer (nullable = true)\n",
      " |-- Tenure: integer (nullable = true)\n",
      " |-- FrquncyOfPurchase: integer (nullable = true)\n",
      " |-- NoOfUnitsPurchased: integer (nullable = true)\n",
      " |-- FrequencyOFPlay: integer (nullable = true)\n",
      " |-- NoOfGamesPlayed: integer (nullable = true)\n",
      " |-- NoOfGamesBought: integer (nullable = true)\n",
      " |-- FavoriteChannelOfTransaction: string (nullable = true)\n",
      " |-- FavoriteGame: string (nullable = true)\n",
      " |-- TotalRevenueGenerated: double (nullable = true)\n",
      "\n"
     ]
    }
   ],
   "source": [
    "data.printSchema()"
   ]
  },
  {
   "cell_type": "code",
   "execution_count": 10,
   "metadata": {},
   "outputs": [
    {
     "data": {
      "text/plain": [
       "[('CustomerID', 'int'),\n",
       " ('City', 'int'),\n",
       " ('NoOfChildren', 'int'),\n",
       " ('MinAgeOfChild', 'int'),\n",
       " ('MaxAgeOfChild', 'int'),\n",
       " ('Tenure', 'int'),\n",
       " ('FrquncyOfPurchase', 'int'),\n",
       " ('NoOfUnitsPurchased', 'int'),\n",
       " ('FrequencyOFPlay', 'int'),\n",
       " ('NoOfGamesPlayed', 'int'),\n",
       " ('NoOfGamesBought', 'int'),\n",
       " ('FavoriteChannelOfTransaction', 'string'),\n",
       " ('FavoriteGame', 'string'),\n",
       " ('TotalRevenueGenerated', 'double')]"
      ]
     },
     "execution_count": 10,
     "metadata": {},
     "output_type": "execute_result"
    }
   ],
   "source": [
    "data.dtypes"
   ]
  },
  {
   "cell_type": "code",
   "execution_count": 11,
   "metadata": {},
   "outputs": [
    {
     "data": {
      "text/plain": [
       "[Row(CustomerID=1001, City=1, NoOfChildren=2, MinAgeOfChild=3, MaxAgeOfChild=8, Tenure=210, FrquncyOfPurchase=11, NoOfUnitsPurchased=11, FrequencyOFPlay=2344, NoOfGamesPlayed=108, NoOfGamesBought=10, FavoriteChannelOfTransaction=u'Uniform', FavoriteGame=u'Uniform', TotalRevenueGenerated=107.51),\n",
       " Row(CustomerID=1002, City=1, NoOfChildren=2, MinAgeOfChild=3, MaxAgeOfChild=6, Tenure=442, FrquncyOfPurchase=20, NoOfUnitsPurchased=20, FrequencyOFPlay=245, NoOfGamesPlayed=22, NoOfGamesBought=7, FavoriteChannelOfTransaction=u'Favorite', FavoriteGame=u'Uniform', TotalRevenueGenerated=382.4),\n",
       " Row(CustomerID=1003, City=1, NoOfChildren=4, MinAgeOfChild=3, MaxAgeOfChild=5, Tenure=424, FrquncyOfPurchase=18, NoOfUnitsPurchased=18, FrequencyOFPlay=1059, NoOfGamesPlayed=130, NoOfGamesBought=18, FavoriteChannelOfTransaction=u'Favorite', FavoriteGame=u'Uniform', TotalRevenueGenerated=135.01)]"
      ]
     },
     "execution_count": 11,
     "metadata": {},
     "output_type": "execute_result"
    }
   ],
   "source": [
    "data.take(3)"
   ]
  },
  {
   "cell_type": "code",
   "execution_count": 12,
   "metadata": {},
   "outputs": [
    {
     "name": "stdout",
     "output_type": "stream",
     "text": [
      "+----------+----+------------+-------------+-------------+------+-----------------+------------------+---------------+---------------+---------------+----------------------------+------------+---------------------+\n",
      "|CustomerID|City|NoOfChildren|MinAgeOfChild|MaxAgeOfChild|Tenure|FrquncyOfPurchase|NoOfUnitsPurchased|FrequencyOFPlay|NoOfGamesPlayed|NoOfGamesBought|FavoriteChannelOfTransaction|FavoriteGame|TotalRevenueGenerated|\n",
      "+----------+----+------------+-------------+-------------+------+-----------------+------------------+---------------+---------------+---------------+----------------------------+------------+---------------------+\n",
      "|      1001|   1|           2|            3|            8|   210|               11|                11|           2344|            108|             10|                     Uniform|     Uniform|               107.51|\n",
      "|      1002|   1|           2|            3|            6|   442|               20|                20|            245|             22|              7|                    Favorite|     Uniform|                382.4|\n",
      "|      1003|   1|           4|            3|            5|   424|               18|                18|           1059|            130|             18|                    Favorite|     Uniform|               135.01|\n",
      "+----------+----+------------+-------------+-------------+------+-----------------+------------------+---------------+---------------+---------------+----------------------------+------------+---------------------+\n",
      "only showing top 3 rows\n",
      "\n"
     ]
    }
   ],
   "source": [
    "data.show(3)"
   ]
  },
  {
   "cell_type": "code",
   "execution_count": 13,
   "metadata": {},
   "outputs": [
    {
     "data": {
      "text/plain": [
       "DataFrame[CustomerID: int, City: int, NoOfChildren: int, MinAgeOfChild: int, MaxAgeOfChild: int, Tenure: int, FrquncyOfPurchase: int, NoOfUnitsPurchased: int, FrequencyOFPlay: int, NoOfGamesPlayed: int, NoOfGamesBought: int, FavoriteChannelOfTransaction: string, FavoriteGame: string, TotalRevenueGenerated: double]"
      ]
     },
     "execution_count": 13,
     "metadata": {},
     "output_type": "execute_result"
    }
   ],
   "source": [
    "data.cache()"
   ]
  },
  {
   "cell_type": "code",
   "execution_count": 15,
   "metadata": {},
   "outputs": [],
   "source": [
    "# Creating a list of categorical and numerical features:\n",
    "cols = data.columns\n",
    "\n",
    "categorical_Var_Names = ['City', 'FavoriteChannelOfTransaction', 'FavoriteGame']\n",
    "\n",
    "numerical_Var_Names =  list(set(cols) - set(categorical_Var_Names))\n",
    "\n",
    "for col in categorical_Var_Names:\n",
    "    data = data.withColumn(col, data[col].cast(\"string\"))\n",
    "\n",
    "for col in numerical_Var_Names:\n",
    "    data = data.withColumn(col, data[col].cast(\"double\"))"
   ]
  },
  {
   "cell_type": "code",
   "execution_count": 16,
   "metadata": {},
   "outputs": [
    {
     "name": "stdout",
     "output_type": "stream",
     "text": [
      "Total records count is 3209\n",
      "Total Columns count is 14\n",
      "\n",
      "\n",
      "Columns are: ['CustomerID', 'City', 'NoOfChildren', 'MinAgeOfChild', 'MaxAgeOfChild', 'Tenure', 'FrquncyOfPurchase', 'NoOfUnitsPurchased', 'FrequencyOFPlay', 'NoOfGamesPlayed', 'NoOfGamesBought', 'FavoriteChannelOfTransaction', 'FavoriteGame', 'TotalRevenueGenerated'] \n",
      "\n"
     ]
    }
   ],
   "source": [
    "## To Count the number of rows in DataFrame\n",
    "print('Total records count is {}'.format(data.count()))\n",
    "## Columns count and column names\n",
    "print(\"Total Columns count is {}\".format(len(data.columns)))\n",
    "print(\"\\n\\nColumns are: {} \\n\".format(data.columns))"
   ]
  },
  {
   "cell_type": "code",
   "execution_count": 17,
   "metadata": {},
   "outputs": [
    {
     "name": "stdout",
     "output_type": "stream",
     "text": [
      "+-------+----------------+------------------+------------------+------------------+-----------------+-----------------+-----------------+------------------+------------------+-----------------+------------------+----------------------------+------------+---------------------+\n",
      "|summary|      CustomerID|              City|      NoOfChildren|     MinAgeOfChild|    MaxAgeOfChild|           Tenure|FrquncyOfPurchase|NoOfUnitsPurchased|   FrequencyOFPlay|  NoOfGamesPlayed|   NoOfGamesBought|FavoriteChannelOfTransaction|FavoriteGame|TotalRevenueGenerated|\n",
      "+-------+----------------+------------------+------------------+------------------+-----------------+-----------------+-----------------+------------------+------------------+-----------------+------------------+----------------------------+------------+---------------------+\n",
      "|  count|            3209|              3209|              3209|              3209|             3209|             3209|             3209|              3209|              3209|             3209|              3209|                        3209|        3209|                 3209|\n",
      "|   mean|          2605.0| 1.114054222499221| 2.128388906201309|4.9607354315986285|7.990651293237769|347.5204113430975|  16.269554378311|14.684013711436585|1568.2078529136802| 93.6279214708632|14.761607977563104|                        null|        null|    168.4771829230288|\n",
      "| stddev|926.502833239057|0.3179266502109658|1.0350924535316555|3.7141911525693776|8.784084301356664|90.52011823796829|8.441670101163071| 7.182029169207206| 1810.630463829322|88.93637176454973| 8.773909799752934|                        null|        null|    81.79852819468827|\n",
      "|    min|          1001.0|                 1|               1.0|               0.0|              3.0|            100.0|              1.0|               1.0|               0.0|              0.0|               0.0|                    Favorite|    Favorite|                100.0|\n",
      "|    max|          4209.0|                 2|              11.0|             113.0|            113.0|            472.0|            119.0|             112.0|           27829.0|           1166.0|             115.0|                     Uniform|     Uniform|               990.56|\n",
      "+-------+----------------+------------------+------------------+------------------+-----------------+-----------------+-----------------+------------------+------------------+-----------------+------------------+----------------------------+------------+---------------------+\n",
      "\n"
     ]
    }
   ],
   "source": [
    "##Checking Summary:\n",
    "data.describe().show()"
   ]
  },
  {
   "cell_type": "code",
   "execution_count": 18,
   "metadata": {},
   "outputs": [
    {
     "data": {
      "text/plain": [
       "[('CustomerID', 'double'),\n",
       " ('City', 'string'),\n",
       " ('NoOfChildren', 'double'),\n",
       " ('MinAgeOfChild', 'double'),\n",
       " ('MaxAgeOfChild', 'double'),\n",
       " ('Tenure', 'double'),\n",
       " ('FrquncyOfPurchase', 'double'),\n",
       " ('NoOfUnitsPurchased', 'double'),\n",
       " ('FrequencyOFPlay', 'double'),\n",
       " ('NoOfGamesPlayed', 'double'),\n",
       " ('NoOfGamesBought', 'double'),\n",
       " ('FavoriteChannelOfTransaction', 'string'),\n",
       " ('FavoriteGame', 'string'),\n",
       " ('TotalRevenueGenerated', 'double')]"
      ]
     },
     "execution_count": 18,
     "metadata": {},
     "output_type": "execute_result"
    }
   ],
   "source": [
    "data.dtypes"
   ]
  },
  {
   "cell_type": "code",
   "execution_count": null,
   "metadata": {},
   "outputs": [],
   "source": [
    "data=data.drop(\"CustomerID\")"
   ]
  },
  {
   "cell_type": "code",
   "execution_count": 19,
   "metadata": {},
   "outputs": [
    {
     "data": {
      "text/plain": [
       "[('CustomerID', 'double'),\n",
       " ('City', 'string'),\n",
       " ('NoOfChildren', 'double'),\n",
       " ('MinAgeOfChild', 'double'),\n",
       " ('MaxAgeOfChild', 'double'),\n",
       " ('Tenure', 'double'),\n",
       " ('FrquncyOfPurchase', 'double'),\n",
       " ('NoOfUnitsPurchased', 'double'),\n",
       " ('FrequencyOFPlay', 'double'),\n",
       " ('NoOfGamesPlayed', 'double'),\n",
       " ('NoOfGamesBought', 'double'),\n",
       " ('FavoriteChannelOfTransaction', 'string'),\n",
       " ('FavoriteGame', 'string'),\n",
       " ('TotalRevenueGenerated', 'double')]"
      ]
     },
     "execution_count": 19,
     "metadata": {},
     "output_type": "execute_result"
    }
   ],
   "source": [
    "data.dtypes"
   ]
  },
  {
   "cell_type": "code",
   "execution_count": 20,
   "metadata": {},
   "outputs": [
    {
     "name": "stdout",
     "output_type": "stream",
     "text": [
      "('Before Dropping Null Values', 3209)\n",
      "('After Dropping Null Values', 3209)\n"
     ]
    }
   ],
   "source": [
    "data = data.na.drop( how = 'any' )\n",
    "print('Before Dropping Null Values', data.count())\n",
    "print('After Dropping Null Values', data.count())"
   ]
  },
  {
   "cell_type": "code",
   "execution_count": 21,
   "metadata": {},
   "outputs": [
    {
     "data": {
      "text/plain": [
       "[('CustomerID', 'double'),\n",
       " ('City', 'string'),\n",
       " ('NoOfChildren', 'double'),\n",
       " ('MinAgeOfChild', 'double'),\n",
       " ('MaxAgeOfChild', 'double'),\n",
       " ('Tenure', 'double'),\n",
       " ('FrquncyOfPurchase', 'double'),\n",
       " ('NoOfUnitsPurchased', 'double'),\n",
       " ('FrequencyOFPlay', 'double'),\n",
       " ('NoOfGamesPlayed', 'double'),\n",
       " ('NoOfGamesBought', 'double'),\n",
       " ('FavoriteChannelOfTransaction', 'string'),\n",
       " ('FavoriteGame', 'string'),\n",
       " ('TotalRevenueGenerated', 'double')]"
      ]
     },
     "execution_count": 21,
     "metadata": {},
     "output_type": "execute_result"
    }
   ],
   "source": [
    "data.dtypes"
   ]
  },
  {
   "cell_type": "code",
   "execution_count": 22,
   "metadata": {},
   "outputs": [
    {
     "data": {
      "text/plain": [
       "[('CustomerID', 'double'),\n",
       " ('City', 'string'),\n",
       " ('NoOfChildren', 'double'),\n",
       " ('MinAgeOfChild', 'double'),\n",
       " ('MaxAgeOfChild', 'double'),\n",
       " ('Tenure', 'double'),\n",
       " ('FrquncyOfPurchase', 'double'),\n",
       " ('NoOfUnitsPurchased', 'double'),\n",
       " ('FrequencyOFPlay', 'double'),\n",
       " ('NoOfGamesPlayed', 'double'),\n",
       " ('NoOfGamesBought', 'double'),\n",
       " ('FavoriteChannelOfTransaction', 'string'),\n",
       " ('FavoriteGame', 'string'),\n",
       " ('TotalRevenueGenerated', 'double')]"
      ]
     },
     "execution_count": 22,
     "metadata": {},
     "output_type": "execute_result"
    }
   ],
   "source": [
    "data.dtypes"
   ]
  },
  {
   "cell_type": "code",
   "execution_count": 23,
   "metadata": {},
   "outputs": [
    {
     "name": "stdout",
     "output_type": "stream",
     "text": [
      "+----------+----+------------+-------------+-------------+------+-----------------+------------------+---------------+---------------+---------------+----------------------------+------------+---------------------+\n",
      "|CustomerID|City|NoOfChildren|MinAgeOfChild|MaxAgeOfChild|Tenure|FrquncyOfPurchase|NoOfUnitsPurchased|FrequencyOFPlay|NoOfGamesPlayed|NoOfGamesBought|FavoriteChannelOfTransaction|FavoriteGame|TotalRevenueGenerated|\n",
      "+----------+----+------------+-------------+-------------+------+-----------------+------------------+---------------+---------------+---------------+----------------------------+------------+---------------------+\n",
      "|    1571.0|   1|         2.0|          4.0|        113.0| 205.0|             17.0|              17.0|          158.0|           51.0|            8.0|                    Favorite|     Uniform|               218.85|\n",
      "|    1585.0|   1|         2.0|          3.0|        113.0| 379.0|              6.0|               6.0|          242.0|           32.0|            0.0|                    Favorite|     Uniform|               100.44|\n",
      "|    1600.0|   1|         2.0|        113.0|        113.0| 436.0|             26.0|              26.0|        10502.0|          562.0|           26.0|                    Favorite|     Uniform|                300.0|\n",
      "|    1805.0|   1|         3.0|          6.0|        113.0| 286.0|              6.0|               6.0|         2137.0|           72.0|            6.0|                    Favorite|     Uniform|                102.5|\n",
      "|    1879.0|   1|         2.0|          5.0|        113.0| 202.0|              9.0|               8.0|          483.0|           68.0|            9.0|                    Favorite|     Uniform|                105.0|\n",
      "|    1898.0|   1|         2.0|          5.0|        113.0| 355.0|             16.0|              16.0|         1700.0|          142.0|           10.0|                    Favorite|     Uniform|                270.0|\n",
      "|    2098.0|   1|         3.0|          6.0|        113.0| 432.0|             12.0|              12.0|         2261.0|          194.0|           12.0|                    Favorite|     Uniform|                160.0|\n",
      "|    2145.0|   1|         3.0|          5.0|        113.0| 405.0|             16.0|              14.0|         4438.0|          130.0|           16.0|                     Uniform|     Uniform|                117.5|\n",
      "|    2414.0|   1|         3.0|          4.0|        113.0| 171.0|             15.0|              11.0|         1728.0|           41.0|           15.0|                    Favorite|     Uniform|                107.5|\n",
      "|    2622.0|   1|         2.0|          6.0|        113.0| 187.0|             10.0|               9.0|          731.0|           39.0|           10.0|                     Uniform|     Uniform|                115.0|\n",
      "|    2659.0|   1|         2.0|          4.0|        113.0| 262.0|             10.0|               9.0|          465.0|           36.0|            8.0|                    Favorite|    Favorite|               120.48|\n",
      "|    2720.0|   1|         2.0|          5.0|        113.0| 207.0|             11.0|              11.0|          376.0|           40.0|           11.0|                    Favorite|     Uniform|                120.0|\n",
      "|    2834.0|   1|         2.0|          5.0|        113.0| 332.0|             13.0|              13.0|          266.0|           37.0|           13.0|                    Favorite|     Uniform|               127.51|\n",
      "|    2835.0|   1|         3.0|          3.0|        113.0| 407.0|             26.0|              25.0|         4457.0|          313.0|           24.0|                    Favorite|     Uniform|               212.51|\n",
      "|    2875.0|   1|         5.0|          5.0|        113.0| 326.0|             10.0|              10.0|         1433.0|           37.0|           10.0|                    Favorite|     Uniform|                120.0|\n",
      "|    3265.0|   1|         1.0|        113.0|        113.0| 366.0|             32.0|              29.0|         3067.0|          188.0|           32.0|                    Favorite|     Uniform|               378.76|\n",
      "|    3325.0|   1|         4.0|          5.0|        113.0| 184.0|             27.0|              25.0|          355.0|           74.0|           27.0|                     Uniform|     Uniform|               235.04|\n",
      "|    3628.0|   1|         6.0|          9.0|        113.0| 436.0|             25.0|              21.0|         1898.0|          260.0|           23.0|                    Favorite|     Uniform|               240.98|\n",
      "|    3729.0|   1|         1.0|        113.0|        113.0| 419.0|             17.0|              17.0|          610.0|           48.0|           16.0|                    Favorite|     Uniform|               159.99|\n",
      "|    3743.0|   1|         4.0|          5.0|        113.0| 321.0|             11.0|               9.0|          267.0|           38.0|           11.0|                    Favorite|     Uniform|                172.5|\n",
      "+----------+----+------------+-------------+-------------+------+-----------------+------------------+---------------+---------------+---------------+----------------------------+------------+---------------------+\n",
      "\n"
     ]
    }
   ],
   "source": [
    "data.where((data['MinAgeOfChild']==113) | (data['MaxAgeOfChild']==113)).show()"
   ]
  },
  {
   "cell_type": "code",
   "execution_count": 24,
   "metadata": {},
   "outputs": [],
   "source": [
    "from pyspark.sql.functions import isnan, when, count, col, countDistinct\n",
    "data = data.where((data['MinAgeOfChild'] != 113) & (data['MaxAgeOfChild'] != 113))"
   ]
  },
  {
   "cell_type": "code",
   "execution_count": 25,
   "metadata": {},
   "outputs": [
    {
     "data": {
      "text/plain": [
       "3189"
      ]
     },
     "execution_count": 25,
     "metadata": {},
     "output_type": "execute_result"
    }
   ],
   "source": [
    "data.count()"
   ]
  },
  {
   "cell_type": "code",
   "execution_count": 26,
   "metadata": {},
   "outputs": [
    {
     "name": "stdout",
     "output_type": "stream",
     "text": [
      "+----------+----+------------+-------------+-------------+------+-----------------+------------------+---------------+---------------+---------------+----------------------------+------------+---------------------+\n",
      "|CustomerID|City|NoOfChildren|MinAgeOfChild|MaxAgeOfChild|Tenure|FrquncyOfPurchase|NoOfUnitsPurchased|FrequencyOFPlay|NoOfGamesPlayed|NoOfGamesBought|FavoriteChannelOfTransaction|FavoriteGame|TotalRevenueGenerated|\n",
      "+----------+----+------------+-------------+-------------+------+-----------------+------------------+---------------+---------------+---------------+----------------------------+------------+---------------------+\n",
      "|         0|   0|           0|            0|            0|     0|                0|                 0|              0|              0|              0|                           0|           0|                    0|\n",
      "+----------+----+------------+-------------+-------------+------+-----------------+------------------+---------------+---------------+---------------+----------------------------+------------+---------------------+\n",
      "\n"
     ]
    }
   ],
   "source": [
    "# Checking for null values at each column\n",
    "data.select([count(when(isnan(c) | col(c).isNull(), c)).alias(c) for c in data.columns]).show()"
   ]
  },
  {
   "cell_type": "code",
   "execution_count": 27,
   "metadata": {},
   "outputs": [],
   "source": [
    "##Converting NA values to NUll values:\n",
    "\n",
    "from pyspark.sql.functions import when \n",
    "\n",
    "for col in cols:\n",
    "    data = data.withColumn(col, when(data[col]== \"NA\", None).otherwise(data[col]))"
   ]
  },
  {
   "cell_type": "code",
   "execution_count": 28,
   "metadata": {},
   "outputs": [],
   "source": [
    "##Splitting Train and Test:\n",
    "(trainingData, testData) = data.randomSplit([0.7, 0.3])"
   ]
  },
  {
   "cell_type": "code",
   "execution_count": 29,
   "metadata": {},
   "outputs": [],
   "source": [
    "numerical_Var_Names = list(set(numerical_Var_Names) - set([\"TotalRevenueGenerated\"]))"
   ]
  },
  {
   "cell_type": "code",
   "execution_count": 30,
   "metadata": {},
   "outputs": [],
   "source": [
    "from pyspark.ml.feature import VectorAssembler\n",
    "\n",
    "assembler_Num = VectorAssembler(inputCols=numerical_Var_Names, outputCol=\"num_features\")"
   ]
  },
  {
   "cell_type": "code",
   "execution_count": 31,
   "metadata": {},
   "outputs": [],
   "source": [
    "\n",
    "from pyspark.ml.feature import MinMaxScaler\n",
    "\n",
    "min_Max_Scalar = MinMaxScaler(inputCol=\"num_features\", outputCol=\"scaled_num_features\")"
   ]
  },
  {
   "cell_type": "code",
   "execution_count": 34,
   "metadata": {},
   "outputs": [],
   "source": [
    "from pyspark.ml.feature import OneHotEncoder, StringIndexer, VectorAssembler\n",
    "\n",
    "indexers_Cat = [StringIndexer(inputCol=categorical_Var_Name, outputCol=\"{0}_index\".format(categorical_Var_Name)) for categorical_Var_Name in categorical_Var_Names ]\n",
    "encoders_Cat = [OneHotEncoder(inputCol=indexer.getOutputCol(), outputCol=\"{0}_vec\".format(indexer.getInputCol())) for indexer in indexers_Cat]\n",
    "assembler_Cat = VectorAssembler(inputCols=[encoder.getOutputCol() for encoder in encoders_Cat], outputCol=\"cat_features\")\n",
    "\n",
    "assembler = VectorAssembler(inputCols=[\"scaled_num_features\",\"cat_features\"], outputCol=\"features\")"
   ]
  },
  {
   "cell_type": "code",
   "execution_count": 35,
   "metadata": {},
   "outputs": [],
   "source": [
    "preprocessiong_Stages = [assembler_Num]+[min_Max_Scalar]+indexers_Cat+encoders_Cat+[assembler_Cat]+[assembler]"
   ]
  },
  {
   "cell_type": "code",
   "execution_count": 36,
   "metadata": {},
   "outputs": [],
   "source": [
    "from pyspark.ml.regression import LinearRegression\n",
    "\n",
    "lr = LinearRegression(maxIter=100,labelCol=\"TotalRevenueGenerated\", featuresCol=\"features\")"
   ]
  },
  {
   "cell_type": "code",
   "execution_count": 37,
   "metadata": {},
   "outputs": [],
   "source": [
    "# Adding Linear regression model to pipeline\n",
    "from pyspark.ml import Pipeline\n",
    "\n",
    "lr_Pipeline = Pipeline(stages=preprocessiong_Stages+[lr]) \n",
    "\n",
    "lr_Pipeline_model = lr_Pipeline.fit(trainingData)"
   ]
  },
  {
   "cell_type": "code",
   "execution_count": 38,
   "metadata": {},
   "outputs": [
    {
     "name": "stdout",
     "output_type": "stream",
     "text": [
      "Coefficients: [47.260443571136896,1002.2960041685042,57.49359752683924,1147.0727842455606,-31.549372062580392,34.498688131273184,-5.362432588019725,-1244.0090126426219,-1.8638342244960162,-16.027801800045975,-6.235764974451041,14.048519428357205,-10.54139549235645]\n",
      "Intercept: 48.0417149475\n"
     ]
    }
   ],
   "source": [
    "print(\"Coefficients: \" + str(lr_Pipeline_model.stages[-1].coefficients))\n",
    "print(\"Intercept: \" + str(lr_Pipeline_model.stages[-1].intercept))"
   ]
  },
  {
   "cell_type": "code",
   "execution_count": 39,
   "metadata": {},
   "outputs": [],
   "source": [
    "train_predictions_lr = lr_Pipeline_model.transform(trainingData)\n",
    "\n",
    "test_predictions_lr = lr_Pipeline_model.transform(testData)"
   ]
  },
  {
   "cell_type": "code",
   "execution_count": 41,
   "metadata": {},
   "outputs": [
    {
     "name": "stdout",
     "output_type": "stream",
     "text": [
      "+----------+----+------------+-------------+-------------+------+-----------------+------------------+---------------+---------------+---------------+----------------------------+------------+---------------------+--------------------+--------------------+----------+----------------------------------+------------------+-------------+--------------------------------+----------------+-------------+--------------------+------------------+\n",
      "|CustomerID|City|NoOfChildren|MinAgeOfChild|MaxAgeOfChild|Tenure|FrquncyOfPurchase|NoOfUnitsPurchased|FrequencyOFPlay|NoOfGamesPlayed|NoOfGamesBought|FavoriteChannelOfTransaction|FavoriteGame|TotalRevenueGenerated|        num_features| scaled_num_features|City_index|FavoriteChannelOfTransaction_index|FavoriteGame_index|     City_vec|FavoriteChannelOfTransaction_vec|FavoriteGame_vec| cat_features|            features|        prediction|\n",
      "+----------+----+------------+-------------+-------------+------+-----------------+------------------+---------------+---------------+---------------+----------------------------+------------+---------------------+--------------------+--------------------+----------+----------------------------------+------------------+-------------+--------------------------------+----------------+-------------+--------------------+------------------+\n",
      "|    1003.0|   1|         4.0|          3.0|          5.0| 424.0|             18.0|              18.0|         1059.0|          130.0|           18.0|                    Favorite|     Uniform|               135.01|[1059.0,18.0,3.0,...|[0.07353145396472...|       0.0|                               0.0|               0.0|(1,[0],[1.0])|                   (1,[0],[1.0])|   (1,[0],[1.0])|[1.0,1.0,1.0]|[0.07353145396472...|184.73815028711684|\n",
      "|    1006.0|   1|         2.0|          3.0|          4.0| 378.0|             16.0|              16.0|          228.0|           12.0|           16.0|                    Favorite|    Favorite|                150.0|[228.0,16.0,3.0,1...|[0.01583113456464...|       0.0|                               0.0|               1.0|(1,[0],[1.0])|                   (1,[0],[1.0])|       (1,[],[])|[1.0,1.0,0.0]|[0.01583113456464...|172.83222774587293|\n",
      "|    1014.0|   1|         4.0|          5.0|          7.0| 399.0|             36.0|              24.0|         6411.0|          355.0|           36.0|                    Favorite|     Uniform|                202.5|[6411.0,24.0,5.0,...|[0.44514650742952...|       0.0|                               0.0|               0.0|(1,[0],[1.0])|                   (1,[0],[1.0])|   (1,[0],[1.0])|[1.0,1.0,1.0]|[0.44514650742952...|235.50132990343954|\n",
      "+----------+----+------------+-------------+-------------+------+-----------------+------------------+---------------+---------------+---------------+----------------------------+------------+---------------------+--------------------+--------------------+----------+----------------------------------+------------------+-------------+--------------------------------+----------------+-------------+--------------------+------------------+\n",
      "only showing top 3 rows\n",
      "\n"
     ]
    }
   ],
   "source": [
    "test_predictions_lr.show(3)"
   ]
  },
  {
   "cell_type": "code",
   "execution_count": 42,
   "metadata": {},
   "outputs": [],
   "source": [
    "# Find the error metric - RMSE\n",
    "from pyspark.ml.evaluation import RegressionEvaluator\n",
    "\n",
    "eval = RegressionEvaluator(labelCol=\"TotalRevenueGenerated\",\n",
    "                            predictionCol=\"prediction\",\n",
    "                            metricName=\"rmse\" )"
   ]
  },
  {
   "cell_type": "code",
   "execution_count": 45,
   "metadata": {},
   "outputs": [
    {
     "name": "stdout",
     "output_type": "stream",
     "text": [
      "('RMSE value on Train is', 41.36907526786541)\n",
      "('RMSE value on Test is', 47.568862455797806)\n"
     ]
    }
   ],
   "source": [
    "##Checking the error metric:\n",
    "lm_Train_rmse = eval.evaluate(train_predictions_lr)\n",
    "print('RMSE value on Train is', lm_Train_rmse)\n",
    "\n",
    "lm_Test_rmse = eval.evaluate(test_predictions_lr)\n",
    "print('RMSE value on Test is', lm_Test_rmse)"
   ]
  },
  {
   "cell_type": "code",
   "execution_count": null,
   "metadata": {},
   "outputs": [],
   "source": []
  }
 ],
 "metadata": {
  "kernelspec": {
   "display_name": "Python 2",
   "language": "python",
   "name": "python2"
  },
  "language_info": {
   "codemirror_mode": {
    "name": "ipython",
    "version": 2
   },
   "file_extension": ".py",
   "mimetype": "text/x-python",
   "name": "python",
   "nbconvert_exporter": "python",
   "pygments_lexer": "ipython2",
   "version": "2.7.5"
  }
 },
 "nbformat": 4,
 "nbformat_minor": 2
}
