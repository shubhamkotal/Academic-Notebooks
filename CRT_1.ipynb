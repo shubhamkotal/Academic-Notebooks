{
 "cells": [
  {
   "cell_type": "code",
   "execution_count": 2,
   "metadata": {},
   "outputs": [],
   "source": [
    "from scipy.integrate import quad\n",
    "import numpy as np\n",
    "import matplotlib.pyplot as plt\n",
    "%matplotlib inline\n",
    "import pandas as pd\n",
    "import yfinance as yf\n",
    "import statistics as st\n",
    "\n",
    "import warnings\n",
    "warnings.filterwarnings(\"ignore\")"
   ]
  },
  {
   "cell_type": "code",
   "execution_count": 3,
   "metadata": {},
   "outputs": [
    {
     "name": "stdout",
     "output_type": "stream",
     "text": [
      "0.9544997361036417\n"
     ]
    }
   ],
   "source": [
    "# Make a function for the normal distribution a function\n",
    "def normalProbabilityDensity(x):\n",
    "    constant = 1.0 / (np.sqrt(2*np.pi)*1)\n",
    "    return(constant * np.exp((-x**2) / (2*1)) )\n",
    "\n",
    "# Integrate DF from -2 to 2\n",
    "result, _ = quad(normalProbabilityDensity, -2, 2, limit = 1000)\n",
    "print(result)"
   ]
  },
  {
   "cell_type": "code",
   "execution_count": 4,
   "metadata": {},
   "outputs": [
    {
     "name": "stdout",
     "output_type": "stream",
     "text": [
      "0.5958794452060241\n"
     ]
    }
   ],
   "source": [
    "#1.b\n",
    "# Make a PDF for the normal distribution a function\n",
    "def normalProbabilityDensity(x):\n",
    "    constant = 1.0 / (np.sqrt(2*np.pi)*2)\n",
    "    return(constant * np.exp((-x**2) / (2*2)) )\n",
    "\n",
    "# Integrate PDF from -2 to 2\n",
    "result, _ = quad(normalProbabilityDensity, -2, 2, limit = 1000)\n",
    "print(result)"
   ]
  },
  {
   "cell_type": "code",
   "execution_count": 5,
   "metadata": {},
   "outputs": [],
   "source": [
    "import numpy as np\n",
    "from scipy.stats import t"
   ]
  },
  {
   "cell_type": "code",
   "execution_count": 11,
   "metadata": {},
   "outputs": [
    {
     "data": {
      "text/plain": [
       "0.6783350184090684"
      ]
     },
     "execution_count": 11,
     "metadata": {},
     "output_type": "execute_result"
    }
   ],
   "source": [
    "rv = t(df=4, loc=0, scale=1)\n",
    "x = 0.5\n",
    "\n",
    "p = rv.sf(x) #\n",
    "1-p"
   ]
  },
  {
   "cell_type": "code",
   "execution_count": 12,
   "metadata": {},
   "outputs": [
    {
     "name": "stdout",
     "output_type": "stream",
     "text": [
      "0.6831395004119151\n"
     ]
    }
   ],
   "source": [
    "# Integrate PDF from -3 to 3\n",
    "result, _ = quad(normalProbabilityDensity, -3, 3, limit = 1000)\n",
    "print(result)"
   ]
  },
  {
   "cell_type": "code",
   "execution_count": 13,
   "metadata": {},
   "outputs": [],
   "source": [
    "n = 100000\n",
    "\n",
    "\n",
    "mu, sigma = 0, 1 # mean and standard deviation\n",
    "N1 = np.random.normal(mu, sigma, n)\n",
    "# h = plt.hist(N1, bins=100, density=True)\n",
    "\n",
    "mu, sigma = 0, 4 # mean and standard deviation\n",
    "N2 = np.random.normal(mu, sigma, n)\n",
    "# h = plt.hist(N2, bins=100, density=True)\n",
    "\n",
    "T4 = np.random.standard_t(4, size=n)\n",
    "# h = plt.hist(T4, bins=100, density=True)\n",
    "\n",
    "MX_1 = N1[0:int((0.95*n))] \n",
    "MX_2 = N2[0:int((0.05*n))]\n",
    "MX = list(MX_1) + list(MX_2)\n",
    "\n",
    "\n",
    "FB = yf.download('FB', \n",
    "                      start='2021-01-01', \n",
    "                      end='2021-12-31', \n",
    "                      progress=False,\n",
    ")\n",
    "\n",
    "FB = pd.DataFrame(FB['Adj Close'])\n",
    "# h = plt.hist(FB, bins=100, density=True)\n",
    "FB = FB.pct_change().dropna()\n",
    "\n",
    "\n",
    "\n",
    "\n",
    "\n",
    "NF = yf.download('NFLX', \n",
    "                      start='2021-01-01', \n",
    "                      end='2021-12-31', \n",
    "                      progress=False,\n",
    ")\n",
    "\n",
    "NF = pd.DataFrame(NF['Adj Close'])\n",
    "NF = NF.pct_change().dropna()"
   ]
  },
  {
   "cell_type": "code",
   "execution_count": 14,
   "metadata": {},
   "outputs": [
    {
     "name": "stdout",
     "output_type": "stream",
     "text": [
      "N1: -0.006\n",
      "N2: 0.0264\n",
      "T4: -0.0009\n",
      "MX: -0.0044\n",
      "MX: -0.0044\n",
      "FB: 0.0001\n",
      "NF: 0.0013\n"
     ]
    }
   ],
   "source": [
    "#  N1, N2, T4, MX, FB, NF.\n",
    "\n",
    "print(\"N1:\", round(st.median(N1),4))\n",
    "print(\"N2:\", round(st.median(N2),4))\n",
    "print(\"T4:\", round(st.median(T4),4))\n",
    "print(\"MX:\", round(st.median(MX),4))\n",
    "print(\"MX:\", round(st.median(MX),4))\n",
    "print(\"FB:\", round(st.median(FB['Adj Close']),4))\n",
    "print(\"NF:\", round(st.median(NF['Adj Close']),4))"
   ]
  },
  {
   "cell_type": "code",
   "execution_count": 15,
   "metadata": {},
   "outputs": [
    {
     "name": "stdout",
     "output_type": "stream",
     "text": [
      "N1: 0.9997\n",
      "N2: 3.9925\n",
      "T4: 1.4087\n",
      "MX: 1.3191\n",
      "FB: 0.0186\n",
      "NF: 0.0202\n"
     ]
    }
   ],
   "source": [
    "#  N1, N2, T4, MX, FB, NF.\n",
    "\n",
    "print(\"N1:\", round(st.stdev(N1),4))\n",
    "print(\"N2:\", round(st.stdev(N2),4))\n",
    "print(\"T4:\", round(st.stdev(T4),4))\n",
    "print(\"MX:\", round(st.stdev(MX),4))\n",
    "print(\"FB:\", round(st.stdev(FB['Adj Close']),4))\n",
    "print(\"NF:\", round(st.stdev(NF['Adj Close']),4))"
   ]
  },
  {
   "cell_type": "code",
   "execution_count": 16,
   "metadata": {},
   "outputs": [
    {
     "name": "stdout",
     "output_type": "stream",
     "text": [
      "N1: 0.0008\n",
      "N2: -0.0052\n",
      "T4: -0.1269\n",
      "MX: 0.0605\n",
      "FB: 0.0228\n",
      "NF: 1.8566\n"
     ]
    }
   ],
   "source": [
    "from scipy.stats import skew\n",
    "\n",
    "#  N1, N2, T4, MX, FB, NF.\n",
    "\n",
    "print(\"N1:\", round(skew(N1),4))\n",
    "print(\"N2:\", round(skew(N2),4))\n",
    "print(\"T4:\", round(skew(T4),4))\n",
    "print(\"MX:\", round(skew(MX),4))\n",
    "print(\"FB:\", round(skew(FB['Adj Close']),4))\n",
    "print(\"NF:\", round(skew(NF['Adj Close']),4))"
   ]
  },
  {
   "cell_type": "code",
   "execution_count": 17,
   "metadata": {},
   "outputs": [
    {
     "name": "stdout",
     "output_type": "stream",
     "text": [
      "N1: 0.0014\n",
      "N2: -0.0316\n",
      "T4: 9.6794\n",
      "MX: 9.9093\n",
      "FB: 0.748\n",
      "NF: 18.926\n"
     ]
    }
   ],
   "source": [
    "from scipy.stats import kurtosis\n",
    "\n",
    "#  N1, N2, T4, MX, FB, NF.\n",
    "\n",
    "print(\"N1:\", round(kurtosis(N1),4))\n",
    "print(\"N2:\", round(kurtosis(N2),4))\n",
    "print(\"T4:\", round(kurtosis(T4),4))\n",
    "print(\"MX:\", round(kurtosis(MX),4))\n",
    "print(\"FB:\", round(kurtosis(FB['Adj Close']),4))\n",
    "print(\"NF:\", round(kurtosis(NF['Adj Close']),4))\n"
   ]
  },
  {
   "cell_type": "code",
   "execution_count": 18,
   "metadata": {},
   "outputs": [],
   "source": [
    "N1_std = st.stdev(N1)\n",
    "N2_std = st.stdev(N2)\n",
    "T4_std = st.stdev(T4)\n",
    "FB_std = st.stdev(FB['Adj Close'])\n",
    "NF_std = st.stdev(NF['Adj Close'])"
   ]
  },
  {
   "cell_type": "code",
   "execution_count": 19,
   "metadata": {},
   "outputs": [
    {
     "name": "stdout",
     "output_type": "stream",
     "text": [
      "N1: 0.9543\n",
      "N2: 0.9549\n",
      "T4: 0.9519\n",
      "FB: 0.9363\n",
      "NF: 0.9641\n"
     ]
    }
   ],
   "source": [
    "#  N1, N2, T4, MX, FB, NF.\n",
    "\n",
    "greater_2  = sum(N1>N1_std*2)\n",
    "lower_2 = sum(N1<N1_std*-2)\n",
    "tails = greater_2 + lower_2\n",
    "within_two_simga = (len(N1) - tails)/len(N1)\n",
    "\n",
    "print('N1:', round(within_two_simga,4))\n",
    "\n",
    "\n",
    "greater_2  = sum(N2>N2_std*2)\n",
    "lower_2 = sum(N2<N2_std*-2)\n",
    "tails = greater_2 + lower_2\n",
    "within_two_simga = (len(N2) - tails)/len(N2)\n",
    "\n",
    "print('N2:', round(within_two_simga,4))\n",
    "\n",
    "\n",
    "greater_2  = sum(T4>T4_std*2)\n",
    "lower_2 = sum(T4<T4_std*-2)\n",
    "tails = greater_2 + lower_2\n",
    "within_two_simga = (len(T4) - tails)/len(T4)\n",
    "\n",
    "print('T4:', round(within_two_simga,4))\n",
    "\n",
    "\n",
    "greater_2  = sum(FB['Adj Close']>FB_std*2)\n",
    "lower_2 = sum(FB['Adj Close']<FB_std*-2)\n",
    "tails = greater_2 + lower_2\n",
    "within_two_simga = (len(FB) - tails)/len(FB)\n",
    "\n",
    "print('FB:', round(within_two_simga,4))\n",
    "\n",
    "\n",
    "greater_2  = sum(FB['Adj Close']>NF_std*2)\n",
    "lower_2 = sum(FB['Adj Close']<NF_std*-2)\n",
    "tails = greater_2 + lower_2\n",
    "within_two_simga = (len(NF) - tails)/len(NF)\n",
    "\n",
    "print('NF:', round(within_two_simga,4))"
   ]
  },
  {
   "cell_type": "code",
   "execution_count": 20,
   "metadata": {},
   "outputs": [
    {
     "name": "stdout",
     "output_type": "stream",
     "text": [
      "N1: 0.9971\n",
      "N2: 0.9975\n",
      "T4: 0.9861\n",
      "FB: 0.996\n",
      "NF: 0.988\n"
     ]
    }
   ],
   "source": [
    "#  N1, N2, T4, MX, FB, NF.\n",
    "\n",
    "greater_3  = sum(N1>N1_std*3)\n",
    "lower_3 = sum(N1<N1_std*-3)\n",
    "tails = greater_3 + lower_3\n",
    "within_three_simga = (len(N1) - tails)/len(N1)\n",
    "\n",
    "print('N1:', round(within_three_simga,4))\n",
    "\n",
    "\n",
    "greater_3  = sum(N2>N2_std*3)\n",
    "lower_3 = sum(N2<N2_std*-3)\n",
    "tails = greater_3 + lower_3\n",
    "within_three_simga = (len(N2) - tails)/len(N2)\n",
    "\n",
    "print('N2:', round(within_three_simga,4))\n",
    "\n",
    "\n",
    "greater_3  = sum(T4>T4_std*3)\n",
    "lower_3 = sum(T4<T4_std*-3)\n",
    "tails = greater_3 + lower_3\n",
    "within_three_simga = (len(T4) - tails)/len(T4)\n",
    "\n",
    "print('T4:', round(within_three_simga,4))\n",
    "\n",
    "\n",
    "greater_3  = sum(FB['Adj Close']>FB_std*3)\n",
    "lower_3 = sum(FB['Adj Close']<FB_std*-3)\n",
    "tails = greater_3 + lower_3\n",
    "within_three_simga = (len(FB) - tails)/len(FB)\n",
    "\n",
    "print('FB:', round(within_three_simga,4))\n",
    "\n",
    "\n",
    "greater_3  = sum(NF['Adj Close']>NF_std*3)\n",
    "lower_3 = sum(NF['Adj Close']<NF_std*-3)\n",
    "tails = greater_3 + lower_3\n",
    "within_three_simga = (len(NF) - tails)/len(NF)\n",
    "\n",
    "print('NF:', round(within_three_simga,4))"
   ]
  },
  {
   "cell_type": "code",
   "execution_count": 21,
   "metadata": {},
   "outputs": [
    {
     "name": "stdout",
     "output_type": "stream",
     "text": [
      "Statistics=1.000, p=0.716\n",
      "Sample looks Gaussian (fail to reject H0)\n"
     ]
    }
   ],
   "source": [
    "from scipy.stats import shapiro\n",
    "\n",
    "# normality test\n",
    "stat, p = shapiro(N1)\n",
    "print('Statistics=%.3f, p=%.3f' % (stat, p))\n",
    "# interpret\n",
    "alpha = 0.05\n",
    "if p > alpha:\n",
    "    print('Sample looks Gaussian (fail to reject H0)')\n",
    "else:\n",
    "    print('Sample does not look Gaussian (reject H0)')"
   ]
  },
  {
   "cell_type": "code",
   "execution_count": 22,
   "metadata": {},
   "outputs": [
    {
     "name": "stdout",
     "output_type": "stream",
     "text": [
      "Statistics=1.000, p=0.740\n",
      "Sample looks Gaussian (fail to reject H0)\n"
     ]
    }
   ],
   "source": [
    "# normality test\n",
    "stat, p = shapiro(N2)\n",
    "print('Statistics=%.3f, p=%.3f' % (stat, p))\n",
    "# interpret\n",
    "alpha = 0.05\n",
    "if p > alpha:\n",
    "    print('Sample looks Gaussian (fail to reject H0)')\n",
    "else:\n",
    "    print('Sample does not look Gaussian (reject H0)')"
   ]
  },
  {
   "cell_type": "code",
   "execution_count": 23,
   "metadata": {},
   "outputs": [
    {
     "name": "stdout",
     "output_type": "stream",
     "text": [
      "Statistics=0.906, p=0.000\n",
      "Sample does not look Gaussian (reject H0)\n"
     ]
    }
   ],
   "source": [
    "# normality test\n",
    "stat, p = shapiro(MX)\n",
    "print('Statistics=%.3f, p=%.3f' % (stat, p))\n",
    "# interpret\n",
    "alpha = 0.05\n",
    "if p > alpha:\n",
    "    print('Sample looks Gaussian (fail to reject H0)')\n",
    "else:\n",
    "    print('Sample does not look Gaussian (reject H0)')"
   ]
  },
  {
   "cell_type": "code",
   "execution_count": 24,
   "metadata": {},
   "outputs": [
    {
     "name": "stdout",
     "output_type": "stream",
     "text": [
      "Statistics=0.988, p=0.041\n",
      "Sample does not look Gaussian (reject H0)\n"
     ]
    }
   ],
   "source": [
    "# normality test\n",
    "stat, p = shapiro(FB)\n",
    "print('Statistics=%.3f, p=%.3f' % (stat, p))\n",
    "# interpret\n",
    "alpha = 0.05\n",
    "if p > alpha:\n",
    "    print('Sample looks Gaussian (fail to reject H0)')\n",
    "else:\n",
    "    print('Sample does not look Gaussian (reject H0)')"
   ]
  },
  {
   "cell_type": "code",
   "execution_count": 25,
   "metadata": {},
   "outputs": [
    {
     "name": "stdout",
     "output_type": "stream",
     "text": [
      "Statistics=0.850, p=0.000\n",
      "Sample does not look Gaussian (reject H0)\n"
     ]
    }
   ],
   "source": [
    "# normality test\n",
    "stat, p = shapiro(NF)\n",
    "print('Statistics=%.3f, p=%.3f' % (stat, p))\n",
    "# interpret\n",
    "alpha = 0.05\n",
    "if p > alpha:\n",
    "    print('Sample looks Gaussian (fail to reject H0)')\n",
    "else:\n",
    "    print('Sample does not look Gaussian (reject H0)')"
   ]
  },
  {
   "cell_type": "code",
   "execution_count": null,
   "metadata": {},
   "outputs": [],
   "source": []
  }
 ],
 "metadata": {
  "kernelspec": {
   "display_name": "Python 3",
   "language": "python",
   "name": "python3"
  },
  "language_info": {
   "codemirror_mode": {
    "name": "ipython",
    "version": 3
   },
   "file_extension": ".py",
   "mimetype": "text/x-python",
   "name": "python",
   "nbconvert_exporter": "python",
   "pygments_lexer": "ipython3",
   "version": "3.8.5"
  }
 },
 "nbformat": 4,
 "nbformat_minor": 4
}
