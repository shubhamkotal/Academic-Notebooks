{
 "cells": [
  {
   "cell_type": "code",
   "execution_count": 1,
   "metadata": {
    "collapsed": true
   },
   "outputs": [],
   "source": [
    "# Creating a string\n",
    "string = '''\n",
    "At Waterloo we were fortunate in catching a don't train for Leatherhead, where we hired a trap at the station inn and drove for four or five miles through the lovely Surrey lanes. \n",
    "It was a perfect day, with a bright sun and a few fleecy clouds in the heavens. \n",
    "The trees and wayside hedges were just throwing out their first green shoots, and the air was full of the pleasant smell of the moist earth. To me at least there was a strange contrast between the sweet promise of the spring and this sinister quest upon which we were engaged. \n",
    "My companion sat in the front of the trap, his arms folded, his hat pulled down over his eyes, and his chin sunk upon his breast, buried in the deepest thought. \n",
    "Suddenly, however, he started, tapped me on the shoulder, and pointed over the meadows.\n",
    "'''"
   ]
  },
  {
   "cell_type": "code",
   "execution_count": 2,
   "metadata": {
    "scrolled": true
   },
   "outputs": [
    {
     "name": "stdout",
     "output_type": "stream",
     "text": [
      "\n",
      "At Waterloo we were fortunate in catching a don't train for Leatherhead, where we hired a trap at the station inn and drove for four or five miles through the lovely Surrey lanes. \n",
      "It was a perfect day, with a bright sun and a few fleecy clouds in the heavens. \n",
      "The trees and wayside hedges were just throwing out their first green shoots, and the air was full of the pleasant smell of the moist earth. To me at least there was a strange contrast between the sweet promise of the spring and this sinister quest upon which we were engaged. \n",
      "My companion sat in the front of the trap, his arms folded, his hat pulled down over his eyes, and his chin sunk upon his breast, buried in the deepest thought. \n",
      "Suddenly, however, he started, tapped me on the shoulder, and pointed over the meadows.\n",
      "\n"
     ]
    }
   ],
   "source": [
    "print(string)"
   ]
  },
  {
   "cell_type": "markdown",
   "metadata": {},
   "source": [
    "#### But what if we want to read a text file?"
   ]
  },
  {
   "cell_type": "code",
   "execution_count": 1,
   "metadata": {
    "collapsed": true
   },
   "outputs": [],
   "source": [
    "import nltk"
   ]
  },
  {
   "cell_type": "code",
   "execution_count": 4,
   "metadata": {},
   "outputs": [
    {
     "name": "stdout",
     "output_type": "stream",
     "text": [
      "D:\\SHIVA-INSOFE\\INSOFE\\Batch49\\CSE7124c\\CSE7124c_TextPreprocessing_Lab01\n"
     ]
    }
   ],
   "source": [
    "#We first check the working directory\n",
    "import os\n",
    "#os.chdir('')\n",
    "print(os.getcwd())"
   ]
  },
  {
   "cell_type": "code",
   "execution_count": 6,
   "metadata": {},
   "outputs": [
    {
     "name": "stdout",
     "output_type": "stream",
     "text": [
      "['.ipynb_checkpoints', 'CSE7124c_Languagedetection_Lab01.ipynb', 'CSE7124c_Textclassification_Lab02_Assignment_Solution.ipynb', 'CSE7124c_TextPreprocessing_Lab01.ipynb', 'CSE7124c_TfIdfManual_Lab01.xlsx', 'CSE7124c_TfIdf_Lab01.ipynb', 'english_german_articles.txt', 'LSTMwithCNN.ipynb', 'sherlock.txt', 'Untitled.ipynb']\n"
     ]
    }
   ],
   "source": [
    "#we could even verify what files are there in the path as shown:\n",
    "print(os.listdir(os.getcwd()))"
   ]
  },
  {
   "cell_type": "code",
   "execution_count": 22,
   "metadata": {},
   "outputs": [
    {
     "name": "stdout",
     "output_type": "stream",
     "text": [
      "At Waterloo we were fortunate in catching a don't train for Leatherhead, where we hired a trap at the station inn and drove for four or five miles through the lovely Surrey lanes. \n",
      "It was a perfect day, with a bright sun and a few fleecy clouds in the heavens. \n",
      "The trees and wayside hedges were just throwing out their first green shoots, and the air was full of the pleasant smell of the moist earth. To me at least there was a strange contrast between the sweet promise of the spring and this sinister quest upon which we were engaged. \n",
      "My companion sat in the front of the trap, his arms folded, his hat pulled down over his eyes, and his chin sunk upon his breast, buried in the deepest thought. \n",
      "Suddenly, however, he started, tapped me on the shoulder, and pointed over the meadows.\n",
      "\n"
     ]
    }
   ],
   "source": [
    "# Reading the text file\n",
    "with open('sherlock.txt', 'r') as file_:\n",
    "    string = file_.read()\n",
    "    \n",
    "print(string)"
   ]
  },
  {
   "cell_type": "code",
   "execution_count": 23,
   "metadata": {},
   "outputs": [
    {
     "name": "stdout",
     "output_type": "stream",
     "text": [
      "['At', 'Waterloo', 'we', 'were', 'fortunate', 'in', 'catching', 'a', 'do', \"n't\", 'train', 'for', 'Leatherhead', ',', 'where', 'we', 'hired', 'a', 'trap', 'at', 'the', 'station', 'inn', 'and', 'drove', 'for', 'four', 'or', 'five', 'miles', 'through', 'the', 'lovely', 'Surrey', 'lanes', '.', 'It', 'was', 'a', 'perfect', 'day', ',', 'with', 'a', 'bright', 'sun', 'and', 'a', 'few', 'fleecy', 'clouds', 'in', 'the', 'heavens', '.', 'The', 'trees', 'and', 'wayside', 'hedges', 'were', 'just', 'throwing', 'out', 'their', 'first', 'green', 'shoots', ',', 'and', 'the', 'air', 'was', 'full', 'of', 'the', 'pleasant', 'smell', 'of', 'the', 'moist', 'earth', '.', 'To', 'me', 'at', 'least', 'there', 'was', 'a', 'strange', 'contrast', 'between', 'the', 'sweet', 'promise', 'of', 'the', 'spring', 'and', 'this', 'sinister', 'quest', 'upon', 'which', 'we', 'were', 'engaged', '.', 'My', 'companion', 'sat', 'in', 'the', 'front', 'of', 'the', 'trap', ',', 'his', 'arms', 'folded', ',', 'his', 'hat', 'pulled', 'down', 'over', 'his', 'eyes', ',', 'and', 'his', 'chin', 'sunk', 'upon', 'his', 'breast', ',', 'buried', 'in', 'the', 'deepest', 'thought', '.', 'Suddenly', ',', 'however', ',', 'he', 'started', ',', 'tapped', 'me', 'on', 'the', 'shoulder', ',', 'and', 'pointed', 'over', 'the', 'meadows', '.']\n"
     ]
    }
   ],
   "source": [
    "import nltk\n",
    "# Tockenizing the words\n",
    "tokens = nltk.word_tokenize(string)\n",
    "print(tokens)"
   ]
  },
  {
   "cell_type": "code",
   "execution_count": 24,
   "metadata": {},
   "outputs": [
    {
     "name": "stdout",
     "output_type": "stream",
     "text": [
      "\n",
      "\n",
      "At Waterloo we were fortunate in catching a don't train for Leatherhead, where we hired a trap at the station inn and drove for four or five miles through the lovely Surrey lanes.\n",
      "\n",
      "\n",
      "It was a perfect day, with a bright sun and a few fleecy clouds in the heavens.\n",
      "\n",
      "\n",
      "The trees and wayside hedges were just throwing out their first green shoots, and the air was full of the pleasant smell of the moist earth.\n",
      "\n",
      "\n",
      "To me at least there was a strange contrast between the sweet promise of the spring and this sinister quest upon which we were engaged.\n",
      "\n",
      "\n",
      "My companion sat in the front of the trap, his arms folded, his hat pulled down over his eyes, and his chin sunk upon his breast, buried in the deepest thought.\n",
      "\n",
      "\n",
      "Suddenly, however, he started, tapped me on the shoulder, and pointed over the meadows.\n"
     ]
    }
   ],
   "source": [
    "# Creating sentence tokens and printing the sentences\n",
    "sentences = nltk.sent_tokenize(string)\n",
    "for sent in sentences:\n",
    "    print('\\n')\n",
    "    print(sent)"
   ]
  },
  {
   "cell_type": "markdown",
   "metadata": {},
   "source": [
    "#### Lowering case\n",
    "###### (Here's a nice use of list comprehensions. Instead of writing a for loop, initiating an empty list and appending lowered words, we can save much space by doing this)"
   ]
  },
  {
   "cell_type": "code",
   "execution_count": 25,
   "metadata": {},
   "outputs": [
    {
     "name": "stdout",
     "output_type": "stream",
     "text": [
      "['at', 'waterloo', 'we', 'were', 'fortunate', 'in', 'catching', 'a', 'do', \"n't\", 'train', 'for', 'leatherhead', ',', 'where', 'we', 'hired', 'a', 'trap', 'at', 'the', 'station', 'inn', 'and', 'drove', 'for', 'four', 'or', 'five', 'miles', 'through', 'the', 'lovely', 'surrey', 'lanes', '.', 'it', 'was', 'a', 'perfect', 'day', ',', 'with', 'a', 'bright', 'sun', 'and', 'a', 'few', 'fleecy', 'clouds', 'in', 'the', 'heavens', '.', 'the', 'trees', 'and', 'wayside', 'hedges', 'were', 'just', 'throwing', 'out', 'their', 'first', 'green', 'shoots', ',', 'and', 'the', 'air', 'was', 'full', 'of', 'the', 'pleasant', 'smell', 'of', 'the', 'moist', 'earth', '.', 'to', 'me', 'at', 'least', 'there', 'was', 'a', 'strange', 'contrast', 'between', 'the', 'sweet', 'promise', 'of', 'the', 'spring', 'and', 'this', 'sinister', 'quest', 'upon', 'which', 'we', 'were', 'engaged', '.', 'my', 'companion', 'sat', 'in', 'the', 'front', 'of', 'the', 'trap', ',', 'his', 'arms', 'folded', ',', 'his', 'hat', 'pulled', 'down', 'over', 'his', 'eyes', ',', 'and', 'his', 'chin', 'sunk', 'upon', 'his', 'breast', ',', 'buried', 'in', 'the', 'deepest', 'thought', '.', 'suddenly', ',', 'however', ',', 'he', 'started', ',', 'tapped', 'me', 'on', 'the', 'shoulder', ',', 'and', 'pointed', 'over', 'the', 'meadows', '.']\n"
     ]
    }
   ],
   "source": [
    "'''\n",
    "lower_tokens = []\n",
    "for token in tokens:\n",
    "    lower_tokens.append(token.lower())\n",
    "'''\n",
    "##This is the same as doing the following lines of code\n",
    "lower_tokens = [token.lower() for token in tokens]\n",
    "print(lower_tokens)"
   ]
  },
  {
   "cell_type": "markdown",
   "metadata": {},
   "source": [
    "#### Stopwords"
   ]
  },
  {
   "cell_type": "code",
   "execution_count": 27,
   "metadata": {},
   "outputs": [
    {
     "name": "stdout",
     "output_type": "stream",
     "text": [
      "['waterloo', 'fortunate', 'catching', \"n't\", 'train', 'leatherhead', ',', 'hired', 'trap', 'station', 'inn', 'drove', 'four', 'five', 'miles', 'lovely', 'surrey', 'lanes', '.', 'perfect', 'day', ',', 'bright', 'sun', 'fleecy', 'clouds', 'heavens', '.', 'trees', 'wayside', 'hedges', 'throwing', 'first', 'green', 'shoots', ',', 'air', 'full', 'pleasant', 'smell', 'moist', 'earth', '.', 'least', 'strange', 'contrast', 'sweet', 'promise', 'spring', 'sinister', 'quest', 'upon', 'engaged', '.', 'companion', 'sat', 'front', 'trap', ',', 'arms', 'folded', ',', 'hat', 'pulled', 'eyes', ',', 'chin', 'sunk', 'upon', 'breast', ',', 'buried', 'deepest', 'thought', '.', 'suddenly', ',', 'however', ',', 'started', ',', 'tapped', 'shoulder', ',', 'pointed', 'meadows', '.']\n"
     ]
    }
   ],
   "source": [
    "from nltk.corpus import stopwords\n",
    "# Reading the stopwords from the corpus\n",
    "stop = stopwords.words('english')\n",
    "# Removing the stop words from the text\n",
    "tokens = [token for token in lower_tokens if token not in stop]\n",
    "print(tokens)"
   ]
  },
  {
   "cell_type": "markdown",
   "metadata": {},
   "source": [
    "#### Lemmatizing"
   ]
  },
  {
   "cell_type": "code",
   "execution_count": 28,
   "metadata": {
    "scrolled": true
   },
   "outputs": [
    {
     "name": "stdout",
     "output_type": "stream",
     "text": [
      "['waterloo', 'fortunate', 'catching', \"n't\", 'train', 'leatherhead', ',', 'hired', 'trap', 'station', 'inn', 'drove', 'four', 'five', 'mile', 'lovely', 'surrey', 'lane', '.', 'perfect', 'day', ',', 'bright', 'sun', 'fleecy', 'cloud', 'heaven', '.', 'tree', 'wayside', 'hedge', 'throwing', 'first', 'green', 'shoot', ',', 'air', 'full', 'pleasant', 'smell', 'moist', 'earth', '.', 'least', 'strange', 'contrast', 'sweet', 'promise', 'spring', 'sinister', 'quest', 'upon', 'engaged', '.', 'companion', 'sat', 'front', 'trap', ',', 'arm', 'folded', ',', 'hat', 'pulled', 'eye', ',', 'chin', 'sunk', 'upon', 'breast', ',', 'buried', 'deepest', 'thought', '.', 'suddenly', ',', 'however', ',', 'started', ',', 'tapped', 'shoulder', ',', 'pointed', 'meadow', '.']\n"
     ]
    }
   ],
   "source": [
    "lmtzr = nltk.stem.WordNetLemmatizer()\n",
    "tokens = [lmtzr.lemmatize(token) for token in tokens]\n",
    "print(tokens)"
   ]
  },
  {
   "cell_type": "code",
   "execution_count": 29,
   "metadata": {},
   "outputs": [
    {
     "name": "stdout",
     "output_type": "stream",
     "text": [
      "['caress', 'fli', 'die', 'mule', 'deni', 'comput', 'comput', 'comput', 'better']\n",
      "['caress', 'fly', 'dy', 'mule', 'denied', 'computer', 'computing', 'compute', 'better']\n"
     ]
    }
   ],
   "source": [
    "# Stemming the text using porter stemmer\n",
    "from nltk.stem.porter import *\n",
    "stemmer = PorterStemmer()\n",
    "plurals = ['caresses', 'flies', 'dies', 'mules', 'denied','computer','computing','compute','better']\n",
    "singles = [stemmer.stem(plural) for plural in plurals]\n",
    "print(singles)\n",
    "lmtzr = nltk.stem.WordNetLemmatizer()\n",
    "tokensLmtz = [lmtzr.lemmatize(token) for token in plurals]\n",
    "print(tokensLmtz)"
   ]
  },
  {
   "cell_type": "code",
   "execution_count": 30,
   "metadata": {},
   "outputs": [
    {
     "name": "stdout",
     "output_type": "stream",
     "text": [
      "----------------RAW TEXT---------------------\n",
      "'When I'M a Duchess,' she said 123 & * ) to herself, (not in a very hopeful tone\n",
      "... though), 'I won't have #4 34 ' ' AB any pepper in m3y kitchen 456 AT ALL. Soup does very\n",
      "... well without--Maybe it's # % ! always pepper that make?s people hot-tempered,?!!^'...\n"
     ]
    }
   ],
   "source": [
    "print('----------------RAW TEXT---------------------')\n",
    "\n",
    "import re\n",
    "raw = \"\"\"'When I'M a Duchess,' she said 123 & * ) to herself, (not in a very hopeful tone\n",
    "... though), 'I won't have #4 34 ' ' AB any pepper in m3y kitchen 456 AT ALL. Soup does very\n",
    "... well without--Maybe it's # % ! always pepper that make?s people hot-tempered,?!!^'...\"\"\"\n",
    "print(raw)\n",
    "output = re.sub(r'\\d+', '', raw)\n"
   ]
  },
  {
   "cell_type": "code",
   "execution_count": 31,
   "metadata": {},
   "outputs": [
    {
     "name": "stdout",
     "output_type": "stream",
     "text": [
      "After removing numbers\n",
      "'When I'M a Duchess,' she said  & * ) to herself, (not in a very hopeful tone\n",
      "... though), 'I won't have #  ' ' AB any pepper in my kitchen  AT ALL. Soup does very\n",
      "... well without--Maybe it's # % ! always pepper that make?s people hot-tempered,?!!^'...\n"
     ]
    }
   ],
   "source": [
    "print(\"After removing numbers\")\n",
    "print(output)\n"
   ]
  },
  {
   "cell_type": "code",
   "execution_count": 32,
   "metadata": {},
   "outputs": [
    {
     "name": "stdout",
     "output_type": "stream",
     "text": [
      "after removing unwanted characters\n",
      "'When I'M a Duchess,' she said  & * ) to herself, (not in a very hopeful tone\n",
      "... though), 'I won't have #  ' ' AB any pepper in my kitchen  AT ALL. Soup does very\n",
      "... well without--Maybe it's # % ! always pepper that make?s people hot-tempered,?!!^'...\n"
     ]
    }
   ],
   "source": [
    "p = re.compile(\"(\\.|\\!|\\?)-'\")\n",
    "newstr = p.sub(\"\", output)\n",
    "print(\"after removing unwanted characters\")\n",
    "print(newstr)"
   ]
  },
  {
   "cell_type": "code",
   "execution_count": 33,
   "metadata": {},
   "outputs": [
    {
     "name": "stdout",
     "output_type": "stream",
     "text": [
      "['When', 'Duch', 'ess', 'she', 'said', 'to', 'hers', 'elf', 'not', 'in', 'very', 'hope', 'ful', 'tone', 'thou', 'gh', 'won', 'have', 'AB', 'any', 'pepp', 'er', 'in', 'my', 'kitc', 'hen', 'AT', 'ALL', 'Soup', 'does', 'very', 'well', 'with', 'out', 'Mayb', 'it', 'alwa', 'ys', 'pepp', 'er', 'that', 'make', 'peop', 'le', 'hot', 'temp', 'ered']\n"
     ]
    }
   ],
   "source": [
    "singles = re.findall(r'\\w{2,4}', newstr)\n",
    "print(singles)"
   ]
  },
  {
   "cell_type": "code",
   "execution_count": 34,
   "metadata": {},
   "outputs": [
    {
     "name": "stdout",
     "output_type": "stream",
     "text": [
      "----------------replacing specific words---------------------\n",
      "['pepp', 'pepp']\n"
     ]
    }
   ],
   "source": [
    "print('----------------replacing specific words---------------------')\n",
    "\n",
    "rexexample = [w for w in singles if re.search('^pep', w)]\n",
    "print(rexexample)\n"
   ]
  },
  {
   "cell_type": "code",
   "execution_count": 35,
   "metadata": {},
   "outputs": [
    {
     "name": "stdout",
     "output_type": "stream",
     "text": [
      "----------------after replacing---------------------\n",
      "'When I'M a Duchess,' she said 123 & * ) to herself, (not in a very hopeful tone\n",
      "... though), 'I won't have #4 34 ' ' AB any testingwords in m3y kitchen 456 AT ALL. Soup does very\n",
      "... well without--Maybe it's # % ! always testingwords that make?s people hot-tempered,?!!^'...\n"
     ]
    }
   ],
   "source": [
    "\n",
    "print('----------------after replacing---------------------')\n",
    "\n",
    "rexexample1 = raw.replace('pepper',\"testingwords\")\n",
    "print(rexexample1)\n"
   ]
  },
  {
   "cell_type": "markdown",
   "metadata": {},
   "source": [
    "# Let's combine all the above functions into a single function"
   ]
  },
  {
   "cell_type": "code",
   "execution_count": 50,
   "metadata": {
    "collapsed": true
   },
   "outputs": [],
   "source": [
    "# Applying the necessary text preprocessing steps on the data\n",
    "def process_text(text):\n",
    "    sentences = nltk.tokenize.sent_tokenize(text)\n",
    "    sentence_tokens = [nltk.tokenize.word_tokenize(sentence) for sentence in sentences]\n",
    "    tokens = []\n",
    "    for sentence in sentence_tokens:\n",
    "        sent = []\n",
    "        for word in sentence:\n",
    "            if word.lower() not in stop:\n",
    "                sent.append(word.lower())\n",
    "        tokens.append(sent)\n",
    "    ##THE SAME FOR LOOP CAN BE WRITTEN AS FOLLOWS\n",
    "    ##tokens = [[word.lower() for word in sent if word not in stop] for sent in sentence_tokens]\n",
    "    tokens = [[lmtzr.lemmatize(word) for word in sent] for sent in tokens]\n",
    "    return tokens"
   ]
  },
  {
   "cell_type": "code",
   "execution_count": 51,
   "metadata": {},
   "outputs": [
    {
     "name": "stdout",
     "output_type": "stream",
     "text": [
      "At Waterloo we were fortunate in catching a don't train for Leatherhead, where we hired a trap at the station inn and drove for four or five miles through the lovely Surrey lanes. \n",
      "It was a perfect day, with a bright sun and a few fleecy clouds in the heavens. \n",
      "The trees and wayside hedges were just throwing out their first green shoots, and the air was full of the pleasant smell of the moist earth. To me at least there was a strange contrast between the sweet promise of the spring and this sinister quest upon which we were engaged. \n",
      "My companion sat in the front of the trap, his arms folded, his hat pulled down over his eyes, and his chin sunk upon his breast, buried in the deepest thought. \n",
      "Suddenly, however, he started, tapped me on the shoulder, and pointed over the meadows.\n",
      "\n",
      "[['waterloo', 'fortunate', 'catching', \"n't\", 'train', 'leatherhead', ',', 'hired', 'trap', 'station', 'inn', 'drove', 'four', 'five', 'mile', 'lovely', 'surrey', 'lane', '.'], ['perfect', 'day', ',', 'bright', 'sun', 'fleecy', 'cloud', 'heaven', '.'], ['tree', 'wayside', 'hedge', 'throwing', 'first', 'green', 'shoot', ',', 'air', 'full', 'pleasant', 'smell', 'moist', 'earth', '.'], ['least', 'strange', 'contrast', 'sweet', 'promise', 'spring', 'sinister', 'quest', 'upon', 'engaged', '.'], ['companion', 'sat', 'front', 'trap', ',', 'arm', 'folded', ',', 'hat', 'pulled', 'eye', ',', 'chin', 'sunk', 'upon', 'breast', ',', 'buried', 'deepest', 'thought', '.'], ['suddenly', ',', 'however', ',', 'started', ',', 'tapped', 'shoulder', ',', 'pointed', 'meadow', '.']]\n"
     ]
    }
   ],
   "source": [
    "# Calling the function\n",
    "sentenced_tokens = process_text(string)\n",
    "print(string)\n",
    "print(sentenced_tokens)"
   ]
  },
  {
   "cell_type": "markdown",
   "metadata": {},
   "source": [
    "#### Word-count"
   ]
  },
  {
   "cell_type": "code",
   "execution_count": 52,
   "metadata": {},
   "outputs": [
    {
     "data": {
      "text/plain": [
       "[(',', 11),\n",
       " ('.', 6),\n",
       " ('upon', 2),\n",
       " ('trap', 2),\n",
       " ('pointed', 1),\n",
       " ('lane', 1),\n",
       " ('spring', 1),\n",
       " ('moist', 1),\n",
       " ('sunk', 1),\n",
       " ('meadow', 1),\n",
       " ('shoot', 1),\n",
       " ('day', 1),\n",
       " ('least', 1),\n",
       " ('train', 1),\n",
       " ('promise', 1),\n",
       " ('throwing', 1),\n",
       " ('hedge', 1),\n",
       " ('thought', 1),\n",
       " ('however', 1),\n",
       " ('fortunate', 1)]"
      ]
     },
     "execution_count": 52,
     "metadata": {},
     "output_type": "execute_result"
    }
   ],
   "source": [
    "word_count = nltk.FreqDist(tokens) #WE INITIALIZE AN EMPTY FREQUENCY COUNTER\n",
    "word_count.most_common(20)"
   ]
  },
  {
   "cell_type": "code",
   "execution_count": 53,
   "metadata": {},
   "outputs": [
    {
     "data": {
      "text/plain": [
       "FreqDist({',': 11,\n",
       "          '.': 6,\n",
       "          'air': 1,\n",
       "          'arm': 1,\n",
       "          'breast': 1,\n",
       "          'bright': 1,\n",
       "          'buried': 1,\n",
       "          'catching': 1,\n",
       "          'chin': 1,\n",
       "          'cloud': 1,\n",
       "          'companion': 1,\n",
       "          'contrast': 1,\n",
       "          'day': 1,\n",
       "          'deepest': 1,\n",
       "          'drove': 1,\n",
       "          'earth': 1,\n",
       "          'engaged': 1,\n",
       "          'eye': 1,\n",
       "          'first': 1,\n",
       "          'five': 1,\n",
       "          'fleecy': 1,\n",
       "          'folded': 1,\n",
       "          'fortunate': 1,\n",
       "          'four': 1,\n",
       "          'front': 1,\n",
       "          'full': 1,\n",
       "          'green': 1,\n",
       "          'hat': 1,\n",
       "          'heaven': 1,\n",
       "          'hedge': 1,\n",
       "          'hired': 1,\n",
       "          'however': 1,\n",
       "          'inn': 1,\n",
       "          'lane': 1,\n",
       "          'least': 1,\n",
       "          'leatherhead': 1,\n",
       "          'lovely': 1,\n",
       "          'meadow': 1,\n",
       "          'mile': 1,\n",
       "          'moist': 1,\n",
       "          \"n't\": 1,\n",
       "          'perfect': 1,\n",
       "          'pleasant': 1,\n",
       "          'pointed': 1,\n",
       "          'promise': 1,\n",
       "          'pulled': 1,\n",
       "          'quest': 1,\n",
       "          'sat': 1,\n",
       "          'shoot': 1,\n",
       "          'shoulder': 1,\n",
       "          'sinister': 1,\n",
       "          'smell': 1,\n",
       "          'spring': 1,\n",
       "          'started': 1,\n",
       "          'station': 1,\n",
       "          'strange': 1,\n",
       "          'suddenly': 1,\n",
       "          'sun': 1,\n",
       "          'sunk': 1,\n",
       "          'surrey': 1,\n",
       "          'sweet': 1,\n",
       "          'tapped': 1,\n",
       "          'thought': 1,\n",
       "          'throwing': 1,\n",
       "          'train': 1,\n",
       "          'trap': 2,\n",
       "          'tree': 1,\n",
       "          'upon': 2,\n",
       "          'waterloo': 1,\n",
       "          'wayside': 1})"
      ]
     },
     "execution_count": 53,
     "metadata": {},
     "output_type": "execute_result"
    }
   ],
   "source": [
    "word_count"
   ]
  },
  {
   "cell_type": "markdown",
   "metadata": {},
   "source": [
    "#### n-grams"
   ]
  },
  {
   "cell_type": "code",
   "execution_count": 54,
   "metadata": {
    "scrolled": true
   },
   "outputs": [
    {
     "name": "stdout",
     "output_type": "stream",
     "text": [
      "[('<s>', 'waterloo'), ('waterloo', 'fortunate'), ('fortunate', 'catching'), ('catching', \"n't\"), (\"n't\", 'train'), ('train', 'leatherhead'), ('leatherhead', ','), (',', 'hired'), ('hired', 'trap'), ('trap', 'station'), ('station', 'inn'), ('inn', 'drove'), ('drove', 'four'), ('four', 'five'), ('five', 'mile'), ('mile', 'lovely'), ('lovely', 'surrey'), ('surrey', 'lane'), ('lane', '.'), ('.', 'perfect'), ('perfect', 'day'), ('day', ','), (',', 'bright'), ('bright', 'sun'), ('sun', 'fleecy'), ('fleecy', 'cloud'), ('cloud', 'heaven'), ('heaven', '.'), ('.', 'tree'), ('tree', 'wayside'), ('wayside', 'hedge'), ('hedge', 'throwing'), ('throwing', 'first'), ('first', 'green'), ('green', 'shoot'), ('shoot', ','), (',', 'air'), ('air', 'full'), ('full', 'pleasant'), ('pleasant', 'smell'), ('smell', 'moist'), ('moist', 'earth'), ('earth', '.'), ('.', 'least'), ('least', 'strange'), ('strange', 'contrast'), ('contrast', 'sweet'), ('sweet', 'promise'), ('promise', 'spring'), ('spring', 'sinister'), ('sinister', 'quest'), ('quest', 'upon'), ('upon', 'engaged'), ('engaged', '.'), ('.', 'companion'), ('companion', 'sat'), ('sat', 'front'), ('front', 'trap'), ('trap', ','), (',', 'arm'), ('arm', 'folded'), ('folded', ','), (',', 'hat'), ('hat', 'pulled'), ('pulled', 'eye'), ('eye', ','), (',', 'chin'), ('chin', 'sunk'), ('sunk', 'upon'), ('upon', 'breast'), ('breast', ','), (',', 'buried'), ('buried', 'deepest'), ('deepest', 'thought'), ('thought', '.'), ('.', 'suddenly'), ('suddenly', ','), (',', 'however'), ('however', ','), (',', 'started'), ('started', ','), (',', 'tapped'), ('tapped', 'shoulder'), ('shoulder', ','), (',', 'pointed'), ('pointed', 'meadow'), ('meadow', '.'), ('.', '</s>')]\n"
     ]
    }
   ],
   "source": [
    "bigrams = list(nltk.ngrams(tokens, 2, pad_right = True, right_pad_symbol='</s>', pad_left=True, left_pad_symbol='<s>'))\n",
    "print(bigrams)\n",
    "#bigram=list(nltk.bigrams(tokens))\n",
    "#print(bigram)\n",
    "#bigramword_count = nltk.FreqDist(bigram)\n",
    "#bigramword_count.most_common(20)"
   ]
  },
  {
   "cell_type": "markdown",
   "metadata": {},
   "source": [
    "### A simple word cloud generator"
   ]
  },
  {
   "cell_type": "code",
   "execution_count": 55,
   "metadata": {},
   "outputs": [
    {
     "data": {
      "image/png": "[encoded data removed]",
      "text/plain": [
       "<matplotlib.figure.Figure at 0x105260f0>"
      ]
     },
     "metadata": {},
     "output_type": "display_data"
    }
   ],
   "source": [
    "import wordcloud\n",
    "wc = wordcloud.WordCloud()\n",
    "img = wc.generate_from_text(string)\n",
    "import matplotlib.pyplot as plt\n",
    "%matplotlib inline\n",
    "plt.imshow(img)\n",
    "plt.show()"
   ]
  },
  {
   "cell_type": "code",
   "execution_count": 58,
   "metadata": {},
   "outputs": [
    {
     "data": {
      "text/plain": [
       "[\"At Waterloo we were fortunate in catching a don't train for Leatherhead, where we hired a trap at the station inn and drove for four or five miles through the lovely Surrey lanes.\",\n",
       " 'It was a perfect day, with a bright sun and a few fleecy clouds in the heavens.',\n",
       " 'The trees and wayside hedges were just throwing out their first green shoots, and the air was full of the pleasant smell of the moist earth.',\n",
       " 'To me at least there was a strange contrast between the sweet promise of the spring and this sinister quest upon which we were engaged.',\n",
       " 'My companion sat in the front of the trap, his arms folded, his hat pulled down over his eyes, and his chin sunk upon his breast, buried in the deepest thought.',\n",
       " 'Suddenly, however, he started, tapped me on the shoulder, and pointed over the meadows.']"
      ]
     },
     "execution_count": 58,
     "metadata": {},
     "output_type": "execute_result"
    }
   ],
   "source": [
    "sentences=nltk.sent_tokenize(string)\n",
    "sentences"
   ]
  },
  {
   "cell_type": "code",
   "execution_count": 69,
   "metadata": {},
   "outputs": [
    {
     "name": "stdout",
     "output_type": "stream",
     "text": [
      "Extracting tf-idf features...\n",
      "done in 0.007s.\n"
     ]
    }
   ],
   "source": [
    "# Building tfidf\n",
    "from time import time\n",
    "from sklearn.feature_extraction.text import TfidfVectorizer\n",
    "#Get TF-IDFs.\n",
    "print(\"Extracting tf-idf features...\")\n",
    "#First we initiate an empty tfidf object with specific conditions\n",
    "tfidf_vectorizer = TfidfVectorizer(ngram_range=(1,3),max_df=0.3, min_df=1, stop_words='english') #USE HELP TO SEE WHAT EACH DOES)\n",
    "t0 = time()\n",
    "#Next we give the data for processing\n",
    "tfidf = tfidf_vectorizer.fit_transform(sentences)\n",
    "print(\"done in %0.3fs.\" % (time() - t0)) \n",
    "# print(tfidf)"
   ]
  },
  {
   "cell_type": "code",
   "execution_count": 70,
   "metadata": {},
   "outputs": [
    {
     "name": "stdout",
     "output_type": "stream",
     "text": [
      "  (0, 160)\t0.15617376188860604\n",
      "  (0, 51)\t0.15617376188860604\n",
      "  (0, 15)\t0.15617376188860604\n",
      "  (0, 34)\t0.15617376188860604\n",
      "  (0, 150)\t0.15617376188860604\n",
      "  (0, 74)\t0.15617376188860604\n",
      "  (0, 64)\t0.15617376188860604\n",
      "  (0, 123)\t0.15617376188860604\n",
      "  (0, 67)\t0.15617376188860604\n",
      "  (0, 37)\t0.15617376188860604\n",
      "  (0, 81)\t0.15617376188860604\n",
      "  (0, 77)\t0.15617376188860604\n",
      "  (0, 138)\t0.15617376188860604\n",
      "  (0, 73)\t0.15617376188860604\n",
      "  (0, 161)\t0.15617376188860604\n",
      "  (0, 52)\t0.15617376188860604\n",
      "  (0, 16)\t0.15617376188860604\n",
      "  (0, 35)\t0.15617376188860604\n",
      "  (0, 151)\t0.15617376188860604\n",
      "  (0, 75)\t0.15617376188860604\n",
      "  (0, 65)\t0.15617376188860604\n",
      "  (0, 155)\t0.15617376188860604\n",
      "  (0, 124)\t0.15617376188860604\n",
      "  (0, 68)\t0.15617376188860604\n",
      "  (0, 38)\t0.15617376188860604\n",
      "  :\t:\n",
      "  (4, 154)\t0.16222142113076252\n",
      "  (4, 5)\t0.16222142113076252\n",
      "  (4, 50)\t0.16222142113076252\n",
      "  (4, 59)\t0.16222142113076252\n",
      "  (4, 99)\t0.16222142113076252\n",
      "  (4, 44)\t0.16222142113076252\n",
      "  (4, 20)\t0.16222142113076252\n",
      "  (4, 137)\t0.16222142113076252\n",
      "  (4, 8)\t0.16222142113076252\n",
      "  (4, 14)\t0.16222142113076252\n",
      "  (5, 129)\t0.25819888974716115\n",
      "  (5, 120)\t0.25819888974716115\n",
      "  (5, 143)\t0.25819888974716115\n",
      "  (5, 108)\t0.25819888974716115\n",
      "  (5, 92)\t0.25819888974716115\n",
      "  (5, 80)\t0.25819888974716115\n",
      "  (5, 130)\t0.25819888974716115\n",
      "  (5, 121)\t0.25819888974716115\n",
      "  (5, 144)\t0.25819888974716115\n",
      "  (5, 109)\t0.25819888974716115\n",
      "  (5, 93)\t0.25819888974716115\n",
      "  (5, 131)\t0.25819888974716115\n",
      "  (5, 122)\t0.25819888974716115\n",
      "  (5, 145)\t0.25819888974716115\n",
      "  (5, 110)\t0.25819888974716115\n"
     ]
    }
   ],
   "source": [
    "tfidf_vectorizer.get_feature_names()\n",
    "print(tfidf)"
   ]
  },
  {
   "cell_type": "code",
   "execution_count": 73,
   "metadata": {},
   "outputs": [
    {
     "name": "stdout",
     "output_type": "stream",
     "text": [
      "[[0.         0.         0.         0.         0.         0.\n",
      "  0.         0.         0.         0.         0.         0.\n",
      "  0.         0.         0.         0.15617376 0.15617376 0.15617376\n",
      "  0.         0.         0.         0.         0.         0.\n",
      "  0.         0.         0.         0.         0.         0.\n",
      "  0.         0.         0.         0.         0.15617376 0.15617376\n",
      "  0.15617376 0.15617376 0.15617376 0.15617376 0.         0.\n",
      "  0.         0.         0.         0.         0.         0.\n",
      "  0.         0.         0.         0.15617376 0.15617376 0.15617376\n",
      "  0.         0.         0.         0.         0.         0.\n",
      "  0.         0.         0.         0.         0.15617376 0.15617376\n",
      "  0.15617376 0.15617376 0.15617376 0.15617376 0.         0.\n",
      "  0.         0.15617376 0.15617376 0.15617376 0.15617376 0.15617376\n",
      "  0.15617376 0.15617376 0.         0.15617376 0.15617376 0.15617376\n",
      "  0.         0.         0.         0.         0.         0.\n",
      "  0.         0.         0.         0.         0.         0.\n",
      "  0.         0.         0.         0.         0.         0.\n",
      "  0.         0.         0.         0.         0.         0.\n",
      "  0.         0.         0.         0.         0.         0.\n",
      "  0.         0.         0.         0.         0.         0.\n",
      "  0.         0.         0.         0.15617376 0.15617376 0.15617376\n",
      "  0.         0.         0.         0.         0.         0.\n",
      "  0.         0.         0.         0.         0.         0.\n",
      "  0.15617376 0.15617376 0.         0.         0.         0.\n",
      "  0.         0.         0.         0.         0.         0.\n",
      "  0.15617376 0.15617376 0.15617376 0.         0.         0.15617376\n",
      "  0.15617376 0.         0.         0.         0.15617376 0.15617376\n",
      "  0.15617376 0.         0.         0.        ]\n",
      " [0.         0.         0.         0.         0.         0.\n",
      "  0.         0.         0.         0.23570226 0.23570226 0.23570226\n",
      "  0.         0.         0.         0.         0.         0.\n",
      "  0.         0.         0.         0.23570226 0.23570226 0.\n",
      "  0.         0.         0.         0.         0.         0.23570226\n",
      "  0.23570226 0.23570226 0.         0.         0.         0.\n",
      "  0.         0.         0.         0.         0.         0.\n",
      "  0.         0.         0.         0.23570226 0.23570226 0.23570226\n",
      "  0.         0.         0.         0.         0.         0.\n",
      "  0.         0.         0.         0.         0.         0.\n",
      "  0.23570226 0.         0.         0.         0.         0.\n",
      "  0.         0.         0.         0.         0.         0.\n",
      "  0.         0.         0.         0.         0.         0.\n",
      "  0.         0.         0.         0.         0.         0.\n",
      "  0.         0.         0.23570226 0.23570226 0.23570226 0.\n",
      "  0.         0.         0.         0.         0.         0.\n",
      "  0.         0.         0.         0.         0.         0.\n",
      "  0.         0.         0.         0.         0.         0.\n",
      "  0.         0.         0.         0.         0.         0.\n",
      "  0.         0.         0.         0.         0.         0.\n",
      "  0.         0.         0.         0.         0.         0.\n",
      "  0.         0.         0.         0.         0.         0.\n",
      "  0.23570226 0.23570226 0.23570226 0.         0.         0.\n",
      "  0.         0.         0.         0.         0.         0.\n",
      "  0.         0.         0.         0.         0.         0.\n",
      "  0.         0.         0.         0.         0.         0.\n",
      "  0.         0.         0.         0.         0.         0.\n",
      "  0.         0.         0.         0.        ]\n",
      " [0.17407766 0.17407766 0.17407766 0.         0.         0.\n",
      "  0.         0.         0.         0.         0.         0.\n",
      "  0.         0.         0.         0.         0.         0.\n",
      "  0.         0.         0.         0.         0.         0.\n",
      "  0.         0.         0.         0.         0.         0.\n",
      "  0.         0.         0.         0.         0.         0.\n",
      "  0.         0.         0.         0.         0.17407766 0.\n",
      "  0.         0.         0.         0.         0.         0.\n",
      "  0.         0.         0.         0.         0.         0.\n",
      "  0.17407766 0.17407766 0.17407766 0.         0.         0.\n",
      "  0.         0.17407766 0.17407766 0.17407766 0.         0.\n",
      "  0.         0.         0.         0.         0.17407766 0.17407766\n",
      "  0.17407766 0.         0.         0.         0.         0.\n",
      "  0.         0.         0.         0.         0.         0.\n",
      "  0.17407766 0.17407766 0.         0.         0.         0.17407766\n",
      "  0.17407766 0.17407766 0.         0.         0.         0.\n",
      "  0.         0.         0.         0.         0.         0.\n",
      "  0.         0.         0.         0.17407766 0.17407766 0.17407766\n",
      "  0.         0.         0.         0.         0.         0.\n",
      "  0.17407766 0.17407766 0.17407766 0.         0.         0.\n",
      "  0.         0.         0.         0.         0.         0.\n",
      "  0.         0.         0.         0.         0.         0.\n",
      "  0.         0.         0.         0.         0.         0.\n",
      "  0.         0.         0.         0.         0.         0.\n",
      "  0.         0.         0.         0.17407766 0.17407766 0.17407766\n",
      "  0.         0.         0.         0.         0.         0.\n",
      "  0.         0.17407766 0.17407766 0.17407766 0.         0.\n",
      "  0.         0.17407766 0.17407766 0.17407766]\n",
      " [0.         0.         0.         0.         0.         0.\n",
      "  0.         0.         0.         0.         0.         0.\n",
      "  0.         0.         0.         0.         0.         0.\n",
      "  0.         0.         0.         0.         0.         0.\n",
      "  0.         0.         0.21821789 0.21821789 0.21821789 0.\n",
      "  0.         0.         0.         0.         0.         0.\n",
      "  0.         0.         0.         0.         0.         0.21821789\n",
      "  0.         0.         0.         0.         0.         0.\n",
      "  0.         0.         0.         0.         0.         0.\n",
      "  0.         0.         0.         0.         0.         0.\n",
      "  0.         0.         0.         0.         0.         0.\n",
      "  0.         0.         0.         0.         0.         0.\n",
      "  0.         0.         0.         0.         0.         0.\n",
      "  0.         0.         0.         0.         0.         0.\n",
      "  0.         0.         0.         0.         0.         0.\n",
      "  0.         0.         0.         0.         0.21821789 0.21821789\n",
      "  0.21821789 0.         0.         0.         0.21821789 0.21821789\n",
      "  0.         0.         0.         0.         0.         0.\n",
      "  0.         0.         0.         0.21821789 0.21821789 0.21821789\n",
      "  0.         0.         0.         0.21821789 0.21821789 0.21821789\n",
      "  0.         0.         0.         0.         0.         0.\n",
      "  0.21821789 0.21821789 0.21821789 0.         0.         0.\n",
      "  0.         0.         0.         0.         0.         0.\n",
      "  0.         0.         0.21821789 0.21821789 0.21821789 0.\n",
      "  0.         0.         0.         0.         0.         0.\n",
      "  0.         0.         0.         0.         0.         0.\n",
      "  0.         0.         0.         0.         0.         0.\n",
      "  0.         0.         0.         0.        ]\n",
      " [0.         0.         0.         0.16222142 0.16222142 0.16222142\n",
      "  0.16222142 0.16222142 0.16222142 0.         0.         0.\n",
      "  0.16222142 0.16222142 0.16222142 0.         0.         0.\n",
      "  0.16222142 0.16222142 0.16222142 0.         0.         0.16222142\n",
      "  0.16222142 0.16222142 0.         0.         0.         0.\n",
      "  0.         0.         0.16222142 0.16222142 0.         0.\n",
      "  0.         0.         0.         0.         0.         0.\n",
      "  0.16222142 0.16222142 0.16222142 0.         0.         0.\n",
      "  0.16222142 0.16222142 0.16222142 0.         0.         0.\n",
      "  0.         0.         0.         0.16222142 0.16222142 0.16222142\n",
      "  0.         0.         0.         0.         0.         0.\n",
      "  0.         0.         0.         0.         0.         0.\n",
      "  0.         0.         0.         0.         0.         0.\n",
      "  0.         0.         0.         0.         0.         0.\n",
      "  0.         0.         0.         0.         0.         0.\n",
      "  0.         0.         0.         0.         0.         0.\n",
      "  0.         0.16222142 0.16222142 0.16222142 0.         0.\n",
      "  0.16222142 0.16222142 0.16222142 0.         0.         0.\n",
      "  0.         0.         0.         0.         0.         0.\n",
      "  0.         0.         0.         0.         0.         0.\n",
      "  0.         0.         0.         0.         0.         0.\n",
      "  0.         0.         0.         0.         0.         0.\n",
      "  0.         0.         0.         0.16222142 0.16222142 0.16222142\n",
      "  0.         0.         0.         0.         0.         0.\n",
      "  0.         0.         0.16222142 0.         0.         0.\n",
      "  0.         0.         0.         0.16222142 0.16222142 0.\n",
      "  0.         0.         0.         0.         0.         0.\n",
      "  0.         0.         0.         0.        ]\n",
      " [0.         0.         0.         0.         0.         0.\n",
      "  0.         0.         0.         0.         0.         0.\n",
      "  0.         0.         0.         0.         0.         0.\n",
      "  0.         0.         0.         0.         0.         0.\n",
      "  0.         0.         0.         0.         0.         0.\n",
      "  0.         0.         0.         0.         0.         0.\n",
      "  0.         0.         0.         0.         0.         0.\n",
      "  0.         0.         0.         0.         0.         0.\n",
      "  0.         0.         0.         0.         0.         0.\n",
      "  0.         0.         0.         0.         0.         0.\n",
      "  0.         0.         0.         0.         0.         0.\n",
      "  0.         0.         0.         0.         0.         0.\n",
      "  0.         0.         0.         0.         0.         0.\n",
      "  0.         0.         0.25819889 0.         0.         0.\n",
      "  0.         0.         0.         0.         0.         0.\n",
      "  0.         0.         0.25819889 0.25819889 0.         0.\n",
      "  0.         0.         0.         0.         0.         0.\n",
      "  0.         0.         0.         0.         0.         0.\n",
      "  0.25819889 0.25819889 0.25819889 0.         0.         0.\n",
      "  0.         0.         0.         0.         0.         0.\n",
      "  0.25819889 0.25819889 0.25819889 0.         0.         0.\n",
      "  0.         0.         0.         0.25819889 0.25819889 0.25819889\n",
      "  0.         0.         0.         0.         0.         0.\n",
      "  0.         0.         0.         0.         0.         0.25819889\n",
      "  0.25819889 0.25819889 0.         0.         0.         0.\n",
      "  0.         0.         0.         0.         0.         0.\n",
      "  0.         0.         0.         0.         0.         0.\n",
      "  0.         0.         0.         0.        ]]\n"
     ]
    }
   ],
   "source": [
    "dense = tfidf.todense()\n",
    "dense.shape\n",
    "print(dense)\n",
    "import pandas as pd\n",
    "dataframe=pd.DataFrame(dense,columns=tfidf_vectorizer.get_feature_names())"
   ]
  },
  {
   "cell_type": "code",
   "execution_count": 74,
   "metadata": {},
   "outputs": [
    {
     "data": {
      "text/html": [
       "<div>\n",
       "<table border=\"1\" class=\"dataframe\">\n",
       "  <thead>\n",
       "    <tr style=\"text-align: right;\">\n",
       "      <th></th>\n",
       "      <th>air</th>\n",
       "      <th>air pleasant</th>\n",
       "      <th>air pleasant smell</th>\n",
       "      <th>arms</th>\n",
       "      <th>arms folded</th>\n",
       "      <th>arms folded hat</th>\n",
       "      <th>breast</th>\n",
       "      <th>breast buried</th>\n",
       "      <th>breast buried deepest</th>\n",
       "      <th>bright</th>\n",
       "      <th>...</th>\n",
       "      <th>trap station inn</th>\n",
       "      <th>trees</th>\n",
       "      <th>trees wayside</th>\n",
       "      <th>trees wayside hedges</th>\n",
       "      <th>waterloo</th>\n",
       "      <th>waterloo fortunate</th>\n",
       "      <th>waterloo fortunate catching</th>\n",
       "      <th>wayside</th>\n",
       "      <th>wayside hedges</th>\n",
       "      <th>wayside hedges just</th>\n",
       "    </tr>\n",
       "  </thead>\n",
       "  <tbody>\n",
       "    <tr>\n",
       "      <th>0</th>\n",
       "      <td>0.000000</td>\n",
       "      <td>0.000000</td>\n",
       "      <td>0.000000</td>\n",
       "      <td>0.000000</td>\n",
       "      <td>0.000000</td>\n",
       "      <td>0.000000</td>\n",
       "      <td>0.000000</td>\n",
       "      <td>0.000000</td>\n",
       "      <td>0.000000</td>\n",
       "      <td>0.000000</td>\n",
       "      <td>...</td>\n",
       "      <td>0.156174</td>\n",
       "      <td>0.000000</td>\n",
       "      <td>0.000000</td>\n",
       "      <td>0.000000</td>\n",
       "      <td>0.156174</td>\n",
       "      <td>0.156174</td>\n",
       "      <td>0.156174</td>\n",
       "      <td>0.000000</td>\n",
       "      <td>0.000000</td>\n",
       "      <td>0.000000</td>\n",
       "    </tr>\n",
       "    <tr>\n",
       "      <th>1</th>\n",
       "      <td>0.000000</td>\n",
       "      <td>0.000000</td>\n",
       "      <td>0.000000</td>\n",
       "      <td>0.000000</td>\n",
       "      <td>0.000000</td>\n",
       "      <td>0.000000</td>\n",
       "      <td>0.000000</td>\n",
       "      <td>0.000000</td>\n",
       "      <td>0.000000</td>\n",
       "      <td>0.235702</td>\n",
       "      <td>...</td>\n",
       "      <td>0.000000</td>\n",
       "      <td>0.000000</td>\n",
       "      <td>0.000000</td>\n",
       "      <td>0.000000</td>\n",
       "      <td>0.000000</td>\n",
       "      <td>0.000000</td>\n",
       "      <td>0.000000</td>\n",
       "      <td>0.000000</td>\n",
       "      <td>0.000000</td>\n",
       "      <td>0.000000</td>\n",
       "    </tr>\n",
       "    <tr>\n",
       "      <th>2</th>\n",
       "      <td>0.174078</td>\n",
       "      <td>0.174078</td>\n",
       "      <td>0.174078</td>\n",
       "      <td>0.000000</td>\n",
       "      <td>0.000000</td>\n",
       "      <td>0.000000</td>\n",
       "      <td>0.000000</td>\n",
       "      <td>0.000000</td>\n",
       "      <td>0.000000</td>\n",
       "      <td>0.000000</td>\n",
       "      <td>...</td>\n",
       "      <td>0.000000</td>\n",
       "      <td>0.174078</td>\n",
       "      <td>0.174078</td>\n",
       "      <td>0.174078</td>\n",
       "      <td>0.000000</td>\n",
       "      <td>0.000000</td>\n",
       "      <td>0.000000</td>\n",
       "      <td>0.174078</td>\n",
       "      <td>0.174078</td>\n",
       "      <td>0.174078</td>\n",
       "    </tr>\n",
       "    <tr>\n",
       "      <th>3</th>\n",
       "      <td>0.000000</td>\n",
       "      <td>0.000000</td>\n",
       "      <td>0.000000</td>\n",
       "      <td>0.000000</td>\n",
       "      <td>0.000000</td>\n",
       "      <td>0.000000</td>\n",
       "      <td>0.000000</td>\n",
       "      <td>0.000000</td>\n",
       "      <td>0.000000</td>\n",
       "      <td>0.000000</td>\n",
       "      <td>...</td>\n",
       "      <td>0.000000</td>\n",
       "      <td>0.000000</td>\n",
       "      <td>0.000000</td>\n",
       "      <td>0.000000</td>\n",
       "      <td>0.000000</td>\n",
       "      <td>0.000000</td>\n",
       "      <td>0.000000</td>\n",
       "      <td>0.000000</td>\n",
       "      <td>0.000000</td>\n",
       "      <td>0.000000</td>\n",
       "    </tr>\n",
       "    <tr>\n",
       "      <th>4</th>\n",
       "      <td>0.000000</td>\n",
       "      <td>0.000000</td>\n",
       "      <td>0.000000</td>\n",
       "      <td>0.162221</td>\n",
       "      <td>0.162221</td>\n",
       "      <td>0.162221</td>\n",
       "      <td>0.162221</td>\n",
       "      <td>0.162221</td>\n",
       "      <td>0.162221</td>\n",
       "      <td>0.000000</td>\n",
       "      <td>...</td>\n",
       "      <td>0.000000</td>\n",
       "      <td>0.000000</td>\n",
       "      <td>0.000000</td>\n",
       "      <td>0.000000</td>\n",
       "      <td>0.000000</td>\n",
       "      <td>0.000000</td>\n",
       "      <td>0.000000</td>\n",
       "      <td>0.000000</td>\n",
       "      <td>0.000000</td>\n",
       "      <td>0.000000</td>\n",
       "    </tr>\n",
       "    <tr>\n",
       "      <th>5</th>\n",
       "      <td>0.000000</td>\n",
       "      <td>0.000000</td>\n",
       "      <td>0.000000</td>\n",
       "      <td>0.000000</td>\n",
       "      <td>0.000000</td>\n",
       "      <td>0.000000</td>\n",
       "      <td>0.000000</td>\n",
       "      <td>0.000000</td>\n",
       "      <td>0.000000</td>\n",
       "      <td>0.000000</td>\n",
       "      <td>...</td>\n",
       "      <td>0.000000</td>\n",
       "      <td>0.000000</td>\n",
       "      <td>0.000000</td>\n",
       "      <td>0.000000</td>\n",
       "      <td>0.000000</td>\n",
       "      <td>0.000000</td>\n",
       "      <td>0.000000</td>\n",
       "      <td>0.000000</td>\n",
       "      <td>0.000000</td>\n",
       "      <td>0.000000</td>\n",
       "    </tr>\n",
       "  </tbody>\n",
       "</table>\n",
       "<p>6 rows × 166 columns</p>\n",
       "</div>"
      ],
      "text/plain": [
       "        air  air pleasant  air pleasant smell      arms  arms folded  \\\n",
       "0  0.000000      0.000000            0.000000  0.000000     0.000000   \n",
       "1  0.000000      0.000000            0.000000  0.000000     0.000000   \n",
       "2  0.174078      0.174078            0.174078  0.000000     0.000000   \n",
       "3  0.000000      0.000000            0.000000  0.000000     0.000000   \n",
       "4  0.000000      0.000000            0.000000  0.162221     0.162221   \n",
       "5  0.000000      0.000000            0.000000  0.000000     0.000000   \n",
       "\n",
       "   arms folded hat    breast  breast buried  breast buried deepest    bright  \\\n",
       "0         0.000000  0.000000       0.000000               0.000000  0.000000   \n",
       "1         0.000000  0.000000       0.000000               0.000000  0.235702   \n",
       "2         0.000000  0.000000       0.000000               0.000000  0.000000   \n",
       "3         0.000000  0.000000       0.000000               0.000000  0.000000   \n",
       "4         0.162221  0.162221       0.162221               0.162221  0.000000   \n",
       "5         0.000000  0.000000       0.000000               0.000000  0.000000   \n",
       "\n",
       "          ...           trap station inn     trees  trees wayside  \\\n",
       "0         ...                   0.156174  0.000000       0.000000   \n",
       "1         ...                   0.000000  0.000000       0.000000   \n",
       "2         ...                   0.000000  0.174078       0.174078   \n",
       "3         ...                   0.000000  0.000000       0.000000   \n",
       "4         ...                   0.000000  0.000000       0.000000   \n",
       "5         ...                   0.000000  0.000000       0.000000   \n",
       "\n",
       "   trees wayside hedges  waterloo  waterloo fortunate  \\\n",
       "0              0.000000  0.156174            0.156174   \n",
       "1              0.000000  0.000000            0.000000   \n",
       "2              0.174078  0.000000            0.000000   \n",
       "3              0.000000  0.000000            0.000000   \n",
       "4              0.000000  0.000000            0.000000   \n",
       "5              0.000000  0.000000            0.000000   \n",
       "\n",
       "   waterloo fortunate catching   wayside  wayside hedges  wayside hedges just  \n",
       "0                     0.156174  0.000000        0.000000             0.000000  \n",
       "1                     0.000000  0.000000        0.000000             0.000000  \n",
       "2                     0.000000  0.174078        0.174078             0.174078  \n",
       "3                     0.000000  0.000000        0.000000             0.000000  \n",
       "4                     0.000000  0.000000        0.000000             0.000000  \n",
       "5                     0.000000  0.000000        0.000000             0.000000  \n",
       "\n",
       "[6 rows x 166 columns]"
      ]
     },
     "execution_count": 74,
     "metadata": {},
     "output_type": "execute_result"
    }
   ],
   "source": [
    "dataframe.head(10)"
   ]
  }
 ],
 "metadata": {
  "anaconda-cloud": {},
  "kernelspec": {
   "display_name": "Python 3",
   "language": "python",
   "name": "python3"
  },
  "language_info": {
   "codemirror_mode": {
    "name": "ipython",
    "version": 3
   },
   "file_extension": ".py",
   "mimetype": "text/x-python",
   "name": "python",
   "nbconvert_exporter": "python",
   "pygments_lexer": "ipython3",
   "version": "3.6.5"
  }
 },
 "nbformat": 4,
 "nbformat_minor": 1
}
