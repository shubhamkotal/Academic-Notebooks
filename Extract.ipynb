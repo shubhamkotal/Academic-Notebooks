{
 "cells": [
  {
   "cell_type": "code",
   "execution_count": 2,
   "metadata": {},
   "outputs": [],
   "source": [
    "import os\n",
    "import re"
   ]
  },
  {
   "cell_type": "code",
   "execution_count": 3,
   "metadata": {},
   "outputs": [
    {
     "data": {
      "text/plain": [
       "'C:\\\\Users\\\\happy\\\\Downloads'"
      ]
     },
     "execution_count": 3,
     "metadata": {},
     "output_type": "execute_result"
    }
   ],
   "source": [
    "os.getcwd()"
   ]
  },
  {
   "cell_type": "code",
   "execution_count": 4,
   "metadata": {},
   "outputs": [
    {
     "name": "stdout",
     "output_type": "stream",
     "text": [
      "Enter starting pattern:Medications:\n",
      "Enter ending pattern:Treatment\n"
     ]
    }
   ],
   "source": [
    "start_pattern = input(\"Enter starting pattern:\")\n",
    "end_pattern = input(\"Enter ending pattern:\")"
   ]
  },
  {
   "cell_type": "code",
   "execution_count": 22,
   "metadata": {},
   "outputs": [
    {
     "name": "stdout",
     "output_type": "stream",
     "text": [
      "HUMULIN INJ 70/30 20 u ac breakfast\n",
      "\n",
      "PRINIVIL TABS 20 MG 1 qd\n",
      "\n"
     ]
    }
   ],
   "source": [
    "try:\n",
    "    with open(\"John Donut.txt\", \"r\") as fr:\n",
    "        match= False\n",
    "        outfile = None\n",
    "        for line in fr:\n",
    "            if re.match(start_pattern, line):\n",
    "                match= True\n",
    "                continue\n",
    "            elif re.match(end_pattern, line):\n",
    "                match=False\n",
    "                continue\n",
    "            elif match:\n",
    "                if(not line.isspace()):\n",
    "                    print(line)\n",
    "except OSError as e:\n",
    "    print(e)"
   ]
  }
 ],
 "metadata": {
  "kernelspec": {
   "display_name": "Python 3",
   "language": "python",
   "name": "python3"
  },
  "language_info": {
   "codemirror_mode": {
    "name": "ipython",
    "version": 3
   },
   "file_extension": ".py",
   "mimetype": "text/x-python",
   "name": "python",
   "nbconvert_exporter": "python",
   "pygments_lexer": "ipython3",
   "version": "3.6.5"
  }
 },
 "nbformat": 4,
 "nbformat_minor": 2
}
