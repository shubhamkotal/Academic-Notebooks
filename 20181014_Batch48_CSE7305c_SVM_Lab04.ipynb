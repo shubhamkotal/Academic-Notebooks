{
 "cells": [
  {
   "cell_type": "code",
   "execution_count": 2,
   "metadata": {},
   "outputs": [
    {
     "name": "stderr",
     "output_type": "stream",
     "text": [
      "C:\\Users\\Shridhar\\Anaconda3\\lib\\site-packages\\sklearn\\cross_validation.py:41: DeprecationWarning: This module was deprecated in version 0.18 in favor of the model_selection module into which all the refactored classes and functions are moved. Also note that the interface of the new CV iterators are different from that of this module. This module will be removed in 0.20.\n",
      "  \"This module will be removed in 0.20.\", DeprecationWarning)\n"
     ]
    }
   ],
   "source": [
    "import os\n",
    "import pandas as pd\n",
    "import numpy as np\n",
    "import matplotlib.pyplot as plt\n",
    "from sklearn.cross_validation import train_test_split\n",
    "from sklearn.preprocessing import Imputer, StandardScaler\n",
    "from sklearn.metrics import accuracy_score, recall_score, precision_score\n",
    "import sklearn.svm as svm\n",
    "from sklearn.model_selection import GridSearchCV"
   ]
  },
  {
   "cell_type": "code",
   "execution_count": 3,
   "metadata": {},
   "outputs": [],
   "source": [
    "#os.chdir(\"\")"
   ]
  },
  {
   "cell_type": "code",
   "execution_count": 4,
   "metadata": {},
   "outputs": [
    {
     "name": "stdout",
     "output_type": "stream",
     "text": [
      "(5000, 14)\n",
      "<class 'pandas.core.frame.DataFrame'>\n"
     ]
    }
   ],
   "source": [
    "bankdata = pd.read_csv('UniversalBank.csv',na_values=['?',','])\n",
    "print(bankdata.shape)\n",
    "print(type(bankdata))"
   ]
  },
  {
   "cell_type": "code",
   "execution_count": 5,
   "metadata": {
    "scrolled": true
   },
   "outputs": [
    {
     "name": "stdout",
     "output_type": "stream",
     "text": [
      "Index(['ID', 'Age', 'Experience', 'Income', 'ZIP Code', 'Family', 'CCAvg',\n",
      "       'Education', 'Mortgage', 'Personal Loan', 'Securities Account',\n",
      "       'CD Account', 'Online', 'CreditCard'],\n",
      "      dtype='object')\n",
      "ID                      int64\n",
      "Age                     int64\n",
      "Experience              int64\n",
      "Income                  int64\n",
      "ZIP Code                int64\n",
      "Family                  int64\n",
      "CCAvg                 float64\n",
      "Education               int64\n",
      "Mortgage                int64\n",
      "Personal Loan           int64\n",
      "Securities Account      int64\n",
      "CD Account              int64\n",
      "Online                  int64\n",
      "CreditCard              int64\n",
      "dtype: object\n"
     ]
    }
   ],
   "source": [
    "print(bankdata.columns)\n",
    "print(bankdata.dtypes)"
   ]
  },
  {
   "cell_type": "code",
   "execution_count": 6,
   "metadata": {},
   "outputs": [
    {
     "data": {
      "text/html": [
       "<div>\n",
       "<style scoped>\n",
       "    .dataframe tbody tr th:only-of-type {\n",
       "        vertical-align: middle;\n",
       "    }\n",
       "\n",
       "    .dataframe tbody tr th {\n",
       "        vertical-align: top;\n",
       "    }\n",
       "\n",
       "    .dataframe thead th {\n",
       "        text-align: right;\n",
       "    }\n",
       "</style>\n",
       "<table border=\"1\" class=\"dataframe\">\n",
       "  <thead>\n",
       "    <tr style=\"text-align: right;\">\n",
       "      <th></th>\n",
       "      <th>ID</th>\n",
       "      <th>Age</th>\n",
       "      <th>Experience</th>\n",
       "      <th>Income</th>\n",
       "      <th>ZIP Code</th>\n",
       "      <th>Family</th>\n",
       "      <th>CCAvg</th>\n",
       "      <th>Education</th>\n",
       "      <th>Mortgage</th>\n",
       "      <th>Personal Loan</th>\n",
       "      <th>Securities Account</th>\n",
       "      <th>CD Account</th>\n",
       "      <th>Online</th>\n",
       "      <th>CreditCard</th>\n",
       "    </tr>\n",
       "  </thead>\n",
       "  <tbody>\n",
       "    <tr>\n",
       "      <th>count</th>\n",
       "      <td>5000.000000</td>\n",
       "      <td>5000.000000</td>\n",
       "      <td>5000.000000</td>\n",
       "      <td>5000.000000</td>\n",
       "      <td>5000.000000</td>\n",
       "      <td>5000.000000</td>\n",
       "      <td>5000.000000</td>\n",
       "      <td>5000.000000</td>\n",
       "      <td>5000.000000</td>\n",
       "      <td>5000.000000</td>\n",
       "      <td>5000.000000</td>\n",
       "      <td>5000.00000</td>\n",
       "      <td>5000.000000</td>\n",
       "      <td>5000.000000</td>\n",
       "    </tr>\n",
       "    <tr>\n",
       "      <th>mean</th>\n",
       "      <td>2500.500000</td>\n",
       "      <td>45.338400</td>\n",
       "      <td>20.104600</td>\n",
       "      <td>73.774200</td>\n",
       "      <td>93152.503000</td>\n",
       "      <td>2.396400</td>\n",
       "      <td>1.937938</td>\n",
       "      <td>1.881000</td>\n",
       "      <td>56.498800</td>\n",
       "      <td>0.096000</td>\n",
       "      <td>0.104400</td>\n",
       "      <td>0.06040</td>\n",
       "      <td>0.596800</td>\n",
       "      <td>0.294000</td>\n",
       "    </tr>\n",
       "    <tr>\n",
       "      <th>std</th>\n",
       "      <td>1443.520003</td>\n",
       "      <td>11.463166</td>\n",
       "      <td>11.467954</td>\n",
       "      <td>46.033729</td>\n",
       "      <td>2121.852197</td>\n",
       "      <td>1.147663</td>\n",
       "      <td>1.747659</td>\n",
       "      <td>0.839869</td>\n",
       "      <td>101.713802</td>\n",
       "      <td>0.294621</td>\n",
       "      <td>0.305809</td>\n",
       "      <td>0.23825</td>\n",
       "      <td>0.490589</td>\n",
       "      <td>0.455637</td>\n",
       "    </tr>\n",
       "    <tr>\n",
       "      <th>min</th>\n",
       "      <td>1.000000</td>\n",
       "      <td>23.000000</td>\n",
       "      <td>-3.000000</td>\n",
       "      <td>8.000000</td>\n",
       "      <td>9307.000000</td>\n",
       "      <td>1.000000</td>\n",
       "      <td>0.000000</td>\n",
       "      <td>1.000000</td>\n",
       "      <td>0.000000</td>\n",
       "      <td>0.000000</td>\n",
       "      <td>0.000000</td>\n",
       "      <td>0.00000</td>\n",
       "      <td>0.000000</td>\n",
       "      <td>0.000000</td>\n",
       "    </tr>\n",
       "    <tr>\n",
       "      <th>25%</th>\n",
       "      <td>1250.750000</td>\n",
       "      <td>35.000000</td>\n",
       "      <td>10.000000</td>\n",
       "      <td>39.000000</td>\n",
       "      <td>91911.000000</td>\n",
       "      <td>1.000000</td>\n",
       "      <td>0.700000</td>\n",
       "      <td>1.000000</td>\n",
       "      <td>0.000000</td>\n",
       "      <td>0.000000</td>\n",
       "      <td>0.000000</td>\n",
       "      <td>0.00000</td>\n",
       "      <td>0.000000</td>\n",
       "      <td>0.000000</td>\n",
       "    </tr>\n",
       "    <tr>\n",
       "      <th>50%</th>\n",
       "      <td>2500.500000</td>\n",
       "      <td>45.000000</td>\n",
       "      <td>20.000000</td>\n",
       "      <td>64.000000</td>\n",
       "      <td>93437.000000</td>\n",
       "      <td>2.000000</td>\n",
       "      <td>1.500000</td>\n",
       "      <td>2.000000</td>\n",
       "      <td>0.000000</td>\n",
       "      <td>0.000000</td>\n",
       "      <td>0.000000</td>\n",
       "      <td>0.00000</td>\n",
       "      <td>1.000000</td>\n",
       "      <td>0.000000</td>\n",
       "    </tr>\n",
       "    <tr>\n",
       "      <th>75%</th>\n",
       "      <td>3750.250000</td>\n",
       "      <td>55.000000</td>\n",
       "      <td>30.000000</td>\n",
       "      <td>98.000000</td>\n",
       "      <td>94608.000000</td>\n",
       "      <td>3.000000</td>\n",
       "      <td>2.500000</td>\n",
       "      <td>3.000000</td>\n",
       "      <td>101.000000</td>\n",
       "      <td>0.000000</td>\n",
       "      <td>0.000000</td>\n",
       "      <td>0.00000</td>\n",
       "      <td>1.000000</td>\n",
       "      <td>1.000000</td>\n",
       "    </tr>\n",
       "    <tr>\n",
       "      <th>max</th>\n",
       "      <td>5000.000000</td>\n",
       "      <td>67.000000</td>\n",
       "      <td>43.000000</td>\n",
       "      <td>224.000000</td>\n",
       "      <td>96651.000000</td>\n",
       "      <td>4.000000</td>\n",
       "      <td>10.000000</td>\n",
       "      <td>3.000000</td>\n",
       "      <td>635.000000</td>\n",
       "      <td>1.000000</td>\n",
       "      <td>1.000000</td>\n",
       "      <td>1.00000</td>\n",
       "      <td>1.000000</td>\n",
       "      <td>1.000000</td>\n",
       "    </tr>\n",
       "  </tbody>\n",
       "</table>\n",
       "</div>"
      ],
      "text/plain": [
       "                ID          Age   Experience       Income      ZIP Code  \\\n",
       "count  5000.000000  5000.000000  5000.000000  5000.000000   5000.000000   \n",
       "mean   2500.500000    45.338400    20.104600    73.774200  93152.503000   \n",
       "std    1443.520003    11.463166    11.467954    46.033729   2121.852197   \n",
       "min       1.000000    23.000000    -3.000000     8.000000   9307.000000   \n",
       "25%    1250.750000    35.000000    10.000000    39.000000  91911.000000   \n",
       "50%    2500.500000    45.000000    20.000000    64.000000  93437.000000   \n",
       "75%    3750.250000    55.000000    30.000000    98.000000  94608.000000   \n",
       "max    5000.000000    67.000000    43.000000   224.000000  96651.000000   \n",
       "\n",
       "            Family        CCAvg    Education     Mortgage  Personal Loan  \\\n",
       "count  5000.000000  5000.000000  5000.000000  5000.000000    5000.000000   \n",
       "mean      2.396400     1.937938     1.881000    56.498800       0.096000   \n",
       "std       1.147663     1.747659     0.839869   101.713802       0.294621   \n",
       "min       1.000000     0.000000     1.000000     0.000000       0.000000   \n",
       "25%       1.000000     0.700000     1.000000     0.000000       0.000000   \n",
       "50%       2.000000     1.500000     2.000000     0.000000       0.000000   \n",
       "75%       3.000000     2.500000     3.000000   101.000000       0.000000   \n",
       "max       4.000000    10.000000     3.000000   635.000000       1.000000   \n",
       "\n",
       "       Securities Account  CD Account       Online   CreditCard  \n",
       "count         5000.000000  5000.00000  5000.000000  5000.000000  \n",
       "mean             0.104400     0.06040     0.596800     0.294000  \n",
       "std              0.305809     0.23825     0.490589     0.455637  \n",
       "min              0.000000     0.00000     0.000000     0.000000  \n",
       "25%              0.000000     0.00000     0.000000     0.000000  \n",
       "50%              0.000000     0.00000     1.000000     0.000000  \n",
       "75%              0.000000     0.00000     1.000000     1.000000  \n",
       "max              1.000000     1.00000     1.000000     1.000000  "
      ]
     },
     "execution_count": 6,
     "metadata": {},
     "output_type": "execute_result"
    }
   ],
   "source": [
    "bankdata.describe()"
   ]
  },
  {
   "cell_type": "markdown",
   "metadata": {},
   "source": [
    "#### Perform same EDA and data pre-processing as we did for dataset in random forest implementation (in R)"
   ]
  },
  {
   "cell_type": "code",
   "execution_count": 7,
   "metadata": {},
   "outputs": [
    {
     "data": {
      "text/plain": [
       "True"
      ]
     },
     "execution_count": 7,
     "metadata": {},
     "output_type": "execute_result"
    }
   ],
   "source": [
    "bankdata.shape[0] == len(bankdata['ID'].unique())"
   ]
  },
  {
   "cell_type": "code",
   "execution_count": 8,
   "metadata": {},
   "outputs": [
    {
     "data": {
      "text/plain": [
       "467"
      ]
     },
     "execution_count": 8,
     "metadata": {},
     "output_type": "execute_result"
    }
   ],
   "source": [
    "len(bankdata['ZIP Code'].unique())"
   ]
  },
  {
   "cell_type": "code",
   "execution_count": 9,
   "metadata": {},
   "outputs": [
    {
     "data": {
      "text/plain": [
       "0    0.904\n",
       "1    0.096\n",
       "Name: Personal Loan, dtype: float64"
      ]
     },
     "execution_count": 9,
     "metadata": {},
     "output_type": "execute_result"
    }
   ],
   "source": [
    "#Check for class imbalance\n",
    "bankdata['Personal Loan'].value_counts()/bankdata.shape[0]"
   ]
  },
  {
   "cell_type": "code",
   "execution_count": 10,
   "metadata": {},
   "outputs": [
    {
     "data": {
      "text/plain": [
       "ID                    0\n",
       "Age                   0\n",
       "Experience            0\n",
       "Income                0\n",
       "ZIP Code              0\n",
       "Family                0\n",
       "CCAvg                 0\n",
       "Education             0\n",
       "Mortgage              0\n",
       "Personal Loan         0\n",
       "Securities Account    0\n",
       "CD Account            0\n",
       "Online                0\n",
       "CreditCard            0\n",
       "dtype: int64"
      ]
     },
     "execution_count": 10,
     "metadata": {},
     "output_type": "execute_result"
    }
   ],
   "source": [
    "#Check for NAs\n",
    "bankdata.isnull().sum()"
   ]
  },
  {
   "cell_type": "code",
   "execution_count": 11,
   "metadata": {},
   "outputs": [],
   "source": [
    "#Drop ID and ZIP Code\n",
    "bank = bankdata.drop(['ID','ZIP Code'],axis=1)"
   ]
  },
  {
   "cell_type": "code",
   "execution_count": 12,
   "metadata": {},
   "outputs": [],
   "source": [
    "#List of categorical attributes\n",
    "cat_vars = ['Family','Education','Personal Loan','Securities Account','CD Account', 'Online', 'CreditCard']"
   ]
  },
  {
   "cell_type": "code",
   "execution_count": 13,
   "metadata": {},
   "outputs": [],
   "source": [
    "#Type conversion\n",
    "bank[cat_vars] = bank[cat_vars].astype('category')"
   ]
  },
  {
   "cell_type": "code",
   "execution_count": 14,
   "metadata": {},
   "outputs": [],
   "source": [
    "#Create dummy variables for categorical attributes\n",
    "bank = pd.get_dummies(bank[bank[cat_vars].columns.difference(['Personal Loan'])])"
   ]
  },
  {
   "cell_type": "code",
   "execution_count": 15,
   "metadata": {},
   "outputs": [
    {
     "data": {
      "text/html": [
       "<div>\n",
       "<style scoped>\n",
       "    .dataframe tbody tr th:only-of-type {\n",
       "        vertical-align: middle;\n",
       "    }\n",
       "\n",
       "    .dataframe tbody tr th {\n",
       "        vertical-align: top;\n",
       "    }\n",
       "\n",
       "    .dataframe thead th {\n",
       "        text-align: right;\n",
       "    }\n",
       "</style>\n",
       "<table border=\"1\" class=\"dataframe\">\n",
       "  <thead>\n",
       "    <tr style=\"text-align: right;\">\n",
       "      <th></th>\n",
       "      <th>Age</th>\n",
       "      <th>Experience</th>\n",
       "      <th>Income</th>\n",
       "      <th>CCAvg</th>\n",
       "      <th>Mortgage</th>\n",
       "      <th>CD Account_0</th>\n",
       "      <th>CD Account_1</th>\n",
       "      <th>CreditCard_0</th>\n",
       "      <th>CreditCard_1</th>\n",
       "      <th>Education_1</th>\n",
       "      <th>...</th>\n",
       "      <th>Education_3</th>\n",
       "      <th>Family_1</th>\n",
       "      <th>Family_2</th>\n",
       "      <th>Family_3</th>\n",
       "      <th>Family_4</th>\n",
       "      <th>Online_0</th>\n",
       "      <th>Online_1</th>\n",
       "      <th>Securities Account_0</th>\n",
       "      <th>Securities Account_1</th>\n",
       "      <th>Personal Loan</th>\n",
       "    </tr>\n",
       "  </thead>\n",
       "  <tbody>\n",
       "    <tr>\n",
       "      <th>0</th>\n",
       "      <td>25</td>\n",
       "      <td>1</td>\n",
       "      <td>49</td>\n",
       "      <td>1.6</td>\n",
       "      <td>0</td>\n",
       "      <td>1</td>\n",
       "      <td>0</td>\n",
       "      <td>1</td>\n",
       "      <td>0</td>\n",
       "      <td>1</td>\n",
       "      <td>...</td>\n",
       "      <td>0</td>\n",
       "      <td>0</td>\n",
       "      <td>0</td>\n",
       "      <td>0</td>\n",
       "      <td>1</td>\n",
       "      <td>1</td>\n",
       "      <td>0</td>\n",
       "      <td>0</td>\n",
       "      <td>1</td>\n",
       "      <td>0</td>\n",
       "    </tr>\n",
       "    <tr>\n",
       "      <th>1</th>\n",
       "      <td>45</td>\n",
       "      <td>19</td>\n",
       "      <td>34</td>\n",
       "      <td>1.5</td>\n",
       "      <td>0</td>\n",
       "      <td>1</td>\n",
       "      <td>0</td>\n",
       "      <td>1</td>\n",
       "      <td>0</td>\n",
       "      <td>1</td>\n",
       "      <td>...</td>\n",
       "      <td>0</td>\n",
       "      <td>0</td>\n",
       "      <td>0</td>\n",
       "      <td>1</td>\n",
       "      <td>0</td>\n",
       "      <td>1</td>\n",
       "      <td>0</td>\n",
       "      <td>0</td>\n",
       "      <td>1</td>\n",
       "      <td>0</td>\n",
       "    </tr>\n",
       "    <tr>\n",
       "      <th>2</th>\n",
       "      <td>39</td>\n",
       "      <td>15</td>\n",
       "      <td>11</td>\n",
       "      <td>1.0</td>\n",
       "      <td>0</td>\n",
       "      <td>1</td>\n",
       "      <td>0</td>\n",
       "      <td>1</td>\n",
       "      <td>0</td>\n",
       "      <td>1</td>\n",
       "      <td>...</td>\n",
       "      <td>0</td>\n",
       "      <td>1</td>\n",
       "      <td>0</td>\n",
       "      <td>0</td>\n",
       "      <td>0</td>\n",
       "      <td>1</td>\n",
       "      <td>0</td>\n",
       "      <td>1</td>\n",
       "      <td>0</td>\n",
       "      <td>0</td>\n",
       "    </tr>\n",
       "    <tr>\n",
       "      <th>3</th>\n",
       "      <td>35</td>\n",
       "      <td>9</td>\n",
       "      <td>100</td>\n",
       "      <td>2.7</td>\n",
       "      <td>0</td>\n",
       "      <td>1</td>\n",
       "      <td>0</td>\n",
       "      <td>1</td>\n",
       "      <td>0</td>\n",
       "      <td>0</td>\n",
       "      <td>...</td>\n",
       "      <td>0</td>\n",
       "      <td>1</td>\n",
       "      <td>0</td>\n",
       "      <td>0</td>\n",
       "      <td>0</td>\n",
       "      <td>1</td>\n",
       "      <td>0</td>\n",
       "      <td>1</td>\n",
       "      <td>0</td>\n",
       "      <td>0</td>\n",
       "    </tr>\n",
       "    <tr>\n",
       "      <th>4</th>\n",
       "      <td>35</td>\n",
       "      <td>8</td>\n",
       "      <td>45</td>\n",
       "      <td>1.0</td>\n",
       "      <td>0</td>\n",
       "      <td>1</td>\n",
       "      <td>0</td>\n",
       "      <td>0</td>\n",
       "      <td>1</td>\n",
       "      <td>0</td>\n",
       "      <td>...</td>\n",
       "      <td>0</td>\n",
       "      <td>0</td>\n",
       "      <td>0</td>\n",
       "      <td>0</td>\n",
       "      <td>1</td>\n",
       "      <td>1</td>\n",
       "      <td>0</td>\n",
       "      <td>1</td>\n",
       "      <td>0</td>\n",
       "      <td>0</td>\n",
       "    </tr>\n",
       "  </tbody>\n",
       "</table>\n",
       "<p>5 rows × 21 columns</p>\n",
       "</div>"
      ],
      "text/plain": [
       "   Age  Experience  Income  CCAvg  Mortgage  CD Account_0  CD Account_1  \\\n",
       "0   25           1      49    1.6         0             1             0   \n",
       "1   45          19      34    1.5         0             1             0   \n",
       "2   39          15      11    1.0         0             1             0   \n",
       "3   35           9     100    2.7         0             1             0   \n",
       "4   35           8      45    1.0         0             1             0   \n",
       "\n",
       "   CreditCard_0  CreditCard_1  Education_1      ...        Education_3  \\\n",
       "0             1             0            1      ...                  0   \n",
       "1             1             0            1      ...                  0   \n",
       "2             1             0            1      ...                  0   \n",
       "3             1             0            0      ...                  0   \n",
       "4             0             1            0      ...                  0   \n",
       "\n",
       "   Family_1  Family_2  Family_3  Family_4  Online_0  Online_1  \\\n",
       "0         0         0         0         1         1         0   \n",
       "1         0         0         1         0         1         0   \n",
       "2         1         0         0         0         1         0   \n",
       "3         1         0         0         0         1         0   \n",
       "4         0         0         0         1         1         0   \n",
       "\n",
       "   Securities Account_0  Securities Account_1  Personal Loan  \n",
       "0                     0                     1              0  \n",
       "1                     0                     1              0  \n",
       "2                     1                     0              0  \n",
       "3                     1                     0              0  \n",
       "4                     1                     0              0  \n",
       "\n",
       "[5 rows x 21 columns]"
      ]
     },
     "execution_count": 15,
     "metadata": {},
     "output_type": "execute_result"
    }
   ],
   "source": [
    "bank = pd.concat([bankdata[['Age','Experience','Income','CCAvg','Mortgage']],bank],axis=1)\n",
    "bank['Personal Loan'] = bankdata['Personal Loan']\n",
    "bank.head()"
   ]
  },
  {
   "cell_type": "code",
   "execution_count": 16,
   "metadata": {},
   "outputs": [
    {
     "data": {
      "text/html": [
       "<style  type=\"text/css\" >\n",
       "    #T_f549ec76_d3a3_11e8_a7f6_f894c2199857row0_col0 {\n",
       "            background-color:  #023858;\n",
       "        }    #T_f549ec76_d3a3_11e8_a7f6_f894c2199857row0_col1 {\n",
       "            background-color:  #02395a;\n",
       "        }    #T_f549ec76_d3a3_11e8_a7f6_f894c2199857row0_col2 {\n",
       "            background-color:  #fff7fb;\n",
       "        }    #T_f549ec76_d3a3_11e8_a7f6_f894c2199857row0_col3 {\n",
       "            background-color:  #fff7fb;\n",
       "        }    #T_f549ec76_d3a3_11e8_a7f6_f894c2199857row0_col4 {\n",
       "            background-color:  #fff7fb;\n",
       "        }    #T_f549ec76_d3a3_11e8_a7f6_f894c2199857row1_col0 {\n",
       "            background-color:  #02395a;\n",
       "        }    #T_f549ec76_d3a3_11e8_a7f6_f894c2199857row1_col1 {\n",
       "            background-color:  #023858;\n",
       "        }    #T_f549ec76_d3a3_11e8_a7f6_f894c2199857row1_col2 {\n",
       "            background-color:  #fef6fa;\n",
       "        }    #T_f549ec76_d3a3_11e8_a7f6_f894c2199857row1_col3 {\n",
       "            background-color:  #fff7fb;\n",
       "        }    #T_f549ec76_d3a3_11e8_a7f6_f894c2199857row1_col4 {\n",
       "            background-color:  #fff7fb;\n",
       "        }    #T_f549ec76_d3a3_11e8_a7f6_f894c2199857row2_col0 {\n",
       "            background-color:  #fff7fb;\n",
       "        }    #T_f549ec76_d3a3_11e8_a7f6_f894c2199857row2_col1 {\n",
       "            background-color:  #fff7fb;\n",
       "        }    #T_f549ec76_d3a3_11e8_a7f6_f894c2199857row2_col2 {\n",
       "            background-color:  #023858;\n",
       "        }    #T_f549ec76_d3a3_11e8_a7f6_f894c2199857row2_col3 {\n",
       "            background-color:  #2786bb;\n",
       "        }    #T_f549ec76_d3a3_11e8_a7f6_f894c2199857row2_col4 {\n",
       "            background-color:  #d6d6e9;\n",
       "        }    #T_f549ec76_d3a3_11e8_a7f6_f894c2199857row3_col0 {\n",
       "            background-color:  #fef6fa;\n",
       "        }    #T_f549ec76_d3a3_11e8_a7f6_f894c2199857row3_col1 {\n",
       "            background-color:  #fff7fb;\n",
       "        }    #T_f549ec76_d3a3_11e8_a7f6_f894c2199857row3_col2 {\n",
       "            background-color:  #2685bb;\n",
       "        }    #T_f549ec76_d3a3_11e8_a7f6_f894c2199857row3_col3 {\n",
       "            background-color:  #023858;\n",
       "        }    #T_f549ec76_d3a3_11e8_a7f6_f894c2199857row3_col4 {\n",
       "            background-color:  #ece7f2;\n",
       "        }    #T_f549ec76_d3a3_11e8_a7f6_f894c2199857row4_col0 {\n",
       "            background-color:  #f9f2f8;\n",
       "        }    #T_f549ec76_d3a3_11e8_a7f6_f894c2199857row4_col1 {\n",
       "            background-color:  #faf3f9;\n",
       "        }    #T_f549ec76_d3a3_11e8_a7f6_f894c2199857row4_col2 {\n",
       "            background-color:  #ced0e6;\n",
       "        }    #T_f549ec76_d3a3_11e8_a7f6_f894c2199857row4_col3 {\n",
       "            background-color:  #e6e2ef;\n",
       "        }    #T_f549ec76_d3a3_11e8_a7f6_f894c2199857row4_col4 {\n",
       "            background-color:  #023858;\n",
       "        }</style>  \n",
       "<table id=\"T_f549ec76_d3a3_11e8_a7f6_f894c2199857\" > \n",
       "<thead>    <tr> \n",
       "        <th class=\"blank level0\" ></th> \n",
       "        <th class=\"col_heading level0 col0\" >Age</th> \n",
       "        <th class=\"col_heading level0 col1\" >Experience</th> \n",
       "        <th class=\"col_heading level0 col2\" >Income</th> \n",
       "        <th class=\"col_heading level0 col3\" >CCAvg</th> \n",
       "        <th class=\"col_heading level0 col4\" >Mortgage</th> \n",
       "    </tr></thead> \n",
       "<tbody>    <tr> \n",
       "        <th id=\"T_f549ec76_d3a3_11e8_a7f6_f894c2199857level0_row0\" class=\"row_heading level0 row0\" >Age</th> \n",
       "        <td id=\"T_f549ec76_d3a3_11e8_a7f6_f894c2199857row0_col0\" class=\"data row0 col0\" >1</td> \n",
       "        <td id=\"T_f549ec76_d3a3_11e8_a7f6_f894c2199857row0_col1\" class=\"data row0 col1\" >0.99</td> \n",
       "        <td id=\"T_f549ec76_d3a3_11e8_a7f6_f894c2199857row0_col2\" class=\"data row0 col2\" >-0.062</td> \n",
       "        <td id=\"T_f549ec76_d3a3_11e8_a7f6_f894c2199857row0_col3\" class=\"data row0 col3\" >-0.052</td> \n",
       "        <td id=\"T_f549ec76_d3a3_11e8_a7f6_f894c2199857row0_col4\" class=\"data row0 col4\" >-0.019</td> \n",
       "    </tr>    <tr> \n",
       "        <th id=\"T_f549ec76_d3a3_11e8_a7f6_f894c2199857level0_row1\" class=\"row_heading level0 row1\" >Experience</th> \n",
       "        <td id=\"T_f549ec76_d3a3_11e8_a7f6_f894c2199857row1_col0\" class=\"data row1 col0\" >0.99</td> \n",
       "        <td id=\"T_f549ec76_d3a3_11e8_a7f6_f894c2199857row1_col1\" class=\"data row1 col1\" >1</td> \n",
       "        <td id=\"T_f549ec76_d3a3_11e8_a7f6_f894c2199857row1_col2\" class=\"data row1 col2\" >-0.053</td> \n",
       "        <td id=\"T_f549ec76_d3a3_11e8_a7f6_f894c2199857row1_col3\" class=\"data row1 col3\" >-0.05</td> \n",
       "        <td id=\"T_f549ec76_d3a3_11e8_a7f6_f894c2199857row1_col4\" class=\"data row1 col4\" >-0.018</td> \n",
       "    </tr>    <tr> \n",
       "        <th id=\"T_f549ec76_d3a3_11e8_a7f6_f894c2199857level0_row2\" class=\"row_heading level0 row2\" >Income</th> \n",
       "        <td id=\"T_f549ec76_d3a3_11e8_a7f6_f894c2199857row2_col0\" class=\"data row2 col0\" >-0.062</td> \n",
       "        <td id=\"T_f549ec76_d3a3_11e8_a7f6_f894c2199857row2_col1\" class=\"data row2 col1\" >-0.053</td> \n",
       "        <td id=\"T_f549ec76_d3a3_11e8_a7f6_f894c2199857row2_col2\" class=\"data row2 col2\" >1</td> \n",
       "        <td id=\"T_f549ec76_d3a3_11e8_a7f6_f894c2199857row2_col3\" class=\"data row2 col3\" >0.64</td> \n",
       "        <td id=\"T_f549ec76_d3a3_11e8_a7f6_f894c2199857row2_col4\" class=\"data row2 col4\" >0.21</td> \n",
       "    </tr>    <tr> \n",
       "        <th id=\"T_f549ec76_d3a3_11e8_a7f6_f894c2199857level0_row3\" class=\"row_heading level0 row3\" >CCAvg</th> \n",
       "        <td id=\"T_f549ec76_d3a3_11e8_a7f6_f894c2199857row3_col0\" class=\"data row3 col0\" >-0.052</td> \n",
       "        <td id=\"T_f549ec76_d3a3_11e8_a7f6_f894c2199857row3_col1\" class=\"data row3 col1\" >-0.05</td> \n",
       "        <td id=\"T_f549ec76_d3a3_11e8_a7f6_f894c2199857row3_col2\" class=\"data row3 col2\" >0.64</td> \n",
       "        <td id=\"T_f549ec76_d3a3_11e8_a7f6_f894c2199857row3_col3\" class=\"data row3 col3\" >1</td> \n",
       "        <td id=\"T_f549ec76_d3a3_11e8_a7f6_f894c2199857row3_col4\" class=\"data row3 col4\" >0.11</td> \n",
       "    </tr>    <tr> \n",
       "        <th id=\"T_f549ec76_d3a3_11e8_a7f6_f894c2199857level0_row4\" class=\"row_heading level0 row4\" >Mortgage</th> \n",
       "        <td id=\"T_f549ec76_d3a3_11e8_a7f6_f894c2199857row4_col0\" class=\"data row4 col0\" >-0.019</td> \n",
       "        <td id=\"T_f549ec76_d3a3_11e8_a7f6_f894c2199857row4_col1\" class=\"data row4 col1\" >-0.018</td> \n",
       "        <td id=\"T_f549ec76_d3a3_11e8_a7f6_f894c2199857row4_col2\" class=\"data row4 col2\" >0.21</td> \n",
       "        <td id=\"T_f549ec76_d3a3_11e8_a7f6_f894c2199857row4_col3\" class=\"data row4 col3\" >0.11</td> \n",
       "        <td id=\"T_f549ec76_d3a3_11e8_a7f6_f894c2199857row4_col4\" class=\"data row4 col4\" >1</td> \n",
       "    </tr></tbody> \n",
       "</table> "
      ],
      "text/plain": [
       "<pandas.io.formats.style.Styler at 0x212ac8f6748>"
      ]
     },
     "execution_count": 16,
     "metadata": {},
     "output_type": "execute_result"
    }
   ],
   "source": [
    "#Correlation plot\n",
    "bank.loc[bank['Experience']>0,['Age','Experience','Income','CCAvg','Mortgage']].corr() \\\n",
    "                                                                               .style.background_gradient().set_precision(2)\n",
    "\n"
   ]
  },
  {
   "cell_type": "code",
   "execution_count": 17,
   "metadata": {},
   "outputs": [],
   "source": [
    "#Replace negative values with NAs and use imputation technique\n",
    "bank.loc[bank['Experience']<0,['Experience']] = np.nan"
   ]
  },
  {
   "cell_type": "code",
   "execution_count": 18,
   "metadata": {},
   "outputs": [],
   "source": [
    "#Divide data into train and validation\n",
    "y = bank['Personal Loan']\n",
    "X = bank.drop('Personal Loan', axis=1)\n",
    "#from sklearn.model_selection import train_test_split\n",
    "np.random.seed(2000)\n",
    "X_train, X_val, y_train, y_val = train_test_split(X, y, test_size=0.30)  "
   ]
  },
  {
   "cell_type": "code",
   "execution_count": 19,
   "metadata": {},
   "outputs": [
    {
     "name": "stdout",
     "output_type": "stream",
     "text": [
      "(3500, 20)\n",
      "(1500, 20)\n",
      "(3500,)\n",
      "(1500,)\n"
     ]
    }
   ],
   "source": [
    "print(X_train.shape)\n",
    "print(X_val.shape)\n",
    "print(y_train.shape)\n",
    "print(y_val.shape)"
   ]
  },
  {
   "cell_type": "code",
   "execution_count": 20,
   "metadata": {},
   "outputs": [
    {
     "name": "stderr",
     "output_type": "stream",
     "text": [
      "C:\\Users\\Shridhar\\Anaconda3\\lib\\site-packages\\pandas\\core\\indexing.py:543: SettingWithCopyWarning: \n",
      "A value is trying to be set on a copy of a slice from a DataFrame.\n",
      "Try using .loc[row_indexer,col_indexer] = value instead\n",
      "\n",
      "See the caveats in the documentation: http://pandas.pydata.org/pandas-docs/stable/indexing.html#indexing-view-versus-copy\n",
      "  self.obj[item] = s\n"
     ]
    }
   ],
   "source": [
    "#Imputation (using median values) - you can explore other imputation methods as well\n",
    "imputer = Imputer(strategy='median')\n",
    "imputer.fit(X_train.loc[:,['Experience']])\n",
    "X_train.loc[:,['Experience']] = imputer.transform(X_train.loc[:,['Experience']])\n",
    "X_val.loc[:,['Experience']] = imputer.transform(X_val.loc[:,['Experience']])"
   ]
  },
  {
   "cell_type": "code",
   "execution_count": 21,
   "metadata": {},
   "outputs": [
    {
     "name": "stderr",
     "output_type": "stream",
     "text": [
      "C:\\Users\\Shridhar\\Anaconda3\\lib\\site-packages\\pandas\\core\\indexing.py:543: SettingWithCopyWarning: \n",
      "A value is trying to be set on a copy of a slice from a DataFrame.\n",
      "Try using .loc[row_indexer,col_indexer] = value instead\n",
      "\n",
      "See the caveats in the documentation: http://pandas.pydata.org/pandas-docs/stable/indexing.html#indexing-view-versus-copy\n",
      "  self.obj[item] = s\n"
     ]
    }
   ],
   "source": [
    "#Standardization\n",
    "scaler = StandardScaler()\n",
    "scaler.fit(X_train.loc[:,['Age','Experience','Income','CCAvg','Mortgage']])\n",
    "X_train.loc[:,['Age','Experience','Income','CCAvg','Mortgage']] = scaler.transform( \\\n",
    "                                                                  X_train.loc[:,['Age','Experience','Income','CCAvg','Mortgage']])\n",
    "X_val.loc[:,['Age','Experience','Income','CCAvg','Mortgage']] = scaler.transform( \\\n",
    "                                                                  X_val.loc[:,['Age','Experience','Income','CCAvg','Mortgage']])"
   ]
  },
  {
   "cell_type": "code",
   "execution_count": 22,
   "metadata": {},
   "outputs": [
    {
     "data": {
      "text/html": [
       "<div>\n",
       "<style scoped>\n",
       "    .dataframe tbody tr th:only-of-type {\n",
       "        vertical-align: middle;\n",
       "    }\n",
       "\n",
       "    .dataframe tbody tr th {\n",
       "        vertical-align: top;\n",
       "    }\n",
       "\n",
       "    .dataframe thead th {\n",
       "        text-align: right;\n",
       "    }\n",
       "</style>\n",
       "<table border=\"1\" class=\"dataframe\">\n",
       "  <thead>\n",
       "    <tr style=\"text-align: right;\">\n",
       "      <th></th>\n",
       "      <th>Age</th>\n",
       "      <th>Experience</th>\n",
       "      <th>Income</th>\n",
       "      <th>CCAvg</th>\n",
       "      <th>Mortgage</th>\n",
       "      <th>CD Account_0</th>\n",
       "      <th>CD Account_1</th>\n",
       "      <th>CreditCard_0</th>\n",
       "      <th>CreditCard_1</th>\n",
       "      <th>Education_1</th>\n",
       "      <th>Education_2</th>\n",
       "      <th>Education_3</th>\n",
       "      <th>Family_1</th>\n",
       "      <th>Family_2</th>\n",
       "      <th>Family_3</th>\n",
       "      <th>Family_4</th>\n",
       "      <th>Online_0</th>\n",
       "      <th>Online_1</th>\n",
       "      <th>Securities Account_0</th>\n",
       "      <th>Securities Account_1</th>\n",
       "    </tr>\n",
       "  </thead>\n",
       "  <tbody>\n",
       "    <tr>\n",
       "      <th>400</th>\n",
       "      <td>-0.805761</td>\n",
       "      <td>-0.911069</td>\n",
       "      <td>2.308002</td>\n",
       "      <td>2.691834</td>\n",
       "      <td>-0.562220</td>\n",
       "      <td>1</td>\n",
       "      <td>0</td>\n",
       "      <td>1</td>\n",
       "      <td>0</td>\n",
       "      <td>1</td>\n",
       "      <td>0</td>\n",
       "      <td>0</td>\n",
       "      <td>0</td>\n",
       "      <td>0</td>\n",
       "      <td>1</td>\n",
       "      <td>0</td>\n",
       "      <td>0</td>\n",
       "      <td>1</td>\n",
       "      <td>1</td>\n",
       "      <td>0</td>\n",
       "    </tr>\n",
       "    <tr>\n",
       "      <th>1400</th>\n",
       "      <td>-1.153051</td>\n",
       "      <td>-1.088424</td>\n",
       "      <td>0.100878</td>\n",
       "      <td>-1.048681</td>\n",
       "      <td>-0.562220</td>\n",
       "      <td>1</td>\n",
       "      <td>0</td>\n",
       "      <td>1</td>\n",
       "      <td>0</td>\n",
       "      <td>0</td>\n",
       "      <td>1</td>\n",
       "      <td>0</td>\n",
       "      <td>0</td>\n",
       "      <td>0</td>\n",
       "      <td>0</td>\n",
       "      <td>1</td>\n",
       "      <td>0</td>\n",
       "      <td>1</td>\n",
       "      <td>1</td>\n",
       "      <td>0</td>\n",
       "    </tr>\n",
       "    <tr>\n",
       "      <th>2031</th>\n",
       "      <td>1.277976</td>\n",
       "      <td>1.305860</td>\n",
       "      <td>0.144584</td>\n",
       "      <td>-0.818495</td>\n",
       "      <td>-0.562220</td>\n",
       "      <td>1</td>\n",
       "      <td>0</td>\n",
       "      <td>1</td>\n",
       "      <td>0</td>\n",
       "      <td>1</td>\n",
       "      <td>0</td>\n",
       "      <td>0</td>\n",
       "      <td>0</td>\n",
       "      <td>0</td>\n",
       "      <td>1</td>\n",
       "      <td>0</td>\n",
       "      <td>0</td>\n",
       "      <td>1</td>\n",
       "      <td>1</td>\n",
       "      <td>0</td>\n",
       "    </tr>\n",
       "    <tr>\n",
       "      <th>2378</th>\n",
       "      <td>-1.326695</td>\n",
       "      <td>-1.354455</td>\n",
       "      <td>-0.270618</td>\n",
       "      <td>-0.645856</td>\n",
       "      <td>1.945475</td>\n",
       "      <td>0</td>\n",
       "      <td>1</td>\n",
       "      <td>1</td>\n",
       "      <td>0</td>\n",
       "      <td>0</td>\n",
       "      <td>1</td>\n",
       "      <td>0</td>\n",
       "      <td>1</td>\n",
       "      <td>0</td>\n",
       "      <td>0</td>\n",
       "      <td>0</td>\n",
       "      <td>0</td>\n",
       "      <td>1</td>\n",
       "      <td>0</td>\n",
       "      <td>1</td>\n",
       "    </tr>\n",
       "    <tr>\n",
       "      <th>1068</th>\n",
       "      <td>-0.979406</td>\n",
       "      <td>-0.999747</td>\n",
       "      <td>0.690901</td>\n",
       "      <td>-0.415671</td>\n",
       "      <td>-0.562220</td>\n",
       "      <td>1</td>\n",
       "      <td>0</td>\n",
       "      <td>1</td>\n",
       "      <td>0</td>\n",
       "      <td>0</td>\n",
       "      <td>0</td>\n",
       "      <td>1</td>\n",
       "      <td>0</td>\n",
       "      <td>0</td>\n",
       "      <td>1</td>\n",
       "      <td>0</td>\n",
       "      <td>1</td>\n",
       "      <td>0</td>\n",
       "      <td>0</td>\n",
       "      <td>1</td>\n",
       "    </tr>\n",
       "  </tbody>\n",
       "</table>\n",
       "</div>"
      ],
      "text/plain": [
       "           Age  Experience    Income     CCAvg  Mortgage  CD Account_0  \\\n",
       "400  -0.805761   -0.911069  2.308002  2.691834 -0.562220             1   \n",
       "1400 -1.153051   -1.088424  0.100878 -1.048681 -0.562220             1   \n",
       "2031  1.277976    1.305860  0.144584 -0.818495 -0.562220             1   \n",
       "2378 -1.326695   -1.354455 -0.270618 -0.645856  1.945475             0   \n",
       "1068 -0.979406   -0.999747  0.690901 -0.415671 -0.562220             1   \n",
       "\n",
       "      CD Account_1  CreditCard_0  CreditCard_1  Education_1  Education_2  \\\n",
       "400              0             1             0            1            0   \n",
       "1400             0             1             0            0            1   \n",
       "2031             0             1             0            1            0   \n",
       "2378             1             1             0            0            1   \n",
       "1068             0             1             0            0            0   \n",
       "\n",
       "      Education_3  Family_1  Family_2  Family_3  Family_4  Online_0  Online_1  \\\n",
       "400             0         0         0         1         0         0         1   \n",
       "1400            0         0         0         0         1         0         1   \n",
       "2031            0         0         0         1         0         0         1   \n",
       "2378            0         1         0         0         0         0         1   \n",
       "1068            1         0         0         1         0         1         0   \n",
       "\n",
       "      Securities Account_0  Securities Account_1  \n",
       "400                      1                     0  \n",
       "1400                     1                     0  \n",
       "2031                     1                     0  \n",
       "2378                     0                     1  \n",
       "1068                     0                     1  "
      ]
     },
     "execution_count": 22,
     "metadata": {},
     "output_type": "execute_result"
    }
   ],
   "source": [
    "X_train.head()\n",
    "X_val.head()"
   ]
  },
  {
   "cell_type": "code",
   "execution_count": 23,
   "metadata": {},
   "outputs": [],
   "source": [
    "#Convert y variables to category\n",
    "y_train = y_train.astype('category')\n",
    "y_val = y_val.astype('category')"
   ]
  },
  {
   "cell_type": "code",
   "execution_count": 24,
   "metadata": {},
   "outputs": [],
   "source": [
    "#Define metrics function\n",
    "def metrics_calculation(preds,trues):\n",
    "    print('Accuray is: {}'.format(accuracy_score(y_pred=preds,y_true=trues)))\n",
    "    print('Recall is: {}'.format(recall_score(y_pred=preds,y_true=trues)))\n",
    "    print('Precision is: {}\\n'.format(precision_score(y_pred=preds,y_true=trues)))"
   ]
  },
  {
   "cell_type": "markdown",
   "metadata": {},
   "source": [
    "#### Build SVM Classifier - with default parameters and linear kernel"
   ]
  },
  {
   "cell_type": "code",
   "execution_count": 25,
   "metadata": {},
   "outputs": [
    {
     "data": {
      "text/plain": [
       "SVC(C=1.0, cache_size=200, class_weight=None, coef0=0.0,\n",
       "  decision_function_shape='ovr', degree=3, gamma='auto', kernel='linear',\n",
       "  max_iter=-1, probability=False, random_state=None, shrinking=True,\n",
       "  tol=0.001, verbose=False)"
      ]
     },
     "execution_count": 25,
     "metadata": {},
     "output_type": "execute_result"
    }
   ],
   "source": [
    "svm_obj = svm.SVC(kernel = 'linear')\n",
    "svm_obj.fit(X_train,y_train)"
   ]
  },
  {
   "cell_type": "code",
   "execution_count": 26,
   "metadata": {},
   "outputs": [],
   "source": [
    "train_preds = svm_obj.predict(X_train)\n",
    "val_preds = svm_obj.predict(X_val)"
   ]
  },
  {
   "cell_type": "code",
   "execution_count": 27,
   "metadata": {},
   "outputs": [
    {
     "name": "stdout",
     "output_type": "stream",
     "text": [
      "Accuray is: 0.9631428571428572\n",
      "Recall is: 0.6686746987951807\n",
      "Precision is: 0.921161825726141\n",
      "\n",
      "Accuray is: 0.962\n",
      "Recall is: 0.668918918918919\n",
      "Precision is: 0.9252336448598131\n",
      "\n"
     ]
    }
   ],
   "source": [
    "metrics_calculation(train_preds,y_train)\n",
    "metrics_calculation(val_preds,y_val)\n",
    "#Though there doesn't seem to be over-fitting, the recall values are pretty low. This is because of class imbalance."
   ]
  },
  {
   "cell_type": "markdown",
   "metadata": {},
   "source": [
    "#### Build SVM Classifier with weights and linear kernel"
   ]
  },
  {
   "cell_type": "code",
   "execution_count": 28,
   "metadata": {},
   "outputs": [
    {
     "data": {
      "text/plain": [
       "SVC(C=1.0, cache_size=200, class_weight={0: 0.5, 1: 3}, coef0=0.0,\n",
       "  decision_function_shape='ovr', degree=3, gamma='auto', kernel='linear',\n",
       "  max_iter=-1, probability=False, random_state=None, shrinking=True,\n",
       "  tol=0.001, verbose=False)"
      ]
     },
     "execution_count": 28,
     "metadata": {},
     "output_type": "execute_result"
    }
   ],
   "source": [
    "svm_obj_cw = svm.SVC(kernel='linear',class_weight={0:0.5,1:3})\n",
    "svm_obj_cw.fit(X_train,y_train)"
   ]
  },
  {
   "cell_type": "code",
   "execution_count": 29,
   "metadata": {},
   "outputs": [],
   "source": [
    "train_preds_cw = svm_obj_cw.predict(X_train)\n",
    "val_preds_cw = svm_obj_cw.predict(X_val)"
   ]
  },
  {
   "cell_type": "code",
   "execution_count": 30,
   "metadata": {},
   "outputs": [
    {
     "name": "stdout",
     "output_type": "stream",
     "text": [
      "Accuray is: 0.9337142857142857\n",
      "Recall is: 0.8734939759036144\n",
      "Precision is: 0.6041666666666666\n",
      "\n",
      "Accuray is: 0.926\n",
      "Recall is: 0.8513513513513513\n",
      "Precision is: 0.586046511627907\n",
      "\n"
     ]
    }
   ],
   "source": [
    "metrics_calculation(train_preds_cw,y_train)\n",
    "metrics_calculation(val_preds_cw,y_val)\n",
    "#The recall value has shot up considerable by setting class_weights parameter to counter class imbalance - but, precision\n",
    "#dropped significantly. You can infer that model is now focussing only on making correct prediction for ones, even if it has to\n",
    "#make incorrect predictions for zeroes"
   ]
  },
  {
   "cell_type": "markdown",
   "metadata": {},
   "source": [
    "# GridSearch Cross Validation"
   ]
  },
  {
   "cell_type": "code",
   "execution_count": 31,
   "metadata": {},
   "outputs": [],
   "source": [
    "parameter_grid = {'C':[0.001,0.01,0.1,1,5,10,15,20],\n",
    "                  'gamma':[0.001,0.01,0.1,1,3,5],\n",
    "                  'kernel':['linear','rbf','poly'],\n",
    "                  'degree':[1,2,3]}\n",
    "#'degree' is used for polynomial kernels\n",
    "zero_proportion, one_proportion = 1/y_train.value_counts()[0],1/y_train.value_counts()[1]\n",
    "#Usually, class_weights are given as inverse of class proportion\n",
    "#You can try sigmoid kernel\n",
    "np.random.seed(1500)\n",
    "grid_obj = GridSearchCV(svm.SVC(class_weight={0:zero_proportion,1:one_proportion},random_state=3000),\n",
    "                        param_grid=parameter_grid,scoring='recall',n_jobs=-2,cv=5)"
   ]
  },
  {
   "cell_type": "code",
   "execution_count": 32,
   "metadata": {},
   "outputs": [
    {
     "data": {
      "text/plain": [
       "GridSearchCV(cv=5, error_score='raise',\n",
       "       estimator=SVC(C=1.0, cache_size=200,\n",
       "  class_weight={0: 0.0003156565656565657, 1: 0.0030120481927710845},\n",
       "  coef0=0.0, decision_function_shape='ovr', degree=3, gamma='auto',\n",
       "  kernel='rbf', max_iter=-1, probability=False, random_state=3000,\n",
       "  shrinking=True, tol=0.001, verbose=False),\n",
       "       fit_params=None, iid=True, n_jobs=-2,\n",
       "       param_grid={'C': [0.001, 0.01, 0.1, 1, 5, 10, 15, 20], 'gamma': [0.001, 0.01, 0.1, 1, 3, 5], 'kernel': ['linear', 'rbf', 'poly'], 'degree': [1, 2, 3]},\n",
       "       pre_dispatch='2*n_jobs', refit=True, return_train_score='warn',\n",
       "       scoring='recall', verbose=0)"
      ]
     },
     "execution_count": 32,
     "metadata": {},
     "output_type": "execute_result"
    }
   ],
   "source": [
    "grid_obj.fit(X_train,y_train)"
   ]
  },
  {
   "cell_type": "code",
   "execution_count": 33,
   "metadata": {},
   "outputs": [
    {
     "name": "stdout",
     "output_type": "stream",
     "text": [
      "Best parameters after 5-fold cross-validation are: {'C': 15, 'degree': 2, 'gamma': 1, 'kernel': 'poly'}\n",
      "Best recall obtained is: 0.9489161336176262\n"
     ]
    }
   ],
   "source": [
    "print('Best parameters after 5-fold cross-validation are: {}'.format(grid_obj.best_params_))\n",
    "print('Best {} obtained is: {}'.format(grid_obj.scoring,grid_obj.best_score_))"
   ]
  },
  {
   "cell_type": "code",
   "execution_count": 34,
   "metadata": {},
   "outputs": [],
   "source": [
    "#Build a model based on parameters obtained from cross-validation\n",
    "train_preds_tuned = grid_obj.predict(X_train)\n",
    "val_preds_tuned = grid_obj.predict(X_val)"
   ]
  },
  {
   "cell_type": "code",
   "execution_count": 35,
   "metadata": {},
   "outputs": [
    {
     "name": "stdout",
     "output_type": "stream",
     "text": [
      "Accuray is: 0.968\n",
      "Recall is: 0.9819277108433735\n",
      "Precision is: 0.7546296296296297\n",
      "\n",
      "Accuray is: 0.9626666666666667\n",
      "Recall is: 0.9256756756756757\n",
      "Precision is: 0.7527472527472527\n",
      "\n"
     ]
    }
   ],
   "source": [
    "metrics_calculation(train_preds_tuned,y_train)\n",
    "metrics_calculation(val_preds_tuned,y_val)\n",
    "#We observe that recall has increased by around 7% on test set (though there seems to be slight overfitting) and precision has\n",
    "#increased by almost 15%!! "
   ]
  },
  {
   "cell_type": "code",
   "execution_count": null,
   "metadata": {},
   "outputs": [],
   "source": []
  }
 ],
 "metadata": {
  "anaconda-cloud": {},
  "kernelspec": {
   "display_name": "Python 3",
   "language": "python",
   "name": "python3"
  },
  "language_info": {
   "codemirror_mode": {
    "name": "ipython",
    "version": 3
   },
   "file_extension": ".py",
   "mimetype": "text/x-python",
   "name": "python",
   "nbconvert_exporter": "python",
   "pygments_lexer": "ipython3",
   "version": "3.6.5"
  }
 },
 "nbformat": 4,
 "nbformat_minor": 2
}
